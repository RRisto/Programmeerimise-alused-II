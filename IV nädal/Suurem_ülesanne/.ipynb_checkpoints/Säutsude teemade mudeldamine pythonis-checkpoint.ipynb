{
 "cells": [
  {
   "cell_type": "markdown",
   "metadata": {},
   "source": [
    "# Säutsud pythonis"
   ]
  },
  {
   "cell_type": "markdown",
   "metadata": {},
   "source": [
    "## Sissejuhatus"
   ]
  },
  {
   "cell_type": "markdown",
   "metadata": {},
   "source": [
    "Käesoleva kirjatüki eesmärk on mudeldada pythonis säutsude teemasid. Selleks tehakse järgnevat:\n",
    " - laetakse twitterist säutsud alla\n",
    " - säutsud puhastatakse\n",
    " - ehitatakse teemadem udelid kasutades _Latent Dirichlet allocation_ algoritmi\n",
    " - tulemused visualiseeritakse\n",
    "\n",
    "Esmalt defineerime hunniku funktsioone, mis teevad elu lihtsamaks."
   ]
  },
  {
   "cell_type": "code",
   "execution_count": 76,
   "metadata": {
    "collapsed": true
   },
   "outputs": [],
   "source": [
    "def teksti_eraldaja(tweedid):\n",
    "    \"\"\"eraldab säutsude listist teksti. \n",
    "    sisend: säutsude metaandmete list, mis on tulnud funktsioonist allalaadija\n",
    "    väljund: säutsude tekstide list\"\"\"\n",
    "    tekst=[]\n",
    "    for i in range(len(tweedid)):\n",
    "        tekst.append(tweedid[i]['text'])  \n",
    "    return tekst   \n",
    "\n",
    "import math as math\n",
    "def allalaadija(märksõna, kogus, keel='en'):\n",
    "    \"\"\"laeb twitterist säutsud alla\n",
    "    sisend: -märksõna: otsisõna, mille kohta otsime twitterist säutsusid\n",
    "    -kogus: mitu säutsu tahame. Kogus on 100 säutsu täpsusega (nt kogus=101, korjab 200 säutsu, kogus=99 korja 100 säutsu\n",
    "    -keel: mis keelseid säutsusid tahame)\n",
    "    väljund: - list tweetide andmetega\"\"\"\n",
    "    loopideArv=math.ceil(kogus/100)\n",
    "    print(\"Tsükkel nr:\", str(1)+ \", veel tsükleid:\",str(loopideArv-1))\n",
    "    tweedid=twitter.search(q=märksõna,lang=keel, count=100)\n",
    "    tulem=tweedid['statuses']\n",
    "    minid=min_id(tweedid)\n",
    "    for i in range(loopideArv-1):\n",
    "        print(\"Tsükkel nr:\", str(i+2)+ \", veel tsükleid:\",str(loopideArv-i-2))\n",
    "        uuedtweedid=twitter.search(q=märksõna,lang=keel, count=100, \n",
    "                                   max_id=minid)\n",
    "        tulem+=uuedtweedid['statuses']\n",
    "        minid=min_id(uuedtweedid)\n",
    "    return tulem\n",
    "\n",
    "def min_id(tweedid):\n",
    "    \"\"\"abifunktsioon funktsioonile allalaadija, mis leiab allalaaditud tweetide id miinimumi, selle saab\n",
    "    anda sisendiks järgmisele loobile, et võtta tweedid, mille id on väiksem kui siin leitud id\n",
    "    sisend: - tweetide sõnastik\n",
    "    väljund: - tweetide sõnastiku id miinimum\"\"\"\n",
    "    ids=[]\n",
    "    for i in range(len(tweedid['statuses'])):\n",
    "        ids.append(tweedid['statuses'][i]['id'])\n",
    "    return min(ids)\n",
    "\n",
    "from nltk.tokenize import RegexpTokenizer\n",
    "import re\n",
    "def tokeniseerija(tekstlist):\n",
    "    \"\"\"funktsioon, mis võtab sisendiks teksti listi ning teeb neist tokenid (iga sõna eraldi listi elemendiks) ning \n",
    "    eemaldab numbrid, kirjavahemärgid, lingid ja twitteri kasutajanimed ning teeb teksti väiketähtedeks\n",
    "    sisend: - tekstilist (iga lause on 1 string)\n",
    "    väljund: - tokenite list\"\"\"\n",
    "    tokenizer = RegexpTokenizer(r'\\w+')\n",
    "    tokens=[]\n",
    "    for i in range(len(tekstlist)):\n",
    "        #eemaldame kasutajanimed ja lingid, numbrid ja kirjavahemärgid\n",
    "        abimuutuja=re.sub(r'(^https?:\\/\\/.*[\\r\\n]*)|(@[A-Za-z0-9]+)|([0-9])|(\\w+:\\/\\/\\S+)', '', tekstlist[i].lower(), \n",
    "                          flags=re.MULTILINE)\n",
    "        tokens.append(tokenizer.tokenize(abimuutuja))\n",
    "    return tokens\n",
    "\n",
    "from stop_words import get_stop_words\n",
    "def puhastaja(tokenslist, myralist):\n",
    "    \"\"\"funktsioon, mis puhastab tokenite listi stoppsõnadest ja kasutaja poolt määratud sõnadest ning sõnadest, mille\n",
    "    pikkus on alla 3\n",
    "    sisend: - tokenslist: tokenite list\n",
    "    - myralist: list sõnadest, mida tahetakse veel eemaldada\n",
    "    väljund: - tokenite list, kus eelnev on eemaldatud\"\"\"\n",
    "    stopsonad = get_stop_words('en')#inglise keel stoppsõnad\n",
    "    stopsonad.extend(myralist)#paneme veel juurde\n",
    "    #eemaldame stoppsõnad ja sõnad alla 2 täheärgi\n",
    "    tokens_stopped=[]\n",
    "    for j in range(len(tokenslist)):\n",
    "        tokens_stopped.append([i for i in tokenslist[j] if not i in stopsonad and len(i)>2])   \n",
    "    return tokens_stopped\n",
    "\n",
    "from nltk.stem.porter import PorterStemmer\n",
    "def stemming(tokens):\n",
    "    \"\"\"funktsioon, mis normaliseerib sõnad lõigates maha käände- ja pöördelõpud.\n",
    "    sisend: - tokens: tokenite list\n",
    "    väljudn: - normaliseeritud sõnade list\"\"\"\n",
    "    p_stemmer = PorterStemmer()\n",
    "    stemmed=[]\n",
    "    for j in range(len(tokens)):\n",
    "        stemmed.append([p_stemmer.stem(i) for i in tokens[j]]) \n",
    "    return stemmed\n",
    "\n",
    "def sonede_dict(sonedelist):\n",
    "    \"\"\"funktsioon, mis paneb ühe listi tokensid kokku üheks stringiks\n",
    "    sisend: -tokensite listid\n",
    "    väljund: -tokensite listid, kus iga list on üks tokensite string\"\"\"\n",
    "    token_dict={}\n",
    "    for i in range(len(sonedelist)):\n",
    "        token_dict[i] = ' '.join(sonedelist[i])\n",
    "    return token_dict\n",
    "\n",
    "from __future__ import print_function\n",
    "def print_top_sonad(model, feature_names, n_top_words):\n",
    "    \"\"\"funktsioon, mis prindin top sõnad iga teema kohta\n",
    "    sisend: - model: lda mudel\n",
    "    -feature_names: doc-term maatriksist sõnade nimed\n",
    "    n_top_words: kui mitu top sõna iga teema kohta kuvatakse\n",
    "    väljund: -prindib teema ja selle top sõnad\"\"\"\n",
    "    for topic_idx, topic in enumerate(model.components_):\n",
    "        print(\"Teema #%d:\" % topic_idx)\n",
    "        print(\" \".join([feature_names[i]\n",
    "                        for i in topic.argsort()[:-n_top_words - 1:-1]]))\n",
    "    print()\n",
    "    \n",
    "import matplotlib.pyplot as plt\n",
    "import numpy as np\n",
    "def teema_doku_plot(doc_topic,teemade_arv, doc_n, teemad):\n",
    "    \"\"\"funktsioon, mis joonistab plotid, kus x-teljel on teema ja y-teljel teema kaal. Joonistab tõenäosuse jagunemise iga tweeti kohta\n",
    "    sisend: - doc_topic: dokumendi teema array\n",
    "    - teemade_arv: mitu teemat mudelis on\n",
    "    - doc_n: dokumentide indeksid listi kujuna, mille kohta tahame ploti joonistada\n",
    "    -teemad: teemade list\n",
    "    Väljund: -plot\"\"\"\n",
    "    %matplotlib inline\n",
    "    f, ax= plt.subplots(len(doc_n), 1, figsize=(8, 6), sharex=True)\n",
    "    for i, k in enumerate(doc_n):\n",
    "        #normaliseerin iga rea, kuna muidu läheb üle 1\n",
    "        ax[i].stem(doc_topic[k,:]/(sum(doc_topic[k,:])),\n",
    "                 linefmt='r-', markerfmt='ro', basefmt='w-')\n",
    "        ax[i].set_xlim(-0.1, teemade_arv-0.9)\n",
    "        ax[i].set_ylim(0, 1)\n",
    "        ax[i].set_xticks(np.arange(0, teemade_arv, 1)) \n",
    "        ax[i].set_xticklabels(teemad)\n",
    "        ax[i].set_axis_bgcolor((1,0.98,0.98))\n",
    "        ax[i].set_ylabel(\"Prob\")\n",
    "        ax[i].set_title(\"Säuts {}\".format(k))\n",
    "    ax[len(doc_n)-1].set_xlabel(\"Teema\")\n",
    "    plt.tight_layout()\n",
    "    plt.show()"
   ]
  },
  {
   "cell_type": "markdown",
   "metadata": {},
   "source": [
    "## Andmete korjamine "
   ]
  },
  {
   "cell_type": "markdown",
   "metadata": {},
   "source": [
    "Andmete korjamiseks kasutan eelloodud funktsioone."
   ]
  },
  {
   "cell_type": "code",
   "execution_count": 2,
   "metadata": {
    "collapsed": true
   },
   "outputs": [],
   "source": [
    "from twython import Twython\n",
    "#ühendus twitteriga, keyde ja salasõnade jaoks rega enda app: https://dev.twitter.com/ \n",
    "#ja loe twythoni kohta http://twython.readthedocs.io/en/latest/#\n",
    "twitter = Twython('sinu_api_vaartus','sinu_api_vaartus','sinu_api_vaartus', 'sinu_api_vaartus')"
   ]
  },
  {
   "cell_type": "code",
   "execution_count": null,
   "metadata": {
    "collapsed": true
   },
   "outputs": [],
   "source": [
    "estonia=allalaadija('estonia', 2000)\n",
    "latvia=allalaadija('latvia', 2000)\n",
    "#salvestame, et igal korral ei peaks uue päringu tegema\n",
    "import json\n",
    "json.dump(estonia, open(\"estonia.txt\",'w'))\n",
    "json.dump(latvia, open(\"latvia.txt\",'w'))"
   ]
  },
  {
   "cell_type": "code",
   "execution_count": 3,
   "metadata": {
    "collapsed": false
   },
   "outputs": [],
   "source": [
    "#laeme salvestatud failid üles\n",
    "estonia = json.load(open(\"estonia.txt\"))\n",
    "latvia=json.load(open(\"latvia.txt\"))"
   ]
  },
  {
   "cell_type": "markdown",
   "metadata": {},
   "source": [
    "## Andmete töötlus ja puhastamine "
   ]
  },
  {
   "cell_type": "code",
   "execution_count": 4,
   "metadata": {
    "collapsed": true
   },
   "outputs": [],
   "source": [
    "#eraldame teksti\n",
    "estoniatkst=teksti_eraldaja(estonia)\n",
    "latviatkst=teksti_eraldaja(latvia)"
   ]
  },
  {
   "cell_type": "code",
   "execution_count": 5,
   "metadata": {
    "collapsed": true
   },
   "outputs": [],
   "source": [
    "#tokeniseerime\n",
    "esttoken=tokeniseerija(estoniatkst)\n",
    "lattoken=tokeniseerija(latviatkst)"
   ]
  },
  {
   "cell_type": "code",
   "execution_count": 6,
   "metadata": {
    "collapsed": true
   },
   "outputs": [],
   "source": [
    "#puhastame\n",
    "estpuhas=puhastaja(esttoken,['estonia'])\n",
    "latpuhas=puhastaja(lattoken,['latvia'])"
   ]
  },
  {
   "cell_type": "code",
   "execution_count": 7,
   "metadata": {
    "collapsed": true
   },
   "outputs": [],
   "source": [
    "#stemming\n",
    "eststem=stemming(estpuhas)\n",
    "latstem=stemming(latpuhas)"
   ]
  },
  {
   "cell_type": "markdown",
   "metadata": {},
   "source": [
    "## Mudeli ehitamine"
   ]
  },
  {
   "cell_type": "markdown",
   "metadata": {},
   "source": [
    "Mudeli ehitamiseks katsetame erinevaid python pakette. Esmalt pakett gensim."
   ]
  },
  {
   "cell_type": "code",
   "execution_count": 8,
   "metadata": {
    "collapsed": false
   },
   "outputs": [
    {
     "name": "stderr",
     "output_type": "stream",
     "text": [
      "C:\\Users\\Risto\\Anaconda3\\lib\\site-packages\\gensim\\utils.py:840: UserWarning: detected Windows; aliasing chunkize to chunkize_serial\n",
      "  warnings.warn(\"detected Windows; aliasing chunkize to chunkize_serial\")\n",
      "C:\\Users\\Risto\\Anaconda3\\lib\\site-packages\\gensim\\utils.py:1015: UserWarning: Pattern library is not installed, lemmatization won't be available.\n",
      "  warnings.warn(\"Pattern library is not installed, lemmatization won't be available.\")\n"
     ]
    }
   ],
   "source": [
    "from gensim.models.coherencemodel import CoherenceModel\n",
    "from gensim.models.ldamodel import LdaModel\n",
    "from gensim.corpora.dictionary import Dictionary\n",
    "import warnings\n",
    "warnings.filterwarnings('ignore')#et igasugu hoiatusi siin ei kuvaks"
   ]
  },
  {
   "cell_type": "markdown",
   "metadata": {},
   "source": [
    "Määrame teemade arvu. Selle jaoks kasutasin interaktiivseid visualiseeringuid (vt allapoole), kuni leidsin maksimaalse arvu teemasid, kui teemad ei kattunud. See pole küll teab mis super meetod (temade arvu määramine ongi keeruline), kuid on üheks võimaluseks."
   ]
  },
  {
   "cell_type": "code",
   "execution_count": null,
   "metadata": {
    "collapsed": true
   },
   "outputs": [],
   "source": [
    "n_topics_est=3\n",
    "n_topics_lat=3"
   ]
  },
  {
   "cell_type": "code",
   "execution_count": 9,
   "metadata": {
    "collapsed": true
   },
   "outputs": [],
   "source": [
    "estdictionary = Dictionary(eststem)\n",
    "estcorpus = [estdictionary.doc2bow(text) for text in eststem]\n",
    "#mudel\n",
    "estmudel = LdaModel(corpus=estcorpus, id2word=estdictionary, \n",
    "                    iterations=500, num_topics=n_topics_est, random_state=1)"
   ]
  },
  {
   "cell_type": "code",
   "execution_count": 10,
   "metadata": {
    "collapsed": false
   },
   "outputs": [
    {
     "data": {
      "text/plain": [
       "[(0, '0.017*\"end\" + 0.016*\"fur\" + 0.016*\"farm\"'),\n",
       " (1, '0.016*\"tallinn\" + 0.013*\"baltic\" + 0.012*\"countri\"'),\n",
       " (2, '0.019*\"amp\" + 0.019*\"nato\" + 0.013*\"poland\"')]"
      ]
     },
     "execution_count": 10,
     "metadata": {},
     "output_type": "execute_result"
    }
   ],
   "source": [
    "#teemad sõnadega\n",
    "estmudel.print_topics(num_topics=3, num_words=3)"
   ]
  },
  {
   "cell_type": "markdown",
   "metadata": {},
   "source": [
    "Tundub, et esimene tema on seotud karusnahaga, teine Tallina ning kolmas NATOga. Visualiseerime tulemused."
   ]
  },
  {
   "cell_type": "code",
   "execution_count": 11,
   "metadata": {
    "collapsed": false
   },
   "outputs": [
    {
     "name": "stderr",
     "output_type": "stream",
     "text": [
      "C:\\Users\\Risto\\Anaconda3\\lib\\site-packages\\funcy\\decorators.py:56: DeprecationWarning: inspect.getargspec() is deprecated, use inspect.signature() instead\n",
      "  spec = inspect.getargspec(func)\n",
      "C:\\Users\\Risto\\Anaconda3\\lib\\site-packages\\funcy\\decorators.py:56: DeprecationWarning: inspect.getargspec() is deprecated, use inspect.signature() instead\n",
      "  spec = inspect.getargspec(func)\n",
      "C:\\Users\\Risto\\Anaconda3\\lib\\site-packages\\funcy\\decorators.py:56: DeprecationWarning: inspect.getargspec() is deprecated, use inspect.signature() instead\n",
      "  spec = inspect.getargspec(func)\n",
      "C:\\Users\\Risto\\Anaconda3\\lib\\site-packages\\funcy\\decorators.py:56: DeprecationWarning: inspect.getargspec() is deprecated, use inspect.signature() instead\n",
      "  spec = inspect.getargspec(func)\n",
      "C:\\Users\\Risto\\Anaconda3\\lib\\site-packages\\funcy\\decorators.py:56: DeprecationWarning: inspect.getargspec() is deprecated, use inspect.signature() instead\n",
      "  spec = inspect.getargspec(func)\n",
      "C:\\Users\\Risto\\Anaconda3\\lib\\site-packages\\funcy\\decorators.py:56: DeprecationWarning: inspect.getargspec() is deprecated, use inspect.signature() instead\n",
      "  spec = inspect.getargspec(func)\n"
     ]
    }
   ],
   "source": [
    "#interaktiivne visualiseerimine\n",
    "import pyLDAvis.gensim\n",
    "from gensim.models.coherencemodel import CoherenceModel\n",
    "estldavis=pyLDAvis.gensim.prepare(estmudel, estcorpus, estdictionary)"
   ]
  },
  {
   "cell_type": "code",
   "execution_count": 12,
   "metadata": {
    "collapsed": false
   },
   "outputs": [
    {
     "data": {
      "text/html": [
       "\n",
       "<link rel=\"stylesheet\" type=\"text/css\" href=\"https://cdn.rawgit.com/bmabey/pyLDAvis/files/ldavis.v1.0.0.css\">\n",
       "\n",
       "\n",
       "<div id=\"ldavis_el112415731147688647702845731\"></div>\n",
       "<script type=\"text/javascript\">\n",
       "\n",
       "var ldavis_el112415731147688647702845731_data = {\"token.table\": {\"Topic\": [1, 2, 3, 1, 2, 3, 1, 2, 3, 2, 3, 3, 3, 1, 1, 2, 3, 3, 2, 3, 1, 2, 3, 2, 1, 2, 3, 1, 2, 1, 2, 3, 1, 2, 3, 2, 1, 2, 3, 1, 2, 3, 2, 3, 1, 2, 3, 1, 3, 1, 1, 2, 3, 2, 1, 2, 3, 1, 2, 3, 1, 2, 3, 3, 1, 2, 3, 1, 1, 2, 3, 3, 1, 2, 3, 1, 2, 3, 3, 1, 2, 3, 1, 2, 3, 1, 1, 2, 3, 2, 2, 1, 1, 2, 1, 2, 3, 3, 1, 2, 3, 1, 2, 3, 1, 2, 3, 2, 1, 2, 3, 1, 3, 1, 2, 3, 1, 2, 3, 3, 1, 2, 3, 1, 2, 3, 1, 2, 3, 3, 1, 2, 3, 1, 2, 3, 1, 2, 3, 1, 2, 3, 2, 3, 2, 1, 2, 3, 1, 2, 3, 1, 2, 3, 1, 2, 3, 1, 2, 3, 1, 3, 3, 3, 2, 1, 3, 1, 1, 2, 3, 2, 3, 3, 1, 2, 1, 2, 3, 1, 2, 3, 1, 2, 3, 3, 3, 2, 1, 1, 2, 3, 3, 1, 2, 2, 1, 2, 3, 1, 2, 3, 1, 2, 3, 1, 2, 3, 1, 2, 3, 1, 2, 3, 1, 1, 2, 3, 1, 2, 1, 2, 3, 1, 2, 3, 1, 1, 2, 3, 1, 2, 3, 2, 3, 2, 1, 2, 3, 1, 2, 3, 3, 1, 2, 1, 3, 1, 2, 3, 1, 3, 1, 2, 3, 3, 1, 2, 3, 1, 2, 3, 1, 2, 3, 2, 2, 1, 2, 3, 1, 2, 3, 1, 2, 3, 1, 2, 3, 1, 2, 3, 1, 2, 3, 3, 1, 2, 3, 3, 1, 2, 3, 1, 2, 1, 3, 1, 2, 3, 1, 3, 1, 2, 3, 1, 2, 3, 2, 1, 1, 2, 3, 1, 2, 3, 2, 1, 2, 1, 2, 3, 1, 2, 3, 1, 2, 3, 1, 2, 3, 2, 1, 2, 3, 1, 2, 3, 1, 2, 3, 1, 2, 3, 2, 1, 2, 3, 1, 2, 3, 1, 1, 2, 3, 3, 2, 1, 2, 3, 1, 2, 3, 1, 2, 3, 2, 2, 1, 2, 3], \"Freq\": [0.9744756816330857, 0.01597501117431288, 0.01597501117431288, 0.7660758388723155, 0.033307645168361544, 0.16653822584180772, 0.33011556987050356, 0.5942080257669063, 0.08252889246762589, 0.07106476124217641, 0.852777134906117, 0.909061106980325, 0.9517036369324948, 0.8707173530426958, 0.6091135376941118, 0.24364541507764473, 0.14502703278431234, 0.9084772073811634, 0.9531195814890315, 0.9079733494933367, 0.18150376540648405, 0.03025062756774734, 0.8167669443291782, 0.952786579330969, 0.2707282614469661, 0.63814518769642, 0.09668866480248789, 0.14495067039252443, 0.7972286871588844, 0.21173338163009006, 0.7410668357053153, 0.052933345407522515, 0.06823801022677053, 0.8188561227212464, 0.06823801022677053, 0.8262477991923347, 0.07247466818018664, 0.45900623180784866, 0.45900623180784866, 0.050485341623780176, 0.050485341623780176, 0.9592214908518234, 0.8262100376982143, 0.9083802127311018, 0.22646101455197004, 0.7117346171633344, 0.03235157350742429, 0.9373605934662137, 0.05207558852590076, 0.9577148001635046, 0.9227234409130631, 0.049876942752057465, 0.024938471376028733, 0.8262845841609935, 0.9252458268647858, 0.054426225109693284, 0.054426225109693284, 0.8354907742162451, 0.119355824888035, 0.039785274962678335, 0.18657276310439702, 0.7113086593355137, 0.09328638155219851, 0.9090723320595282, 0.1147634174766816, 0.1147634174766816, 0.7746530679676008, 0.9309133717133884, 0.12176009962488595, 0.2922242390997263, 0.5844484781994526, 0.9516231196760099, 0.2395684543868219, 0.7529294280728688, 0.03422406491240313, 0.9701554616224775, 0.03031735817570242, 0.01515867908785121, 0.9319566643456173, 0.23957058182536997, 0.7529361143083056, 0.034224368832195706, 0.2777732855184467, 0.6851741042788353, 0.03703643806912623, 0.9309620743865545, 0.918720259959015, 0.03994435912865282, 0.03994435912865282, 0.9452319489582455, 0.9070584498697286, 0.9309646681397419, 0.23956631249043825, 0.7529226963985202, 0.021365604803333688, 0.10682802401666842, 0.8759897969366811, 0.957001263232751, 0.28593119935456307, 0.14296559967728154, 0.5718623987091261, 0.07432377729852976, 0.7680123654181409, 0.14864755459705953, 0.08285931165010477, 0.8285931165010477, 0.08285931165010477, 0.8263268887648157, 0.02296903899033889, 0.12632971444686392, 0.8498544426425391, 0.9575810892334783, 0.9319692668144727, 0.012724664528960034, 0.6871318845638418, 0.2926672841660808, 0.5965897873876881, 0.1864343085586525, 0.22372117027038302, 0.9518672513157376, 0.011714330098011797, 0.11714330098011796, 0.866860427252873, 0.5399533579755145, 0.06749416974693931, 0.39146618453224796, 0.8068915991981084, 0.16137831983962167, 0.03724115073222039, 0.9084090635904799, 0.04098405059949322, 0.08196810119898644, 0.8811570878891043, 0.1872611343272159, 0.22471336119265908, 0.636687856712534, 0.06891011517277092, 0.1148501919546182, 0.8154363628777891, 0.08259208253089162, 0.9085129078398079, 0.9088730281911727, 0.9628259447581492, 0.9319980670029302, 0.9530963710120185, 0.06102093789043118, 0.8542931304660365, 0.06102093789043118, 0.7954326743179453, 0.13257211238632421, 0.04419070412877474, 0.08379030440252329, 0.6344123047619621, 0.28728104366579416, 0.02815426710904485, 0.9572450817075249, 0.02815426710904485, 0.8112457729748251, 0.08539429189208685, 0.08539429189208685, 0.8705340158227667, 0.9318298395735045, 0.9084807835188394, 0.9083941879504883, 0.8261571323437564, 0.07125335447660955, 0.9262936081959241, 0.945396729934751, 0.2923132422606355, 0.4609554974110021, 0.24734197422053772, 0.880165413623043, 0.09264899090768874, 0.9089629054125224, 0.8540403840026668, 0.08540403840026667, 0.25123433359743563, 0.5981769847557992, 0.1435624763413918, 0.03500979287035932, 0.9277595110645219, 0.03500979287035932, 0.15576502772693515, 0.07788251386346758, 0.7788251386346758, 0.9089500181155642, 0.908452423481669, 0.9242285446346611, 0.9674932495500641, 0.030918785969934023, 0.12367514387973609, 0.8348072211882186, 0.9090170700050535, 0.028818219405735965, 0.9798194597950228, 0.8262332863507834, 0.9586494723160738, 0.014978898004938653, 0.029957796009877306, 0.9319312882738472, 0.04437768039399272, 0.04437768039399272, 0.9253832036082078, 0.054434306094600454, 0.054434306094600454, 0.1451779914467366, 0.8226752848648408, 0.048392663815578864, 0.14794500815957326, 0.049315002719857746, 0.7890400435177239, 0.834620244989081, 0.14307775628384245, 0.023846292713973743, 0.8706544964199854, 0.22643739214988298, 0.7440085742067584, 0.03234819887855471, 0.028823302327657382, 0.979992279140351, 0.28295458427134745, 0.6063312520100302, 0.12126625040200606, 0.6888941177524498, 0.06666717268572095, 0.2666686907428838, 0.8705872068988311, 0.6100292755830877, 0.11296838436723847, 0.27112412248137235, 0.538110642787614, 0.082786252736556, 0.372538137314502, 0.8261619994456971, 0.8809224097895701, 0.9450291253893539, 0.025962334292888623, 0.10384933717155449, 0.8697381988117688, 0.872190757771859, 0.024227521049218305, 0.10902384472148237, 0.9089178346039759, 0.9302373617971768, 0.04429701722843699, 0.9164186827134577, 0.07049374482411212, 0.8764443325406833, 0.07967675750369849, 0.03983837875184924, 0.9310087869603906, 0.9083419706455231, 0.9320075919229831, 0.044381313901094434, 0.044381313901094434, 0.9319180524542774, 0.4234301256888267, 0.34932985369328207, 0.2328865691288547, 0.29004692636702484, 0.2054499061766426, 0.5075821211422935, 0.08532710034575672, 0.7395015363298915, 0.17065420069151344, 0.8262677423849765, 0.9625145649106918, 0.9319800467353113, 0.044380002225491016, 0.044380002225491016, 0.14466701659842354, 0.09644467773228235, 0.7715574218582588, 0.879087343681175, 0.03995851562187159, 0.07991703124374318, 0.5113375380057005, 0.08892826747925225, 0.40017720365663517, 0.025139786930210635, 0.11312904118594785, 0.8673226490922669, 0.04848411910307693, 0.04848411910307693, 0.9696823820615386, 0.9319464693204218, 0.6867092886485695, 0.14928462796708034, 0.14928462796708034, 0.9087538251535408, 0.07543549660567281, 0.9052259592680737, 0.025145165535224268, 0.17405353241025187, 0.8122498179145087, 0.11530975430824095, 0.864823157311807, 0.9238876927002311, 0.02887149039688222, 0.04330723559532333, 0.898861649036594, 0.059924109935772935, 0.41899308112431294, 0.5446910054616069, 0.0418993081124313, 0.041700335424974554, 0.08340067084994911, 0.9174073793494402, 0.826181131418728, 0.8707379721197674, 0.8500477837846881, 0.03863853562657673, 0.1159156068797302, 0.7513701668403464, 0.1878425417100866, 0.03130709028501443, 0.8262682987571648, 0.0826830673713048, 0.9095137410843529, 0.38700337111839206, 0.4450538767861509, 0.17415151700327644, 0.2634267085665531, 0.4371762397487477, 0.2970556500856875, 0.9433931891998776, 0.029948990133329446, 0.04492348519999417, 0.29983892108487653, 0.16657717838048697, 0.5330469708175584, 0.8991477642546484, 0.7466705888968169, 0.03246393864768769, 0.22724757053381384, 0.6224847469119547, 0.1493963392588691, 0.22409450888830368, 0.01722676103503005, 0.9474718569266526, 0.0344535220700601, 0.1638748446606864, 0.6008744304225168, 0.2458122669910296, 0.8672778266913365, 0.36961343067825564, 0.11550419708695489, 0.5082184671826016, 0.9394406897915175, 0.02723016492149326, 0.040845247382239894, 0.8707741102296365, 0.5525259721178368, 0.24084465451290324, 0.19834265665768502, 0.9085470431583907, 0.8989235423261775, 0.030862469647939816, 0.8950116197902547, 0.07715617411984954, 0.5869618311418643, 0.16192050514258324, 0.24288075771387485, 0.3339406426586025, 0.45638554496675676, 0.21149574035044824, 0.8262365212831608, 0.8262605554033211, 0.9208116673179025, 0.030693722243930084, 0.030693722243930084], \"Term\": [\"_org\", \"_org\", \"_org\", \"abus\", \"abus\", \"abus\", \"affair\", \"affair\", \"affair\", \"air\", \"air\", \"albania\", \"amadvr\", \"amb\", \"amp\", \"amp\", \"amp\", \"analyz\", \"android\", \"assay\", \"attack\", \"attack\", \"attack\", \"authent\", \"baltic\", \"baltic\", \"baltic\", \"benefit\", \"benefit\", \"bring\", \"bring\", \"bring\", \"bulgaria\", \"bulgaria\", \"bulgaria\", \"champ\", \"christma\", \"christma\", \"christma\", \"chronolog\", \"chronolog\", \"chronolog\", \"chtchetinina\", \"coagul\", \"cole\", \"cole\", \"cole\", \"collect\", \"collect\", \"combat\", \"complet\", \"complet\", \"complet\", \"complianc\", \"condit\", \"condit\", \"condit\", \"construct\", \"construct\", \"construct\", \"countri\", \"countri\", \"countri\", \"crimin\", \"cyber\", \"cyber\", \"cyber\", \"data\", \"day\", \"day\", \"day\", \"dear\", \"decid\", \"decid\", \"decid\", \"defens\", \"defens\", \"defens\", \"diaz\", \"disconnect\", \"disconnect\", \"disconnect\", \"don\", \"don\", \"don\", \"done\", \"drive\", \"drive\", \"drive\", \"eeduc\", \"efsi\", \"elect\", \"electr\", \"electr\", \"end\", \"end\", \"end\", \"enjoy\", \"estonian\", \"estonian\", \"estonian\", \"europ\", \"europ\", \"europ\", \"even\", \"even\", \"even\", \"everyth\", \"farm\", \"farm\", \"farm\", \"feat\", \"fenero\", \"fernandez\", \"fernandez\", \"fernandez\", \"finland\", \"finland\", \"finland\", \"forecast\", \"fur\", \"fur\", \"fur\", \"good\", \"good\", \"good\", \"greec\", \"greec\", \"greec\", \"hamburg\", \"hand\", \"hand\", \"hand\", \"happi\", \"happi\", \"happi\", \"help\", \"help\", \"help\", \"http\", \"http\", \"hug\", \"hurt\", \"hurtado\", \"io\", \"itali\", \"itali\", \"itali\", \"itun\", \"itun\", \"itun\", \"javier\", \"javier\", \"javier\", \"joke\", \"joke\", \"joke\", \"journal\", \"journal\", \"journal\", \"june\", \"khaliavin\", \"khl\", \"khlexpans\", \"kimiko\", \"kiss\", \"kiss\", \"lanka\", \"latvia\", \"latvia\", \"latvia\", \"level\", \"level\", \"liberia\", \"lift\", \"lift\", \"lithuania\", \"lithuania\", \"lithuania\", \"lo\", \"lo\", \"lo\", \"love\", \"love\", \"love\", \"luck\", \"malmo\", \"manicsin\", \"mark\", \"market\", \"market\", \"market\", \"marri\", \"meddl\", \"meddl\", \"melton\", \"member\", \"member\", \"member\", \"minibus\", \"minibus\", \"minibus\", \"mint\", \"mint\", \"mint\", \"music\", \"music\", \"music\", \"nation\", \"nation\", \"nation\", \"nato\", \"nato\", \"nato\", \"nest\", \"network\", \"network\", \"network\", \"neutral\", \"neutral\", \"new\", \"new\", \"new\", \"news\", \"news\", \"news\", \"novel\", \"old\", \"old\", \"old\", \"onlin\", \"onlin\", \"onlin\", \"pair\", \"parnu\", \"pisa\", \"plz\", \"plz\", \"plz\", \"poland\", \"poland\", \"poland\", \"pre\", \"presenc\", \"presenc\", \"present\", \"present\", \"project\", \"project\", \"project\", \"provid\", \"reagent\", \"roam\", \"roam\", \"roam\", \"robledo\", \"russia\", \"russia\", \"russia\", \"russian\", \"russian\", \"russian\", \"say\", \"say\", \"say\", \"scherer\", \"school\", \"self\", \"self\", \"self\", \"send\", \"send\", \"send\", \"set\", \"set\", \"set\", \"shop\", \"shop\", \"shop\", \"sign\", \"sign\", \"sign\", \"sinc\", \"sinc\", \"sinc\", \"smart\", \"song\", \"song\", \"song\", \"soro\", \"soviet\", \"soviet\", \"soviet\", \"spain\", \"spain\", \"special\", \"special\", \"spend\", \"spend\", \"spend\", \"sri\", \"sri\", \"state\", \"state\", \"state\", \"step\", \"step\", \"step\", \"stephan\", \"stork\", \"street\", \"street\", \"street\", \"support\", \"support\", \"support\", \"swiss\", \"system\", \"system\", \"take\", \"take\", \"take\", \"tallinn\", \"tallinn\", \"tallinn\", \"target\", \"target\", \"target\", \"tartu\", \"tartu\", \"tartu\", \"thala\", \"time\", \"time\", \"time\", \"top\", \"top\", \"top\", \"total\", \"total\", \"total\", \"travel\", \"travel\", \"travel\", \"travelt\", \"ukrain\", \"ukrain\", \"ukrain\", \"usa\", \"usa\", \"usa\", \"valgamaa\", \"via\", \"via\", \"via\", \"volum\", \"walker\", \"watch\", \"watch\", \"watch\", \"will\", \"will\", \"will\", \"world\", \"world\", \"world\", \"yamada\", \"yasmin\", \"yesterday\", \"yesterday\", \"yesterday\"]}, \"topic.order\": [3, 2, 1], \"plot.opts\": {\"xlab\": \"PC1\", \"ylab\": \"PC2\"}, \"R\": 30, \"mdsDat\": {\"x\": [-0.144255713106013, 0.03986310799840173, 0.10439260510761127], \"Freq\": [35.730149552767685, 32.68944025305219, 31.580410194180125], \"y\": [0.03479238504627543, -0.1340637757296662, 0.09927139068339078], \"topics\": [1, 2, 3], \"cluster\": [1, 1, 1]}, \"tinfo\": {\"logprob\": [30.0, 29.0, 28.0, 27.0, 26.0, 25.0, 24.0, 23.0, 22.0, 21.0, 20.0, 19.0, 18.0, 17.0, 16.0, 15.0, 14.0, 13.0, 12.0, 11.0, 10.0, 9.0, 8.0, 7.0, 6.0, 5.0, 4.0, 3.0, 2.0, 1.0, -4.48, -4.441, -4.4316, -5.558, -5.8825, -5.6952, -5.7449, -4.4568, -4.3654, -4.4274, -5.7556, -5.4506, -6.454, -6.4552, -5.5565, -6.4573, -6.4576, -4.9847, -5.563, -6.5557, -6.556, -6.4621, -5.5664, -5.5669, -6.6658, -5.1997, -6.6706, -6.671, -6.6757, -6.4761, -5.881, -4.3156, -5.4867, -3.9413, -6.2427, -4.4253, -5.5216, -6.0606, -5.5253, -5.5525, -5.6385, -3.9391, -5.6809, -5.4475, -5.4078, -5.1743, -5.4471, -4.9241, -4.9077, -5.1299, -5.2201, -4.9049, -5.2811, -4.734, -5.3723, -5.4377, -5.3388, -5.2043, -5.2719, -5.3539, -5.4293, -4.9871, -4.9916, -5.5533, -5.5601, -5.5605, -4.4978, -4.9907, -6.0706, -6.2363, -6.3236, -6.4242, -6.3291, -4.538, -6.2447, -6.5393, -6.5456, -6.6697, -6.8086, -6.8088, -6.8091, -6.8102, -6.8107, -6.811, -6.8113, -6.8116, -6.8116, -6.8118, -6.8126, -5.4262, -6.8137, -4.4462, -4.9335, -5.5552, -4.8038, -6.1458, -5.8701, -5.996, -5.0661, -4.3881, -5.6959, -5.8647, -6.0666, -4.5164, -5.1815, -5.2447, -4.3195, -4.892, -4.5391, -5.427, -5.4275, -5.4279, -4.5916, -5.3868, -5.3933, -4.1542, -4.933, -5.12, -4.7805, -4.7869, -4.7654, -5.2453, -5.0125, -5.3828, -5.4269, -5.767, -5.4987, -5.9451, -5.9451, -5.9468, -5.947, -5.9476, -5.9493, -5.953, -5.5498, -6.1633, -5.9563, -6.1643, -6.1655, -6.1662, -6.1662, -6.0934, -6.1698, -6.2506, -6.0964, -6.2511, -6.3391, -6.2528, -6.2536, -6.0994, -6.2537, -6.2541, -6.254, -6.2571, -6.265, -4.698, -4.0636, -4.2604, -5.3948, -4.1658, -4.238, -4.166, -4.2009, -5.1723, -4.7894, -5.0032, -5.1919, -5.1841, -5.9435, -5.7701, -5.9533, -4.7403, -5.7147, -5.2947, -4.4921, -5.3651, -5.0993, -5.4829, -5.6583, -5.5226, -5.3163, -5.3023, -5.6736, -5.5655, -5.3689, -5.2429, -5.3979, -5.5638, -5.54], \"Term\": [\"end\", \"nato\", \"fur\", \"farm\", \"sign\", \"_org\", \"plz\", \"defens\", \"member\", \"usa\", \"total\", \"help\", \"spend\", \"target\", \"poland\", \"watch\", \"lo\", \"hand\", \"fernandez\", \"greec\", \"meddl\", \"neutral\", \"joke\", \"countri\", \"soviet\", \"even\", \"complet\", \"love\", \"baltic\", \"javier\", \"_org\", \"defens\", \"member\", \"mark\", \"lanka\", \"collect\", \"condit\", \"target\", \"usa\", \"spend\", \"mint\", \"drive\", \"valgamaa\", \"stork\", \"presenc\", \"amb\", \"nest\", \"complet\", \"roam\", \"combat\", \"feat\", \"june\", \"self\", \"minibus\", \"provid\", \"yesterday\", \"data\", \"done\", \"elect\", \"novel\", \"sri\", \"poland\", \"set\", \"nato\", \"lift\", \"greec\", \"project\", \"present\", \"street\", \"construct\", \"journal\", \"amp\", \"itun\", \"abus\", \"support\", \"news\", \"time\", \"via\", \"good\", \"finland\", \"will\", \"russia\", \"old\", \"tallinn\", \"top\", \"song\", \"onlin\", \"world\", \"baltic\", \"latvia\", \"russian\", \"meddl\", \"neutral\", \"authent\", \"io\", \"android\", \"total\", \"joke\", \"efsi\", \"school\", \"pisa\", \"manicsin\", \"eeduc\", \"lo\", \"hurt\", \"walker\", \"thala\", \"travelt\", \"kimiko\", \"pair\", \"stephan\", \"chtchetinina\", \"melton\", \"yamada\", \"champ\", \"swiss\", \"yasmin\", \"scherer\", \"complianc\", \"http\", \"everyth\", \"watch\", \"soviet\", \"level\", \"even\", \"system\", \"itali\", \"bulgaria\", \"europ\", \"countri\", \"music\", \"spain\", \"benefit\", \"fernandez\", \"bring\", \"say\", \"baltic\", \"don\", \"javier\", \"disconnect\", \"decid\", \"electr\", \"lithuania\", \"network\", \"cole\", \"tallinn\", \"affair\", \"new\", \"world\", \"latvia\", \"amp\", \"state\", \"russia\", \"take\", \"travel\", \"enjoy\", \"sinc\", \"albania\", \"crimin\", \"marri\", \"luck\", \"liberia\", \"pre\", \"hug\", \"chronolog\", \"diaz\", \"soro\", \"hurtado\", \"fenero\", \"smart\", \"robledo\", \"forecast\", \"khaliavin\", \"volum\", \"amadvr\", \"khl\", \"parnu\", \"hamburg\", \"analyz\", \"dear\", \"coagul\", \"malmo\", \"khlexpans\", \"reagent\", \"assay\", \"hand\", \"end\", \"plz\", \"step\", \"fur\", \"sign\", \"farm\", \"help\", \"market\", \"love\", \"nation\", \"attack\", \"cyber\", \"kiss\", \"special\", \"air\", \"russian\", \"send\", \"day\", \"tallinn\", \"ukrain\", \"good\", \"estonian\", \"happi\", \"christma\", \"fernandez\", \"javier\", \"tartu\", \"shop\", \"latvia\", \"amp\", \"russia\", \"onlin\", \"world\"], \"Category\": [\"Default\", \"Default\", \"Default\", \"Default\", \"Default\", \"Default\", \"Default\", \"Default\", \"Default\", \"Default\", \"Default\", \"Default\", \"Default\", \"Default\", \"Default\", \"Default\", \"Default\", \"Default\", \"Default\", \"Default\", \"Default\", \"Default\", \"Default\", \"Default\", \"Default\", \"Default\", \"Default\", \"Default\", \"Default\", \"Default\", \"Topic1\", \"Topic1\", \"Topic1\", \"Topic1\", \"Topic1\", \"Topic1\", \"Topic1\", \"Topic1\", \"Topic1\", \"Topic1\", \"Topic1\", \"Topic1\", \"Topic1\", \"Topic1\", \"Topic1\", \"Topic1\", \"Topic1\", \"Topic1\", \"Topic1\", \"Topic1\", \"Topic1\", \"Topic1\", \"Topic1\", \"Topic1\", \"Topic1\", \"Topic1\", \"Topic1\", \"Topic1\", \"Topic1\", \"Topic1\", \"Topic1\", \"Topic1\", \"Topic1\", \"Topic1\", \"Topic1\", \"Topic1\", \"Topic1\", \"Topic1\", \"Topic1\", \"Topic1\", \"Topic1\", \"Topic1\", \"Topic1\", \"Topic1\", \"Topic1\", \"Topic1\", \"Topic1\", \"Topic1\", \"Topic1\", \"Topic1\", \"Topic1\", \"Topic1\", \"Topic1\", \"Topic1\", \"Topic1\", \"Topic1\", \"Topic1\", \"Topic1\", \"Topic1\", \"Topic1\", \"Topic1\", \"Topic2\", \"Topic2\", \"Topic2\", \"Topic2\", \"Topic2\", \"Topic2\", \"Topic2\", \"Topic2\", \"Topic2\", \"Topic2\", \"Topic2\", \"Topic2\", \"Topic2\", \"Topic2\", \"Topic2\", \"Topic2\", \"Topic2\", \"Topic2\", \"Topic2\", \"Topic2\", \"Topic2\", \"Topic2\", \"Topic2\", \"Topic2\", \"Topic2\", \"Topic2\", \"Topic2\", \"Topic2\", \"Topic2\", \"Topic2\", \"Topic2\", \"Topic2\", \"Topic2\", \"Topic2\", \"Topic2\", \"Topic2\", \"Topic2\", \"Topic2\", \"Topic2\", \"Topic2\", \"Topic2\", \"Topic2\", \"Topic2\", \"Topic2\", \"Topic2\", \"Topic2\", \"Topic2\", \"Topic2\", \"Topic2\", \"Topic2\", \"Topic2\", \"Topic2\", \"Topic2\", \"Topic2\", \"Topic2\", \"Topic2\", \"Topic2\", \"Topic2\", \"Topic2\", \"Topic2\", \"Topic2\", \"Topic2\", \"Topic2\", \"Topic2\", \"Topic3\", \"Topic3\", \"Topic3\", \"Topic3\", \"Topic3\", \"Topic3\", \"Topic3\", \"Topic3\", \"Topic3\", \"Topic3\", \"Topic3\", \"Topic3\", \"Topic3\", \"Topic3\", \"Topic3\", \"Topic3\", \"Topic3\", \"Topic3\", \"Topic3\", \"Topic3\", \"Topic3\", \"Topic3\", \"Topic3\", \"Topic3\", \"Topic3\", \"Topic3\", \"Topic3\", \"Topic3\", \"Topic3\", \"Topic3\", \"Topic3\", \"Topic3\", \"Topic3\", \"Topic3\", \"Topic3\", \"Topic3\", \"Topic3\", \"Topic3\", \"Topic3\", \"Topic3\", \"Topic3\", \"Topic3\", \"Topic3\", \"Topic3\", \"Topic3\", \"Topic3\", \"Topic3\", \"Topic3\", \"Topic3\", \"Topic3\", \"Topic3\", \"Topic3\", \"Topic3\", \"Topic3\", \"Topic3\", \"Topic3\", \"Topic3\", \"Topic3\", \"Topic3\", \"Topic3\", \"Topic3\", \"Topic3\", \"Topic3\", \"Topic3\"], \"Freq\": [93.0, 125.0, 85.0, 87.0, 79.0, 62.0, 77.0, 65.0, 66.0, 73.0, 58.0, 87.0, 69.0, 66.0, 82.0, 64.0, 57.0, 48.0, 78.0, 80.0, 34.0, 34.0, 35.0, 85.0, 39.0, 48.0, 40.0, 51.0, 103.0, 83.0, 61.18586076531365, 63.618255174946725, 64.2177880616001, 20.820054010972154, 15.050380945805903, 18.150392080362714, 17.27016620298177, 62.61915895651936, 68.61534360088913, 64.48941605674962, 17.08593447144393, 23.17843837100365, 8.497970139378673, 8.487798467140935, 20.851207612276912, 8.47044366576201, 8.468006931142412, 36.93691628594837, 20.714621071420165, 7.67641567982404, 7.674319291906948, 8.430164715458382, 20.645523732642918, 20.635302959753705, 6.876289872520905, 29.791413999214654, 6.843241938664841, 6.8404232606545365, 6.808347308417179, 8.312256552956681, 15.072058719144215, 72.11908871269698, 22.356672378036382, 104.85023923825905, 10.498185809354784, 64.61998600621426, 21.59194931957615, 12.594521313076665, 21.512120773491674, 20.93469717922977, 19.208526481107494, 105.08713933447244, 18.411147939167634, 23.25142786173984, 24.19290278197772, 30.55662918734541, 23.260468649981632, 39.24304464205549, 39.8901764638635, 31.943241366227078, 29.188851772214246, 40.00475966310894, 27.46154378568699, 47.45817869398064, 25.06628724501062, 23.480103732849415, 25.92172999954245, 29.65316028341855, 27.714384412477134, 25.53214198660795, 23.677964215018843, 33.71174288966938, 33.55935371796031, 19.13796343764208, 19.007187489027487, 18.99893003925294, 54.986619028671505, 33.58898270119129, 11.408409273395781, 9.665794300304809, 8.858063887584743, 8.010516096081629, 8.809193760581435, 52.821858600286205, 9.58560644153587, 7.139654676738203, 7.094527171815983, 6.266844429549035, 5.453631607217662, 5.452520543532348, 5.451216665670985, 5.445315297052706, 5.442704907098116, 5.440882692887445, 5.439217221034931, 5.4378163753812805, 5.437513302592038, 5.43659213155707, 5.432208526078878, 21.731441091416897, 5.426055968286969, 57.902586908132704, 35.567543723172626, 19.101038989006618, 40.49306183215975, 10.582183313594193, 13.941186798925852, 12.291701377331757, 31.150248524002738, 61.36733699677369, 16.59328022979894, 14.016130066494714, 11.4536046588383, 53.97318736550764, 27.756194668991824, 26.05636604695205, 65.71938195466598, 37.07334174468291, 52.76368783647397, 21.714053507214008, 21.702748049411294, 21.69424668080084, 50.06583451928446, 22.603696720236243, 22.458024716294176, 77.53508713297991, 35.583421175190715, 29.51449877092293, 41.447113297766656, 41.18226966715049, 42.07727351339897, 26.039949329802035, 32.86577990194145, 22.695370144528752, 21.715773990273245, 14.930247600460314, 19.52463372635294, 12.49518138705926, 12.49437196245772, 12.472977890391798, 12.47101281080371, 12.463513904808345, 12.442540526043349, 12.396043619364521, 18.552616392126723, 10.045138319330677, 12.355947354731175, 10.035623889509859, 10.023759132239828, 10.016355136802849, 10.016584919387853, 10.772327636850664, 9.980025260249876, 9.205387591556077, 10.740027345523872, 9.20106849941048, 8.42551295181399, 9.185266231376673, 9.178232917200274, 10.70774029418281, 9.177282525453831, 9.17385402727159, 9.17438671748611, 9.146092093046144, 9.073784998501306, 43.48591266033061, 82.00611815695042, 67.3552186697122, 21.663707038648095, 74.04268989845166, 68.88154741430624, 74.02764699968755, 71.48780956937468, 27.061747897283404, 39.68467902493202, 32.0471645219164, 26.53711348587189, 26.744640961509024, 12.514770894722298, 14.884956174912976, 12.392369992040397, 41.683894480971254, 15.732375397995547, 23.94303334554614, 53.42448177256105, 22.31651524822127, 29.110129629750926, 19.836851371541925, 16.64483116367588, 19.064866852101037, 23.433213683326546, 23.7617003667332, 16.39164997017709, 18.263262669881236, 22.23126798403777, 25.217242627219193, 21.59605025287739, 18.294656739029335, 18.736051105624163], \"Total\": [93.0, 125.0, 85.0, 87.0, 79.0, 62.0, 77.0, 65.0, 66.0, 73.0, 58.0, 87.0, 69.0, 66.0, 82.0, 64.0, 57.0, 48.0, 78.0, 80.0, 34.0, 34.0, 35.0, 85.0, 39.0, 48.0, 40.0, 51.0, 103.0, 83.0, 62.5977652903277, 65.96880864121209, 66.76058543627794, 21.705577800947054, 15.866354859335365, 19.20285547042126, 18.373495460773754, 66.78021499543827, 73.4479576516029, 69.27248896773186, 18.37076784375862, 25.03482398551443, 9.187227670205166, 9.187608966362642, 22.574883424837875, 9.187826534114933, 9.18848984631094, 40.09868868551488, 22.532005299089178, 8.353217469996506, 8.354383863620173, 9.189761519472585, 22.53267124501448, 22.53385014993634, 7.518726029271958, 32.57995208442852, 7.519496671442351, 7.5191032938829006, 7.519082344969583, 9.189200044068258, 16.687773937265096, 82.5507486274387, 25.025954654147426, 125.80571898465472, 11.7090481753715, 80.55604998812383, 25.101423083226784, 14.18565579818585, 25.880898014990255, 25.134927455901142, 23.42076918358207, 172.3816554750906, 22.629193621489524, 30.023137179024765, 31.94164615415134, 44.9996584397309, 30.80340961866705, 70.58491721305455, 74.08047270967042, 53.63819608800161, 49.40696048937962, 94.46658981792778, 44.260170914244135, 178.4177475995216, 40.16162664871858, 33.49306668803556, 48.317200836821016, 89.83632468680938, 103.42473981234139, 88.94567963779622, 82.74523126520032, 34.70027019785131, 34.69415088639759, 19.941506746811534, 19.935025017276466, 19.934539557268188, 58.049217607798305, 35.518594610432594, 12.127112648120765, 10.38945317251159, 9.523516004114668, 8.655867692511407, 9.521472491401752, 57.12687325531935, 10.386093202455076, 7.787091638389893, 7.7851497587859475, 6.918198315861471, 6.052117453510703, 6.052081799156444, 6.051941650390806, 6.051729913533592, 6.051559629222216, 6.051535935781326, 6.0514533350497866, 6.051303199603292, 6.051359909779741, 6.051307274283484, 6.051183933289742, 24.215396182218157, 6.050874137079025, 64.80362792786116, 39.76907603169935, 21.586851409884318, 48.27459847712773, 12.09437472256926, 16.387817601158375, 14.654589087178406, 40.36393344151717, 85.75742639908903, 20.664289194968305, 17.236076501618292, 13.797797516796765, 78.58753350425093, 37.7833666964071, 35.15881809933307, 103.42473981234139, 54.00087330933723, 83.54188530420471, 29.21894644436146, 29.219205917225526, 29.219467158093813, 83.5873015415531, 30.913622231466853, 30.91039759690552, 178.4177475995216, 60.58484308342537, 49.47790485901545, 89.83632468680938, 88.94567963779622, 172.3816554750906, 47.73348511229022, 94.46658981792778, 51.679136391506006, 36.61330701745831, 15.673960501713433, 20.625310276835314, 13.20043274083193, 13.200269744007798, 13.201072230616404, 13.202046054059615, 13.201858875147316, 13.202513520079087, 13.203164389070105, 19.807729686213882, 10.730112657139053, 13.204896274271539, 10.729635987505283, 10.729967560175675, 10.730230039169557, 10.730557234795738, 11.55623327180868, 10.731573056918812, 9.905926245396401, 11.558219989002984, 9.90664872969585, 9.081390041957265, 9.907430870876132, 9.906687726315111, 11.559197935150069, 9.907745538556965, 9.906957995122355, 9.907593112529405, 9.908162664336706, 9.912185203477767, 48.79947127589996, 93.6083962241939, 77.0346755972487, 23.980622453245175, 85.36553022094913, 79.55516908524741, 87.07373437962418, 87.06994589918833, 32.34279641420649, 51.359410496330725, 40.55560964604098, 33.05716543435223, 34.85431235796674, 14.034426973234947, 17.344586431549306, 14.071671845799537, 82.74523126520032, 20.7372770278909, 41.06435536274869, 178.4177475995216, 43.28847025563803, 74.08047270967042, 34.973448237104435, 26.700682007314516, 41.393773511889634, 78.58753350425093, 83.54188530420471, 30.016116544964273, 44.98007341628729, 88.94567963779622, 172.3816554750906, 94.46658981792778, 48.317200836821016, 89.83632468680938], \"loglift\": [30.0, 29.0, 28.0, 27.0, 26.0, 25.0, 24.0, 23.0, 22.0, 21.0, 20.0, 19.0, 18.0, 17.0, 16.0, 15.0, 14.0, 13.0, 12.0, 11.0, 10.0, 9.0, 8.0, 7.0, 6.0, 5.0, 4.0, 3.0, 2.0, 1.0, 1.0064, 0.9929, 0.9903, 0.9875, 0.9764, 0.9728, 0.9672, 0.9648, 0.9611, 0.9576, 0.9567, 0.9521, 0.9512, 0.9499, 0.9497, 0.9479, 0.9475, 0.947, 0.9451, 0.9447, 0.9443, 0.9429, 0.9417, 0.9412, 0.9399, 0.9397, 0.9349, 0.9346, 0.9299, 0.9289, 0.9273, 0.8941, 0.9164, 0.847, 0.92, 0.8087, 0.8786, 0.9102, 0.8443, 0.8463, 0.8309, 0.5343, 0.8229, 0.7736, 0.7513, 0.6421, 0.7483, 0.4421, 0.4102, 0.5109, 0.5029, 0.1699, 0.5519, -0.2951, 0.5578, 0.674, 0.4065, -0.0792, -0.2877, -0.2189, -0.222, 1.0892, 1.0849, 1.077, 1.0705, 1.07, 1.0639, 1.0623, 1.057, 1.0459, 1.0457, 1.0406, 1.0404, 1.0398, 1.0379, 1.0313, 1.0252, 1.0192, 1.014, 1.0138, 1.0136, 1.0125, 1.0121, 1.0117, 1.0115, 1.0112, 1.0112, 1.011, 1.0102, 1.0099, 1.0091, 1.0055, 1.0065, 0.9958, 0.9423, 0.9845, 0.9564, 0.9423, 0.859, 0.7835, 0.8987, 0.9113, 0.9319, 0.7424, 0.8097, 0.8185, 0.6647, 0.742, 0.6586, 0.8213, 0.8207, 0.8203, 0.6056, 0.805, 0.7987, 0.2847, 0.586, 0.6015, 0.3445, 0.3481, -0.2921, 0.5121, 0.0623, 0.2952, 0.5957, 1.104, 1.0978, 1.0977, 1.0977, 1.0959, 1.0957, 1.0951, 1.0933, 1.0896, 1.0872, 1.0867, 1.0862, 1.0858, 1.0846, 1.0838, 1.0838, 1.0824, 1.08, 1.0793, 1.0792, 1.0787, 1.0777, 1.0769, 1.0763, 1.0761, 1.076, 1.0758, 1.0757, 1.0726, 1.0643, 1.0374, 1.0203, 1.0184, 1.051, 1.0103, 1.0086, 0.9903, 0.9554, 0.9744, 0.8948, 0.9172, 0.9329, 0.8878, 1.038, 0.9997, 1.0256, 0.467, 0.8764, 0.6132, -0.0532, 0.4901, 0.2186, 0.5856, 0.68, 0.3773, -0.0574, -0.1046, 0.5477, 0.2513, -0.2339, -0.7695, -0.3231, 0.1815, -0.4149]}, \"lambda.step\": 0.01};\n",
       "\n",
       "function LDAvis_load_lib(url, callback){\n",
       "  var s = document.createElement('script');\n",
       "  s.src = url;\n",
       "  s.async = true;\n",
       "  s.onreadystatechange = s.onload = callback;\n",
       "  s.onerror = function(){console.warn(\"failed to load library \" + url);};\n",
       "  document.getElementsByTagName(\"head\")[0].appendChild(s);\n",
       "}\n",
       "\n",
       "if(typeof(LDAvis) !== \"undefined\"){\n",
       "   // already loaded: just create the visualization\n",
       "   !function(LDAvis){\n",
       "       new LDAvis(\"#\" + \"ldavis_el112415731147688647702845731\", ldavis_el112415731147688647702845731_data);\n",
       "   }(LDAvis);\n",
       "}else if(typeof define === \"function\" && define.amd){\n",
       "   // require.js is available: use it to load d3/LDAvis\n",
       "   require.config({paths: {d3: \"https://cdnjs.cloudflare.com/ajax/libs/d3/3.5.5/d3.min\"}});\n",
       "   require([\"d3\"], function(d3){\n",
       "      window.d3 = d3;\n",
       "      LDAvis_load_lib(\"https://cdn.rawgit.com/bmabey/pyLDAvis/files/ldavis.v1.0.0.js\", function(){\n",
       "        new LDAvis(\"#\" + \"ldavis_el112415731147688647702845731\", ldavis_el112415731147688647702845731_data);\n",
       "      });\n",
       "    });\n",
       "}else{\n",
       "    // require.js not available: dynamically load d3 & LDAvis\n",
       "    LDAvis_load_lib(\"https://cdnjs.cloudflare.com/ajax/libs/d3/3.5.5/d3.min.js\", function(){\n",
       "         LDAvis_load_lib(\"https://cdn.rawgit.com/bmabey/pyLDAvis/files/ldavis.v1.0.0.js\", function(){\n",
       "                 new LDAvis(\"#\" + \"ldavis_el112415731147688647702845731\", ldavis_el112415731147688647702845731_data);\n",
       "            })\n",
       "         });\n",
       "}\n",
       "</script>"
      ],
      "text/plain": [
       "<IPython.core.display.HTML object>"
      ]
     },
     "execution_count": 12,
     "metadata": {},
     "output_type": "execute_result"
    }
   ],
   "source": [
    "pyLDAvis.display(estldavis)"
   ]
  },
  {
   "cell_type": "code",
   "execution_count": 73,
   "metadata": {
    "collapsed": false
   },
   "outputs": [
    {
     "data": {
      "text/plain": [
       "[(0, '0.022*\"europ\" + 0.020*\"holiday\" + 0.017*\"market\"'),\n",
       " (1, '0.018*\"riga\" + 0.013*\"just\" + 0.011*\"nine\"'),\n",
       " (2, '0.016*\"don\" + 0.013*\"amp\" + 0.013*\"lithuania\"')]"
      ]
     },
     "execution_count": 73,
     "metadata": {},
     "output_type": "execute_result"
    }
   ],
   "source": [
    "#sama asi Läti tweetide puhul\n",
    "latdictionary = Dictionary(latstem)\n",
    "latcorpus = [latdictionary.doc2bow(text) for text in latstem]\n",
    "#mudel\n",
    "latmudel = LdaModel(corpus=latcorpus, id2word=latdictionary, \n",
    "                    iterations=500, num_topics=n_topics_lat, random_state=1)\n",
    "latmudel.print_topics(num_topics=3, num_words=3)"
   ]
  },
  {
   "cell_type": "markdown",
   "metadata": {},
   "source": [
    "Esimene teema tundub olevat seotud pühadega, teine Riiaga, kolmas on rahvusvaheline teema."
   ]
  },
  {
   "cell_type": "code",
   "execution_count": 74,
   "metadata": {
    "collapsed": false
   },
   "outputs": [
    {
     "data": {
      "text/html": [
       "\n",
       "<link rel=\"stylesheet\" type=\"text/css\" href=\"https://cdn.rawgit.com/bmabey/pyLDAvis/files/ldavis.v1.0.0.css\">\n",
       "\n",
       "\n",
       "<div id=\"ldavis_el112415731541501045924007274\"></div>\n",
       "<script type=\"text/javascript\">\n",
       "\n",
       "var ldavis_el112415731541501045924007274_data = {\"token.table\": {\"Topic\": [1, 2, 3, 1, 2, 1, 2, 3, 3, 1, 2, 3, 3, 1, 2, 3, 1, 2, 3, 2, 1, 2, 3, 1, 2, 3, 1, 2, 3, 1, 2, 3, 1, 2, 1, 2, 3, 1, 2, 3, 1, 2, 3, 2, 1, 2, 3, 2, 1, 2, 3, 1, 2, 3, 1, 3, 1, 2, 3, 1, 2, 3, 1, 2, 3, 3, 1, 2, 3, 3, 1, 2, 1, 2, 3, 1, 2, 3, 1, 2, 3, 1, 2, 1, 2, 3, 3, 1, 2, 3, 1, 3, 1, 1, 2, 3, 1, 2, 3, 1, 1, 2, 3, 1, 1, 2, 3, 1, 3, 1, 2, 3, 1, 2, 3, 1, 2, 3, 2, 1, 2, 3, 3, 1, 2, 3, 1, 2, 3, 1, 2, 3, 1, 2, 3, 1, 2, 3, 2, 1, 2, 1, 1, 2, 3, 2, 1, 2, 3, 1, 2, 3, 1, 2, 3, 1, 2, 3, 2, 1, 2, 3, 3, 1, 2, 3, 1, 2, 3, 2, 3, 2, 1, 2, 3, 3, 3, 1, 2, 1, 2, 3, 1, 2, 3, 2, 2, 1, 2, 3, 1, 2, 3, 1, 2, 3, 2, 3, 1, 2, 1, 2, 1, 2, 3, 1, 2, 3, 1, 2, 3, 1, 2, 1, 2, 3, 1, 2, 3, 1, 2, 3, 1, 2, 3, 2, 1, 2, 3, 1, 2, 3, 3, 1, 2, 3, 3, 2, 1, 2, 3, 2, 1, 2, 3, 3, 1, 3, 1, 2, 3, 3, 3, 1, 2, 3, 1, 2, 3, 1, 1, 2, 3, 1, 2, 3, 1, 2, 3, 2, 3, 2, 3, 1, 2, 3, 3, 1, 2, 3, 1, 2, 3, 1, 2, 3, 2, 3, 1, 2, 3, 1, 3, 1, 2, 3, 1, 2, 3, 3, 3, 1, 2, 1, 3, 1, 1, 1, 2, 3, 1, 2, 3, 1, 2, 1, 2, 3, 1, 2, 3, 1, 2, 3, 2, 1, 2, 3, 1, 2, 3, 1, 2, 3, 1, 2, 3, 2, 2, 1, 2, 3, 1, 2, 3, 2], \"Freq\": [0.9544617780758132, 0.05302565433754518, 0.02651282716877259, 0.9612872979104501, 0.068663378422175, 0.030824357220552843, 0.030824357220552843, 0.9247307166165853, 0.9783466856956353, 0.32719382648422485, 0.02337098760601606, 0.6543876529684497, 0.9016081842023222, 0.5837749288791277, 0.40134526360440037, 0.012161977684981829, 0.5376933450939949, 0.22851967166494785, 0.2352408384786228, 0.8565385951652368, 0.31834182127676064, 0.38908444822715194, 0.29476094562663024, 0.06634272415376419, 0.13268544830752838, 0.7961126898451703, 0.9570874614772384, 0.0299089831711637, 0.944638980721845, 0.01852874373433011, 0.01852874373433011, 0.9820234179194959, 0.06343423744529483, 0.8880793242341277, 0.06306497642080594, 0.06306497642080594, 0.8829096698912832, 0.07986155494536931, 0.07986155494536931, 0.8518565860839393, 0.9422810349301488, 0.04487052547286423, 0.9613754978395412, 0.8877434386014973, 0.029257253435156713, 0.058514506870313426, 0.8777176030547015, 0.8878518144801654, 0.9170490363933249, 0.03648320907223317, 0.9485634358780625, 0.12060185336466904, 0.8080324175432826, 0.07236111201880142, 0.9337516178864428, 0.9611629254740232, 0.9828198759501472, 0.020475414082294734, 0.020475414082294734, 0.01329159193718034, 0.5183720855500332, 0.4652057178013119, 0.01592323582201268, 0.6369294328805072, 0.36623442390629163, 0.9611176634615561, 0.7959217318796975, 0.1295686540269275, 0.07403923087253, 0.9612175362699719, 0.9080397677326452, 0.9504647416790503, 0.9261959281439105, 0.03430355289421891, 0.03430355289421891, 0.09785803763838997, 0.8807223387455098, 0.03261934587946332, 0.9382362686946703, 0.05071547398349569, 0.025357736991747846, 0.13056246613033395, 0.8486560298471707, 0.8847347779340237, 0.06384683964472336, 0.05472586255262002, 0.9612613889947084, 0.029206579964347626, 0.9638171388234716, 0.029206579964347626, 0.08012456468381632, 0.9614947762057958, 0.948515290214069, 0.9550593415349691, 0.02122354092299931, 0.02122354092299931, 0.10075342382272952, 0.8731963397969891, 0.033584474607576506, 0.961294091024129, 0.023179558512080936, 0.8962762624671295, 0.0772651950402698, 0.9485120954730931, 0.9499428178617999, 0.027141223367479997, 0.027141223367479997, 0.972745772873542, 0.03890983091494168, 0.9521597911428222, 0.030714831972349105, 0.030714831972349105, 0.9332034270930406, 0.05184463483850226, 0.02592231741925113, 0.015915198828302394, 0.6366079531320957, 0.35013437422265264, 0.9335548574690754, 0.28309857779303005, 0.18318143268960765, 0.532891440551586, 0.8739734429603441, 0.029115743068339382, 0.1746944584100363, 0.8152408059135027, 0.02481774184631598, 0.9430741901600073, 0.04963548369263196, 0.9202946453940566, 0.061352976359603774, 0.020450992119867926, 0.23407523696347973, 0.09753134873478321, 0.6632131713965259, 0.7379966919426122, 0.1666444143096221, 0.11903172450687292, 0.9505418363687378, 0.07613756898244631, 0.9136508277893557, 0.9337753008032785, 0.8358579163524571, 0.16353741841678507, 0.018170824268531675, 0.8566747268812439, 0.04829686017093321, 0.9015413898574199, 0.06439581356124428, 0.9725006254232512, 0.021611125009405582, 0.021611125009405582, 0.06909017473340207, 0.9240810870592525, 0.008636271841675258, 0.06186168648171531, 0.18558505944514594, 0.7578056594010125, 0.8878377464147956, 0.9338629226715094, 0.02594063674087526, 0.02594063674087526, 0.9612377558315663, 0.9339404255756332, 0.9649672588459439, 0.9013651308312615, 0.030992003427978313, 0.6198400685595663, 0.34091203770776146, 0.23765753282282584, 0.746923674586024, 0.912967092447165, 0.18317749082504545, 0.036635498165009085, 0.7937691269085302, 0.901515554498626, 0.8738718313396485, 0.9338163662756704, 0.950607679942103, 0.029410833819692925, 0.8529141807710948, 0.1176433352787717, 0.07693173662964611, 0.15386347325929223, 0.7693173662964612, 0.9131119609719439, 0.8566433524311552, 0.5068643982139626, 0.392819908615821, 0.10137287964279251, 0.051412537597659506, 0.9151431692383392, 0.030847522558595703, 0.015913185144835106, 0.6365274057934043, 0.3500900731863723, 0.03647879013152306, 0.9484485434195996, 0.9828309975500464, 0.020475645782292634, 0.018662981872597594, 0.9891380392476724, 0.04593728493689086, 0.8268711288640354, 0.13781185481067257, 0.15035610853434603, 0.8419942077923377, 0.030071221706869204, 0.05459859168932995, 0.5132267618797015, 0.4258690151767736, 0.01836158222454283, 0.9731638579007701, 0.047969423251763246, 0.07994903875293874, 0.8794394262823262, 0.9206038347775344, 0.024881184723717146, 0.07464355417115143, 0.2775415483881349, 0.07929758525375281, 0.6343806820300225, 0.015918999492030426, 0.636759979681217, 0.35021798882466937, 0.8878268564698655, 0.036394040951771324, 0.07278808190354265, 0.9098510237942832, 0.0673839731535486, 0.1796905950761296, 0.7412237046890346, 0.9611065296189579, 0.015317905067070672, 0.5973982976157562, 0.3829476266767668, 0.8739823654732922, 0.8878673637730399, 0.9229651894626788, 0.030765506315422627, 0.061531012630845254, 0.8878974437338409, 0.01591856958254585, 0.6367427833018339, 0.3502085308160086, 0.9015122582439676, 0.07061118311555266, 0.847334197386632, 0.2333117539534436, 0.15554116930229572, 0.602722031046396, 0.9851570760465639, 0.9612843585469377, 0.2814339706498165, 0.3548515282106382, 0.3630090346062851, 0.01590824087543392, 0.6522378758927908, 0.34998129925954624, 0.9338174022929704, 0.44977606905041223, 0.30273389263008516, 0.25083665389349913, 0.34740328630794726, 0.5842691633360931, 0.07895529234271528, 0.02920646670829658, 0.9638134013737872, 0.02920646670829658, 0.07067704526521229, 0.9188015884477598, 0.8565951255548698, 0.9617171991490231, 0.23425660436470105, 0.7261954735305732, 0.04685132087294021, 0.9611723416399438, 0.6322917878651694, 0.14877453832121634, 0.2231618074818245, 0.06361540107051829, 0.8270002139167376, 0.06361540107051829, 0.014235229033774348, 0.5551739323171996, 0.4270568710132304, 0.11967766304987432, 0.8776361956990782, 0.026623075480580502, 0.8785614908591566, 0.10649230192232201, 0.11433359316874561, 0.857501948765592, 0.9550314198113707, 0.02122292044025268, 0.02122292044025268, 0.01836457756323239, 0.9733226108513168, 0.01836457756323239, 0.9808827297649435, 0.9619881318733368, 0.9828062035686297, 0.030712693861519678, 0.1263284339409713, 0.8842990375867991, 0.9337945941265303, 0.917097062643803, 0.8651080564201163, 0.09982016035616727, 0.9192813376375019, 0.5267548795508585, 0.2562591305923096, 0.21354927549359132, 0.9828627720897791, 0.030714461627805598, 0.5293486233900367, 0.46148341526310893, 0.013573041625385557, 0.5837288941277735, 0.4134746333405062, 0.012161018627661948, 0.9693367993480976, 0.019782383660165256, 0.019782383660165256, 0.8565166486967212, 0.39462586537037275, 0.39462586537037275, 0.2109207211462337, 0.10557914043621794, 0.07038609362414529, 0.8270366000837072, 0.8816693495811526, 0.01603035181056641, 0.09618211086339848, 0.17634151019607444, 0.4030663090195987, 0.41566213117646117, 0.9650550852383744, 0.9599204008135441, 0.01782084362863015, 0.944504712317398, 0.0356416872572603, 0.18463984965612124, 0.6462394737964243, 0.16155986844910608, 0.9130769540383857], \"Term\": [\"_aslund\", \"_aslund\", \"_aslund\", \"_lt\", \"_lt\", \"advanc\", \"advanc\", \"advanc\", \"agai\", \"air\", \"air\", \"air\", \"airborn\", \"amjoy\", \"amjoy\", \"amjoy\", \"amp\", \"amp\", \"amp\", \"arm\", \"baltic\", \"baltic\", \"baltic\", \"beat\", \"beat\", \"beat\", \"biz\", \"biz\", \"bore\", \"bowl\", \"bowl\", \"bowl\", \"bring\", \"bring\", \"britain\", \"britain\", \"britain\", \"brooklyn\", \"brooklyn\", \"brooklyn\", \"busi\", \"busi\", \"calfex\", \"cancer\", \"captain\", \"captain\", \"captain\", \"cautiou\", \"challeng\", \"chirp\", \"chirp\", \"christma\", \"christma\", \"christma\", \"cia\", \"civilian\", \"cnn\", \"cnn\", \"cnn\", \"coin\", \"coin\", \"coin\", \"collector\", \"collector\", \"collector\", \"colour\", \"come\", \"come\", \"come\", \"cosponsor\", \"counterpart\", \"culinari\", \"deal\", \"deal\", \"deal\", \"decid\", \"decid\", \"decid\", \"defens\", \"defens\", \"defens\", \"disconnect\", \"disconnect\", \"don\", \"don\", \"don\", \"draft\", \"dworkinreport\", \"dworkinreport\", \"dworkinreport\", \"dynam\", \"dynam\", \"earlier\", \"eddi\", \"eddi\", \"eddi\", \"electr\", \"electr\", \"electr\", \"etsi\", \"europ\", \"europ\", \"europ\", \"europea\", \"expenditur\", \"expenditur\", \"expenditur\", \"export\", \"export\", \"extens\", \"extens\", \"extens\", \"fast\", \"fast\", \"fast\", \"featur\", \"featur\", \"featur\", \"februari\", \"final\", \"final\", \"final\", \"fine\", \"fli\", \"fli\", \"fli\", \"footbal\", \"footbal\", \"footbal\", \"ford\", \"ford\", \"ford\", \"franc\", \"franc\", \"franc\", \"free\", \"free\", \"free\", \"gar\\u0161o\", \"gdp\", \"gdp\", \"giuliani\", \"good\", \"good\", \"good\", \"griezmann\", \"happi\", \"happi\", \"happi\", \"harrison\", \"harrison\", \"harrison\", \"holiday\", \"holiday\", \"holiday\", \"http\", \"http\", \"http\", \"illeg\", \"increas\", \"increas\", \"increas\", \"incurvatur\", \"internationalmigrantday\", \"inv\", \"iveta\", \"jani\", \"jani\", \"jani\", \"japan\", \"japan\", \"japon\", \"just\", \"just\", \"just\", \"koka\", \"kremlin\", \"ladi\", \"lai\", \"last\", \"last\", \"last\", \"latvian\", \"latvian\", \"latvian\", \"letter\", \"lfc\", \"lithuania\", \"lithuania\", \"lithuania\", \"market\", \"market\", \"market\", \"monkey\", \"monkey\", \"monkey\", \"msg\", \"msg\", \"msnbc\", \"msnbc\", \"nba\", \"nba\", \"need\", \"need\", \"need\", \"network\", \"network\", \"network\", \"new\", \"new\", \"new\", \"nfl\", \"nfl\", \"nine\", \"nine\", \"nine\", \"note\", \"note\", \"note\", \"olymp\", \"olymp\", \"olymp\", \"paint\", \"paint\", \"paint\", \"patient\", \"photo\", \"photo\", \"photo\", \"play\", \"play\", \"play\", \"plight\", \"popular\", \"popular\", \"popular\", \"porcelain\", \"prescript\", \"present\", \"present\", \"present\", \"previou\", \"princess\", \"princess\", \"princess\", \"pro\", \"proof\", \"proof\", \"qualif\", \"qualif\", \"qualif\", \"rama\", \"resolut\", \"riga\", \"riga\", \"riga\", \"rozent\", \"rozent\", \"rozent\", \"rudi\", \"russia\", \"russia\", \"russia\", \"russian\", \"russian\", \"russian\", \"russianhack\", \"russianhack\", \"russianhack\", \"sabr\", \"sabr\", \"santaclau\", \"saturdayswag\", \"sex\", \"sex\", \"sex\", \"shape\", \"shop\", \"shop\", \"shop\", \"sign\", \"sign\", \"sign\", \"silver\", \"silver\", \"silver\", \"soon\", \"soon\", \"speak\", \"speak\", \"speak\", \"spend\", \"spend\", \"stanford\", \"stanford\", \"stanford\", \"startup\", \"startup\", \"startup\", \"stori\", \"strongeurop\", \"talkin\", \"talkin\", \"tech\", \"tech\", \"thelead\", \"ticker\", \"trade\", \"trade\", \"trakt\", \"travel\", \"travel\", \"travel\", \"treason\", \"treason\", \"trump\", \"trump\", \"trump\", \"trumpleak\", \"trumpleak\", \"trumpleak\", \"uruguay\", \"uruguay\", \"uruguay\", \"utd\", \"video\", \"video\", \"video\", \"watch\", \"watch\", \"watch\", \"watchcc\", \"watchcc\", \"watchcc\", \"will\", \"will\", \"will\", \"word\", \"wrote\", \"xma\", \"xma\", \"xma\", \"year\", \"year\", \"year\", \"yet\"]}, \"topic.order\": [3, 1, 2], \"plot.opts\": {\"xlab\": \"PC1\", \"ylab\": \"PC2\"}, \"R\": 30, \"mdsDat\": {\"x\": [-0.16041620376525367, 0.07488361832364394, 0.08553258544160972], \"Freq\": [36.5970883867374, 32.39425763266041, 31.00865398060219], \"y\": [0.00542916285569592, -0.12539207004522684, 0.11996290718953088], \"topics\": [1, 2, 3], \"cluster\": [1, 1, 1]}, \"tinfo\": {\"logprob\": [30.0, 29.0, 28.0, 27.0, 26.0, 25.0, 24.0, 23.0, 22.0, 21.0, 20.0, 19.0, 18.0, 17.0, 16.0, 15.0, 14.0, 13.0, 12.0, 11.0, 10.0, 9.0, 8.0, 7.0, 6.0, 5.0, 4.0, 3.0, 2.0, 1.0, -4.8246, -4.8277, -4.7948, -5.2394, -5.2395, -5.242, -4.8753, -4.8953, -4.8781, -5.485, -5.1297, -5.8963, -5.8974, -5.8986, -5.9023, -5.2364, -5.0718, -6.0682, -5.0953, -6.1951, -5.1205, -6.0181, -5.6497, -6.2736, -6.2048, -6.1403, -6.0817, -6.2763, -6.1441, -5.3914, -5.116, -4.8923, -5.2943, -4.1172, -5.0922, -4.6856, -4.8657, -5.4171, -4.9196, -4.3065, -4.3107, -5.2735, -4.8192, -4.8253, -4.7487, -4.6341, -4.4553, -5.0348, -5.0732, -5.1609, -4.592, -4.6089, -4.5963, -5.0686, -5.069, -5.8067, -4.5948, -6.199, -6.2807, -6.2013, -6.2839, -6.2845, -4.9447, -6.3796, -3.8953, -6.4803, -6.482, -6.588, -6.4835, -6.5904, -6.5906, -6.5913, -6.5916, -6.5922, -4.0827, -6.7211, -6.7225, -6.7235, -6.7248, -6.725, -3.8127, -4.5505, -5.0658, -5.2736, -5.3065, -5.9293, -4.3613, -5.2047, -5.3046, -5.2332, -6.1218, -5.7033, -5.9833, -5.1462, -4.8674, -4.8773, -4.8774, -4.8842, -4.8865, -4.8929, -4.8854, -4.8965, -5.2252, -4.9635, -4.7144, -4.1019, -4.902, -4.4461, -4.504, -4.8969, -5.0371, -5.052, -5.0065, -5.0548, -5.0604, -4.565, -5.279, -5.249, -5.2506, -5.253, -5.4542, -5.1111, -6.0671, -6.1404, -6.0088, -6.0734, -5.9487, -6.2983, -5.2565, -6.2989, -6.303, -6.0807, -6.081, -6.392, -6.3922, -6.4893, -5.295, -6.3941, -6.4897, -6.4907, -6.4911, -6.4921, -6.4926, -6.4928, -6.4933, -4.5121, -5.1123, -5.0666, -5.7924, -4.6862, -5.455, -4.3568, -5.1941, -5.8997, -4.6381, -6.0015, -5.3454, -5.0255, -5.9072, -4.9979, -5.5312, -5.053, -5.4495, -5.1945, -5.0776, -4.0395, -5.0555, -4.9692, -4.8574, -5.0209, -5.1159, -4.9739, -5.0983, -5.1676, -5.3016, -5.2964], \"Term\": [\"holiday\", \"europ\", \"market\", \"don\", \"bowl\", \"nfl\", \"startup\", \"nba\", \"xma\", \"just\", \"nine\", \"happi\", \"christma\", \"uruguay\", \"msnbc\", \"cnn\", \"stanford\", \"eddi\", \"harrison\", \"watchcc\", \"footbal\", \"watch\", \"russianhack\", \"dworkinreport\", \"ford\", \"http\", \"coin\", \"defens\", \"advanc\", \"expenditur\", \"msnbc\", \"cnn\", \"uruguay\", \"talkin\", \"treason\", \"extens\", \"stanford\", \"harrison\", \"eddi\", \"export\", \"expenditur\", \"cia\", \"giuliani\", \"rudi\", \"thelead\", \"biz\", \"defens\", \"etsi\", \"fast\", \"ladi\", \"_aslund\", \"counterpart\", \"busi\", \"challeng\", \"internationalmigrantday\", \"earlier\", \"_lt\", \"ticker\", \"europea\", \"deal\", \"increas\", \"ford\", \"present\", \"don\", \"note\", \"watchcc\", \"good\", \"trade\", \"come\", \"amp\", \"lithuania\", \"free\", \"amjoy\", \"trumpleak\", \"russia\", \"video\", \"riga\", \"trump\", \"travel\", \"shop\", \"nfl\", \"nba\", \"startup\", \"russianhack\", \"dworkinreport\", \"wrote\", \"xma\", \"inv\", \"culinari\", \"word\", \"gar\\u0161o\", \"lai\", \"footbal\", \"februari\", \"holiday\", \"japon\", \"yet\", \"cancer\", \"letter\", \"patient\", \"illeg\", \"cautiou\", \"prescript\", \"previou\", \"market\", \"utd\", \"arm\", \"lfc\", \"santaclau\", \"griezmann\", \"europ\", \"happi\", \"speak\", \"decid\", \"electr\", \"bring\", \"christma\", \"last\", \"disconnect\", \"network\", \"gdp\", \"need\", \"sign\", \"sex\", \"rozent\", \"monkey\", \"featur\", \"princess\", \"paint\", \"collector\", \"jani\", \"popular\", \"year\", \"russian\", \"new\", \"riga\", \"silver\", \"lithuania\", \"video\", \"coin\", \"trump\", \"trumpleak\", \"russia\", \"amp\", \"amjoy\", \"bowl\", \"agai\", \"rama\", \"chirp\", \"msg\", \"stori\", \"advanc\", \"strongeurop\", \"bore\", \"airborn\", \"saturdayswag\", \"trakt\", \"pro\", \"sabr\", \"koka\", \"iveta\", \"dynam\", \"calfex\", \"porcelain\", \"fine\", \"resolut\", \"photo\", \"kremlin\", \"draft\", \"incurvatur\", \"cosponsor\", \"shape\", \"civilian\", \"colour\", \"plight\", \"nine\", \"captain\", \"brooklyn\", \"spend\", \"watch\", \"soon\", \"just\", \"fli\", \"tech\", \"http\", \"proof\", \"beat\", \"play\", \"britain\", \"franc\", \"latvian\", \"olymp\", \"japan\", \"air\", \"qualif\", \"riga\", \"final\", \"coin\", \"new\", \"will\", \"silver\", \"amp\", \"video\", \"russia\", \"popular\", \"baltic\"], \"Category\": [\"Default\", \"Default\", \"Default\", \"Default\", \"Default\", \"Default\", \"Default\", \"Default\", \"Default\", \"Default\", \"Default\", \"Default\", \"Default\", \"Default\", \"Default\", \"Default\", \"Default\", \"Default\", \"Default\", \"Default\", \"Default\", \"Default\", \"Default\", \"Default\", \"Default\", \"Default\", \"Default\", \"Default\", \"Default\", \"Default\", \"Topic1\", \"Topic1\", \"Topic1\", \"Topic1\", \"Topic1\", \"Topic1\", \"Topic1\", \"Topic1\", \"Topic1\", \"Topic1\", \"Topic1\", \"Topic1\", \"Topic1\", \"Topic1\", \"Topic1\", \"Topic1\", \"Topic1\", \"Topic1\", \"Topic1\", \"Topic1\", \"Topic1\", \"Topic1\", \"Topic1\", \"Topic1\", \"Topic1\", \"Topic1\", \"Topic1\", \"Topic1\", \"Topic1\", \"Topic1\", \"Topic1\", \"Topic1\", \"Topic1\", \"Topic1\", \"Topic1\", \"Topic1\", \"Topic1\", \"Topic1\", \"Topic1\", \"Topic1\", \"Topic1\", \"Topic1\", \"Topic1\", \"Topic1\", \"Topic1\", \"Topic1\", \"Topic1\", \"Topic1\", \"Topic1\", \"Topic1\", \"Topic2\", \"Topic2\", \"Topic2\", \"Topic2\", \"Topic2\", \"Topic2\", \"Topic2\", \"Topic2\", \"Topic2\", \"Topic2\", \"Topic2\", \"Topic2\", \"Topic2\", \"Topic2\", \"Topic2\", \"Topic2\", \"Topic2\", \"Topic2\", \"Topic2\", \"Topic2\", \"Topic2\", \"Topic2\", \"Topic2\", \"Topic2\", \"Topic2\", \"Topic2\", \"Topic2\", \"Topic2\", \"Topic2\", \"Topic2\", \"Topic2\", \"Topic2\", \"Topic2\", \"Topic2\", \"Topic2\", \"Topic2\", \"Topic2\", \"Topic2\", \"Topic2\", \"Topic2\", \"Topic2\", \"Topic2\", \"Topic2\", \"Topic2\", \"Topic2\", \"Topic2\", \"Topic2\", \"Topic2\", \"Topic2\", \"Topic2\", \"Topic2\", \"Topic2\", \"Topic2\", \"Topic2\", \"Topic2\", \"Topic2\", \"Topic2\", \"Topic2\", \"Topic2\", \"Topic2\", \"Topic2\", \"Topic2\", \"Topic2\", \"Topic2\", \"Topic2\", \"Topic3\", \"Topic3\", \"Topic3\", \"Topic3\", \"Topic3\", \"Topic3\", \"Topic3\", \"Topic3\", \"Topic3\", \"Topic3\", \"Topic3\", \"Topic3\", \"Topic3\", \"Topic3\", \"Topic3\", \"Topic3\", \"Topic3\", \"Topic3\", \"Topic3\", \"Topic3\", \"Topic3\", \"Topic3\", \"Topic3\", \"Topic3\", \"Topic3\", \"Topic3\", \"Topic3\", \"Topic3\", \"Topic3\", \"Topic3\", \"Topic3\", \"Topic3\", \"Topic3\", \"Topic3\", \"Topic3\", \"Topic3\", \"Topic3\", \"Topic3\", \"Topic3\", \"Topic3\", \"Topic3\", \"Topic3\", \"Topic3\", \"Topic3\", \"Topic3\", \"Topic3\", \"Topic3\", \"Topic3\", \"Topic3\", \"Topic3\", \"Topic3\", \"Topic3\", \"Topic3\", \"Topic3\", \"Topic3\", \"Topic3\", \"Topic3\", \"Topic3\", \"Topic3\", \"Topic3\", \"Topic3\"], \"Freq\": [115.0, 129.0, 97.0, 109.0, 53.0, 54.0, 54.0, 53.0, 56.0, 81.0, 62.0, 62.0, 82.0, 50.0, 48.0, 48.0, 47.0, 47.0, 46.0, 62.0, 40.0, 56.0, 34.0, 34.0, 48.0, 64.0, 75.0, 39.0, 32.0, 36.0, 47.81087262429318, 47.66638545958748, 49.25645098867888, 31.580016218080516, 31.574045295080165, 31.49690682313561, 45.44633088742681, 44.54975888361091, 45.32075717649768, 24.70092852105028, 35.23928365793551, 16.372656528053927, 16.35398046106877, 16.333723028443284, 16.273868721352212, 31.674677162921167, 37.34094230036785, 13.786125816290399, 36.472565116364926, 12.143255221999159, 35.56471871366629, 14.494282826226746, 20.950600486358134, 11.226883659459299, 12.025882195713512, 12.827681464787434, 13.601158138989673, 11.195911215199107, 12.77859556143027, 27.124734353495654, 35.726612058057086, 44.683460690631954, 29.890677443798175, 96.99753503722822, 36.58659455457841, 54.941488598604124, 45.88757642018362, 26.436546041349168, 43.47872017474458, 80.27052665380283, 79.93136948767048, 30.519972202861958, 48.07105989815347, 47.780358959264554, 51.5838097968792, 57.8477810153091, 69.16782090377664, 38.748007672213205, 37.28871936997285, 34.15573253362964, 53.40370102158044, 52.50853032646378, 53.174070446569296, 33.15943765235822, 33.14486999408001, 15.84983863527497, 53.25602441584475, 10.707429538606133, 9.866540037578003, 10.682827196404872, 9.835500988046128, 9.829965247878032, 37.5328084759409, 8.937442632562838, 107.1892378765026, 8.08169917989036, 8.06797429742891, 7.256101788105004, 8.055460576546098, 7.2393569765960954, 7.237453881472648, 7.23255835117089, 7.230272164579545, 7.2263747398420675, 88.86825535722207, 6.351959843551662, 6.343283238689461, 6.336778221946082, 6.32845636317182, 6.327386055834671, 116.41592664854049, 55.668962643399674, 33.25216897874754, 27.010868201686566, 26.137380431033662, 14.020805475603932, 67.26269514066352, 28.938382610415676, 26.186972472132354, 28.125384389854105, 11.565978938456901, 17.57622819839254, 13.283719509214935, 30.68326175865164, 40.54920154282201, 40.1492757718739, 40.145076541492514, 39.871321824263234, 39.779881754032985, 39.5253061868008, 39.82300491199754, 39.38501769538751, 28.35150144495973, 36.83305393556553, 47.25102998340952, 87.1807835306482, 39.16751409837864, 61.791265438915076, 58.315933549103974, 39.37085431080103, 34.220570671971906, 33.71177848918332, 35.28225685033319, 33.620590471796206, 33.432486683839976, 52.51926413697658, 25.718115681600608, 26.501735395742354, 26.458053429147107, 26.394063318402083, 21.58369556098913, 30.41811211050162, 11.693819734351763, 10.867872491800975, 12.395976152082332, 11.620164873666377, 13.164254445757113, 9.279719896421327, 26.302355699010974, 9.274414650466825, 9.236888765930846, 11.5357255465522, 11.53199774451489, 8.449776433739515, 8.448535703913851, 7.6663951060153, 25.309963720953803, 8.432002655906338, 7.663673440682096, 7.655959748708371, 7.6525918364607195, 7.645211142423317, 7.641340690369255, 7.639506931093022, 7.635948523293836, 55.37095769699583, 30.382669734018798, 31.804660372130535, 15.391045808981119, 46.5263198242751, 21.56703477672217, 64.67506233612197, 27.995391995033167, 13.825017542385853, 48.81818224936545, 12.486304594249011, 24.065906241692144, 33.13871161141986, 13.721709511831602, 34.065315914925726, 19.984736490433068, 32.238268411902794, 21.686082250073905, 27.984866104558872, 31.456952841218055, 88.8243568846461, 32.159272625178275, 35.05691947937034, 39.20577203124068, 33.289420712464064, 30.27222811319217, 34.89257292735313, 30.810939379176247, 28.7470207937997, 25.14328793276192, 25.275038352011155], \"Total\": [115.0, 129.0, 97.0, 109.0, 53.0, 54.0, 54.0, 53.0, 56.0, 81.0, 62.0, 62.0, 82.0, 50.0, 48.0, 48.0, 47.0, 47.0, 46.0, 62.0, 40.0, 56.0, 34.0, 34.0, 48.0, 64.0, 75.0, 39.0, 32.0, 36.0, 48.838508471600996, 48.839061128668874, 50.55002557723351, 32.55982703793081, 32.557953061912265, 32.557560493908795, 47.118868622027115, 46.272463815038805, 47.11749107408981, 25.700445786722558, 36.84432298649358, 17.135177806937758, 17.134743215242498, 17.133970689250717, 17.134389190768843, 33.43477089398797, 39.43569571391286, 14.56370129674353, 38.57679789297515, 12.850492273828385, 37.71759207851748, 15.417826947114534, 22.286344754414724, 11.994996519773965, 12.848785287995016, 13.705630403771403, 14.563804213820152, 11.994368369569578, 13.705676566534388, 29.151499352958496, 38.54955489293279, 48.897383273083875, 32.50393443057701, 109.63737655538785, 40.191012248978, 62.38166272438573, 55.033276708960585, 30.054049094849493, 54.02541264760866, 148.78369005295218, 157.83314093847565, 42.005608342768305, 82.22346939797843, 82.2299538071062, 115.61308744101208, 146.97465394358932, 245.1729613190709, 73.67545371184212, 70.2413996269922, 53.77264208158623, 54.4615375609276, 53.58200564231785, 54.45265465850376, 34.23899268568263, 34.23885991515257, 16.668048711580468, 56.11406624955992, 11.399350495223526, 10.521168815094002, 11.398313078970963, 10.520315484694523, 10.519586798003832, 40.29375461282925, 9.64056897995213, 115.79070440724117, 8.762637849910208, 8.76158352767239, 7.885161067512275, 8.761247625630222, 7.884420198588116, 7.884323490713152, 7.88419856313351, 7.884060486527093, 7.883793392357534, 97.25254254377865, 7.005117774569381, 7.004938287506503, 7.0040816670928345, 7.004476001557244, 7.003825152917984, 129.42438047025064, 62.11583919497748, 37.56140047491596, 30.65665398979033, 29.775663061121836, 15.764357550012196, 82.91746537064043, 34.0010761384949, 30.636676209891753, 33.25438553005543, 13.134120426547272, 21.76880939685075, 15.719463890379162, 42.688230827556765, 62.86050153692581, 62.84097061012119, 62.83301960523893, 62.819714724648684, 62.81801821154859, 62.80130566285874, 64.53277551571519, 65.28307856860452, 43.32759160549274, 63.3269772252489, 91.57745365393987, 245.1729613190709, 70.24825505985264, 157.83314093847565, 146.97465394358932, 75.23553271318218, 73.67545371184212, 82.2299538071062, 115.61308744101208, 148.78369005295218, 82.22346939797843, 53.97019972526238, 26.57544649575133, 27.40679700373368, 27.40986951065895, 27.41318986716756, 22.428776990774452, 32.44187681984256, 12.474166366929794, 11.644660261208319, 13.309550878374882, 12.477680559959017, 14.141481467914081, 9.983225316903473, 28.297730790741095, 9.983188814756847, 9.984854851995411, 12.480567026431302, 12.482115496980208, 9.153502766234554, 9.153596215580883, 8.322199283563371, 27.477025739603373, 9.154660572747805, 8.32239814434494, 8.322602760312098, 8.322777829297825, 8.323169168965547, 8.323250708046803, 8.323642675744033, 8.323739100151254, 62.5398388522365, 34.17955831760882, 37.56500862088401, 17.492671616190602, 56.82940754404699, 25.067334400988294, 81.88779053823072, 34.34568019276848, 15.831748543123139, 64.66037748877562, 14.162062663127113, 30.146485926091156, 44.520972266860355, 15.856661759887494, 51.26556809540786, 25.997073348650858, 50.44289794197355, 29.454147389548616, 42.788093377046, 51.43332813997254, 245.1729613190709, 60.049754161705806, 75.23553271318218, 91.57745365393987, 79.39140355797892, 70.24825505985264, 148.78369005295218, 146.97465394358932, 115.61308744101208, 65.28307856860452, 84.81449245880479], \"loglift\": [30.0, 29.0, 28.0, 27.0, 26.0, 25.0, 24.0, 23.0, 22.0, 21.0, 20.0, 19.0, 18.0, 17.0, 16.0, 15.0, 14.0, 13.0, 12.0, 11.0, 10.0, 9.0, 8.0, 7.0, 6.0, 5.0, 4.0, 3.0, 2.0, 1.0, 0.9839, 0.9809, 0.9793, 0.9746, 0.9745, 0.9721, 0.9691, 0.9673, 0.9663, 0.9655, 0.9607, 0.9597, 0.9586, 0.9574, 0.9537, 0.9511, 0.9506, 0.9503, 0.9491, 0.9486, 0.9464, 0.9434, 0.9434, 0.939, 0.939, 0.939, 0.9368, 0.9363, 0.9352, 0.9331, 0.9292, 0.9151, 0.9214, 0.8827, 0.9112, 0.8782, 0.8235, 0.877, 0.788, 0.3881, 0.3248, 0.6858, 0.4684, 0.4623, 0.1982, 0.0728, -0.2602, 0.3626, 0.372, 0.5514, 1.1076, 1.107, 1.1034, 1.0952, 1.0947, 1.0769, 1.0749, 1.0646, 1.0629, 1.0624, 1.0599, 1.0594, 1.0562, 1.0515, 1.05, 1.0463, 1.0447, 1.044, 1.0432, 1.0418, 1.0416, 1.0409, 1.0406, 1.0401, 1.037, 1.0293, 1.028, 1.0271, 1.0257, 1.0256, 1.0213, 1.0176, 1.0053, 1.0006, 0.9969, 1.01, 0.9179, 0.966, 0.9703, 0.9597, 1.0, 0.9133, 0.9588, 0.797, 0.6888, 0.6792, 0.6792, 0.6726, 0.6703, 0.6642, 0.6445, 0.6218, 0.7031, 0.5853, 0.4655, 0.0932, 0.543, 0.1894, 0.2028, 0.4796, 0.3603, 0.2355, -0.0597, -0.3602, 0.2273, 1.1437, 1.1381, 1.1373, 1.1356, 1.133, 1.1325, 1.1065, 1.1063, 1.1019, 1.0998, 1.0997, 1.0993, 1.0978, 1.0978, 1.0973, 1.093, 1.0922, 1.0917, 1.0909, 1.0908, 1.0888, 1.0888, 1.0887, 1.0884, 1.0874, 1.087, 1.0859, 1.0854, 1.0851, 1.0847, 1.0492, 1.0531, 1.0044, 1.0429, 0.9709, 1.0205, 0.9349, 0.9665, 1.0354, 0.8899, 1.045, 0.9456, 0.8756, 1.0263, 0.7622, 0.9079, 0.7232, 0.8647, 0.7463, 0.6792, 0.1556, 0.5464, 0.4073, 0.3225, 0.3018, 0.3291, -0.2793, -0.3915, -0.2208, 0.2168, -0.0397]}, \"lambda.step\": 0.01};\n",
       "\n",
       "function LDAvis_load_lib(url, callback){\n",
       "  var s = document.createElement('script');\n",
       "  s.src = url;\n",
       "  s.async = true;\n",
       "  s.onreadystatechange = s.onload = callback;\n",
       "  s.onerror = function(){console.warn(\"failed to load library \" + url);};\n",
       "  document.getElementsByTagName(\"head\")[0].appendChild(s);\n",
       "}\n",
       "\n",
       "if(typeof(LDAvis) !== \"undefined\"){\n",
       "   // already loaded: just create the visualization\n",
       "   !function(LDAvis){\n",
       "       new LDAvis(\"#\" + \"ldavis_el112415731541501045924007274\", ldavis_el112415731541501045924007274_data);\n",
       "   }(LDAvis);\n",
       "}else if(typeof define === \"function\" && define.amd){\n",
       "   // require.js is available: use it to load d3/LDAvis\n",
       "   require.config({paths: {d3: \"https://cdnjs.cloudflare.com/ajax/libs/d3/3.5.5/d3.min\"}});\n",
       "   require([\"d3\"], function(d3){\n",
       "      window.d3 = d3;\n",
       "      LDAvis_load_lib(\"https://cdn.rawgit.com/bmabey/pyLDAvis/files/ldavis.v1.0.0.js\", function(){\n",
       "        new LDAvis(\"#\" + \"ldavis_el112415731541501045924007274\", ldavis_el112415731541501045924007274_data);\n",
       "      });\n",
       "    });\n",
       "}else{\n",
       "    // require.js not available: dynamically load d3 & LDAvis\n",
       "    LDAvis_load_lib(\"https://cdnjs.cloudflare.com/ajax/libs/d3/3.5.5/d3.min.js\", function(){\n",
       "         LDAvis_load_lib(\"https://cdn.rawgit.com/bmabey/pyLDAvis/files/ldavis.v1.0.0.js\", function(){\n",
       "                 new LDAvis(\"#\" + \"ldavis_el112415731541501045924007274\", ldavis_el112415731541501045924007274_data);\n",
       "            })\n",
       "         });\n",
       "}\n",
       "</script>"
      ],
      "text/plain": [
       "<IPython.core.display.HTML object>"
      ]
     },
     "execution_count": 74,
     "metadata": {},
     "output_type": "execute_result"
    }
   ],
   "source": [
    "latldavis=pyLDAvis.gensim.prepare(latmudel, latcorpus, latdictionary) \n",
    "pyLDAvis.display(latldavis)"
   ]
  },
  {
   "cell_type": "markdown",
   "metadata": {
    "collapsed": true
   },
   "source": [
    "## Teine variant "
   ]
  },
  {
   "cell_type": "markdown",
   "metadata": {},
   "source": [
    "Proovime paketti sklearn teemade mudeldamiseks. Esmalt viime andmed sobivasse formaati."
   ]
  },
  {
   "cell_type": "code",
   "execution_count": 15,
   "metadata": {
    "collapsed": true
   },
   "outputs": [],
   "source": [
    "estdict=sonede_dict(eststem)\n",
    "latdict=sonede_dict(latstem)"
   ]
  },
  {
   "cell_type": "code",
   "execution_count": 18,
   "metadata": {
    "collapsed": false
   },
   "outputs": [],
   "source": [
    "from sklearn.feature_extraction.text import CountVectorizer\n",
    "#teeb dokumendi-sõna maatriksi\n",
    "tfest = CountVectorizer(stop_words='english')\n",
    "tflat = CountVectorizer(stop_words='english')\n",
    "tfsest = tfest.fit_transform(estdict.values())\n",
    "tfslat = tflat.fit_transform(latdict.values())"
   ]
  },
  {
   "cell_type": "code",
   "execution_count": 20,
   "metadata": {
    "collapsed": true
   },
   "outputs": [],
   "source": [
    "#Mudeli ehitamine\n",
    "from sklearn.decomposition import LatentDirichletAllocation\n",
    "import pyLDAvis.sklearn\n",
    "lda_est = LatentDirichletAllocation(n_topics=3, random_state=1)\n",
    "lda_est.fit_transform(tfsest)\n",
    "#mudeli paramteerid\n",
    "lda_est.get_params()\n",
    "#töötab, sõna doku jagunemine\n",
    "doc_topic_distrib_est = lda_est.transform(tfsest)"
   ]
  },
  {
   "cell_type": "code",
   "execution_count": 26,
   "metadata": {
    "collapsed": true
   },
   "outputs": [],
   "source": [
    "#sama Läti mudeliga\n",
    "lda_lat = LatentDirichletAllocation(n_topics=3, random_state=1)\n",
    "lda_lat.fit_transform(tfslat)\n",
    "#mudeli paramteerid\n",
    "lda_lat.get_params()"
   ]
  },
  {
   "cell_type": "markdown",
   "metadata": {},
   "source": [
    "Vaatame teemade top sõnu."
   ]
  },
  {
   "cell_type": "code",
   "execution_count": 86,
   "metadata": {
    "collapsed": false
   },
   "outputs": [
    {
     "name": "stdout",
     "output_type": "stream",
     "text": [
      "Teema #0:\n",
      "baltic javier world fernandez latvia russia russian hand lithuania countri\n",
      "Teema #1:\n",
      "amp tallinn nato poland usa spend greec target member defens\n",
      "Teema #2:\n",
      "end help farm good tallinn fur sign plz news christma\n",
      "\n"
     ]
    }
   ],
   "source": [
    "tf_feature_names = tfest.get_feature_names()\n",
    "print_top_sonad(lda_est, tf_feature_names, 10)\n",
    "teemad_est=['Balti','Nato','Karusnahk']"
   ]
  },
  {
   "cell_type": "markdown",
   "metadata": {},
   "source": [
    "Esimene teema tundub olevat seotud lähinaabritega teine NATOga ja kolmas karusnahaga."
   ]
  },
  {
   "cell_type": "code",
   "execution_count": 87,
   "metadata": {
    "collapsed": false
   },
   "outputs": [
    {
     "name": "stdout",
     "output_type": "stream",
     "text": [
      "Teema #0:\n",
      "unifil dive border normal toner femal smartcountri easili grow saw\n",
      "Teema #1:\n",
      "tree reunion recommend andrey telenetucicxwc andrew teddybear snow ezi reunit\n",
      "Teema #2:\n",
      "recommend enjoy leav museum hay concentr classi scrap photographi instal\n",
      "\n"
     ]
    }
   ],
   "source": [
    "print_top_sonad(lda_lat, tf_feature_names, 10)\n",
    "teemad_lat=['riik','puhkus','vaba aeg']"
   ]
  },
  {
   "cell_type": "markdown",
   "metadata": {},
   "source": [
    "Esimene teema tundub olevat seotud riigiga, teine talvepuhkusega, kolmas vaba aja veetmisega."
   ]
  },
  {
   "cell_type": "code",
   "execution_count": 28,
   "metadata": {
    "collapsed": true
   },
   "outputs": [],
   "source": [
    "ldavis_est=pyLDAvis.sklearn.prepare(lda_est, tfsest, tfest)"
   ]
  },
  {
   "cell_type": "code",
   "execution_count": 29,
   "metadata": {
    "collapsed": false
   },
   "outputs": [
    {
     "data": {
      "text/html": [
       "\n",
       "<link rel=\"stylesheet\" type=\"text/css\" href=\"https://cdn.rawgit.com/bmabey/pyLDAvis/files/ldavis.v1.0.0.css\">\n",
       "\n",
       "\n",
       "<div id=\"ldavis_el112415731242220727722557731\"></div>\n",
       "<script type=\"text/javascript\">\n",
       "\n",
       "var ldavis_el112415731242220727722557731_data = {\"token.table\": {\"Topic\": [3, 1, 1, 1, 2, 3, 2, 1, 1, 3, 1, 3, 3, 2, 2, 2, 2, 3, 2, 1, 2, 3, 1, 2, 2, 1, 3, 2, 1, 1, 3, 3, 3, 1, 2, 2, 3, 2, 1, 1, 2, 3, 2, 2, 2, 2, 3, 3, 3, 1, 2, 2, 3, 2, 1, 1, 3, 3, 3, 2, 1, 2, 3, 1, 2, 3, 1, 2, 3, 1, 2, 3, 2, 1, 3, 2, 3, 1, 2, 3, 1, 1, 1, 2, 2, 1, 3, 3, 3, 2, 3, 2, 3, 2, 1, 2, 3, 1, 3, 1, 3, 1, 1, 2, 3, 1, 3, 3, 3, 2, 2, 1, 3, 2, 1, 1, 3, 1, 1, 3, 2, 1, 2, 3, 3, 2, 3, 1, 1, 3, 2, 1, 3, 3, 2, 1, 1, 2], \"Freq\": [0.9887234695239995, 0.9792266447383771, 0.9852707223176063, 0.18786398869130086, 0.16968360268891688, 0.6423736387508997, 0.9744248149988822, 0.997680207780598, 0.9912314575654814, 0.9302977555944612, 0.9664459995884973, 0.031175677406080557, 0.967816201962706, 0.9705544749142297, 0.96741314661163, 0.9790061209717463, 0.995925911803787, 0.9758049314903153, 0.9798548231672616, 0.7681819823638287, 0.2072872015902395, 0.024386729598851707, 0.9778061468387851, 0.9743830323941745, 0.9780122493504538, 0.9919626488962838, 0.9844346317066283, 0.9507932891900103, 0.9919619701963138, 0.8326455082310128, 0.15491079222902565, 0.9543136265848329, 0.963436926106334, 0.9919636521556335, 0.9979305660402334, 0.4405585246503191, 0.5506981558128988, 0.9882024063260295, 0.9895434489683727, 0.5281713809758818, 0.1232399888943724, 0.35211425398392115, 0.996335853457202, 0.9553911383555299, 0.9886826610148648, 0.13955601151214553, 0.8652472713753022, 0.9428207852701609, 0.9709583571389572, 0.9914254891751392, 0.9752272355619185, 0.9929350056743113, 0.9642919676846884, 0.9504433438608351, 0.9939382282462409, 0.9827493715215185, 0.9786670689235094, 0.9709592990805458, 0.9548714935603956, 0.9639483288294363, 0.9476535109743239, 0.045670048721654165, 0.9716413467344991, 0.23971182761913012, 0.029963978452391266, 0.7490994613097817, 0.8173783117569243, 0.17605071330149138, 0.9709651915679022, 0.9877629733143083, 0.6542262267034326, 0.3370256319381319, 0.9657877772032414, 0.9776203939057432, 0.9950678550006888, 0.9926525403219891, 0.9687474132157211, 0.9971782891345607, 0.3103382647702323, 0.6877766948961905, 0.9635777688771601, 0.977620570112782, 0.9806414463403058, 0.9934298325835504, 0.9739222767573105, 0.43564427364873587, 0.5445553420609198, 0.9945504059202547, 0.9804149408208562, 0.9889333872161296, 0.9908928430938606, 0.9716598772850012, 0.9508209648902911, 0.980719458979668, 0.43676315320436304, 0.551700825100248, 0.9910335423234728, 0.9711142591316352, 0.968747539552444, 0.8849123748206777, 0.1172775436509332, 0.9978083719601997, 0.9144763531993164, 0.08849771159993385, 0.9480124310398509, 0.9893317411923797, 0.9687487516407849, 0.9942785372796946, 0.995956742797416, 0.9987347541060685, 0.9879996317682336, 0.9784133982375744, 0.9975127083438063, 0.9751356882878119, 0.9907737591308957, 0.16384314986704857, 0.8192157493352429, 0.9941863576274, 0.9810588809898504, 0.965878174574303, 0.9749633611779875, 0.9907739727285281, 0.45645616997877225, 0.5399542498529379, 0.9891029322865836, 0.3813970335316346, 0.6038786364250882, 0.9875784853772208, 0.9880855891037407, 0.9802597928580429, 0.9937759267732468, 0.23633812465306414, 0.7519849420779313, 0.9942791433446678, 0.9913027498674098, 0.9968536079752982, 0.9938952388343467, 0.9719774826316727], \"Term\": [\"_org\", \"abus\", \"affair\", \"amp\", \"amp\", \"amp\", \"armi\", \"attack\", \"baltic\", \"belgium\", \"bring\", \"bring\", \"busi\", \"christma\", \"citi\", \"citizen\", \"complet\", \"consid\", \"construct\", \"countri\", \"countri\", \"countri\", \"cyber\", \"day\", \"deal\", \"decid\", \"defens\", \"deter\", \"disconnect\", \"don\", \"don\", \"drive\", \"dutch\", \"electr\", \"end\", \"estonian\", \"estonian\", \"farm\", \"fernandez\", \"finland\", \"finland\", \"finland\", \"fur\", \"gear\", \"good\", \"greec\", \"greec\", \"group\", \"hamburg\", \"hand\", \"happi\", \"help\", \"includ\", \"itun\", \"javier\", \"joke\", \"just\", \"khlexpans\", \"know\", \"lanka\", \"latvia\", \"latvia\", \"let\", \"like\", \"like\", \"like\", \"lithuania\", \"lithuania\", \"live\", \"lo\", \"love\", \"love\", \"mark\", \"meddl\", \"member\", \"militari\", \"minibus\", \"nation\", \"nato\", \"nato\", \"network\", \"neutral\", \"new\", \"news\", \"number\", \"old\", \"old\", \"onlin\", \"play\", \"plz\", \"poland\", \"presenc\", \"presid\", \"project\", \"putin\", \"putin\", \"resid\", \"right\", \"roam\", \"russia\", \"russia\", \"russian\", \"say\", \"say\", \"season\", \"secur\", \"self\", \"set\", \"shop\", \"sign\", \"song\", \"soviet\", \"spend\", \"sri\", \"stand\", \"start\", \"start\", \"state\", \"step\", \"street\", \"support\", \"tall\", \"tallinn\", \"tallinn\", \"target\", \"time\", \"time\", \"tini\", \"total\", \"town\", \"travel\", \"ukrain\", \"ukrain\", \"usa\", \"war\", \"watch\", \"world\", \"yesterday\"]}, \"topic.order\": [1, 3, 2], \"plot.opts\": {\"xlab\": \"PC1\", \"ylab\": \"PC2\"}, \"R\": 30, \"mdsDat\": {\"x\": [-0.2540377480149179, 0.17798058325028712, 0.07605716476463065], \"Freq\": [34.727218344192046, 33.82153293222739, 31.451248723580566], \"y\": [-0.050985600189288556, -0.1651248309520213, 0.21611043114130976], \"topics\": [1, 2, 3], \"cluster\": [1, 1, 1]}, \"tinfo\": {\"logprob\": [30.0, 29.0, 28.0, 27.0, 26.0, 25.0, 24.0, 23.0, 22.0, 21.0, 20.0, 19.0, 18.0, 17.0, 16.0, 15.0, 14.0, 13.0, 12.0, 11.0, 10.0, 9.0, 8.0, 7.0, 6.0, 5.0, 4.0, 3.0, 2.0, 1.0, -3.9745, -3.8994, -4.0606, -4.0195, -4.1177, -4.2023, -4.4073, -4.4363, -4.5549, -4.574, -4.7073, -4.6504, -4.7807, -4.89, -4.9203, -4.9981, -5.0101, -5.0069, -5.0361, -5.0361, -5.0482, -5.1576, -5.1827, -5.193, -5.2228, -5.2228, -5.2241, -5.2241, -5.2241, -5.1385, -4.088, -4.092, -5.0776, -4.3301, -4.3641, -4.7346, -5.0724, -5.1136, -5.0839, -3.9522, -4.0569, -4.0773, -4.0498, -4.0575, -4.143, -4.1731, -4.6152, -4.7769, -4.782, -4.9422, -4.9356, -4.9893, -4.7553, -5.0101, -5.1857, -5.1869, -5.0153, -5.2197, -5.2199, -5.2588, -5.2971, -5.3344, -5.2505, -5.349, -5.5054, -5.5394, -5.5751, -5.6291, -5.4174, -5.6151, -5.592, -4.0753, -4.9896, -4.8649, -5.3153, -5.1359, -4.0758, -4.2062, -4.2714, -4.3121, -4.3181, -4.3243, -4.3813, -4.5862, -4.6559, -4.9721, -5.3077, -5.3369, -5.2787, -5.371, -5.3444, -5.4608, -5.4608, -5.4608, -5.5157, -5.5794, -5.3219, -5.6007, -5.6825, -5.6213, -5.7131, -5.6154, -5.6283, -5.7719, -5.779, -5.779, -4.2838, -5.7069, -5.7416, -4.0048, -3.7448, -4.8553, -3.8287, -5.208, -5.4176, -5.181, -5.4161, -5.4731, -5.4281], \"Term\": [\"baltic\", \"end\", \"javier\", \"world\", \"help\", \"farm\", \"good\", \"fernandez\", \"fur\", \"poland\", \"russian\", \"sign\", \"plz\", \"tallinn\", \"hand\", \"usa\", \"latvia\", \"spend\", \"target\", \"member\", \"defens\", \"russia\", \"_org\", \"nato\", \"affair\", \"watch\", \"greec\", \"total\", \"lo\", \"onlin\", \"javier\", \"baltic\", \"fernandez\", \"world\", \"russian\", \"hand\", \"affair\", \"watch\", \"total\", \"lo\", \"state\", \"new\", \"nation\", \"soviet\", \"step\", \"right\", \"joke\", \"abus\", \"neutral\", \"meddl\", \"secur\", \"network\", \"tini\", \"attack\", \"tall\", \"stand\", \"electr\", \"decid\", \"disconnect\", \"cyber\", \"latvia\", \"russia\", \"bring\", \"lithuania\", \"countri\", \"don\", \"say\", \"finland\", \"amp\", \"end\", \"farm\", \"fur\", \"help\", \"good\", \"sign\", \"plz\", \"news\", \"complet\", \"day\", \"yesterday\", \"travel\", \"song\", \"christma\", \"support\", \"construct\", \"project\", \"citizen\", \"happi\", \"sri\", \"armi\", \"presenc\", \"mark\", \"lanka\", \"deal\", \"war\", \"number\", \"gear\", \"deter\", \"itun\", \"militari\", \"citi\", \"tallinn\", \"love\", \"nato\", \"putin\", \"amp\", \"poland\", \"usa\", \"spend\", \"target\", \"member\", \"defens\", \"_org\", \"onlin\", \"shop\", \"just\", \"street\", \"set\", \"town\", \"play\", \"drive\", \"self\", \"minibus\", \"roam\", \"busi\", \"let\", \"live\", \"resid\", \"season\", \"presid\", \"consid\", \"group\", \"know\", \"includ\", \"hamburg\", \"khlexpans\", \"greec\", \"dutch\", \"belgium\", \"nato\", \"amp\", \"ukrain\", \"tallinn\", \"like\", \"start\", \"old\", \"estonian\", \"time\", \"finland\"], \"Category\": [\"Default\", \"Default\", \"Default\", \"Default\", \"Default\", \"Default\", \"Default\", \"Default\", \"Default\", \"Default\", \"Default\", \"Default\", \"Default\", \"Default\", \"Default\", \"Default\", \"Default\", \"Default\", \"Default\", \"Default\", \"Default\", \"Default\", \"Default\", \"Default\", \"Default\", \"Default\", \"Default\", \"Default\", \"Default\", \"Default\", \"Topic1\", \"Topic1\", \"Topic1\", \"Topic1\", \"Topic1\", \"Topic1\", \"Topic1\", \"Topic1\", \"Topic1\", \"Topic1\", \"Topic1\", \"Topic1\", \"Topic1\", \"Topic1\", \"Topic1\", \"Topic1\", \"Topic1\", \"Topic1\", \"Topic1\", \"Topic1\", \"Topic1\", \"Topic1\", \"Topic1\", \"Topic1\", \"Topic1\", \"Topic1\", \"Topic1\", \"Topic1\", \"Topic1\", \"Topic1\", \"Topic1\", \"Topic1\", \"Topic1\", \"Topic1\", \"Topic1\", \"Topic1\", \"Topic1\", \"Topic1\", \"Topic1\", \"Topic2\", \"Topic2\", \"Topic2\", \"Topic2\", \"Topic2\", \"Topic2\", \"Topic2\", \"Topic2\", \"Topic2\", \"Topic2\", \"Topic2\", \"Topic2\", \"Topic2\", \"Topic2\", \"Topic2\", \"Topic2\", \"Topic2\", \"Topic2\", \"Topic2\", \"Topic2\", \"Topic2\", \"Topic2\", \"Topic2\", \"Topic2\", \"Topic2\", \"Topic2\", \"Topic2\", \"Topic2\", \"Topic2\", \"Topic2\", \"Topic2\", \"Topic2\", \"Topic2\", \"Topic2\", \"Topic2\", \"Topic2\", \"Topic2\", \"Topic3\", \"Topic3\", \"Topic3\", \"Topic3\", \"Topic3\", \"Topic3\", \"Topic3\", \"Topic3\", \"Topic3\", \"Topic3\", \"Topic3\", \"Topic3\", \"Topic3\", \"Topic3\", \"Topic3\", \"Topic3\", \"Topic3\", \"Topic3\", \"Topic3\", \"Topic3\", \"Topic3\", \"Topic3\", \"Topic3\", \"Topic3\", \"Topic3\", \"Topic3\", \"Topic3\", \"Topic3\", \"Topic3\", \"Topic3\", \"Topic3\", \"Topic3\", \"Topic3\", \"Topic3\", \"Topic3\", \"Topic3\", \"Topic3\", \"Topic3\", \"Topic3\", \"Topic3\", \"Topic3\", \"Topic3\", \"Topic3\"], \"Freq\": [100.0, 93.0, 93.0, 89.0, 84.0, 83.0, 83.0, 85.0, 82.0, 76.0, 81.0, 77.0, 74.0, 179.0, 74.0, 67.0, 87.0, 63.0, 60.0, 60.0, 59.0, 93.0, 56.0, 119.0, 60.0, 59.0, 71.0, 52.0, 51.0, 46.0, 93.0077062119615, 100.26633839912859, 85.33877997635082, 88.92029116686761, 80.59866936982799, 74.0611900668355, 60.33551543794543, 58.608808261376026, 52.05555182079271, 51.0706108416924, 44.69607779513817, 47.31634816615446, 41.53333818698792, 37.235471639937536, 36.12373504450729, 33.4201316039338, 33.02007732854652, 33.125538908353164, 32.17343124199539, 32.17341187353001, 31.78416955585483, 28.491345948590773, 27.784987363839576, 27.500380822636057, 26.692325624637107, 26.692330075585588, 26.65970390974126, 26.659705170823283, 26.659713573824405, 29.040902649382954, 83.02902950467328, 82.69585604777397, 30.863791580179885, 65.178163028236, 62.995899836143494, 43.49314190966648, 31.027115485003897, 29.772035745074874, 30.671113331146124, 92.63070289155881, 83.4227174985424, 81.73940436047873, 84.01348580800885, 83.36614526317724, 76.53535334077941, 74.26590640542241, 47.73042517746017, 40.60486831580498, 40.397733778232684, 34.41692765179304, 34.64510959637697, 32.8334610548839, 41.490475469176594, 32.15927424664271, 26.980263100075973, 26.94807291581317, 31.993027837375646, 26.077874292870217, 26.071795937166353, 25.077752842794933, 24.136730941005553, 23.252346522082807, 25.28759734078689, 22.91405827035613, 19.59673064569752, 18.94289981573227, 18.277945798785517, 17.317736451121107, 21.399168730680216, 17.560368256720245, 17.97226471241524, 81.90204288979427, 32.82651759893193, 37.18355972194341, 23.701209013449493, 28.35826588642163, 76.12231343593628, 66.81828725012275, 62.597003568453225, 60.10390582318753, 59.73934350483573, 59.374993919034516, 56.08220093953183, 45.691073864639755, 42.614396369530745, 31.063197628459648, 22.206904712379618, 21.56815672195278, 22.860797270423863, 20.845538168751407, 21.408181698281062, 19.05590075792824, 19.055895391086196, 19.05586817768875, 18.036740440789046, 16.923245941203522, 21.894743433106715, 16.566538933779935, 15.265342783570201, 16.229657469612174, 14.806452941491749, 16.325321010448015, 16.116690772082066, 13.961094428404262, 13.86144114897523, 13.861425762352553, 61.828254023985814, 14.897687677729754, 14.389780546944417, 81.72280780122846, 105.98361883465275, 34.91297545177748, 97.45580137569337, 24.536580076112468, 19.895320088398407, 25.206212026152052, 19.92597718227389, 18.821405179626797, 19.689332881718332], \"Total\": [100.0, 93.0, 93.0, 89.0, 84.0, 83.0, 83.0, 85.0, 82.0, 76.0, 81.0, 77.0, 74.0, 179.0, 74.0, 67.0, 87.0, 63.0, 60.0, 60.0, 59.0, 93.0, 56.0, 119.0, 60.0, 59.0, 71.0, 52.0, 51.0, 46.0, 93.56718290642095, 100.88461099247745, 85.89819890032614, 89.5466609784552, 81.17791178768633, 74.64000150083655, 60.89696835694539, 59.18622306020886, 52.62701993980851, 51.63181995866501, 45.2631437303076, 47.9278131425111, 42.11884720880887, 37.8163259688067, 36.695045218567714, 33.98158320680865, 33.57926339745049, 33.70006338912143, 32.73253548286976, 32.7325413826067, 32.34506553022589, 29.058370693449994, 28.352176980956575, 28.065105212709142, 27.251422365934513, 27.251428240978377, 27.218739256550755, 27.21876678526333, 27.218785408332312, 29.658230410757838, 87.58475438418846, 93.79459747844464, 32.0762877731394, 79.52254062171642, 82.01181679130003, 51.64262531284789, 33.899181637169505, 56.79974546248637, 165.0129980522205, 93.19285646197005, 83.9908903972214, 82.30156499484272, 84.59768214431601, 83.9500916449794, 77.09754735522338, 74.82809353652395, 48.317453760342005, 41.16772092588916, 41.05161796764386, 34.980234221006306, 35.219206922876154, 33.400822165226465, 42.24389362959072, 32.821746205248566, 27.555102410707928, 27.530808890129055, 32.68621034589375, 26.660453125080124, 26.662956050405658, 25.656161065673064, 24.70000106113311, 23.81475572884565, 25.935000095242213, 23.517087863956135, 20.175471118863605, 19.508743616852875, 18.840451075339214, 17.879806466116793, 22.09495193547785, 18.133233199767258, 18.606321469834374, 179.6448495894216, 50.44126733696238, 119.22474345016396, 43.501838148672384, 165.0129980522205, 76.69850532243781, 67.38550280217875, 63.15709010324327, 60.66102732229646, 60.297395497675346, 59.932877308183336, 56.638687890113545, 46.25205492469367, 43.17456587444027, 31.675736299269406, 22.777199629442073, 22.12659649698474, 23.463167792429047, 21.419502218537865, 22.005344380496723, 19.612928499592286, 19.61295559688795, 19.612953039114707, 18.59857270781009, 17.496167754834385, 22.657866822676393, 17.153808901506594, 15.822577330074543, 16.827563327704006, 15.371924773008663, 16.970351364724394, 16.756181442113604, 14.518424366444405, 14.418744014164155, 14.418730026333094, 71.65581684118067, 15.569260003995797, 15.048945260599911, 119.22474345016396, 165.0129980522205, 46.54348517044215, 179.6448495894216, 33.37340539037116, 24.413593142257227, 45.90901616240729, 36.31753582046687, 31.46327565498663, 56.79974546248637], \"loglift\": [30.0, 29.0, 28.0, 27.0, 26.0, 25.0, 24.0, 23.0, 22.0, 21.0, 20.0, 19.0, 18.0, 17.0, 16.0, 15.0, 14.0, 13.0, 12.0, 11.0, 10.0, 9.0, 8.0, 7.0, 6.0, 5.0, 4.0, 3.0, 2.0, 1.0, 1.0516, 1.0515, 1.0511, 1.0506, 1.0505, 1.0499, 1.0484, 1.0478, 1.0467, 1.0467, 1.045, 1.0448, 1.0436, 1.0422, 1.042, 1.041, 1.0409, 1.0405, 1.0404, 1.0404, 1.0402, 1.0379, 1.0374, 1.0373, 1.0369, 1.0369, 1.0369, 1.0369, 1.0369, 1.0366, 1.0042, 0.9317, 1.0191, 0.8587, 0.7939, 0.8859, 0.9691, 0.4117, -0.6251, 1.078, 1.0773, 1.0772, 1.0771, 1.0771, 1.0768, 1.0765, 1.0718, 1.0703, 1.068, 1.0678, 1.0676, 1.0669, 1.0661, 1.0637, 1.063, 1.0627, 1.0626, 1.062, 1.0617, 1.0613, 1.061, 1.0602, 1.0588, 1.0581, 1.055, 1.0546, 1.0538, 1.0521, 1.0521, 1.052, 1.0494, 0.2986, 0.6545, -0.0811, 0.4768, -0.677, 1.1492, 1.1483, 1.1478, 1.1475, 1.1474, 1.1474, 1.1469, 1.1445, 1.1437, 1.1372, 1.1314, 1.1312, 1.1307, 1.1296, 1.1292, 1.1279, 1.1279, 1.1279, 1.1261, 1.1234, 1.1225, 1.1219, 1.1209, 1.1206, 1.1193, 1.118, 1.1178, 1.1176, 1.1173, 1.1173, 1.0092, 1.1126, 1.1119, 0.7791, 0.714, 0.8692, 0.5451, 0.8491, 0.9521, 0.5572, 0.5565, 0.6429, 0.0973]}, \"lambda.step\": 0.01};\n",
       "\n",
       "function LDAvis_load_lib(url, callback){\n",
       "  var s = document.createElement('script');\n",
       "  s.src = url;\n",
       "  s.async = true;\n",
       "  s.onreadystatechange = s.onload = callback;\n",
       "  s.onerror = function(){console.warn(\"failed to load library \" + url);};\n",
       "  document.getElementsByTagName(\"head\")[0].appendChild(s);\n",
       "}\n",
       "\n",
       "if(typeof(LDAvis) !== \"undefined\"){\n",
       "   // already loaded: just create the visualization\n",
       "   !function(LDAvis){\n",
       "       new LDAvis(\"#\" + \"ldavis_el112415731242220727722557731\", ldavis_el112415731242220727722557731_data);\n",
       "   }(LDAvis);\n",
       "}else if(typeof define === \"function\" && define.amd){\n",
       "   // require.js is available: use it to load d3/LDAvis\n",
       "   require.config({paths: {d3: \"https://cdnjs.cloudflare.com/ajax/libs/d3/3.5.5/d3.min\"}});\n",
       "   require([\"d3\"], function(d3){\n",
       "      window.d3 = d3;\n",
       "      LDAvis_load_lib(\"https://cdn.rawgit.com/bmabey/pyLDAvis/files/ldavis.v1.0.0.js\", function(){\n",
       "        new LDAvis(\"#\" + \"ldavis_el112415731242220727722557731\", ldavis_el112415731242220727722557731_data);\n",
       "      });\n",
       "    });\n",
       "}else{\n",
       "    // require.js not available: dynamically load d3 & LDAvis\n",
       "    LDAvis_load_lib(\"https://cdnjs.cloudflare.com/ajax/libs/d3/3.5.5/d3.min.js\", function(){\n",
       "         LDAvis_load_lib(\"https://cdn.rawgit.com/bmabey/pyLDAvis/files/ldavis.v1.0.0.js\", function(){\n",
       "                 new LDAvis(\"#\" + \"ldavis_el112415731242220727722557731\", ldavis_el112415731242220727722557731_data);\n",
       "            })\n",
       "         });\n",
       "}\n",
       "</script>"
      ],
      "text/plain": [
       "<IPython.core.display.HTML object>"
      ]
     },
     "execution_count": 29,
     "metadata": {},
     "output_type": "execute_result"
    }
   ],
   "source": [
    "pyLDAvis.display(ldavis_est) "
   ]
  },
  {
   "cell_type": "code",
   "execution_count": 30,
   "metadata": {
    "collapsed": true
   },
   "outputs": [],
   "source": [
    "ldavis_lat=pyLDAvis.sklearn.prepare(lda_lat, tfslat, tflat)"
   ]
  },
  {
   "cell_type": "code",
   "execution_count": 31,
   "metadata": {
    "collapsed": false
   },
   "outputs": [
    {
     "data": {
      "text/html": [
       "\n",
       "<link rel=\"stylesheet\" type=\"text/css\" href=\"https://cdn.rawgit.com/bmabey/pyLDAvis/files/ldavis.v1.0.0.css\">\n",
       "\n",
       "\n",
       "<div id=\"ldavis_el112415731316236646110014363\"></div>\n",
       "<script type=\"text/javascript\">\n",
       "\n",
       "var ldavis_el112415731316236646110014363_data = {\"token.table\": {\"Topic\": [2, 3, 3, 3, 2, 1, 2, 1, 1, 2, 3, 2, 3, 1, 3, 1, 3, 1, 2, 1, 3, 1, 1, 3, 2, 1, 2, 3, 2, 2, 3, 3, 1, 3, 1, 3, 2, 1, 1, 2, 3, 1, 3, 2, 2, 3, 2, 3, 2, 3, 2, 3, 1, 3, 1, 1, 2, 3, 1, 2, 3, 1, 1, 2, 3, 2, 1, 2, 2, 1, 2, 2, 3, 1, 2, 3, 2, 1, 1, 1, 1, 1, 2, 1, 3, 1, 2, 2, 3, 1, 3, 3, 1, 2, 3, 1, 2, 1, 2, 3, 2, 2, 3, 3, 2, 1, 2, 3, 1, 3, 2, 3, 1, 2, 2, 3, 2, 2, 3, 3, 2, 3, 1, 2, 2, 2, 2, 3, 1, 2, 1, 3, 3, 2, 3, 1], \"Freq\": [0.9868044325790511, 0.9896564734638188, 0.9875621858756788, 0.9471378937376561, 0.9942881623591758, 0.43695490398649406, 0.5638127793374117, 0.9918636761687372, 0.35835865200775563, 0.6383263488888147, 0.9677841218271686, 0.9862450961997714, 0.9932992104478976, 0.9879630324163715, 0.9859989414533056, 0.9858843629381573, 0.9960299190784678, 0.9977872867410239, 0.9834945675422714, 0.9777546886915808, 0.02444386721728952, 0.9980716302774996, 0.9804431429187388, 0.9627825916472831, 0.9952316798714158, 0.9905857236539106, 0.468991931715838, 0.5252709635217385, 0.9838280406380862, 0.9828887879103168, 0.9859988428848911, 0.9865812415888563, 0.9942624714154499, 0.9723782382028047, 0.9884986193194817, 0.9587822801741701, 0.9793344643979788, 0.9758577814219228, 0.9980710711188207, 0.9949155461082814, 0.9691135542859473, 0.9775562176120901, 0.9860359649819175, 0.9910412519467712, 0.2688174241811111, 0.7331384295848485, 0.3932442714982867, 0.614444174216073, 0.47447110989532554, 0.5109688875795814, 0.39744215160999463, 0.6056261357866585, 0.9915133840813323, 0.9793248250119121, 0.9970233220445424, 0.9884984367326186, 0.7079451529949551, 0.2896139262252089, 0.9786167421347605, 0.038715866273438725, 0.9291807905625294, 0.9863726553725077, 0.21679082596616908, 0.35371134762901274, 0.42217160846043456, 0.9838281378518446, 0.6270033339036325, 0.36844525806708306, 0.9714427843847513, 0.610535099016372, 0.3830808464416452, 0.9838280521281662, 0.9692349649829811, 0.9980711943106247, 0.9838282690510618, 0.9960306099574703, 0.9834945109403468, 0.9884983915094637, 0.9856551854566967, 0.9945625774397623, 0.9825347714863123, 0.9880301053491165, 0.9826392553868321, 0.01857853978866324, 0.9660840690104885, 0.9980714756973785, 0.9959797366341654, 0.9920299720183224, 0.9701894591182377, 0.9905472758163189, 0.9783188108957371, 0.951724928850849, 0.9980711187650312, 0.9877993111926949, 0.9960292878368666, 0.5467505532997646, 0.45001776310057545, 0.9980715685158074, 0.9921843004166019, 0.008480207695868392, 0.983878152914741, 0.9828877319426267, 0.966230761381436, 0.9859971655145683, 0.9794663727853368, 0.03700619133859843, 0.11101857401579528, 0.8511424007877638, 0.9653951980391215, 0.026816533278864487, 0.9685877636143688, 0.9865817514766256, 0.9825342550313101, 0.9882630094890323, 0.9826264567514646, 0.9859992049786559, 0.9793343826439439, 0.20745022470072794, 0.8038696207153208, 0.9782812351775634, 0.0331085102620255, 0.9601467975987394, 0.34389623426241395, 0.6429364379688609, 0.9793330399175266, 0.9927146981268569, 0.9942885369858713, 0.9943083534105486, 0.9906457809042268, 0.9982359206102092, 0.2700020696896466, 0.7380056571517006, 0.9895481024269633, 0.04614231951506782, 0.9689887098164243, 0.9789443923858953], \"Term\": [\"advanc\", \"agai\", \"air\", \"airborn\", \"amjoy\", \"amp\", \"amp\", \"attack\", \"baltic\", \"baltic\", \"best\", \"biz\", \"bowl\", \"brooklyn\", \"calfex\", \"captain\", \"chirp\", \"christma\", \"cnn\", \"coin\", \"coin\", \"collector\", \"come\", \"deal\", \"decid\", \"defens\", \"don\", \"don\", \"dub\", \"dworkinreport\", \"dynam\", \"eddi\", \"europ\", \"everi\", \"exploit\", \"export\", \"extens\", \"fast\", \"featur\", \"final\", \"fli\", \"footbal\", \"ford\", \"franc\", \"free\", \"free\", \"game\", \"game\", \"girl\", \"girl\", \"good\", \"good\", \"happi\", \"harrison\", \"holiday\", \"honeypot\", \"http\", \"http\", \"increas\", \"israel\", \"israel\", \"jani\", \"just\", \"just\", \"just\", \"liberti\", \"lithuania\", \"lithuania\", \"live\", \"market\", \"market\", \"milda\", \"million\", \"monkey\", \"mother\", \"msg\", \"msnbc\", \"mssqld\", \"nba\", \"new\", \"nfl\", \"note\", \"olymp\", \"onlin\", \"onlin\", \"paint\", \"photo\", \"play\", \"poland\", \"popular\", \"present\", \"pressur\", \"princess\", \"qualif\", \"rama\", \"riga\", \"riga\", \"rozent\", \"russia\", \"russia\", \"russian\", \"russianhack\", \"sabr\", \"saturdayswag\", \"sex\", \"shop\", \"shop\", \"shop\", \"silver\", \"silver\", \"speak\", \"stanford\", \"startup\", \"state\", \"statu\", \"strongeurop\", \"talkin\", \"team\", \"team\", \"test\", \"trade\", \"trade\", \"travel\", \"travel\", \"treason\", \"trump\", \"trumpleak\", \"uruguay\", \"use\", \"video\", \"watch\", \"watch\", \"watchcc\", \"win\", \"win\", \"xma\"]}, \"topic.order\": [3, 2, 1], \"plot.opts\": {\"xlab\": \"PC1\", \"ylab\": \"PC2\"}, \"R\": 30, \"mdsDat\": {\"x\": [-0.2509669703815784, 0.06310824387310689, 0.18785872650847163], \"Freq\": [34.59917828508691, 34.542549056346196, 30.858272658566904], \"y\": [0.06730112878443394, -0.23674028441749703, 0.16943915563306308], \"topics\": [1, 2, 3], \"cluster\": [1, 1, 1]}, \"tinfo\": {\"logprob\": [30.0, 29.0, 28.0, 27.0, 26.0, 25.0, 24.0, 23.0, 22.0, 21.0, 20.0, 19.0, 18.0, 17.0, 16.0, 15.0, 14.0, 13.0, 12.0, 11.0, 10.0, 9.0, 8.0, 7.0, 6.0, 5.0, 4.0, 3.0, 2.0, 1.0, -3.8731, -4.0317, -4.0194, -4.2979, -4.3472, -4.3577, -4.3844, -4.3844, -4.3844, -4.3844, -4.3844, -4.3844, -4.5057, -4.6502, -4.6502, -4.6502, -4.6538, -4.663, -4.7485, -4.7485, -4.767, -4.82, -4.8756, -4.9478, -5.0205, -5.0291, -5.0314, -5.0787, -5.0639, -5.0819, -4.2042, -4.3031, -4.008, -3.7148, -4.655, -4.4597, -3.6562, -4.2519, -4.2519, -4.3477, -4.5081, -4.5141, -4.4699, -4.7092, -3.8228, -4.7253, -4.7479, -4.7479, -4.7131, -4.8023, -4.9145, -4.9689, -4.9689, -4.9689, -4.9689, -4.9936, -5.0702, -5.1513, -5.0991, -5.1775, -5.1775, -5.1775, -5.1812, -5.1812, -5.1853, -5.194, -5.0806, -4.2006, -3.9043, -4.5432, -4.8066, -4.819, -4.6691, -4.5328, -4.3238, -4.5022, -4.5423, -4.5741, -4.6169, -4.6169, -4.6312, -4.732, -4.9588, -5.0317, -5.1186, -5.1592, -5.1902, -5.1902, -5.1902, -5.2222, -5.23, -5.3757, -5.3735, -5.43, -5.3763, -4.5148, -5.614, -5.6554, -5.6554, -5.6554, -5.6554, -5.7016, -5.0975, -5.7484, -5.4405, -5.2742, -4.6464, -5.043, -4.766, -4.4372, -5.0782, -5.0121, -4.8627, -5.1197, -5.2536], \"Term\": [\"video\", \"russia\", \"europ\", \"new\", \"holiday\", \"riga\", \"trumpleak\", \"amjoy\", \"coin\", \"christma\", \"watchcc\", \"popular\", \"trump\", \"jani\", \"rozent\", \"collector\", \"paint\", \"featur\", \"monkey\", \"princess\", \"silver\", \"state\", \"lithuania\", \"bowl\", \"use\", \"final\", \"russian\", \"uruguay\", \"onlin\", \"ford\", \"europ\", \"holiday\", \"new\", \"christma\", \"popular\", \"jani\", \"rozent\", \"collector\", \"paint\", \"featur\", \"monkey\", \"princess\", \"use\", \"exploit\", \"honeypot\", \"mssqld\", \"happi\", \"come\", \"nfl\", \"startup\", \"xma\", \"nba\", \"attack\", \"brooklyn\", \"footbal\", \"captain\", \"note\", \"fast\", \"defens\", \"increas\", \"coin\", \"silver\", \"lithuania\", \"riga\", \"market\", \"amp\", \"video\", \"trumpleak\", \"amjoy\", \"trump\", \"final\", \"russian\", \"state\", \"qualif\", \"russia\", \"olymp\", \"cnn\", \"msnbc\", \"franc\", \"play\", \"statu\", \"milda\", \"mother\", \"dub\", \"liberti\", \"sex\", \"speak\", \"biz\", \"photo\", \"extens\", \"talkin\", \"treason\", \"dworkinreport\", \"russianhack\", \"advanc\", \"decid\", \"live\", \"amp\", \"riga\", \"baltic\", \"http\", \"travel\", \"don\", \"lithuania\", \"watchcc\", \"bowl\", \"uruguay\", \"ford\", \"stanford\", \"eddi\", \"harrison\", \"air\", \"fli\", \"present\", \"deal\", \"sabr\", \"chirp\", \"msg\", \"rama\", \"agai\", \"export\", \"everi\", \"poland\", \"test\", \"best\", \"onlin\", \"airborn\", \"dynam\", \"calfex\", \"strongeurop\", \"saturdayswag\", \"million\", \"trade\", \"pressur\", \"win\", \"israel\", \"shop\", \"team\", \"watch\", \"don\", \"free\", \"good\", \"just\", \"girl\", \"game\"], \"Category\": [\"Default\", \"Default\", \"Default\", \"Default\", \"Default\", \"Default\", \"Default\", \"Default\", \"Default\", \"Default\", \"Default\", \"Default\", \"Default\", \"Default\", \"Default\", \"Default\", \"Default\", \"Default\", \"Default\", \"Default\", \"Default\", \"Default\", \"Default\", \"Default\", \"Default\", \"Default\", \"Default\", \"Default\", \"Default\", \"Default\", \"Topic1\", \"Topic1\", \"Topic1\", \"Topic1\", \"Topic1\", \"Topic1\", \"Topic1\", \"Topic1\", \"Topic1\", \"Topic1\", \"Topic1\", \"Topic1\", \"Topic1\", \"Topic1\", \"Topic1\", \"Topic1\", \"Topic1\", \"Topic1\", \"Topic1\", \"Topic1\", \"Topic1\", \"Topic1\", \"Topic1\", \"Topic1\", \"Topic1\", \"Topic1\", \"Topic1\", \"Topic1\", \"Topic1\", \"Topic1\", \"Topic1\", \"Topic1\", \"Topic1\", \"Topic1\", \"Topic1\", \"Topic1\", \"Topic2\", \"Topic2\", \"Topic2\", \"Topic2\", \"Topic2\", \"Topic2\", \"Topic2\", \"Topic2\", \"Topic2\", \"Topic2\", \"Topic2\", \"Topic2\", \"Topic2\", \"Topic2\", \"Topic2\", \"Topic2\", \"Topic2\", \"Topic2\", \"Topic2\", \"Topic2\", \"Topic2\", \"Topic2\", \"Topic2\", \"Topic2\", \"Topic2\", \"Topic2\", \"Topic2\", \"Topic2\", \"Topic2\", \"Topic2\", \"Topic2\", \"Topic2\", \"Topic2\", \"Topic2\", \"Topic2\", \"Topic2\", \"Topic2\", \"Topic2\", \"Topic3\", \"Topic3\", \"Topic3\", \"Topic3\", \"Topic3\", \"Topic3\", \"Topic3\", \"Topic3\", \"Topic3\", \"Topic3\", \"Topic3\", \"Topic3\", \"Topic3\", \"Topic3\", \"Topic3\", \"Topic3\", \"Topic3\", \"Topic3\", \"Topic3\", \"Topic3\", \"Topic3\", \"Topic3\", \"Topic3\", \"Topic3\", \"Topic3\", \"Topic3\", \"Topic3\", \"Topic3\", \"Topic3\", \"Topic3\", \"Topic3\", \"Topic3\", \"Topic3\", \"Topic3\", \"Topic3\", \"Topic3\", \"Topic3\", \"Topic3\", \"Topic3\", \"Topic3\", \"Topic3\"], \"Freq\": [138.0, 117.0, 111.0, 96.0, 95.0, 237.0, 76.0, 76.0, 81.0, 73.0, 63.0, 69.0, 69.0, 68.0, 67.0, 67.0, 67.0, 67.0, 67.0, 67.0, 74.0, 61.0, 154.0, 53.0, 59.0, 59.0, 58.0, 51.0, 53.0, 49.0, 110.99956615727667, 94.71494641431431, 95.892787267481, 72.58231438855091, 69.08730401797406, 68.36739408230457, 66.56329203860682, 66.5632786469121, 66.56327769253161, 66.5632931305359, 66.56327982921974, 66.56328035040099, 58.96368063734173, 51.02710998358501, 51.027078413759135, 51.02707088309318, 50.847489943186034, 50.38110374905355, 46.25161849152629, 46.25159872278785, 45.40178244209469, 43.05973187678909, 40.732985022587805, 37.895492175769405, 35.23643354840829, 34.93362677106345, 34.85407077014551, 33.24408594429838, 33.7412687177436, 33.13857093914599, 79.71047253499326, 72.20272940986007, 96.99070081870524, 130.03245292163209, 50.78285222541799, 61.73568720538737, 137.66290976407805, 75.8706687413532, 75.8706183837794, 68.93852321881543, 58.726174632047794, 58.37529184442237, 61.011601677566894, 48.02683702785801, 116.52933592192598, 47.25755042466584, 46.205757162424135, 46.205729867446315, 47.84147832390792, 43.755574916140546, 39.111494933647975, 37.04197479768531, 37.04194884844314, 37.041928433058025, 37.04188398566687, 36.14037290605978, 33.472551786666784, 30.866229227275685, 32.52171911659476, 30.066967241924086, 30.066907384743036, 30.066910811404973, 29.95621956725939, 29.956179587072018, 29.835090343789563, 29.577040080242472, 33.126495795562825, 79.86463597509999, 107.41002221216365, 56.70074270770138, 43.57164950649603, 43.0325511699117, 49.99096393317396, 57.29478050450168, 63.080004979142046, 52.77268238568654, 50.699325727366, 49.108507981312755, 47.05426389735957, 47.05425966609018, 46.386147284899565, 41.938896707151656, 33.42847652011601, 31.076956587204016, 28.491697971438473, 27.35754427166133, 26.522981198931163, 26.522957139018526, 26.52297553094079, 25.687053956616623, 25.487425502241642, 22.031727705790658, 22.079155785240108, 20.867130942789146, 22.019166745035392, 52.10951857980361, 17.359729793182, 16.656637379497955, 16.656634886799818, 16.656612486063278, 16.656633486262074, 15.903584623542088, 29.097732294013515, 15.176230813909582, 20.649732594133795, 24.385763993570357, 45.68475051630676, 30.726768590697148, 40.53558275820991, 56.31668580337618, 29.66602759431128, 31.693678222604255, 36.80087056538162, 28.46042219374257, 24.892459369111943], \"Total\": [138.0, 117.0, 111.0, 96.0, 95.0, 237.0, 76.0, 76.0, 81.0, 73.0, 63.0, 69.0, 69.0, 68.0, 67.0, 67.0, 67.0, 67.0, 67.0, 67.0, 74.0, 61.0, 154.0, 53.0, 59.0, 59.0, 58.0, 51.0, 53.0, 49.0, 111.64054079400022, 95.28362867699883, 96.5248463773155, 73.1618862758142, 69.65846223052452, 68.93946180444298, 67.12945455367799, 67.12945039963876, 67.12946079656805, 67.1294880081978, 67.1294797224134, 67.1294848035507, 59.55711025806506, 51.59339527971243, 51.5934048095972, 51.59340716996173, 51.43652200646093, 50.997347843294676, 46.817681505983046, 46.81770611502409, 45.967881679495044, 43.62580406866752, 41.336325732151344, 38.46297761471819, 35.803567477168414, 35.50112093845583, 35.42402180916632, 33.81640299257099, 34.32312740646651, 33.72106625522633, 81.82011390510948, 74.58085574306149, 154.70412158112774, 237.7683922136343, 83.53328102211596, 141.89107258976173, 138.2438731674195, 76.43656461170683, 76.43659341138351, 69.50637492342501, 59.30151582291061, 58.95038915964836, 61.72445939420439, 48.59286644171024, 117.92164011350877, 47.830370853134376, 46.771991954112025, 46.7719946459265, 48.43390717158369, 44.353498625127564, 39.689548080084165, 37.608197814611515, 37.60818952243347, 37.60819825383583, 37.60819453770477, 36.754707461396315, 34.070221862867285, 31.432348935827527, 33.133204207066385, 30.633048351302275, 30.633050908524147, 30.633092908339346, 30.522273088272666, 30.522305879946792, 30.40116056389598, 30.143734978247483, 33.97009121942272, 141.89107258976173, 237.7683922136343, 89.29601621368822, 62.1517073940805, 66.88063929903224, 106.61164215996573, 154.70412158112774, 63.66542449577373, 53.357537630681584, 51.29193557015423, 49.693927747248644, 47.639235095981334, 47.63925971702854, 46.97113646582019, 42.52896739131246, 34.051737130345614, 31.687012101522168, 29.082370457169468, 27.943635287907473, 27.107619442777928, 27.107600640057516, 27.107636622450563, 26.271742465341983, 26.074741384935233, 22.62494072333564, 22.675983328034533, 21.46621977900699, 22.732342372454074, 53.82554341596896, 17.94881200763018, 17.24139954389849, 17.241397820308997, 17.241393212247065, 17.24142887482654, 16.507865046202646, 30.203714757500613, 15.760856467332008, 21.672079134934883, 25.82920379302107, 54.045010514604016, 38.56346750909028, 55.555129696752786, 106.61164215996573, 40.91996652936061, 52.837878204240035, 87.64208501592688, 54.79785693534836, 40.687178834262326], \"loglift\": [30.0, 29.0, 28.0, 27.0, 26.0, 25.0, 24.0, 23.0, 22.0, 21.0, 20.0, 19.0, 18.0, 17.0, 16.0, 15.0, 14.0, 13.0, 12.0, 11.0, 10.0, 9.0, 8.0, 7.0, 6.0, 5.0, 4.0, 3.0, 2.0, 1.0, 1.0556, 1.0554, 1.0548, 1.0534, 1.0531, 1.053, 1.0529, 1.0529, 1.0529, 1.0529, 1.0529, 1.0529, 1.0513, 1.0503, 1.0503, 1.0503, 1.0498, 1.0492, 1.0492, 1.0492, 1.0489, 1.0483, 1.0466, 1.0465, 1.0454, 1.0452, 1.0451, 1.0443, 1.0442, 1.0439, 1.0352, 1.0289, 0.5944, 0.4578, 0.5637, 0.2291, 1.0588, 1.0555, 1.0555, 1.0548, 1.0532, 1.0532, 1.0514, 1.0513, 1.0511, 1.0509, 1.0508, 1.0508, 1.0507, 1.0494, 1.0483, 1.0478, 1.0478, 1.0478, 1.0478, 1.0461, 1.0453, 1.0448, 1.0444, 1.0443, 1.0443, 1.0443, 1.0443, 1.0443, 1.0442, 1.044, 1.0378, 0.4883, 0.2683, 0.6088, 0.7078, 0.622, 0.3056, 0.0697, 1.1665, 1.1647, 1.1641, 1.1639, 1.1634, 1.1634, 1.1632, 1.1618, 1.1573, 1.1563, 1.1552, 1.1546, 1.154, 1.154, 1.154, 1.1533, 1.153, 1.1492, 1.1491, 1.1475, 1.1439, 1.1434, 1.1424, 1.1413, 1.1413, 1.1413, 1.1413, 1.1385, 1.1385, 1.138, 1.1274, 1.1183, 1.0077, 0.9486, 0.8606, 0.5376, 0.8541, 0.6647, 0.308, 0.5206, 0.6844]}, \"lambda.step\": 0.01};\n",
       "\n",
       "function LDAvis_load_lib(url, callback){\n",
       "  var s = document.createElement('script');\n",
       "  s.src = url;\n",
       "  s.async = true;\n",
       "  s.onreadystatechange = s.onload = callback;\n",
       "  s.onerror = function(){console.warn(\"failed to load library \" + url);};\n",
       "  document.getElementsByTagName(\"head\")[0].appendChild(s);\n",
       "}\n",
       "\n",
       "if(typeof(LDAvis) !== \"undefined\"){\n",
       "   // already loaded: just create the visualization\n",
       "   !function(LDAvis){\n",
       "       new LDAvis(\"#\" + \"ldavis_el112415731316236646110014363\", ldavis_el112415731316236646110014363_data);\n",
       "   }(LDAvis);\n",
       "}else if(typeof define === \"function\" && define.amd){\n",
       "   // require.js is available: use it to load d3/LDAvis\n",
       "   require.config({paths: {d3: \"https://cdnjs.cloudflare.com/ajax/libs/d3/3.5.5/d3.min\"}});\n",
       "   require([\"d3\"], function(d3){\n",
       "      window.d3 = d3;\n",
       "      LDAvis_load_lib(\"https://cdn.rawgit.com/bmabey/pyLDAvis/files/ldavis.v1.0.0.js\", function(){\n",
       "        new LDAvis(\"#\" + \"ldavis_el112415731316236646110014363\", ldavis_el112415731316236646110014363_data);\n",
       "      });\n",
       "    });\n",
       "}else{\n",
       "    // require.js not available: dynamically load d3 & LDAvis\n",
       "    LDAvis_load_lib(\"https://cdnjs.cloudflare.com/ajax/libs/d3/3.5.5/d3.min.js\", function(){\n",
       "         LDAvis_load_lib(\"https://cdn.rawgit.com/bmabey/pyLDAvis/files/ldavis.v1.0.0.js\", function(){\n",
       "                 new LDAvis(\"#\" + \"ldavis_el112415731316236646110014363\", ldavis_el112415731316236646110014363_data);\n",
       "            })\n",
       "         });\n",
       "}\n",
       "</script>"
      ],
      "text/plain": [
       "<IPython.core.display.HTML object>"
      ]
     },
     "execution_count": 31,
     "metadata": {},
     "output_type": "execute_result"
    }
   ],
   "source": [
    "pyLDAvis.display(ldavis_lat) "
   ]
  },
  {
   "cell_type": "code",
   "execution_count": 63,
   "metadata": {
    "collapsed": true
   },
   "outputs": [],
   "source": [
    "#töötab, sõna doku jagunemine\n",
    "doc_topic_distrib_est = lda_est.transform(tfsest)\n",
    "doc_topic_distrib_lat = lda_lat.transform(tfslat)"
   ]
  },
  {
   "cell_type": "markdown",
   "metadata": {},
   "source": [
    "Vaatame säutsude lõikes teemade tõenäosusi."
   ]
  },
  {
   "cell_type": "code",
   "execution_count": 88,
   "metadata": {
    "collapsed": false
   },
   "outputs": [
    {
     "data": {
      "image/png": "[encoded data removed]",
      "text/plain": [
       "<matplotlib.figure.Figure at 0x16e479ad710>"
      ]
     },
     "metadata": {},
     "output_type": "display_data"
    }
   ],
   "source": [
    "teema_doku_plot(doc_topic_distrib_est, n_topics_est, [1,2,3,4], teemad_est)"
   ]
  },
  {
   "cell_type": "code",
   "execution_count": null,
   "metadata": {
    "collapsed": true
   },
   "outputs": [],
   "source": [
    "Vaatame esimesest säutsu."
   ]
  },
  {
   "cell_type": "code",
   "execution_count": 46,
   "metadata": {
    "collapsed": false
   },
   "outputs": [
    {
     "data": {
      "text/plain": [
       "\"RT @JRRCollins: @AviWoolf the NATO aspect is the one that concerns me regarding Turkey. It's not Estonia that scares me, it's agitators lik…\""
      ]
     },
     "execution_count": 46,
     "metadata": {},
     "output_type": "execute_result"
    }
   ],
   "source": [
    "estoniatkst[1]"
   ]
  },
  {
   "cell_type": "markdown",
   "metadata": {},
   "source": [
    "Eks siin jääb igaühel ise otsustada, kas teema sai õigesti määratud (tund, et enam vähem). Siin tuleb arevstada, et nagu iga mudel, pole ka see täiuslik. Vaatame sama Läti mudeli puhul."
   ]
  },
  {
   "cell_type": "code",
   "execution_count": 89,
   "metadata": {
    "collapsed": false
   },
   "outputs": [
    {
     "data": {
      "image/png": "[encoded data removed]",
      "text/plain": [
       "<matplotlib.figure.Figure at 0x16e4751ce10>"
      ]
     },
     "metadata": {},
     "output_type": "display_data"
    }
   ],
   "source": [
    "teema_doku_plot(doc_topic_distrib_lat, n_topics_lat, [1,2,3,4], teemad_lat)"
   ]
  },
  {
   "cell_type": "code",
   "execution_count": 72,
   "metadata": {
    "collapsed": false
   },
   "outputs": [
    {
     "data": {
      "text/plain": [
       "'RT @IIHFHockey: France beats Latvia 8-1 and advances to the Final Olympic Qualification where they will play in Japan. Story soon on https:…'"
      ]
     },
     "execution_count": 72,
     "metadata": {},
     "output_type": "execute_result"
    }
   ],
   "source": [
    "latviatkst[1]"
   ]
  }
 ],
 "metadata": {
  "anaconda-cloud": {},
  "kernelspec": {
   "display_name": "Python [Root]",
   "language": "python",
   "name": "Python [Root]"
  },
  "language_info": {
   "codemirror_mode": {
    "name": "ipython",
    "version": 3
   },
   "file_extension": ".py",
   "mimetype": "text/x-python",
   "name": "python",
   "nbconvert_exporter": "python",
   "pygments_lexer": "ipython3",
   "version": "3.5.2"
  }
 },
 "nbformat": 4,
 "nbformat_minor": 0
}
