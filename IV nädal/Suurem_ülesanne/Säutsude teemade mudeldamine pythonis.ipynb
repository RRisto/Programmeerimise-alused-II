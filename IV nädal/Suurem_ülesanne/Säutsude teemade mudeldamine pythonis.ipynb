{
 "cells": [
  {
   "cell_type": "markdown",
   "metadata": {},
   "source": [
    "# Säutsud pythonis"
   ]
  },
  {
   "cell_type": "markdown",
   "metadata": {},
   "source": [
    "## Sissejuhatus"
   ]
  },
  {
   "cell_type": "markdown",
   "metadata": {},
   "source": [
    "Käesoleva kirjatüki eesmärk on mudeldada pythonis säutsude teemasid. Selleks tehakse järgnevat:\n",
    " - laetakse twitterist säutsud alla\n",
    " - säutsud puhastatakse\n",
    " - ehitatakse teemadem udelid kasutades _Latent Dirichlet allocation_ algoritmi\n",
    " - tulemused visualiseeritakse\n",
    "\n",
    "Esmalt defineerime hunniku funktsioone, mis teevad elu lihtsamaks."
   ]
  },
  {
   "cell_type": "code",
   "execution_count": 1,
   "metadata": {
    "collapsed": true
   },
   "outputs": [],
   "source": [
    "def teksti_eraldaja(tweedid):\n",
    "    \"\"\"eraldab säutsude listist teksti. \n",
    "    sisend: säutsude metaandmete list, mis on tulnud funktsioonist allalaadija\n",
    "    väljund: säutsude tekstide list\"\"\"\n",
    "    tekst=[]\n",
    "    for i in range(len(tweedid)):\n",
    "        tekst.append(tweedid[i]['text'])  \n",
    "    return tekst   \n",
    "\n",
    "import math as math\n",
    "def allalaadija(märksõna, kogus, keel='en'):\n",
    "    \"\"\"laeb twitterist säutsud alla\n",
    "    sisend: -märksõna: otsisõna, mille kohta otsime twitterist säutsusid\n",
    "    -kogus: mitu säutsu tahame. Kogus on 100 säutsu täpsusega (nt kogus=101, korjab 200 säutsu, kogus=99 korja 100 säutsu\n",
    "    -keel: mis keelseid säutsusid tahame)\n",
    "    väljund: - list tweetide andmetega\"\"\"\n",
    "    loopideArv=math.ceil(kogus/100)\n",
    "    print(\"Tsükkel nr:\", str(1)+ \", veel tsükleid:\",str(loopideArv-1))\n",
    "    tweedid=twitter.search(q=märksõna,lang=keel, count=100)\n",
    "    tulem=tweedid['statuses']\n",
    "    minid=min_id(tweedid)\n",
    "    for i in range(loopideArv-1):\n",
    "        print(\"Tsükkel nr:\", str(i+2)+ \", veel tsükleid:\",str(loopideArv-i-2))\n",
    "        uuedtweedid=twitter.search(q=märksõna,lang=keel, count=100, \n",
    "                                   max_id=minid)\n",
    "        tulem+=uuedtweedid['statuses']\n",
    "        minid=min_id(uuedtweedid)\n",
    "    return tulem\n",
    "\n",
    "def min_id(tweedid):\n",
    "    \"\"\"abifunktsioon funktsioonile allalaadija, mis leiab allalaaditud tweetide id miinimumi, selle saab\n",
    "    anda sisendiks järgmisele loobile, et võtta tweedid, mille id on väiksem kui siin leitud id\n",
    "    sisend: - tweetide sõnastik\n",
    "    väljund: - tweetide sõnastiku id miinimum\"\"\"\n",
    "    ids=[]\n",
    "    for i in range(len(tweedid['statuses'])):\n",
    "        ids.append(tweedid['statuses'][i]['id'])\n",
    "    return min(ids)\n",
    "\n",
    "from nltk.tokenize import RegexpTokenizer\n",
    "import re\n",
    "def tokeniseerija(tekstlist):\n",
    "    \"\"\"funktsioon, mis võtab sisendiks teksti listi ning teeb neist tokenid (iga sõna eraldi listi elemendiks) ning \n",
    "    eemaldab numbrid, kirjavahemärgid, lingid ja twitteri kasutajanimed ning teeb teksti väiketähtedeks\n",
    "    sisend: - tekstilist (iga lause on 1 string)\n",
    "    väljund: - tokenite list\"\"\"\n",
    "    tokenizer = RegexpTokenizer(r'\\w+')\n",
    "    tokens=[]\n",
    "    for i in range(len(tekstlist)):\n",
    "        #eemaldame kasutajanimed ja lingid, numbrid ja kirjavahemärgid\n",
    "        abimuutuja=re.sub(r'(^https?:\\/\\/.*[\\r\\n]*)|(@[A-Za-z0-9]+)|([0-9])|(\\w+:\\/\\/\\S+)', '', tekstlist[i].lower(), \n",
    "                          flags=re.MULTILINE)\n",
    "        tokens.append(tokenizer.tokenize(abimuutuja))\n",
    "    return tokens\n",
    "\n",
    "from stop_words import get_stop_words\n",
    "def puhastaja(tokenslist, myralist):\n",
    "    \"\"\"funktsioon, mis puhastab tokenite listi stoppsõnadest ja kasutaja poolt määratud sõnadest ning sõnadest, mille\n",
    "    pikkus on alla 3\n",
    "    sisend: - tokenslist: tokenite list\n",
    "    - myralist: list sõnadest, mida tahetakse veel eemaldada\n",
    "    väljund: - tokenite list, kus eelnev on eemaldatud\"\"\"\n",
    "    stopsonad = get_stop_words('en')#inglise keel stoppsõnad\n",
    "    stopsonad.extend(myralist)#paneme veel juurde\n",
    "    #eemaldame stoppsõnad ja sõnad alla 2 täheärgi\n",
    "    tokens_stopped=[]\n",
    "    for j in range(len(tokenslist)):\n",
    "        tokens_stopped.append([i for i in tokenslist[j] if not i in stopsonad and len(i)>2])   \n",
    "    return tokens_stopped\n",
    "\n",
    "from nltk.stem.porter import PorterStemmer\n",
    "def stemming(tokens):\n",
    "    \"\"\"funktsioon, mis normaliseerib sõnad lõigates maha käände- ja pöördelõpud.\n",
    "    sisend: - tokens: tokenite list\n",
    "    väljudn: - normaliseeritud sõnade list\"\"\"\n",
    "    p_stemmer = PorterStemmer()\n",
    "    stemmed=[]\n",
    "    for j in range(len(tokens)):\n",
    "        stemmed.append([p_stemmer.stem(i) for i in tokens[j]]) \n",
    "    return stemmed\n",
    "\n",
    "def sonede_dict(sonedelist):\n",
    "    \"\"\"funktsioon, mis paneb ühe listi tokensid kokku üheks stringiks\n",
    "    sisend: -tokensite listid\n",
    "    väljund: -tokensite listid, kus iga list on üks tokensite string\"\"\"\n",
    "    token_dict={}\n",
    "    for i in range(len(sonedelist)):\n",
    "        token_dict[i] = ' '.join(sonedelist[i])\n",
    "    return token_dict\n",
    "\n",
    "from __future__ import print_function\n",
    "def print_top_sonad(model, feature_names, n_top_words):\n",
    "    \"\"\"funktsioon, mis prindin top sõnad iga teema kohta\n",
    "    sisend: - model: lda mudel\n",
    "    -feature_names: doc-term maatriksist sõnade nimed\n",
    "    n_top_words: kui mitu top sõna iga teema kohta kuvatakse\n",
    "    väljund: -prindib teema ja selle top sõnad\"\"\"\n",
    "    for topic_idx, topic in enumerate(model.components_):\n",
    "        print(\"Teema #%d:\" % topic_idx)\n",
    "        print(\" \".join([feature_names[i]\n",
    "                        for i in topic.argsort()[:-n_top_words - 1:-1]]))\n",
    "    print()\n",
    "    \n",
    "import matplotlib.pyplot as plt\n",
    "import numpy as np\n",
    "def teema_doku_plot(doc_topic,teemade_arv, doc_n, teemad):\n",
    "    \"\"\"funktsioon, mis joonistab plotid, kus x-teljel on teema ja y-teljel teema kaal. Joonistab tõenäosuse jagunemise iga tweeti kohta\n",
    "    sisend: - doc_topic: dokumendi teema array\n",
    "    - teemade_arv: mitu teemat mudelis on\n",
    "    - doc_n: dokumentide indeksid listi kujuna, mille kohta tahame ploti joonistada\n",
    "    -teemad: teemade list\n",
    "    Väljund: -plot\"\"\"\n",
    "    %matplotlib inline\n",
    "    f, ax= plt.subplots(len(doc_n), 1, figsize=(8, 6), sharex=True)\n",
    "    for i, k in enumerate(doc_n):\n",
    "        #normaliseerin iga rea, kuna muidu läheb üle 1\n",
    "        ax[i].stem(doc_topic[k,:]/(sum(doc_topic[k,:])),\n",
    "                 linefmt='r-', markerfmt='ro', basefmt='w-')\n",
    "        ax[i].set_xlim(-0.1, teemade_arv-0.9)\n",
    "        ax[i].set_ylim(0, 1)\n",
    "        ax[i].set_xticks(np.arange(0, teemade_arv, 1)) \n",
    "        ax[i].set_xticklabels(teemad)\n",
    "        ax[i].set_axis_bgcolor((1,0.98,0.98))\n",
    "        ax[i].set_ylabel(\"Prob\")\n",
    "        ax[i].set_title(\"Säuts {}\".format(k))\n",
    "    ax[len(doc_n)-1].set_xlabel(\"Teema\")\n",
    "    plt.tight_layout()\n",
    "    plt.show()"
   ]
  },
  {
   "cell_type": "markdown",
   "metadata": {},
   "source": [
    "## Andmete korjamine "
   ]
  },
  {
   "cell_type": "markdown",
   "metadata": {},
   "source": [
    "Andmete korjamiseks kasutan eelloodud funktsioone ja paketti twython."
   ]
  },
  {
   "cell_type": "code",
   "execution_count": 2,
   "metadata": {
    "collapsed": true
   },
   "outputs": [],
   "source": [
    "from twython import Twython\n",
    "#ühendus twitteriga, keyde ja salasõnade jaoks rega enda app: https://dev.twitter.com/ \n",
    "#ja loe twythoni kohta http://twython.readthedocs.io/en/latest/#\n",
    "twitter = Twython('sinu_api_vaartus','sinu_api_vaartus','sinu_api_vaartus', 'sinu_api_vaartus')"
   ]
  },
  {
   "cell_type": "code",
   "execution_count": 6,
   "metadata": {
    "collapsed": false
   },
   "outputs": [],
   "source": [
    "estonia=allalaadija('estonia', 2000)\n",
    "latvia=allalaadija('latvia', 2000)\n",
    "#salvestame, et igal korral ei peaks uue päringu tegema\n",
    "import json\n",
    "json.dump(estonia, open(\"estonia.txt\",'w'))\n",
    "json.dump(latvia, open(\"latvia.txt\",'w'))"
   ]
  },
  {
   "cell_type": "code",
   "execution_count": 7,
   "metadata": {
    "collapsed": false
   },
   "outputs": [],
   "source": [
    "#laeme salvestatud failid üles\n",
    "estonia = json.load(open(\"estonia.txt\"))\n",
    "latvia=json.load(open(\"latvia.txt\"))"
   ]
  },
  {
   "cell_type": "markdown",
   "metadata": {},
   "source": [
    "## Andmete töötlus ja puhastamine "
   ]
  },
  {
   "cell_type": "code",
   "execution_count": 8,
   "metadata": {
    "collapsed": true
   },
   "outputs": [],
   "source": [
    "#eraldame teksti\n",
    "estoniatkst=teksti_eraldaja(estonia)\n",
    "latviatkst=teksti_eraldaja(latvia)"
   ]
  },
  {
   "cell_type": "code",
   "execution_count": 9,
   "metadata": {
    "collapsed": true
   },
   "outputs": [],
   "source": [
    "#tokeniseerime\n",
    "esttoken=tokeniseerija(estoniatkst)\n",
    "lattoken=tokeniseerija(latviatkst)"
   ]
  },
  {
   "cell_type": "code",
   "execution_count": 10,
   "metadata": {
    "collapsed": true
   },
   "outputs": [],
   "source": [
    "#puhastame\n",
    "estpuhas=puhastaja(esttoken,['estonia'])\n",
    "latpuhas=puhastaja(lattoken,['latvia'])"
   ]
  },
  {
   "cell_type": "code",
   "execution_count": 11,
   "metadata": {
    "collapsed": true
   },
   "outputs": [],
   "source": [
    "#stemming\n",
    "eststem=stemming(estpuhas)\n",
    "latstem=stemming(latpuhas)"
   ]
  },
  {
   "cell_type": "markdown",
   "metadata": {},
   "source": [
    "## Mudeli ehitamine"
   ]
  },
  {
   "cell_type": "markdown",
   "metadata": {},
   "source": [
    "Mudeli ehitamiseks katsetame erinevaid python pakette. Esmalt pakett gensim."
   ]
  },
  {
   "cell_type": "code",
   "execution_count": 12,
   "metadata": {
    "collapsed": false
   },
   "outputs": [
    {
     "name": "stderr",
     "output_type": "stream",
     "text": [
      "C:\\Users\\Risto\\Anaconda3\\lib\\site-packages\\gensim\\utils.py:840: UserWarning: detected Windows; aliasing chunkize to chunkize_serial\n",
      "  warnings.warn(\"detected Windows; aliasing chunkize to chunkize_serial\")\n",
      "C:\\Users\\Risto\\Anaconda3\\lib\\site-packages\\gensim\\utils.py:1015: UserWarning: Pattern library is not installed, lemmatization won't be available.\n",
      "  warnings.warn(\"Pattern library is not installed, lemmatization won't be available.\")\n"
     ]
    }
   ],
   "source": [
    "from gensim.models.coherencemodel import CoherenceModel\n",
    "from gensim.models.ldamodel import LdaModel\n",
    "from gensim.corpora.dictionary import Dictionary\n",
    "import warnings\n",
    "warnings.filterwarnings('ignore')#et igasugu hoiatusi siin ei kuvaks"
   ]
  },
  {
   "cell_type": "markdown",
   "metadata": {},
   "source": [
    "Määrame teemade arvu. Selle jaoks kasutasin interaktiivseid visualiseeringuid (vt allapoole), kuni leidsin maksimaalse arvu teemasid, kui teemad ei kattunud. See pole küll teab mis super meetod (temade arvu määramine ongi keeruline), kuid on üheks võimaluseks. Käesoleval juhul on mõlemat andmeseti puhul teemade arvuks määratud kolm."
   ]
  },
  {
   "cell_type": "code",
   "execution_count": 13,
   "metadata": {
    "collapsed": true
   },
   "outputs": [],
   "source": [
    "n_topics_est=3\n",
    "n_topics_lat=3"
   ]
  },
  {
   "cell_type": "code",
   "execution_count": 14,
   "metadata": {
    "collapsed": true
   },
   "outputs": [],
   "source": [
    "estdictionary = Dictionary(eststem)\n",
    "estcorpus = [estdictionary.doc2bow(text) for text in eststem]\n",
    "#mudel\n",
    "estmudel = LdaModel(corpus=estcorpus, id2word=estdictionary, \n",
    "                    iterations=500, num_topics=n_topics_est, random_state=1)"
   ]
  },
  {
   "cell_type": "markdown",
   "metadata": {},
   "source": [
    "Mudeli eripäraks on, et ta ei anna ette, mis teemad tekstis on. Ta annab vihjed, mis teema olla võib näidates ära sõnad, mis teemat kõige paremini esindavad."
   ]
  },
  {
   "cell_type": "code",
   "execution_count": 15,
   "metadata": {
    "collapsed": false
   },
   "outputs": [
    {
     "data": {
      "text/plain": [
       "[(0, '0.019*\"amp\" + 0.014*\"poland\" + 0.014*\"nato\"'),\n",
       " (1, '0.014*\"baltic\" + 0.013*\"lithuania\" + 0.012*\"watch\"'),\n",
       " (2, '0.018*\"tallinn\" + 0.013*\"world\" + 0.013*\"via\"')]"
      ]
     },
     "execution_count": 15,
     "metadata": {},
     "output_type": "execute_result"
    }
   ],
   "source": [
    "#teemad sõnadega\n",
    "estmudel.print_topics(num_topics=3, num_words=3)"
   ]
  },
  {
   "cell_type": "markdown",
   "metadata": {},
   "source": [
    "Tundub, et esimene tema on seotud NATO, teine Baltikumi ning kolmas Tallinnaga. Visualiseerime tulemused."
   ]
  },
  {
   "cell_type": "code",
   "execution_count": 16,
   "metadata": {
    "collapsed": false
   },
   "outputs": [
    {
     "name": "stderr",
     "output_type": "stream",
     "text": [
      "C:\\Users\\Risto\\Anaconda3\\lib\\site-packages\\funcy\\decorators.py:56: DeprecationWarning: inspect.getargspec() is deprecated, use inspect.signature() instead\n",
      "  spec = inspect.getargspec(func)\n",
      "C:\\Users\\Risto\\Anaconda3\\lib\\site-packages\\funcy\\decorators.py:56: DeprecationWarning: inspect.getargspec() is deprecated, use inspect.signature() instead\n",
      "  spec = inspect.getargspec(func)\n",
      "C:\\Users\\Risto\\Anaconda3\\lib\\site-packages\\funcy\\decorators.py:56: DeprecationWarning: inspect.getargspec() is deprecated, use inspect.signature() instead\n",
      "  spec = inspect.getargspec(func)\n",
      "C:\\Users\\Risto\\Anaconda3\\lib\\site-packages\\funcy\\decorators.py:56: DeprecationWarning: inspect.getargspec() is deprecated, use inspect.signature() instead\n",
      "  spec = inspect.getargspec(func)\n",
      "C:\\Users\\Risto\\Anaconda3\\lib\\site-packages\\funcy\\decorators.py:56: DeprecationWarning: inspect.getargspec() is deprecated, use inspect.signature() instead\n",
      "  spec = inspect.getargspec(func)\n",
      "C:\\Users\\Risto\\Anaconda3\\lib\\site-packages\\funcy\\decorators.py:56: DeprecationWarning: inspect.getargspec() is deprecated, use inspect.signature() instead\n",
      "  spec = inspect.getargspec(func)\n"
     ]
    }
   ],
   "source": [
    "#interaktiivne visualiseerimine\n",
    "import pyLDAvis.gensim\n",
    "from gensim.models.coherencemodel import CoherenceModel\n",
    "estldavis=pyLDAvis.gensim.prepare(estmudel, estcorpus, estdictionary)"
   ]
  },
  {
   "cell_type": "code",
   "execution_count": 17,
   "metadata": {
    "collapsed": false
   },
   "outputs": [
    {
     "data": {
      "text/html": [
       "\n",
       "<link rel=\"stylesheet\" type=\"text/css\" href=\"https://cdn.rawgit.com/bmabey/pyLDAvis/files/ldavis.v1.0.0.css\">\n",
       "\n",
       "\n",
       "<div id=\"ldavis_el1128023067768338645886844782\"></div>\n",
       "<script type=\"text/javascript\">\n",
       "\n",
       "var ldavis_el1128023067768338645886844782_data = {\"lambda.step\": 0.01, \"token.table\": {\"Topic\": [1, 2, 3, 1, 2, 3, 1, 1, 1, 2, 1, 2, 3, 3, 1, 2, 3, 3, 1, 2, 3, 2, 3, 2, 1, 2, 3, 1, 2, 3, 2, 1, 2, 3, 1, 2, 3, 1, 2, 3, 1, 2, 3, 1, 1, 2, 1, 2, 3, 1, 1, 2, 3, 1, 2, 3, 3, 2, 3, 1, 2, 3, 3, 1, 2, 3, 2, 1, 3, 1, 2, 3, 1, 2, 3, 1, 3, 3, 2, 3, 3, 1, 2, 3, 1, 1, 3, 1, 2, 3, 1, 2, 3, 1, 2, 3, 3, 1, 2, 3, 1, 2, 3, 1, 2, 3, 1, 1, 2, 3, 1, 2, 3, 1, 2, 3, 1, 3, 1, 2, 3, 1, 3, 3, 1, 3, 3, 2, 1, 2, 3, 1, 2, 3, 2, 1, 2, 3, 1, 3, 1, 1, 2, 3, 1, 2, 3, 1, 3, 1, 1, 2, 3, 1, 2, 3, 1, 1, 2, 3, 1, 3, 1, 3, 3, 2, 1, 1, 2, 3, 1, 2, 3, 1, 2, 3, 1, 2, 1, 3, 1, 2, 3, 1, 2, 3, 1, 2, 3, 1, 2, 3, 1, 2, 3, 1, 2, 3, 2, 1, 2, 3, 1, 2, 3, 2, 3, 1, 2, 3, 1, 2, 3, 1, 2, 3, 2, 1, 2, 3, 1, 2, 3, 1, 2, 3, 1, 1, 1, 2, 3, 1, 2, 3, 1, 2, 3, 3, 1, 2, 3, 1, 2, 1, 2, 3, 1, 2, 3, 3, 1, 2, 3, 1, 2, 3, 2, 3, 1, 2, 3, 1, 1, 2, 3, 1, 2, 1, 2, 3, 1, 2, 3, 1, 2, 3, 1, 2, 3, 1, 2, 3, 1, 2, 3, 1, 1, 2, 3, 1, 2, 3, 1, 2, 3, 1, 2, 3, 1, 2, 3, 1, 2, 1, 2, 3, 1, 2, 3, 1, 2, 3, 1, 2, 3, 1, 2, 3, 1, 2, 3, 3, 1, 2, 3, 1, 2, 3, 1, 2, 3, 1, 2, 3], \"Freq\": [0.9802600792854886, 0.015810646440088526, 0.015810646440088526, 0.033850221040390774, 0.9308810786107462, 0.033850221040390774, 0.9765815850889514, 0.963557127752656, 0.9317146141926193, 0.8737020129200992, 0.6134712273198634, 0.16783646785166073, 0.2141361831210844, 0.9717536493410591, 0.1195001273004433, 0.6572507001524382, 0.2091252227757758, 0.9716844009344869, 0.2149003573682409, 0.1562911689950843, 0.6251646759803372, 0.9006461035496724, 0.9559296140360554, 0.9005485864473481, 0.0535249130750611, 0.0535249130750611, 0.883161065738508, 0.05006395217945267, 0.9512150914096007, 0.05006395217945267, 0.9610373375887022, 0.03270600181229942, 0.06541200362459884, 0.9157680507443838, 0.05220578481991023, 0.8874983419384739, 0.05220578481991023, 0.050062282483336794, 0.9261522259417306, 0.025031141241668397, 0.05462338663735125, 0.9285975728349712, 0.05462338663735125, 0.9122012756737877, 0.12005014106302268, 0.880367701128833, 0.27463647803935964, 0.5731543889517071, 0.15522931367442067, 0.9635115760203492, 0.09425916057061358, 0.04712958028530679, 0.8483324451355223, 0.7010628876053345, 0.0725237469936553, 0.24174582331218433, 0.9245573112864137, 0.03459219709199413, 0.9685815185758357, 0.9608236923175776, 0.0300257403849243, 0.01501287019246215, 0.9051742917633359, 0.25227469069047864, 0.27750215975952647, 0.4793219123119094, 0.9006299307546967, 0.03459105607273772, 0.9685495700366562, 0.05712358959508405, 0.8568538439262607, 0.07616478612677872, 0.04005201377406164, 0.9211963168034176, 0.04005201377406164, 0.9361652697215288, 0.962831372219297, 0.9244845949538669, 0.03459123262960438, 0.9685545136289228, 0.9629011805545112, 0.7252881445794492, 0.17869418054855996, 0.09460280146688468, 0.936168412428236, 0.07356419180642736, 0.8827703016771282, 0.05022803488608214, 0.15068410465824641, 0.7785345407342732, 0.10710584516667894, 0.8354255923000957, 0.04284233806667158, 0.7798409521382947, 0.12432247063074264, 0.1017183850615167, 0.9051779378546734, 0.025735881200830136, 0.29596263380954657, 0.6820008518219987, 0.888949760122815, 0.03703957333845063, 0.09259893334612657, 0.7949571507561023, 0.11521118126900033, 0.09216894501520026, 0.9702070415465953, 0.29469729844021314, 0.4956272746494494, 0.21432530795651866, 0.8266677716923835, 0.02467664990126518, 0.14805989940759107, 0.020362036315178574, 0.9366536704982144, 0.06108610894553572, 0.9486740875220719, 0.9416046280664185, 0.8691736419073516, 0.03386390812626045, 0.10159172437878135, 0.9634981270200342, 0.8827525621503569, 0.9051446678342003, 0.9222710430237803, 0.9717925325598121, 0.9286965198444403, 0.9340243938505511, 0.03628408948028056, 0.3386515018159519, 0.6289242176581964, 0.0293061946631966, 0.9377982292222912, 0.0586123893263932, 0.9446654266015257, 0.5763360459187099, 0.12807467687082444, 0.28816802295935495, 0.9486818125738953, 0.9051294181865059, 0.8894399659796851, 0.9488116576479806, 0.12412120079343134, 0.8688484055540193, 0.23625207592632622, 0.1237510873899804, 0.6412556346571712, 0.09416651209314304, 0.8945818648848589, 0.9635195006970724, 0.15653076350340775, 0.10836745165620536, 0.7344905056698363, 0.03566123014178042, 0.03566123014178042, 0.927191983686291, 0.94870801781396, 0.7088089447575349, 0.19156998506960402, 0.11494199104176242, 0.9635122517427197, 0.8826468905839474, 0.8894001255193605, 0.9628247156206647, 0.941527801192003, 0.9709220017985464, 0.9635203849427327, 0.030057493352522866, 0.9618397872807317, 0.030057493352522866, 0.934049348661476, 0.04447854041245124, 0.029652360274967492, 0.04449721282528942, 0.9344414693310779, 0.04449721282528942, 0.05463178562064908, 0.9287403555510345, 0.19631233436486195, 0.7852493374594478, 0.3375984969613388, 0.09645671341752536, 0.5546261021507709, 0.617961150777647, 0.2376773656837104, 0.14260641941022625, 0.032677454487316376, 0.032677454487316376, 0.9476461801321749, 0.03005672164992108, 0.9618150927974746, 0.03005672164992108, 0.28584115337726035, 0.2041722524123288, 0.510430631030822, 0.04442491718309803, 0.8662858850704116, 0.11106229295774508, 0.8736325083480538, 0.1582937863585787, 0.7688555337416678, 0.06784019415367658, 0.8191911578266698, 0.14335845261966723, 0.040959557891333494, 0.8736770516379944, 0.9629360492927511, 0.8790964160511915, 0.012740527768857847, 0.10192422215086278, 0.9464378663569711, 0.03594067846925207, 0.023960452312834713, 0.9635516327941074, 0.934243734018639, 0.04448779685803043, 0.9006894894406138, 0.06201616733674444, 0.06201616733674444, 0.8682263427144222, 0.1576208141655841, 0.7565799079948037, 0.09457248849935046, 0.04449666565174096, 0.9344299786865601, 0.905171963610161, 0.9487599332252578, 0.9487368601522805, 0.34831776503330497, 0.11610592167776831, 0.5383092732332895, 0.09634181226662268, 0.5660081470664082, 0.3251536163998516, 0.31670871550709434, 0.0575834028194717, 0.6046257296044528, 0.8825574088961546, 0.39337904374350474, 0.03025992644180806, 0.5749386023943531, 0.04449801315103459, 0.9344582761717264, 0.0800505482129604, 0.8805560303425644, 0.0400252741064802, 0.7704844909455639, 0.19812458338600217, 0.04402768519688937, 0.9412698635764387, 0.8520363336824679, 0.04939341064825901, 0.09878682129651802, 0.048041722420660286, 0.9127927259925454, 0.048041722420660286, 0.960916994917456, 0.905074260402141, 0.11825220741113299, 0.20694136296948273, 0.6799501926140147, 0.9635209071107556, 0.07830510086075589, 0.8874578097552334, 0.026101700286918626, 0.8482159033333391, 0.11309545377777853, 0.9434043942532608, 0.04288201792060276, 0.014294005973534253, 0.0413697741340792, 0.8687652568156631, 0.0827395482681584, 0.7484441820181849, 0.22013064177005437, 0.044026128354010874, 0.35809414625015906, 0.021064361544127004, 0.6319308463238101, 0.04141869868067733, 0.9112113709749012, 0.04141869868067733, 0.03867344018833607, 0.8121422439550575, 0.11602032056500822, 0.9486675469751996, 0.0944745897904961, 0.7243051883938034, 0.15745764965082681, 0.07786512686840394, 0.4087919160591207, 0.5255896063617266, 0.04136854129464137, 0.8687393671874687, 0.08273708258928274, 0.25406545039358475, 0.47990140629899336, 0.26535724818885514, 0.9782549107819882, 0.014822044102757398, 0.014822044102757398, 0.07749191898071058, 0.8911570682781716, 0.14731255392873505, 0.04910418464291168, 0.7856669542865868, 0.05268613162666334, 0.017562043875554448, 0.9307883254043858, 0.1926432525365477, 0.22016371718462596, 0.5779297576096432, 0.6831845771890076, 0.06831845771890076, 0.25050101163596944, 0.9300968493397734, 0.040438993449555365, 0.026959328966370245, 0.014273704327280548, 0.8421485553095523, 0.14273704327280548, 0.9154879143682196, 0.07846597681894693, 0.031386390727578775, 0.894512135735995, 0.5443115240480045, 0.3023952911377803, 0.16127748860681618, 0.23710053010846519, 0.6887205874579226, 0.07903351003615505, 0.06150760130714841, 0.8303526176465036, 0.09226140196072262], \"Term\": [\"_org\", \"_org\", \"_org\", \"affair\", \"affair\", \"affair\", \"air\", \"albania\", \"amadvr\", \"amb\", \"amp\", \"amp\", \"amp\", \"android\", \"attack\", \"attack\", \"attack\", \"authent\", \"baltic\", \"baltic\", \"baltic\", \"bank\", \"benefit\", \"bookreview\", \"bring\", \"bring\", \"bring\", \"chronolog\", \"chronolog\", \"chronolog\", \"circus\", \"cole\", \"cole\", \"cole\", \"collect\", \"collect\", \"collect\", \"complet\", \"complet\", \"complet\", \"condit\", \"condit\", \"condit\", \"consid\", \"construct\", \"construct\", \"countri\", \"countri\", \"countri\", \"crimin\", \"danc\", \"danc\", \"danc\", \"day\", \"day\", \"day\", \"dear\", \"decid\", \"decid\", \"defens\", \"defens\", \"defens\", \"diaz\", \"digit\", \"digit\", \"digit\", \"disappear\", \"disconnect\", \"disconnect\", \"don\", \"don\", \"don\", \"drive\", \"drive\", \"drive\", \"dutch\", \"eeduc\", \"efsi\", \"electr\", \"electr\", \"emh\", \"end\", \"end\", \"end\", \"enjoy\", \"etc\", \"etc\", \"europ\", \"europ\", \"europ\", \"even\", \"even\", \"even\", \"farm\", \"farm\", \"farm\", \"fenero\", \"fernandez\", \"fernandez\", \"fernandez\", \"finland\", \"finland\", \"finland\", \"fur\", \"fur\", \"fur\", \"georg\", \"good\", \"good\", \"good\", \"greec\", \"greec\", \"greec\", \"hand\", \"hand\", \"hand\", \"health\", \"hell\", \"help\", \"help\", \"help\", \"hug\", \"hurt\", \"hurtado\", \"includ\", \"io\", \"itali\", \"italian\", \"javier\", \"javier\", \"javier\", \"joke\", \"joke\", \"joke\", \"journal\", \"just\", \"just\", \"just\", \"karula\", \"khaliavin\", \"khl\", \"klm\", \"lanka\", \"lanka\", \"latvia\", \"latvia\", \"latvia\", \"level\", \"level\", \"liberia\", \"lithuania\", \"lithuania\", \"lithuania\", \"lo\", \"lo\", \"lo\", \"london\", \"love\", \"love\", \"love\", \"luck\", \"lukaku\", \"malmo\", \"manic\", \"manicsin\", \"mark\", \"marri\", \"meddl\", \"meddl\", \"meddl\", \"member\", \"member\", \"member\", \"minibus\", \"minibus\", \"minibus\", \"mint\", \"mint\", \"music\", \"music\", \"nation\", \"nation\", \"nation\", \"nato\", \"nato\", \"nato\", \"network\", \"network\", \"network\", \"neutral\", \"neutral\", \"neutral\", \"new\", \"new\", \"new\", \"news\", \"news\", \"news\", \"novel\", \"old\", \"old\", \"old\", \"onlin\", \"onlin\", \"onlin\", \"parliament\", \"pisa\", \"plz\", \"plz\", \"plz\", \"poland\", \"poland\", \"poland\", \"pre\", \"presenc\", \"presenc\", \"protocol\", \"rememb\", \"rememb\", \"rememb\", \"right\", \"right\", \"right\", \"roam\", \"roam\", \"robledo\", \"roundtrip\", \"royal\", \"russia\", \"russia\", \"russia\", \"russian\", \"russian\", \"russian\", \"say\", \"say\", \"say\", \"school\", \"secur\", \"secur\", \"secur\", \"self\", \"self\", \"set\", \"set\", \"set\", \"shop\", \"shop\", \"shop\", \"short\", \"sign\", \"sign\", \"sign\", \"sinc\", \"sinc\", \"sinc\", \"singl\", \"smart\", \"song\", \"song\", \"song\", \"soro\", \"soviet\", \"soviet\", \"soviet\", \"special\", \"special\", \"spend\", \"spend\", \"spend\", \"stand\", \"stand\", \"stand\", \"start\", \"start\", \"start\", \"state\", \"state\", \"state\", \"step\", \"step\", \"step\", \"street\", \"street\", \"street\", \"sunset\", \"support\", \"support\", \"support\", \"take\", \"take\", \"take\", \"tall\", \"tall\", \"tall\", \"tallinn\", \"tallinn\", \"tallinn\", \"target\", \"target\", \"target\", \"tini\", \"tini\", \"today\", \"today\", \"today\", \"total\", \"total\", \"total\", \"travel\", \"travel\", \"travel\", \"ukrain\", \"ukrain\", \"ukrain\", \"usa\", \"usa\", \"usa\", \"via\", \"via\", \"via\", \"walker\", \"watch\", \"watch\", \"watch\", \"will\", \"will\", \"will\", \"world\", \"world\", \"world\", \"yesterday\", \"yesterday\", \"yesterday\"]}, \"mdsDat\": {\"x\": [-0.14844061153191448, 0.06858836982642401, 0.07985224170549039], \"y\": [0.0063359877284755095, -0.1284159418839852, 0.12207995415550973], \"topics\": [1, 2, 3], \"Freq\": [37.663518416399064, 31.371058976400096, 30.965422607200832], \"cluster\": [1, 1, 1]}, \"plot.opts\": {\"ylab\": \"PC2\", \"xlab\": \"PC1\"}, \"R\": 30, \"topic.order\": [1, 3, 2], \"tinfo\": {\"logprob\": [30.0, 29.0, 28.0, 27.0, 26.0, 25.0, 24.0, 23.0, 22.0, 21.0, 20.0, 19.0, 18.0, 17.0, 16.0, 15.0, 14.0, 13.0, 12.0, 11.0, 10.0, 9.0, 8.0, 7.0, 6.0, 5.0, 4.0, 3.0, 2.0, 1.0, -4.4569, -4.5267, -4.4891, -5.7697, -5.9206, -5.8717, -6.0966, -5.9249, -4.2748, -6.0975, -6.0975, -6.0382, -6.0992, -5.9815, -6.1002, -6.1685, -6.1061, -4.4612, -6.1077, -6.173, -6.1087, -6.3169, -6.1761, -4.5036, -4.409, -6.1798, -6.18, -6.4032, -6.1802, -6.4042, -6.2518, -4.4095, -4.3086, -4.7856, -4.4085, -4.4446, -4.4113, -4.4124, -4.9538, -4.4093, -3.9798, -5.0951, -4.2885, -5.0367, -5.2855, -5.2598, -5.9297, -5.3683, -4.847, -5.1574, -5.8362, -5.7559, -5.5302, -5.5763, -5.5801, -5.5584, -5.5891, -4.9943, -5.3518, -4.9955, -5.4351, -5.6118, -5.6186, -4.9973, -4.4518, -4.6416, -5.5427, -4.8505, -5.3245, -5.4309, -6.3297, -5.3613, -6.4276, -6.3325, -5.4366, -6.335, -5.4373, -5.4389, -6.4353, -5.6119, -6.6683, -6.5526, -6.6721, -5.5338, -6.6733, -5.3201, -6.6784, -4.9414, -5.3713, -4.3795, -4.8116, -4.6663, -5.3934, -4.8065, -5.1546, -5.432, -5.4326, -4.9245, -4.3605, -4.0216, -4.5908, -4.6071, -5.283, -4.8465, -5.3166, -5.4003, -5.1175, -5.0552, -5.0846, -5.3636, -5.3392, -5.1209, -5.1223, -5.1225, -5.5195, -5.526, -5.7184, -5.5278, -5.9001, -5.9663, -6.0371, -5.0931, -6.1129, -6.1156, -6.1156, -6.1184, -6.0443, -6.119, -6.1193, -6.2004, -6.2901, -6.2908, -4.4997, -6.2946, -4.4887, -6.2961, -6.2098, -6.3934, -6.2125, -6.3963, -6.5056, -4.4037, -5.1338, -4.9437, -5.5246, -4.332, -5.0053, -5.9601, -5.5872, -4.4876, -4.2846, -4.4135, -4.5079, -5.8314, -4.5178, -5.6581, -5.6623, -5.836, -5.0618, -5.3275, -5.3864, -5.1736, -5.3062, -5.3902, -4.5905, -5.2423, -4.8375, -5.1427, -5.5033, -5.5185], \"Total\": [83.0, 67.0, 59.0, 63.0, 63.0, 66.0, 56.0, 74.0, 56.0, 70.0, 69.0, 67.0, 49.0, 78.0, 88.0, 80.0, 83.0, 77.0, 81.0, 39.0, 52.0, 82.0, 33.0, 33.0, 88.0, 34.0, 45.0, 28.0, 28.0, 28.0, 67.46707762217267, 63.248520785618226, 66.60951484827282, 18.552741043093665, 16.022758085901405, 16.865644598548965, 13.49230378387685, 16.022811874298533, 83.47087834100174, 13.492313246193362, 13.492202275714149, 14.335719835148046, 13.49218258167559, 15.179919293681019, 13.492501578811774, 12.648781052415623, 13.49167540311848, 69.9593942979685, 13.492189893598008, 12.649130447059445, 13.491752343673161, 10.962492891290474, 12.649320658497984, 67.44825644413875, 74.18582274413622, 12.647399410908303, 12.648088920878703, 10.119180042553397, 12.648396519635481, 10.11872677667102, 11.806190256586337, 78.48968411217137, 88.5898930747922, 53.99630232575623, 80.98246198232496, 81.04827875754154, 86.79713105841302, 88.47958011284811, 48.828652040289086, 95.13460342028468, 172.78723969352794, 45.42596302885584, 126.22152687405058, 52.20024418943632, 41.36576120732501, 43.91199831154897, 17.684176801039268, 49.60394701769861, 177.11971435033132, 94.74107643302274, 22.713784686199823, 31.231778972469186, 83.7470687222538, 74.65287302069808, 88.88810782999732, 102.37302659437678, 88.57002550940412, 33.2695740217494, 23.28866853860201, 33.270428213937485, 21.628925867473775, 18.304362353150538, 18.307176862523644, 34.12247859173007, 59.08380916076026, 49.11100169557035, 19.974451805473354, 39.95023600183829, 24.96753360870002, 22.478074227662983, 9.156439932262817, 24.143684660631806, 8.32433838634455, 9.156701535196987, 22.472913489548684, 9.157168401536648, 22.473317686802684, 22.473594040205896, 8.325380904192677, 19.154965363505468, 6.661563247203413, 7.494450943772714, 6.661884147782901, 20.815240370523252, 6.662003776592465, 25.809142763619565, 6.662605538774891, 38.31168042723904, 24.984213658092035, 70.05889831196481, 45.01978004273968, 52.517708030347144, 24.989558308183003, 46.682793009279386, 32.51630623689368, 24.172237362452254, 24.172957728377384, 44.22157155394014, 88.57002550940412, 177.11971435033132, 83.7470687222538, 83.03767400451501, 31.721698853473697, 74.65287302069808, 31.75457026754714, 25.85753931199533, 82.68086764669734, 126.22152687405058, 172.78723969352794, 33.4727676895551, 77.71251290729023, 28.90905943444655, 28.908253423181254, 28.909206989726194, 19.553673993044807, 19.552280573254134, 16.15167030292366, 19.55149825030229, 13.599327616928155, 12.74873494239466, 11.898521684451557, 30.602138865747513, 11.048817138559235, 11.04814383343737, 11.047957697113395, 11.04762454209949, 11.897585867007836, 11.04755162692167, 11.047596127061206, 10.197636900761633, 9.347495815163343, 9.34743119063027, 56.08331490665027, 9.34675352128774, 56.94098062196244, 9.346415067345585, 10.196603076509701, 8.496828229471031, 10.195382472837336, 8.496134961048321, 7.646195968442376, 63.72188562103857, 30.57542789054515, 37.36577763695354, 21.238972916632374, 83.0507672040901, 39.818400312415704, 13.59357012486922, 21.218096871356224, 77.71251290729023, 102.37302659437678, 88.88810782999732, 82.68086764669734, 16.11328272056036, 94.74107643302274, 20.36486314296948, 20.37569372775979, 16.124827491677355, 47.47354900385348, 33.826007036748265, 34.73223015788335, 51.37087886288563, 41.46937893980984, 36.33659579471635, 177.11971435033132, 48.978251852777994, 172.78723969352794, 83.03767400451501, 33.047006968872495, 39.63933113000709], \"Category\": [\"Default\", \"Default\", \"Default\", \"Default\", \"Default\", \"Default\", \"Default\", \"Default\", \"Default\", \"Default\", \"Default\", \"Default\", \"Default\", \"Default\", \"Default\", \"Default\", \"Default\", \"Default\", \"Default\", \"Default\", \"Default\", \"Default\", \"Default\", \"Default\", \"Default\", \"Default\", \"Default\", \"Default\", \"Default\", \"Default\", \"Topic1\", \"Topic1\", \"Topic1\", \"Topic1\", \"Topic1\", \"Topic1\", \"Topic1\", \"Topic1\", \"Topic1\", \"Topic1\", \"Topic1\", \"Topic1\", \"Topic1\", \"Topic1\", \"Topic1\", \"Topic1\", \"Topic1\", \"Topic1\", \"Topic1\", \"Topic1\", \"Topic1\", \"Topic1\", \"Topic1\", \"Topic1\", \"Topic1\", \"Topic1\", \"Topic1\", \"Topic1\", \"Topic1\", \"Topic1\", \"Topic1\", \"Topic1\", \"Topic1\", \"Topic1\", \"Topic1\", \"Topic1\", \"Topic1\", \"Topic1\", \"Topic1\", \"Topic1\", \"Topic1\", \"Topic1\", \"Topic1\", \"Topic1\", \"Topic1\", \"Topic1\", \"Topic1\", \"Topic1\", \"Topic1\", \"Topic1\", \"Topic1\", \"Topic1\", \"Topic1\", \"Topic1\", \"Topic1\", \"Topic1\", \"Topic1\", \"Topic2\", \"Topic2\", \"Topic2\", \"Topic2\", \"Topic2\", \"Topic2\", \"Topic2\", \"Topic2\", \"Topic2\", \"Topic2\", \"Topic2\", \"Topic2\", \"Topic2\", \"Topic2\", \"Topic2\", \"Topic2\", \"Topic2\", \"Topic2\", \"Topic2\", \"Topic2\", \"Topic2\", \"Topic2\", \"Topic2\", \"Topic2\", \"Topic2\", \"Topic2\", \"Topic2\", \"Topic2\", \"Topic2\", \"Topic2\", \"Topic2\", \"Topic2\", \"Topic2\", \"Topic2\", \"Topic2\", \"Topic2\", \"Topic2\", \"Topic2\", \"Topic2\", \"Topic2\", \"Topic2\", \"Topic2\", \"Topic2\", \"Topic2\", \"Topic2\", \"Topic2\", \"Topic2\", \"Topic2\", \"Topic2\", \"Topic2\", \"Topic2\", \"Topic2\", \"Topic2\", \"Topic2\", \"Topic3\", \"Topic3\", \"Topic3\", \"Topic3\", \"Topic3\", \"Topic3\", \"Topic3\", \"Topic3\", \"Topic3\", \"Topic3\", \"Topic3\", \"Topic3\", \"Topic3\", \"Topic3\", \"Topic3\", \"Topic3\", \"Topic3\", \"Topic3\", \"Topic3\", \"Topic3\", \"Topic3\", \"Topic3\", \"Topic3\", \"Topic3\", \"Topic3\", \"Topic3\", \"Topic3\", \"Topic3\", \"Topic3\", \"Topic3\", \"Topic3\", \"Topic3\", \"Topic3\", \"Topic3\", \"Topic3\", \"Topic3\", \"Topic3\", \"Topic3\", \"Topic3\", \"Topic3\", \"Topic3\", \"Topic3\", \"Topic3\", \"Topic3\", \"Topic3\", \"Topic3\", \"Topic3\", \"Topic3\", \"Topic3\", \"Topic3\", \"Topic3\", \"Topic3\", \"Topic3\", \"Topic3\", \"Topic3\", \"Topic3\", \"Topic3\", \"Topic3\", \"Topic3\"], \"Term\": [\"poland\", \"target\", \"affair\", \"_org\", \"watch\", \"defens\", \"total\", \"usa\", \"lo\", \"via\", \"spend\", \"member\", \"hand\", \"plz\", \"help\", \"sign\", \"lithuania\", \"fernandez\", \"greec\", \"complet\", \"don\", \"javier\", \"meddl\", \"neutral\", \"world\", \"joke\", \"news\", \"electr\", \"decid\", \"disconnect\", \"target\", \"_org\", \"defens\", \"georg\", \"enjoy\", \"health\", \"luck\", \"dutch\", \"poland\", \"crimin\", \"liberia\", \"air\", \"soro\", \"includ\", \"hug\", \"london\", \"albania\", \"spend\", \"marri\", \"karula\", \"pre\", \"consid\", \"sunset\", \"member\", \"usa\", \"klm\", \"roundtrip\", \"malmo\", \"royal\", \"khl\", \"amadvr\", \"plz\", \"help\", \"finland\", \"sign\", \"greec\", \"fur\", \"farm\", \"onlin\", \"end\", \"amp\", \"shop\", \"nato\", \"love\", \"day\", \"ukrain\", \"special\", \"will\", \"tallinn\", \"russia\", \"start\", \"just\", \"countri\", \"good\", \"latvia\", \"baltic\", \"world\", \"meddl\", \"journal\", \"neutral\", \"mark\", \"mint\", \"condit\", \"joke\", \"affair\", \"hand\", \"chronolog\", \"complet\", \"drive\", \"presenc\", \"amb\", \"step\", \"circus\", \"parliament\", \"self\", \"novel\", \"minibus\", \"roam\", \"singl\", \"collect\", \"protocol\", \"italian\", \"bank\", \"sinc\", \"disappear\", \"tini\", \"bookreview\", \"soviet\", \"set\", \"via\", \"news\", \"don\", \"construct\", \"even\", \"yesterday\", \"stand\", \"tall\", \"old\", \"world\", \"tallinn\", \"countri\", \"russian\", \"right\", \"good\", \"support\", \"street\", \"javier\", \"nato\", \"amp\", \"attack\", \"fernandez\", \"electr\", \"decid\", \"disconnect\", \"authent\", \"android\", \"itali\", \"io\", \"benefit\", \"short\", \"efsi\", \"network\", \"smart\", \"khaliavin\", \"hurtado\", \"robledo\", \"dear\", \"fenero\", \"diaz\", \"school\", \"manic\", \"eeduc\", \"lo\", \"emh\", \"total\", \"pisa\", \"lukaku\", \"manicsin\", \"hurt\", \"hell\", \"walker\", \"watch\", \"cole\", \"bring\", \"level\", \"lithuania\", \"europ\", \"etc\", \"danc\", \"fernandez\", \"baltic\", \"latvia\", \"javier\", \"lanka\", \"russia\", \"today\", \"music\", \"rememb\", \"state\", \"song\", \"say\", \"take\", \"nation\", \"travel\", \"tallinn\", \"new\", \"amp\", \"russian\", \"secur\", \"digit\"], \"loglift\": [30.0, 29.0, 28.0, 27.0, 26.0, 25.0, 24.0, 23.0, 22.0, 21.0, 20.0, 19.0, 18.0, 17.0, 16.0, 15.0, 14.0, 13.0, 12.0, 11.0, 10.0, 9.0, 8.0, 7.0, 6.0, 5.0, 4.0, 3.0, 2.0, 1.0, 0.9545, 0.9493, 0.9351, 0.9327, 0.9285, 0.926, 0.9243, 0.9241, 0.9237, 0.9235, 0.9234, 0.9221, 0.9217, 0.9215, 0.9207, 0.917, 0.9148, 0.914, 0.9132, 0.9124, 0.9123, 0.9117, 0.9094, 0.908, 0.9075, 0.9058, 0.9056, 0.9055, 0.9053, 0.9045, 0.9026, 0.8506, 0.8305, 0.8485, 0.8203, 0.7834, 0.7482, 0.7279, 0.781, 0.6585, 0.4912, 0.7119, 0.4965, 0.6312, 0.6151, 0.581, 0.8206, 0.3507, -0.4008, -0.0855, 0.6638, 0.4257, -0.3349, -0.2661, -0.4444, -0.5639, -0.4499, 1.1241, 1.1233, 1.1228, 1.1139, 1.1041, 1.0971, 1.0958, 1.0922, 1.0874, 1.0859, 1.085, 1.081, 1.0797, 1.0789, 1.0777, 1.0763, 1.0761, 1.0742, 1.0735, 1.0734, 1.0719, 1.0684, 1.0585, 1.0583, 1.0563, 1.0546, 1.0535, 1.0533, 1.0522, 1.0481, 1.0359, 1.0335, 0.9942, 1.0043, 0.9956, 1.0112, 0.9732, 0.9867, 1.0059, 1.0052, 0.9093, 0.7787, 0.4247, 0.6045, 0.5967, 0.8831, 0.4637, 0.8484, 0.9702, 0.0906, -0.2702, -0.6136, 0.7487, -0.0692, 1.1379, 1.1366, 1.1363, 1.1304, 1.1239, 1.1226, 1.1222, 1.1129, 1.1113, 1.1095, 1.1089, 1.1078, 1.1052, 1.1052, 1.1025, 1.1024, 1.1018, 1.1016, 1.1004, 1.0978, 1.0971, 1.0966, 1.0935, 1.0923, 1.0919, 1.0912, 1.09, 1.0886, 1.0871, 1.0832, 1.0648, 1.069, 1.0585, 1.0426, 0.8716, 0.9335, 1.0533, 0.981, 0.7824, 0.7098, 0.7222, 0.7002, 1.012, 0.5541, 0.9511, 0.9464, 1.0067, 0.7011, 0.7743, 0.689, 0.5104, 0.5919, 0.64, -0.1443, 0.4894, -0.3665, 0.0611, 0.6219, 0.4247], \"Freq\": [83.0, 67.0, 59.0, 63.0, 63.0, 66.0, 56.0, 74.0, 56.0, 70.0, 69.0, 67.0, 49.0, 78.0, 88.0, 80.0, 83.0, 77.0, 81.0, 39.0, 52.0, 82.0, 33.0, 33.0, 88.0, 34.0, 45.0, 28.0, 28.0, 28.0, 66.00278412966016, 61.55187408955715, 63.91170417852523, 17.757984927969147, 15.271917942856545, 16.036049389389, 12.806857364300543, 15.205191853592096, 79.18053645285774, 12.795643653420605, 12.794814765192033, 13.576415482100591, 12.772906245901977, 14.368554031396101, 12.760407972718802, 11.918694110537642, 12.6850172148758, 65.71994955906786, 12.664755892391263, 11.864330066951622, 12.653061564620828, 10.274660427786003, 11.828382750992148, 62.986776281501086, 69.23925031947914, 11.78402215692082, 11.782467182964128, 9.425427574233192, 11.779089921975851, 9.415794934418418, 10.965117769413089, 69.207620654095, 76.55523452967773, 47.51021952820108, 69.27127679671236, 66.82077190189406, 69.08050504784423, 69.00569096978838, 40.15713008351561, 69.21858726799128, 106.35434121483031, 34.86414143876208, 78.10912016142115, 36.95981230471291, 28.82024906765349, 29.569944534142248, 15.132445845454303, 26.529144248129136, 44.68239620850571, 32.7576553818424, 16.615203195844753, 18.005425029002765, 22.564829840931477, 21.548677651499773, 21.466448672499403, 21.937765624879347, 21.272666852833623, 32.118800617637234, 22.46612226315371, 32.08002173556381, 20.668631663117434, 17.321725143469983, 17.203849197147793, 32.02256857680595, 55.25264700756534, 45.704716449529954, 18.56171261803367, 37.08860494507164, 23.086795992367794, 20.757469623052845, 8.449271004381545, 22.251776715624953, 7.661378526728849, 8.425551914288528, 20.63905214218278, 8.40425313563057, 20.624244925698704, 20.592147804296705, 7.602065603130786, 17.319396412118472, 6.021953589581268, 6.760889914584341, 5.999630990427034, 18.726474702212585, 5.992025087191564, 23.18934769027871, 5.961683206986041, 33.86489464028581, 22.031345132039686, 59.396392040134714, 38.55786523489656, 44.588668255135424, 21.54956260556218, 38.755144961891766, 27.36172017736791, 20.73465217353913, 20.721972972228254, 34.44010015995506, 60.53497835561592, 84.96094142389836, 48.08630766151479, 47.30748609661344, 24.065928440027676, 37.23714756416328, 23.270340714485286, 21.402240072324016, 28.397429335861005, 30.220580275371553, 29.3471476798954, 22.20068676990662, 22.74912818586922, 27.93290500010567, 27.894632317316347, 27.88821903350807, 18.75163420165541, 18.628627154749207, 15.368238551390075, 18.596628313261625, 12.814920757459296, 11.994579919657987, 11.174259746245644, 28.72278267143439, 10.35883265839703, 10.331050655169468, 10.330871096777187, 10.302409941721573, 11.094810914969099, 10.295560876484508, 10.292998441270335, 9.490593922860201, 8.676391348438413, 8.670262558863053, 51.99227424892607, 8.638202419398311, 52.562400594310866, 8.624493635699743, 9.402357731191293, 7.825438961160069, 9.377229869933517, 7.802257882676633, 6.994614023921153, 57.22971921423304, 27.57503298295075, 33.34811818752691, 18.656031507189144, 61.48105996255893, 31.358509830419187, 12.069008592523769, 17.52349897517083, 52.62168936207383, 64.46405663885768, 56.6719562094254, 51.56595157825276, 13.726586914781072, 51.058333089871766, 16.32439244128186, 16.25596924732732, 13.663727598035207, 29.634603430795888, 22.719370194404153, 21.420166703353367, 26.50098924905524, 23.20903193017469, 21.33902402817387, 47.47637671792724, 24.741420457089163, 37.085750798802216, 27.331894231011717, 19.057959073735905, 18.769995120577107]}};\n",
       "\n",
       "function LDAvis_load_lib(url, callback){\n",
       "  var s = document.createElement('script');\n",
       "  s.src = url;\n",
       "  s.async = true;\n",
       "  s.onreadystatechange = s.onload = callback;\n",
       "  s.onerror = function(){console.warn(\"failed to load library \" + url);};\n",
       "  document.getElementsByTagName(\"head\")[0].appendChild(s);\n",
       "}\n",
       "\n",
       "if(typeof(LDAvis) !== \"undefined\"){\n",
       "   // already loaded: just create the visualization\n",
       "   !function(LDAvis){\n",
       "       new LDAvis(\"#\" + \"ldavis_el1128023067768338645886844782\", ldavis_el1128023067768338645886844782_data);\n",
       "   }(LDAvis);\n",
       "}else if(typeof define === \"function\" && define.amd){\n",
       "   // require.js is available: use it to load d3/LDAvis\n",
       "   require.config({paths: {d3: \"https://cdnjs.cloudflare.com/ajax/libs/d3/3.5.5/d3.min\"}});\n",
       "   require([\"d3\"], function(d3){\n",
       "      window.d3 = d3;\n",
       "      LDAvis_load_lib(\"https://cdn.rawgit.com/bmabey/pyLDAvis/files/ldavis.v1.0.0.js\", function(){\n",
       "        new LDAvis(\"#\" + \"ldavis_el1128023067768338645886844782\", ldavis_el1128023067768338645886844782_data);\n",
       "      });\n",
       "    });\n",
       "}else{\n",
       "    // require.js not available: dynamically load d3 & LDAvis\n",
       "    LDAvis_load_lib(\"https://cdnjs.cloudflare.com/ajax/libs/d3/3.5.5/d3.min.js\", function(){\n",
       "         LDAvis_load_lib(\"https://cdn.rawgit.com/bmabey/pyLDAvis/files/ldavis.v1.0.0.js\", function(){\n",
       "                 new LDAvis(\"#\" + \"ldavis_el1128023067768338645886844782\", ldavis_el1128023067768338645886844782_data);\n",
       "            })\n",
       "         });\n",
       "}\n",
       "</script>"
      ],
      "text/plain": [
       "<IPython.core.display.HTML object>"
      ]
     },
     "execution_count": 17,
     "metadata": {},
     "output_type": "execute_result"
    }
   ],
   "source": [
    "pyLDAvis.display(estldavis)"
   ]
  },
  {
   "cell_type": "code",
   "execution_count": 18,
   "metadata": {
    "collapsed": false
   },
   "outputs": [
    {
     "data": {
      "text/plain": [
       "[(0, '0.024*\"riga\" + 0.021*\"europ\" + 0.018*\"holiday\"'),\n",
       " (1, '0.011*\"bowl\" + 0.011*\"nine\" + 0.010*\"just\"'),\n",
       " (2, '0.018*\"riga\" + 0.016*\"don\" + 0.014*\"amp\"')]"
      ]
     },
     "execution_count": 18,
     "metadata": {},
     "output_type": "execute_result"
    }
   ],
   "source": [
    "#sama asi Läti tweetide puhul\n",
    "latdictionary = Dictionary(latstem)\n",
    "latcorpus = [latdictionary.doc2bow(text) for text in latstem]\n",
    "#mudel\n",
    "latmudel = LdaModel(corpus=latcorpus, id2word=latdictionary, \n",
    "                    iterations=500, num_topics=n_topics_lat, random_state=1)\n",
    "latmudel.print_topics(num_topics=3, num_words=3)"
   ]
  },
  {
   "cell_type": "markdown",
   "metadata": {},
   "source": [
    "Esimene teema tundub olevat seotud pühadega, teine spordiga, kolmas on rahvusvaheline teema."
   ]
  },
  {
   "cell_type": "code",
   "execution_count": 19,
   "metadata": {
    "collapsed": false
   },
   "outputs": [
    {
     "data": {
      "text/html": [
       "\n",
       "<link rel=\"stylesheet\" type=\"text/css\" href=\"https://cdn.rawgit.com/bmabey/pyLDAvis/files/ldavis.v1.0.0.css\">\n",
       "\n",
       "\n",
       "<div id=\"ldavis_el1128023067768335041645354542\"></div>\n",
       "<script type=\"text/javascript\">\n",
       "\n",
       "var ldavis_el1128023067768335041645354542_data = {\"lambda.step\": 0.01, \"token.table\": {\"Topic\": [1, 2, 3, 1, 2, 3, 3, 1, 2, 3, 3, 3, 1, 2, 3, 1, 2, 3, 1, 2, 3, 2, 3, 1, 2, 3, 1, 2, 3, 1, 2, 1, 2, 3, 1, 2, 3, 1, 3, 1, 2, 3, 1, 2, 3, 2, 2, 3, 1, 2, 3, 1, 3, 1, 2, 3, 1, 2, 3, 1, 2, 3, 3, 1, 2, 3, 3, 1, 2, 2, 3, 1, 2, 3, 1, 2, 3, 1, 2, 3, 1, 2, 1, 1, 2, 3, 1, 2, 3, 1, 2, 3, 1, 2, 3, 3, 1, 1, 2, 3, 3, 2, 1, 1, 2, 3, 1, 1, 2, 3, 1, 2, 3, 1, 2, 3, 1, 3, 1, 2, 1, 2, 3, 1, 1, 2, 3, 1, 1, 2, 3, 1, 2, 3, 1, 2, 3, 1, 2, 3, 1, 2, 3, 1, 2, 3, 1, 2, 2, 1, 2, 3, 1, 2, 3, 1, 2, 3, 1, 2, 3, 1, 1, 2, 3, 1, 2, 3, 1, 2, 3, 2, 1, 2, 3, 3, 1, 1, 2, 3, 1, 2, 3, 1, 3, 1, 1, 2, 3, 3, 2, 2, 1, 2, 3, 1, 2, 3, 1, 2, 3, 1, 2, 3, 2, 1, 3, 1, 2, 3, 1, 2, 3, 1, 2, 3, 3, 1, 2, 3, 1, 2, 3, 1, 2, 3, 1, 2, 3, 1, 2, 3, 1, 2, 1, 2, 3, 1, 2, 3, 1, 2, 3, 1, 2, 3, 3, 1, 3, 1, 2, 3, 3, 1, 2, 3, 1, 2, 3, 1, 3, 1, 2, 3, 1, 1, 2, 3, 3, 1, 2, 3, 2, 3, 1, 1, 3, 3, 1, 2, 3, 1, 3, 1, 2, 3, 1, 2, 3, 1, 2, 3, 1, 2, 3, 1, 3, 3, 1, 2, 3, 1, 2, 3, 1, 2, 3, 1, 3, 1, 2, 3, 1, 3, 1, 2, 3, 1, 2, 3, 1, 2, 3, 1, 3, 3, 1, 1, 3, 2, 1, 2, 3, 1, 1, 2, 3, 1, 2, 3, 1, 2, 1, 2, 3, 1, 2, 3, 1, 3, 1, 2, 3, 1, 2, 3, 1, 2, 3, 1, 2, 3, 1, 2, 3, 1, 2, 3, 2, 2, 1, 2, 3, 2], \"Freq\": [0.7479282753261582, 0.23211567165294567, 0.02579063018366063, 0.9255845378435642, 0.031316986346171145, 0.9395095903851344, 0.9548335295854038, 0.3492086201491078, 0.04656114935321437, 0.628575516268394, 0.9148449919065034, 0.9747330185024662, 0.5096070663875103, 0.4004055521616153, 0.09706801264524006, 0.5573354997303491, 0.25212796416372935, 0.19241344633547766, 0.12027803475997671, 0.19244485561596275, 0.6735569946558696, 0.8826976443880686, 0.9745946506748022, 0.3179303569694663, 0.5298839282824438, 0.14130238087531835, 0.1338513151327464, 0.1338513151327464, 0.7361822332301052, 0.9505245539645643, 0.028803774362562554, 0.01881658276826855, 0.01881658276826855, 0.9784623039499647, 0.1870660916616821, 0.053447454760480594, 0.7482643666467284, 0.0812382506571782, 0.8936207572289602, 0.6980908531394424, 0.2559666461511289, 0.046539390209296164, 0.17608671970442247, 0.05869557323480749, 0.7630424520524973, 0.9248241064791853, 0.03702739811684086, 0.9627123510378625, 0.049670453398422854, 0.8319800944235828, 0.11175852014645142, 0.8455610609550167, 0.9747530572455102, 0.8377294121578034, 0.019945938384709604, 0.15956750707767683, 0.013576244245583213, 0.6109309910512446, 0.38013483887632993, 0.016286828589988072, 0.7329072865494632, 0.26058925743980915, 0.974705851108182, 0.5490744885653914, 0.3111422101870552, 0.14641986361743772, 0.9749677578719779, 0.8768299803102343, 0.06263071287930246, 0.9808434010636229, 0.974624793704311, 0.9266950809898329, 0.03309625289249403, 0.03309625289249403, 0.03358829569000101, 0.9404722793200283, 0.03358829569000101, 0.7403371669963813, 0.24677905566546043, 0.024677905566546043, 0.06716354580446361, 0.9402896412624905, 0.9011532855427244, 0.8588043151064761, 0.03541461093222582, 0.10624383279667746, 0.0734153608814892, 0.8809843305778704, 0.9747297596598037, 0.025055025979979127, 0.9771460132191859, 0.025055025979979127, 0.03018273370597806, 0.9658474785912979, 0.03018273370597806, 0.9758976366842882, 0.9138449240518814, 0.9593882778859114, 0.020412516550764075, 0.020412516550764075, 0.9747000034903376, 0.9696292023700265, 0.9253124203655628, 0.03975891033337444, 0.9303585018009619, 0.031807128266699555, 0.9139600105755386, 0.04689663414096464, 0.04689663414096464, 0.8910360486783282, 0.7389761932065457, 0.237528062102104, 0.026392006900233776, 0.12717102785608733, 0.06358551392804367, 0.8054165097552197, 0.9731270689510161, 0.03742796419042369, 0.9743637094715604, 0.029526173014289708, 0.7320120515985632, 0.2524179488270908, 0.025241794882709077, 0.9006276665795194, 0.016281490580953087, 0.732667076142889, 0.24422235871429632, 0.9206065953327504, 0.05069525434567232, 0.40556203476537855, 0.5407493796871714, 0.1761679042586334, 0.0587226347528778, 0.7633942517874114, 0.02563385241757227, 0.9228186870326017, 0.05126770483514454, 0.9648024536911805, 0.01968984599369756, 0.01968984599369756, 0.09852442590939331, 0.2561635073644226, 0.6502612110019959, 0.809301127138092, 0.1387373360808158, 0.04624577869360526, 0.9012624131213566, 0.9809433865568414, 0.9248629735507108, 0.6551654052423744, 0.19654962157271233, 0.14741221617953423, 0.6419700889112928, 0.3209850444556464, 0.017832502469758135, 0.0826136212602279, 0.9087498338625071, 0.01652272425204558, 0.9769158545642946, 0.02078544371413393, 0.02078544371413393, 0.9377368628896039, 0.08884840819932467, 0.9062537636331117, 0.008884840819932467, 0.127125989916169, 0.0635629949580845, 0.8051312694690703, 0.07828883029664, 0.25052425694924796, 0.688941706610432, 0.8827938748077184, 0.7326403871932186, 0.22737115464617128, 0.025263461627352362, 0.9748034251340303, 0.9210327437461132, 0.9001433964245297, 0.9053877860932156, 0.9145542331581933, 0.03169174433773031, 0.7130642475989319, 0.2535339547018425, 0.24011254421531117, 0.7546394246766923, 0.9009780174851229, 0.21905845280631778, 0.1947186247167269, 0.5841558741501808, 0.9143366047659909, 0.9413970800184756, 0.980797757919831, 0.02505260981583969, 0.977051782817748, 0.02505260981583969, 0.5096289760466773, 0.4215449554953998, 0.06920887329028952, 0.8143090155020708, 0.14541232419679836, 0.05816492967871935, 0.052913614011008615, 0.9418623293959533, 0.010582722802201723, 0.9415474253327731, 0.8785176502526496, 0.06275126073233211, 0.025049980399165984, 0.9769492355674734, 0.025049980399165984, 0.01628354646063212, 0.7327595907284453, 0.2605367433701139, 0.02504953609136356, 0.9518823714718152, 0.02504953609136356, 0.9630916894969402, 0.8373537546931831, 0.019936994159361503, 0.15949595327489202, 0.12710296906026114, 0.06355148453013057, 0.783801642538277, 0.01930128010495768, 0.9843652853528415, 0.01930128010495768, 0.09256754075646777, 0.8948195606458551, 0.03085584691882259, 0.15445538951948964, 0.5957565024323171, 0.2537481399248758, 0.018988353667260864, 0.987394390697565, 0.17674625388059637, 0.016067841261872398, 0.8033920630936199, 0.10016866015399872, 0.26043851640039667, 0.6410794249855918, 0.5489191057469195, 0.2927568563983571, 0.14637842819917854, 0.016283954667861103, 0.7327779600537497, 0.26054327468577765, 0.937979459390106, 0.06075742048656576, 0.9113613072984864, 0.13677168664844278, 0.045590562216147594, 0.8206301198906567, 0.9747641921915995, 0.0638978467598351, 0.0638978467598351, 0.8945698546376916, 0.015652406479768063, 0.7200106980693309, 0.26609091015605707, 0.8786179556580296, 0.06275842540414497, 0.8057502052190348, 0.14921300096648793, 0.05968520038659517, 0.9013524015019199, 0.016286495202601267, 0.732892284117057, 0.2605839232416203, 0.933500666776821, 0.17630502783819682, 0.21548392291335167, 0.5876834261273227, 0.03703210344905376, 0.9628346896753978, 0.8760810870838543, 0.9378628620186259, 0.9747804943251178, 0.9748058159840647, 0.43793100141280983, 0.5423916072543975, 0.020088578046459166, 0.9043432448933351, 0.0904343244893335, 0.01628191979972196, 0.7326863909874882, 0.24422879699582942, 0.5113265053013657, 0.4431496379278503, 0.05113265053013657, 0.030189831006818487, 0.9660745922181916, 0.030189831006818487, 0.035849144698599414, 0.035849144698599414, 0.9320777621635847, 0.9375362381728429, 0.8942139431598628, 0.97470228810773, 0.6194251518944869, 0.23683902866553913, 0.1275287077429826, 0.014543855977002881, 0.6544735189651296, 0.33450868747106627, 0.8467678168440913, 0.10584597710551141, 0.0352819923685038, 0.12104925391499165, 0.8473447774049415, 0.0274194611231384, 0.8774227559404288, 0.0822583833694152, 0.05788135059589754, 0.9261016095343606, 0.9794109398329615, 0.020404394579853363, 0.020404394579853363, 0.01898914001896453, 0.9874352809861554, 0.01898914001896453, 0.09387906402318082, 0.8918511082202177, 0.023469766005795204, 0.04523270040198513, 0.9498867084416879, 0.8938213971252555, 0.9742722695618176, 0.06394239366867023, 0.8951935113613833, 0.9247589248509912, 0.7607797817242702, 0.05434141298030501, 0.16302423894091503, 0.9207464908629466, 0.962241579844918, 0.032074719328163935, 0.032074719328163935, 0.6852114246970109, 0.13983906626469608, 0.18179078614410493, 0.9744207593685958, 0.02952790179904836, 0.5010793878060471, 0.46045132933528654, 0.05417074462768077, 0.509698833349617, 0.38834196826637485, 0.09708549206659371, 0.063956812179835, 0.8953953705176899, 0.9696505313646883, 0.019012755516954673, 0.019012755516954673, 0.14383374072181732, 0.12585452313159015, 0.7371479211993137, 0.3537818382074689, 0.5170657635339929, 0.12926644088349823, 0.15918765315895925, 0.12381261912363496, 0.7251881977241477, 0.8255751024899269, 0.015576888726225036, 0.15576888726225036, 0.14144823937121595, 0.2828964787424319, 0.5657929574848638, 0.9053076502775788, 0.929277519873066, 0.0183973808854398, 0.9750611869283095, 0.0183973808854398, 0.9414330218115878], \"Term\": [\"_aslund\", \"_aslund\", \"_aslund\", \"_lt\", \"advanc\", \"advanc\", \"agai\", \"air\", \"air\", \"air\", \"airborn\", \"allevi\", \"amjoy\", \"amjoy\", \"amjoy\", \"amp\", \"amp\", \"amp\", \"attack\", \"attack\", \"attack\", \"bacon\", \"baltar\", \"baltic\", \"baltic\", \"baltic\", \"beat\", \"beat\", \"beat\", \"biz\", \"biz\", \"bowl\", \"bowl\", \"bowl\", \"brooklyn\", \"brooklyn\", \"brooklyn\", \"calfex\", \"calfex\", \"can\", \"can\", \"can\", \"captain\", \"captain\", \"captain\", \"challeng\", \"chirp\", \"chirp\", \"christma\", \"christma\", \"christma\", \"christmasmarket\", \"civilian\", \"cnn\", \"cnn\", \"cnn\", \"coin\", \"coin\", \"coin\", \"collector\", \"collector\", \"collector\", \"colour\", \"come\", \"come\", \"come\", \"cosponsor\", \"counterpart\", \"counterpart\", \"culinari\", \"daugavpil\", \"deal\", \"deal\", \"deal\", \"decid\", \"decid\", \"decid\", \"defens\", \"defens\", \"defens\", \"disconnect\", \"disconnect\", \"discuss\", \"don\", \"don\", \"don\", \"done\", \"done\", \"draft\", \"dub\", \"dub\", \"dub\", \"dworkinreport\", \"dworkinreport\", \"dworkinreport\", \"dynam\", \"earlier\", \"eddi\", \"eddi\", \"eddi\", \"effort\", \"electr\", \"etsi\", \"europ\", \"europ\", \"europ\", \"europea\", \"eurovis\", \"eurovis\", \"eurovis\", \"expenditur\", \"expenditur\", \"expenditur\", \"exploit\", \"exploit\", \"exploit\", \"export\", \"export\", \"extens\", \"extens\", \"fast\", \"fast\", \"fast\", \"feat\", \"featur\", \"featur\", \"featur\", \"februari\", \"final\", \"final\", \"final\", \"fli\", \"fli\", \"fli\", \"footbal\", \"footbal\", \"footbal\", \"ford\", \"ford\", \"ford\", \"franc\", \"franc\", \"franc\", \"free\", \"free\", \"free\", \"futur\", \"gar\\u0161o\", \"gem\", \"girl\", \"girl\", \"girl\", \"good\", \"good\", \"good\", \"happi\", \"happi\", \"happi\", \"harrison\", \"harrison\", \"harrison\", \"herzegovina\", \"holiday\", \"holiday\", \"holiday\", \"honeypot\", \"honeypot\", \"honeypot\", \"http\", \"http\", \"http\", \"improvis\", \"increas\", \"increas\", \"increas\", \"incurvatur\", \"independ\", \"internationalmigrantday\", \"inv\", \"iveta\", \"jani\", \"jani\", \"jani\", \"japan\", \"japan\", \"japon\", \"just\", \"just\", \"just\", \"koka\", \"ladi\", \"lai\", \"liberti\", \"liberti\", \"liberti\", \"lithuania\", \"lithuania\", \"lithuania\", \"live\", \"live\", \"live\", \"market\", \"market\", \"market\", \"medicin\", \"met\", \"met\", \"milda\", \"milda\", \"milda\", \"monkey\", \"monkey\", \"monkey\", \"mother\", \"mother\", \"mother\", \"msg\", \"msnbc\", \"msnbc\", \"msnbc\", \"mssqld\", \"mssqld\", \"mssqld\", \"nba\", \"nba\", \"nba\", \"network\", \"network\", \"network\", \"new\", \"new\", \"new\", \"nfl\", \"nfl\", \"nine\", \"nine\", \"nine\", \"olymp\", \"olymp\", \"olymp\", \"onlin\", \"onlin\", \"onlin\", \"paint\", \"paint\", \"paint\", \"paralymp\", \"plan\", \"plan\", \"play\", \"play\", \"play\", \"plight\", \"polic\", \"polic\", \"polic\", \"popular\", \"popular\", \"popular\", \"pray\", \"pray\", \"present\", \"present\", \"present\", \"pressconferen\", \"princess\", \"princess\", \"princess\", \"proof\", \"qualif\", \"qualif\", \"qualif\", \"rama\", \"rama\", \"rank\", \"recommend\", \"resolut\", \"revers\", \"riga\", \"riga\", \"riga\", \"round\", \"round\", \"rozent\", \"rozent\", \"rozent\", \"russia\", \"russia\", \"russia\", \"russianhack\", \"russianhack\", \"russianhack\", \"sabr\", \"sabr\", \"sabr\", \"sale\", \"saturdayswag\", \"shape\", \"shop\", \"shop\", \"shop\", \"silver\", \"silver\", \"silver\", \"song\", \"song\", \"song\", \"soon\", \"soon\", \"speak\", \"speak\", \"speak\", \"spend\", \"spend\", \"stanford\", \"stanford\", \"stanford\", \"startup\", \"startup\", \"startup\", \"statu\", \"statu\", \"statu\", \"stori\", \"stori\", \"strongeurop\", \"talkin\", \"tech\", \"tech\", \"ticker\", \"time\", \"time\", \"time\", \"tonight\", \"trade\", \"trade\", \"trade\", \"travel\", \"travel\", \"travel\", \"treason\", \"treason\", \"trump\", \"trump\", \"trump\", \"trumpleak\", \"trumpleak\", \"trumpleak\", \"ukrainian\", \"ukrainian\", \"uruguay\", \"uruguay\", \"uruguay\", \"use\", \"use\", \"use\", \"video\", \"video\", \"video\", \"watch\", \"watch\", \"watch\", \"watchcc\", \"watchcc\", \"watchcc\", \"will\", \"will\", \"will\", \"word\", \"wrote\", \"xma\", \"xma\", \"xma\", \"yet\"]}, \"mdsDat\": {\"x\": [-0.01450834830304047, -0.13145513551244772, 0.14596348381548815], \"y\": [-0.15014534116711162, 0.08685104856882847, 0.0632942925982831], \"topics\": [1, 2, 3], \"Freq\": [37.13384256020165, 34.45895366510747, 28.40720377469089], \"cluster\": [1, 1, 1]}, \"plot.opts\": {\"ylab\": \"PC2\", \"xlab\": \"PC1\"}, \"R\": 30, \"topic.order\": [3, 1, 2], \"tinfo\": {\"logprob\": [30.0, 29.0, 28.0, 27.0, 26.0, 25.0, 24.0, 23.0, 22.0, 21.0, 20.0, 19.0, 18.0, 17.0, 16.0, 15.0, 14.0, 13.0, 12.0, 11.0, 10.0, 9.0, 8.0, 7.0, 6.0, 5.0, 4.0, 3.0, 2.0, 1.0, -4.769, -5.2104, -5.2128, -5.2132, -4.8455, -4.8659, -4.8128, -4.8512, -5.3033, -5.4594, -6.0376, -6.0431, -5.2123, -6.1134, -5.3604, -6.1173, -6.4066, -6.1855, -6.4968, -6.4104, -6.4989, -6.4135, -6.5041, -6.6002, -6.6069, -6.7136, -6.6094, -6.611, -6.6134, -6.8465, -5.7267, -4.1347, -6.049, -6.0524, -6.0506, -4.7375, -4.9699, -5.5082, -4.9772, -5.1468, -5.3903, -5.4278, -5.3664, -4.8204, -5.333, -5.3006, -5.3595, -4.279, -5.3345, -4.3132, -5.019, -4.0131, -4.6169, -5.1121, -5.3368, -5.1714, -4.9703, -4.9731, -4.7601, -5.1053, -5.3184, -5.2968, -5.31, -4.6883, -4.6896, -4.6597, -4.7093, -4.9736, -5.1644, -5.3016, -4.9796, -4.9804, -5.1675, -4.986, -5.9041, -6.2173, -6.2173, -6.2184, -6.294, -4.1484, -6.2962, -6.377, -6.3775, -5.0364, -5.3068, -6.1556, -5.3083, -6.3802, -3.8713, -6.3876, -6.5742, -6.576, -6.3942, -4.0093, -4.6268, -4.9912, -5.2768, -5.1653, -4.4265, -6.1235, -4.816, -4.8204, -4.823, -4.8232, -4.8265, -4.8271, -4.7991, -3.7272, -4.8238, -4.3016, -4.6505, -4.8199, -4.426, -4.8274, -4.6847, -4.8247, -4.9895, -4.4887, -5.1753, -5.2097, -5.1805, -5.1845, -5.39, -5.8592, -5.0333, -5.9958, -5.9327, -5.1803, -6.1449, -6.0023, -6.226, -6.2297, -6.0102, -6.0101, -6.417, -6.4197, -6.4202, -6.4205, -6.4206, -6.4209, -6.421, -6.4211, -6.4211, -6.4214, -6.4219, -6.4222, -6.423, -5.4693, -5.6971, -5.7507, -5.8018, -5.8045, -4.5246, -5.3871, -5.8167, -4.8642, -4.8026, -4.8098, -4.8146, -4.7185, -4.7363, -5.0985, -5.1806, -4.6645, -5.1883, -5.3411, -4.5647, -5.0961, -4.9554, -4.6529, -4.9786, -5.3456, -5.0276, -5.1514, -4.9752, -5.1117, -5.0773, -5.3123, -5.3066], \"Total\": [125.0, 112.0, 94.0, 248.0, 53.0, 112.0, 54.0, 52.0, 52.0, 51.0, 62.0, 52.0, 60.0, 50.0, 80.0, 49.0, 48.0, 48.0, 39.0, 39.0, 39.0, 39.0, 31.0, 47.0, 47.0, 43.0, 47.0, 73.0, 39.0, 26.0, 52.596268810601785, 33.87143515317527, 33.86825646236078, 33.866273560698055, 49.009050285048275, 48.11059190042733, 50.787598862890334, 48.98954999071726, 31.177201888152684, 26.71799072245184, 15.130024942785298, 15.125576786986239, 34.717672323518165, 14.22560836948081, 30.214900860477535, 14.22381707030447, 10.666254372725819, 13.331209280282835, 9.776162853522658, 10.663972374068077, 9.774677491917428, 10.662539700608596, 9.771639565597127, 8.882694033132562, 8.879239942313129, 7.990127972400793, 8.877512991790244, 8.876438075669295, 8.875551878121845, 7.095880211446014, 22.11549664680577, 112.94773243887784, 15.935934805605548, 15.934115516128829, 15.966607340509286, 64.19767243483057, 50.1580123867592, 28.343070582734406, 50.13552036070622, 43.247190478739945, 34.3849809678655, 33.509144428527115, 36.80434295524964, 71.51077497236271, 38.7737714386498, 40.5220774227949, 37.890259872247235, 150.7171175003943, 39.61683408991694, 158.93915732252466, 61.053284681907535, 248.89765659054726, 117.34185374301532, 56.077379027194, 39.58285743855922, 54.8896019091449, 82.41643958693221, 82.40160120435473, 146.98323764575375, 73.8405947249253, 42.974349062281085, 54.65286175306052, 54.637395516923895, 52.663860044073715, 52.661679201969974, 54.355563230819875, 51.810035114880414, 39.92019091692759, 33.123736259873276, 28.877018072022484, 39.9160010614041, 39.91215178938853, 33.13152512099783, 39.92089898801657, 16.141572005367046, 11.893653778536592, 11.894991985908607, 11.894153626549713, 11.045968734422905, 94.49364012368832, 11.04499105642942, 10.194268228975458, 10.195781871696923, 39.01091352599384, 29.778058559068548, 12.747012131973568, 29.772275712628453, 10.195307415185786, 125.75797369886412, 10.196016786970427, 8.496651134883134, 8.497683653167062, 10.194905353144065, 112.55125671543554, 60.52270707575331, 42.6080089487504, 32.40876851090362, 36.47044686651891, 80.53077285030398, 13.62112762224585, 61.41781880150746, 61.4194379211109, 61.410143935960114, 61.411683408012365, 61.400564551192126, 61.399307696694585, 63.88793961443416, 248.89765659054726, 63.107917907154096, 146.98323764575375, 90.64105851892879, 68.75755656417567, 158.93915732252466, 73.65807375816269, 117.34185374301532, 84.92425906530546, 150.7171175003943, 53.14461251095791, 26.9963911884452, 26.182574475422115, 27.00359706479357, 27.00702860202263, 22.10789961936725, 13.926074680681516, 31.931552702620163, 12.296371616157638, 13.116976215820388, 27.894668294249957, 10.66121427275413, 12.301306733296462, 9.840859813114267, 9.843202112971731, 12.306709187516258, 12.309472347206928, 8.20539954824893, 8.206782817674284, 8.207206882332503, 8.206762689371129, 8.206975874644211, 8.207113129600396, 8.207604366901544, 8.207403047581238, 8.207634369599214, 8.207375607621072, 8.207653607625442, 8.2082869753333, 8.208540847685608, 21.323491937484075, 17.276721944198673, 16.458894929897703, 15.635551021338912, 15.639076716171928, 62.23611396839685, 24.783300210233328, 15.649979626990806, 43.86872858724312, 47.180557562134986, 47.19727259513648, 47.20582095257998, 55.6197729395946, 56.53704807754728, 37.419929704095345, 34.058417310745526, 63.866071073673844, 34.074119899964884, 29.152995829001895, 82.16984904898803, 41.570349981007354, 50.748836685414275, 77.76696301699212, 49.91581191475486, 29.883905107940247, 51.047891885758986, 42.954266116326636, 59.17713676992528, 73.65807375816269, 150.7171175003943, 68.75755656417567, 90.64105851892879], \"Category\": [\"Default\", \"Default\", \"Default\", \"Default\", \"Default\", \"Default\", \"Default\", \"Default\", \"Default\", \"Default\", \"Default\", \"Default\", \"Default\", \"Default\", \"Default\", \"Default\", \"Default\", \"Default\", \"Default\", \"Default\", \"Default\", \"Default\", \"Default\", \"Default\", \"Default\", \"Default\", \"Default\", \"Default\", \"Default\", \"Default\", \"Topic1\", \"Topic1\", \"Topic1\", \"Topic1\", \"Topic1\", \"Topic1\", \"Topic1\", \"Topic1\", \"Topic1\", \"Topic1\", \"Topic1\", \"Topic1\", \"Topic1\", \"Topic1\", \"Topic1\", \"Topic1\", \"Topic1\", \"Topic1\", \"Topic1\", \"Topic1\", \"Topic1\", \"Topic1\", \"Topic1\", \"Topic1\", \"Topic1\", \"Topic1\", \"Topic1\", \"Topic1\", \"Topic1\", \"Topic1\", \"Topic1\", \"Topic1\", \"Topic1\", \"Topic1\", \"Topic1\", \"Topic1\", \"Topic1\", \"Topic1\", \"Topic1\", \"Topic1\", \"Topic1\", \"Topic1\", \"Topic1\", \"Topic1\", \"Topic1\", \"Topic1\", \"Topic1\", \"Topic1\", \"Topic1\", \"Topic1\", \"Topic1\", \"Topic1\", \"Topic1\", \"Topic1\", \"Topic1\", \"Topic1\", \"Topic1\", \"Topic1\", \"Topic1\", \"Topic1\", \"Topic1\", \"Topic1\", \"Topic1\", \"Topic2\", \"Topic2\", \"Topic2\", \"Topic2\", \"Topic2\", \"Topic2\", \"Topic2\", \"Topic2\", \"Topic2\", \"Topic2\", \"Topic2\", \"Topic2\", \"Topic2\", \"Topic2\", \"Topic2\", \"Topic2\", \"Topic2\", \"Topic2\", \"Topic2\", \"Topic2\", \"Topic2\", \"Topic2\", \"Topic2\", \"Topic2\", \"Topic2\", \"Topic2\", \"Topic2\", \"Topic2\", \"Topic2\", \"Topic2\", \"Topic2\", \"Topic2\", \"Topic2\", \"Topic2\", \"Topic2\", \"Topic2\", \"Topic2\", \"Topic2\", \"Topic2\", \"Topic2\", \"Topic2\", \"Topic2\", \"Topic2\", \"Topic2\", \"Topic2\", \"Topic2\", \"Topic2\", \"Topic2\", \"Topic2\", \"Topic2\", \"Topic2\", \"Topic2\", \"Topic2\", \"Topic2\", \"Topic3\", \"Topic3\", \"Topic3\", \"Topic3\", \"Topic3\", \"Topic3\", \"Topic3\", \"Topic3\", \"Topic3\", \"Topic3\", \"Topic3\", \"Topic3\", \"Topic3\", \"Topic3\", \"Topic3\", \"Topic3\", \"Topic3\", \"Topic3\", \"Topic3\", \"Topic3\", \"Topic3\", \"Topic3\", \"Topic3\", \"Topic3\", \"Topic3\", \"Topic3\", \"Topic3\", \"Topic3\", \"Topic3\", \"Topic3\", \"Topic3\", \"Topic3\", \"Topic3\", \"Topic3\", \"Topic3\", \"Topic3\", \"Topic3\", \"Topic3\", \"Topic3\", \"Topic3\", \"Topic3\", \"Topic3\", \"Topic3\", \"Topic3\", \"Topic3\", \"Topic3\", \"Topic3\", \"Topic3\", \"Topic3\", \"Topic3\", \"Topic3\", \"Topic3\", \"Topic3\", \"Topic3\", \"Topic3\", \"Topic3\", \"Topic3\", \"Topic3\", \"Topic3\", \"Topic3\", \"Topic3\", \"Topic3\"], \"Term\": [\"europ\", \"holiday\", \"market\", \"riga\", \"bowl\", \"don\", \"xma\", \"nfl\", \"startup\", \"nba\", \"nine\", \"uruguay\", \"happi\", \"ford\", \"christma\", \"stanford\", \"eddi\", \"harrison\", \"milda\", \"liberti\", \"dub\", \"mother\", \"advanc\", \"exploit\", \"honeypot\", \"play\", \"mssqld\", \"coin\", \"footbal\", \"msg\", \"uruguay\", \"talkin\", \"extens\", \"treason\", \"stanford\", \"harrison\", \"ford\", \"eddi\", \"trade\", \"export\", \"etsi\", \"_lt\", \"biz\", \"earlier\", \"deal\", \"europea\", \"sale\", \"internationalmigrantday\", \"februari\", \"herzegovina\", \"tonight\", \"recommend\", \"independ\", \"feat\", \"japon\", \"rank\", \"discuss\", \"futur\", \"pressconferen\", \"christmasmarket\", \"round\", \"don\", \"met\", \"pray\", \"counterpart\", \"watchcc\", \"msnbc\", \"song\", \"cnn\", \"free\", \"live\", \"present\", \"time\", \"travel\", \"_aslund\", \"defens\", \"expenditur\", \"amp\", \"fast\", \"lithuania\", \"girl\", \"riga\", \"russia\", \"good\", \"increas\", \"shop\", \"amjoy\", \"trumpleak\", \"video\", \"trump\", \"can\", \"onlin\", \"come\", \"nfl\", \"startup\", \"xma\", \"nba\", \"milda\", \"russianhack\", \"electr\", \"liberti\", \"dub\", \"dworkinreport\", \"mother\", \"wrote\", \"gem\", \"ticker\", \"challeng\", \"word\", \"market\", \"inv\", \"gar\\u0161o\", \"lai\", \"footbal\", \"disconnect\", \"ladi\", \"decid\", \"culinari\", \"europ\", \"bacon\", \"medicin\", \"yet\", \"improvis\", \"holiday\", \"happi\", \"statu\", \"network\", \"speak\", \"christma\", \"done\", \"rozent\", \"featur\", \"paint\", \"monkey\", \"princess\", \"collector\", \"popular\", \"riga\", \"jani\", \"video\", \"new\", \"silver\", \"lithuania\", \"coin\", \"russia\", \"baltic\", \"amp\", \"bowl\", \"msg\", \"agai\", \"rama\", \"chirp\", \"stori\", \"proof\", \"advanc\", \"dynam\", \"airborn\", \"sabr\", \"paralymp\", \"saturdayswag\", \"iveta\", \"koka\", \"strongeurop\", \"calfex\", \"cosponsor\", \"incurvatur\", \"civilian\", \"revers\", \"resolut\", \"plight\", \"colour\", \"draft\", \"shape\", \"allevi\", \"effort\", \"daugavpil\", \"baltar\", \"eurovis\", \"spend\", \"plan\", \"ukrainian\", \"tech\", \"nine\", \"soon\", \"polic\", \"play\", \"exploit\", \"honeypot\", \"mssqld\", \"use\", \"watch\", \"brooklyn\", \"fli\", \"http\", \"captain\", \"japan\", \"just\", \"attack\", \"franc\", \"will\", \"olymp\", \"beat\", \"qualif\", \"air\", \"final\", \"coin\", \"amp\", \"silver\", \"new\"], \"loglift\": [30.0, 29.0, 28.0, 27.0, 26.0, 25.0, 24.0, 23.0, 22.0, 21.0, 20.0, 19.0, 18.0, 17.0, 16.0, 15.0, 14.0, 13.0, 12.0, 11.0, 10.0, 9.0, 8.0, 7.0, 6.0, 5.0, 4.0, 3.0, 2.0, 1.0, 0.9654, 0.9641, 0.9618, 0.9615, 0.9596, 0.9577, 0.9566, 0.9543, 0.9541, 0.9523, 0.9428, 0.9376, 0.9375, 0.9286, 0.9283, 0.9249, 0.9234, 0.9215, 0.9203, 0.9198, 0.9184, 0.9169, 0.9134, 0.9128, 0.9064, 0.9053, 0.9041, 0.9027, 0.9003, 0.891, 0.8741, 0.8355, 0.8795, 0.8762, 0.876, 0.7977, 0.812, 0.8445, 0.8051, 0.7834, 0.7691, 0.7575, 0.725, 0.6068, 0.7063, 0.6946, 0.7029, 0.4027, 0.6833, 0.3153, 0.5663, 0.1669, 0.3151, 0.5583, 0.6819, 0.5203, 0.315, 0.3124, -0.0533, 0.2898, 0.6181, 0.3993, 0.3863, 1.0448, 1.0436, 1.0418, 1.0402, 1.0366, 1.0324, 1.0324, 1.0307, 1.03, 1.0291, 1.0241, 1.0116, 1.0038, 1.0036, 1.0027, 1.001, 1.0001, 0.9989, 0.9982, 0.9976, 0.9968, 0.9965, 0.9962, 0.9952, 0.995, 0.9915, 0.9875, 0.9832, 0.9813, 0.9809, 0.9644, 0.9673, 0.9538, 0.9418, 0.9352, 0.882, 0.962, 0.7634, 0.759, 0.7565, 0.7563, 0.7532, 0.7526, 0.7408, 0.4529, 0.7284, 0.4051, 0.5397, 0.6466, 0.2026, 0.5703, 0.2473, 0.4306, -0.3078, 1.2354, 1.2261, 1.2223, 1.2206, 1.2165, 1.2112, 1.2041, 1.2001, 1.192, 1.1904, 1.1883, 1.1856, 1.185, 1.1846, 1.1806, 1.1768, 1.1766, 1.1753, 1.1724, 1.1719, 1.1717, 1.1715, 1.1712, 1.1711, 1.171, 1.1709, 1.1706, 1.1701, 1.1698, 1.1689, 1.168, 1.1507, 1.1455, 1.1457, 1.1428, 1.0415, 1.0998, 1.1299, 1.0517, 1.0405, 1.0329, 1.028, 0.96, 0.9259, 0.9764, 0.9884, 0.8758, 0.9803, 0.9834, 0.7236, 0.8736, 0.8148, 0.6904, 0.8081, 0.9542, 0.7367, 0.7855, 0.6414, 0.286, -0.3957, 0.1542, -0.1164], \"Freq\": [125.0, 112.0, 94.0, 248.0, 53.0, 112.0, 54.0, 52.0, 52.0, 51.0, 62.0, 52.0, 60.0, 50.0, 80.0, 49.0, 48.0, 48.0, 39.0, 39.0, 39.0, 39.0, 31.0, 47.0, 47.0, 43.0, 47.0, 73.0, 39.0, 26.0, 51.28681849229542, 32.98445261487039, 32.90419866407522, 32.89373886959194, 47.51113232088967, 46.55123966566073, 49.089753180132355, 47.24138419378605, 30.058529976957868, 25.71422001362472, 14.42292460584957, 14.343780460942456, 32.92233694190853, 13.369973673318647, 28.390098119460323, 13.3182316123586, 9.972989837405645, 12.440227197229985, 9.1125305517193, 9.934924220492128, 9.09368808037552, 9.904171942846556, 9.045682292168854, 8.217540465840713, 8.162063193457294, 7.336183337737238, 8.141887298523326, 8.129024450335335, 8.109266366117408, 6.423040467550676, 19.683602163876824, 96.71658438477151, 14.260369808753552, 14.211316480333291, 14.237191750243346, 52.9303612961574, 41.95208496471957, 24.49027608463151, 41.64553860242007, 35.152027620623954, 27.553451890321185, 26.540045992359676, 28.2191665677319, 48.71538822185037, 29.17811333251078, 30.138962836942632, 28.416000762006398, 83.71889207955509, 29.135062834558852, 80.89895771719168, 39.94090113637888, 109.21420670127453, 59.710722155375414, 36.392671994912234, 29.06732964748444, 34.29555679867956, 41.93598646082734, 41.820145971509994, 51.74501948392495, 36.63913325589428, 29.607190970041888, 30.254541351683713, 29.85618987376188, 51.59086949513086, 51.525735207435126, 53.08786604286002, 50.52197770399577, 38.78764589415026, 32.04841222384835, 27.93929319992482, 38.55543118923837, 38.5236566152117, 31.94951999306282, 38.30743631750745, 15.295872290332383, 11.183206848134873, 11.18250028652982, 11.17078876588688, 10.357041757065163, 88.52096628255282, 10.334433979340492, 9.532033302963297, 9.52749773556019, 36.42537035546576, 27.796566342498036, 11.894699621773043, 27.752696245237235, 9.502216708416784, 116.79536013950674, 9.431826027493647, 7.826327857066284, 7.812277522039426, 9.36925689355511, 101.7397565790652, 54.867271051078454, 38.11042686842648, 28.64084806381842, 32.01896231308017, 67.03417234912462, 12.282868375111812, 45.40822336269682, 45.20878523171109, 45.08849967997257, 45.082588489116674, 44.93457812993445, 44.90546059315383, 46.17960735340497, 134.8961373160325, 45.054499153447146, 75.94662414544688, 53.57987950550362, 45.232501315114874, 67.0673583542694, 44.89441221583243, 51.77920953367044, 45.013255355614824, 38.17438379927203, 51.928206420713046, 26.134109465310342, 25.250861578808983, 25.99781532954945, 25.896195578931454, 21.085152120393825, 13.188677595773454, 30.120468345496317, 11.50487575558055, 12.253592392485402, 26.003283127410498, 9.911177159836488, 11.429821574505166, 9.139352657060261, 9.105582965511397, 11.340558804349195, 11.341151474442318, 7.549798920663264, 7.529596569214838, 7.526042925950589, 7.523980590946559, 7.522909005501478, 7.520692831044016, 7.5202000612988495, 7.5193736645636395, 7.519398113428016, 7.516622780719933, 7.513078284896141, 7.511135034560292, 7.504660643088367, 19.477327601524337, 15.510027517051816, 14.700108938002911, 13.967968341558683, 13.929701788168172, 50.096603605458064, 21.146633194612672, 13.7615762369848, 35.67285768762179, 37.93947550736755, 37.66549765513452, 37.4849632757392, 41.26571155469476, 40.53992643376345, 28.220660637396502, 25.995757276274848, 43.5544088579547, 25.797261407789385, 22.14177871935963, 48.129675931618586, 28.28760415408969, 32.56272979184764, 44.063445689550804, 31.813939289771827, 22.042403987197073, 30.292884795926145, 26.76641745897378, 31.92517857290318, 27.851711063725517, 28.823841621567183, 22.788199399799034, 22.91886885218434]}};\n",
       "\n",
       "function LDAvis_load_lib(url, callback){\n",
       "  var s = document.createElement('script');\n",
       "  s.src = url;\n",
       "  s.async = true;\n",
       "  s.onreadystatechange = s.onload = callback;\n",
       "  s.onerror = function(){console.warn(\"failed to load library \" + url);};\n",
       "  document.getElementsByTagName(\"head\")[0].appendChild(s);\n",
       "}\n",
       "\n",
       "if(typeof(LDAvis) !== \"undefined\"){\n",
       "   // already loaded: just create the visualization\n",
       "   !function(LDAvis){\n",
       "       new LDAvis(\"#\" + \"ldavis_el1128023067768335041645354542\", ldavis_el1128023067768335041645354542_data);\n",
       "   }(LDAvis);\n",
       "}else if(typeof define === \"function\" && define.amd){\n",
       "   // require.js is available: use it to load d3/LDAvis\n",
       "   require.config({paths: {d3: \"https://cdnjs.cloudflare.com/ajax/libs/d3/3.5.5/d3.min\"}});\n",
       "   require([\"d3\"], function(d3){\n",
       "      window.d3 = d3;\n",
       "      LDAvis_load_lib(\"https://cdn.rawgit.com/bmabey/pyLDAvis/files/ldavis.v1.0.0.js\", function(){\n",
       "        new LDAvis(\"#\" + \"ldavis_el1128023067768335041645354542\", ldavis_el1128023067768335041645354542_data);\n",
       "      });\n",
       "    });\n",
       "}else{\n",
       "    // require.js not available: dynamically load d3 & LDAvis\n",
       "    LDAvis_load_lib(\"https://cdnjs.cloudflare.com/ajax/libs/d3/3.5.5/d3.min.js\", function(){\n",
       "         LDAvis_load_lib(\"https://cdn.rawgit.com/bmabey/pyLDAvis/files/ldavis.v1.0.0.js\", function(){\n",
       "                 new LDAvis(\"#\" + \"ldavis_el1128023067768335041645354542\", ldavis_el1128023067768335041645354542_data);\n",
       "            })\n",
       "         });\n",
       "}\n",
       "</script>"
      ],
      "text/plain": [
       "<IPython.core.display.HTML object>"
      ]
     },
     "execution_count": 19,
     "metadata": {},
     "output_type": "execute_result"
    }
   ],
   "source": [
    "latldavis=pyLDAvis.gensim.prepare(latmudel, latcorpus, latdictionary) \n",
    "pyLDAvis.display(latldavis)"
   ]
  },
  {
   "cell_type": "markdown",
   "metadata": {
    "collapsed": true
   },
   "source": [
    "## Teine variant "
   ]
  },
  {
   "cell_type": "markdown",
   "metadata": {},
   "source": [
    "Proovime paketti sklearn teemade mudeldamiseks. Esmalt viime andmed sobivasse formaati."
   ]
  },
  {
   "cell_type": "code",
   "execution_count": 20,
   "metadata": {
    "collapsed": true
   },
   "outputs": [],
   "source": [
    "estdict=sonede_dict(eststem)\n",
    "latdict=sonede_dict(latstem)"
   ]
  },
  {
   "cell_type": "code",
   "execution_count": 21,
   "metadata": {
    "collapsed": false
   },
   "outputs": [],
   "source": [
    "from sklearn.feature_extraction.text import CountVectorizer\n",
    "#teeb dokumendi-sõna maatriksi\n",
    "tfest = CountVectorizer(stop_words='english')\n",
    "tflat = CountVectorizer(stop_words='english')\n",
    "tfsest = tfest.fit_transform(estdict.values())\n",
    "tfslat = tflat.fit_transform(latdict.values())"
   ]
  },
  {
   "cell_type": "code",
   "execution_count": 22,
   "metadata": {
    "collapsed": true
   },
   "outputs": [],
   "source": [
    "#Mudeli ehitamine\n",
    "from sklearn.decomposition import LatentDirichletAllocation\n",
    "import pyLDAvis.sklearn\n",
    "lda_est = LatentDirichletAllocation(n_topics=3, random_state=1)\n",
    "lda_est.fit_transform(tfsest)\n",
    "#mudeli paramteerid\n",
    "lda_est.get_params()\n",
    "#töötab, sõna doku jagunemine\n",
    "doc_topic_distrib_est = lda_est.transform(tfsest)"
   ]
  },
  {
   "cell_type": "code",
   "execution_count": 23,
   "metadata": {
    "collapsed": false
   },
   "outputs": [
    {
     "data": {
      "text/plain": [
       "{'batch_size': 128,\n",
       " 'doc_topic_prior': None,\n",
       " 'evaluate_every': -1,\n",
       " 'learning_decay': 0.7,\n",
       " 'learning_method': 'online',\n",
       " 'learning_offset': 10.0,\n",
       " 'max_doc_update_iter': 100,\n",
       " 'max_iter': 10,\n",
       " 'mean_change_tol': 0.001,\n",
       " 'n_jobs': 1,\n",
       " 'n_topics': 3,\n",
       " 'perp_tol': 0.1,\n",
       " 'random_state': 1,\n",
       " 'topic_word_prior': None,\n",
       " 'total_samples': 1000000.0,\n",
       " 'verbose': 0}"
      ]
     },
     "execution_count": 23,
     "metadata": {},
     "output_type": "execute_result"
    }
   ],
   "source": [
    "#sama Läti mudeliga\n",
    "lda_lat = LatentDirichletAllocation(n_topics=3, random_state=1)\n",
    "lda_lat.fit_transform(tfslat)\n",
    "#mudeli paramteerid\n",
    "lda_lat.get_params()"
   ]
  },
  {
   "cell_type": "markdown",
   "metadata": {},
   "source": [
    "Vaatame teemade top sõnu."
   ]
  },
  {
   "cell_type": "code",
   "execution_count": 24,
   "metadata": {
    "collapsed": false
   },
   "outputs": [
    {
     "name": "stdout",
     "output_type": "stream",
     "text": [
      "Teema #0:\n",
      "baltic javier world fernandez latvia russia russian hand lithuania countri\n",
      "Teema #1:\n",
      "amp tallinn nato poland usa spend greec target member defens\n",
      "Teema #2:\n",
      "end help farm good tallinn fur sign plz news christma\n",
      "\n"
     ]
    }
   ],
   "source": [
    "tf_feature_names = tfest.get_feature_names()\n",
    "print_top_sonad(lda_est, tf_feature_names, 10)\n",
    "teemad_est=['Balti','Nato','Karusnahk']"
   ]
  },
  {
   "cell_type": "markdown",
   "metadata": {},
   "source": [
    "Esimene teema tundub olevat seotud lähinaabritega teine NATOga ja kolmas karusnahaga."
   ]
  },
  {
   "cell_type": "code",
   "execution_count": 25,
   "metadata": {
    "collapsed": false
   },
   "outputs": [
    {
     "name": "stdout",
     "output_type": "stream",
     "text": [
      "Teema #0:\n",
      "unifil dive border normal toner femal smartcountri easili grow saw\n",
      "Teema #1:\n",
      "tree reunion recommend andrey telenetucicxwc andrew teddybear snow ezi reunit\n",
      "Teema #2:\n",
      "recommend enjoy leav museum hay concentr classi scrap photographi instal\n",
      "\n"
     ]
    }
   ],
   "source": [
    "print_top_sonad(lda_lat, tf_feature_names, 10)\n",
    "teemad_lat=['riik','puhkus','vaba aeg']"
   ]
  },
  {
   "cell_type": "markdown",
   "metadata": {},
   "source": [
    "Esimene teema tundub olevat seotud riigiga, teine talvepuhkusega, kolmas vaba aja veetmisega."
   ]
  },
  {
   "cell_type": "code",
   "execution_count": 26,
   "metadata": {
    "collapsed": true
   },
   "outputs": [],
   "source": [
    "ldavis_est=pyLDAvis.sklearn.prepare(lda_est, tfsest, tfest)"
   ]
  },
  {
   "cell_type": "code",
   "execution_count": 27,
   "metadata": {
    "collapsed": false
   },
   "outputs": [
    {
     "data": {
      "text/html": [
       "\n",
       "<link rel=\"stylesheet\" type=\"text/css\" href=\"https://cdn.rawgit.com/bmabey/pyLDAvis/files/ldavis.v1.0.0.css\">\n",
       "\n",
       "\n",
       "<div id=\"ldavis_el112802306777311176268258587\"></div>\n",
       "<script type=\"text/javascript\">\n",
       "\n",
       "var ldavis_el112802306777311176268258587_data = {\"lambda.step\": 0.01, \"token.table\": {\"Topic\": [3, 1, 1, 1, 2, 3, 2, 1, 1, 3, 1, 3, 3, 2, 2, 2, 2, 3, 2, 1, 2, 3, 1, 2, 2, 1, 3, 2, 1, 1, 3, 3, 3, 1, 2, 2, 3, 2, 1, 1, 2, 3, 2, 2, 2, 2, 3, 3, 3, 1, 2, 2, 3, 2, 1, 1, 3, 3, 3, 2, 1, 2, 3, 1, 2, 3, 1, 2, 3, 1, 2, 3, 2, 1, 3, 2, 3, 1, 2, 3, 1, 1, 1, 2, 2, 1, 3, 3, 3, 2, 3, 2, 3, 2, 1, 2, 3, 1, 3, 1, 3, 1, 1, 2, 3, 1, 3, 3, 3, 2, 2, 1, 3, 2, 1, 1, 3, 1, 1, 3, 2, 1, 2, 3, 3, 2, 3, 1, 1, 3, 2, 1, 3, 3, 2, 1, 1, 2], \"Freq\": [0.9887234695239995, 0.9792266447383771, 0.9852707223176063, 0.18786398869130086, 0.16968360268891688, 0.6423736387508997, 0.9744248149988822, 0.997680207780598, 0.9912314575654814, 0.9302977555944612, 0.9664459995884973, 0.031175677406080557, 0.967816201962706, 0.9705544749142297, 0.96741314661163, 0.9790061209717463, 0.995925911803787, 0.9758049314903153, 0.9798548231672616, 0.7681819823638287, 0.2072872015902395, 0.024386729598851707, 0.9778061468387851, 0.9743830323941745, 0.9780122493504538, 0.9919626488962838, 0.9844346317066283, 0.9507932891900103, 0.9919619701963138, 0.8326455082310128, 0.15491079222902565, 0.9543136265848329, 0.963436926106334, 0.9919636521556335, 0.9979305660402334, 0.4405585246503191, 0.5506981558128988, 0.9882024063260295, 0.9895434489683727, 0.5281713809758818, 0.1232399888943724, 0.35211425398392115, 0.996335853457202, 0.9553911383555299, 0.9886826610148648, 0.13955601151214553, 0.8652472713753022, 0.9428207852701609, 0.9709583571389572, 0.9914254891751392, 0.9752272355619185, 0.9929350056743113, 0.9642919676846884, 0.9504433438608351, 0.9939382282462409, 0.9827493715215185, 0.9786670689235094, 0.9709592990805458, 0.9548714935603956, 0.9639483288294363, 0.9476535109743239, 0.045670048721654165, 0.9716413467344991, 0.23971182761913012, 0.029963978452391266, 0.7490994613097817, 0.8173783117569243, 0.17605071330149138, 0.9709651915679022, 0.9877629733143083, 0.6542262267034326, 0.3370256319381319, 0.9657877772032414, 0.9776203939057432, 0.9950678550006888, 0.9926525403219891, 0.9687474132157211, 0.9971782891345607, 0.3103382647702323, 0.6877766948961905, 0.9635777688771601, 0.977620570112782, 0.9806414463403058, 0.9934298325835504, 0.9739222767573105, 0.43564427364873587, 0.5445553420609198, 0.9945504059202547, 0.9804149408208562, 0.9889333872161296, 0.9908928430938606, 0.9716598772850012, 0.9508209648902911, 0.980719458979668, 0.43676315320436304, 0.551700825100248, 0.9910335423234728, 0.9711142591316352, 0.968747539552444, 0.8849123748206777, 0.1172775436509332, 0.9978083719601997, 0.9144763531993164, 0.08849771159993385, 0.9480124310398509, 0.9893317411923797, 0.9687487516407849, 0.9942785372796946, 0.995956742797416, 0.9987347541060685, 0.9879996317682336, 0.9784133982375744, 0.9975127083438063, 0.9751356882878119, 0.9907737591308957, 0.16384314986704857, 0.8192157493352429, 0.9941863576274, 0.9810588809898504, 0.965878174574303, 0.9749633611779875, 0.9907739727285281, 0.45645616997877225, 0.5399542498529379, 0.9891029322865836, 0.3813970335316346, 0.6038786364250882, 0.9875784853772208, 0.9880855891037407, 0.9802597928580429, 0.9937759267732468, 0.23633812465306414, 0.7519849420779313, 0.9942791433446678, 0.9913027498674098, 0.9968536079752982, 0.9938952388343467, 0.9719774826316727], \"Term\": [\"_org\", \"abus\", \"affair\", \"amp\", \"amp\", \"amp\", \"armi\", \"attack\", \"baltic\", \"belgium\", \"bring\", \"bring\", \"busi\", \"christma\", \"citi\", \"citizen\", \"complet\", \"consid\", \"construct\", \"countri\", \"countri\", \"countri\", \"cyber\", \"day\", \"deal\", \"decid\", \"defens\", \"deter\", \"disconnect\", \"don\", \"don\", \"drive\", \"dutch\", \"electr\", \"end\", \"estonian\", \"estonian\", \"farm\", \"fernandez\", \"finland\", \"finland\", \"finland\", \"fur\", \"gear\", \"good\", \"greec\", \"greec\", \"group\", \"hamburg\", \"hand\", \"happi\", \"help\", \"includ\", \"itun\", \"javier\", \"joke\", \"just\", \"khlexpans\", \"know\", \"lanka\", \"latvia\", \"latvia\", \"let\", \"like\", \"like\", \"like\", \"lithuania\", \"lithuania\", \"live\", \"lo\", \"love\", \"love\", \"mark\", \"meddl\", \"member\", \"militari\", \"minibus\", \"nation\", \"nato\", \"nato\", \"network\", \"neutral\", \"new\", \"news\", \"number\", \"old\", \"old\", \"onlin\", \"play\", \"plz\", \"poland\", \"presenc\", \"presid\", \"project\", \"putin\", \"putin\", \"resid\", \"right\", \"roam\", \"russia\", \"russia\", \"russian\", \"say\", \"say\", \"season\", \"secur\", \"self\", \"set\", \"shop\", \"sign\", \"song\", \"soviet\", \"spend\", \"sri\", \"stand\", \"start\", \"start\", \"state\", \"step\", \"street\", \"support\", \"tall\", \"tallinn\", \"tallinn\", \"target\", \"time\", \"time\", \"tini\", \"total\", \"town\", \"travel\", \"ukrain\", \"ukrain\", \"usa\", \"war\", \"watch\", \"world\", \"yesterday\"]}, \"mdsDat\": {\"x\": [-0.2540377480149179, 0.17798058325028712, 0.07605716476463065], \"y\": [-0.050985600189288556, -0.1651248309520213, 0.21611043114130976], \"topics\": [1, 2, 3], \"Freq\": [34.727218344192046, 33.82153293222739, 31.451248723580566], \"cluster\": [1, 1, 1]}, \"plot.opts\": {\"ylab\": \"PC2\", \"xlab\": \"PC1\"}, \"R\": 30, \"topic.order\": [1, 3, 2], \"tinfo\": {\"logprob\": [30.0, 29.0, 28.0, 27.0, 26.0, 25.0, 24.0, 23.0, 22.0, 21.0, 20.0, 19.0, 18.0, 17.0, 16.0, 15.0, 14.0, 13.0, 12.0, 11.0, 10.0, 9.0, 8.0, 7.0, 6.0, 5.0, 4.0, 3.0, 2.0, 1.0, -3.9745, -3.8994, -4.0606, -4.0195, -4.1177, -4.2023, -4.4073, -4.4363, -4.5549, -4.574, -4.7073, -4.6504, -4.7807, -4.89, -4.9203, -4.9981, -5.0101, -5.0069, -5.0361, -5.0361, -5.0482, -5.1576, -5.1827, -5.193, -5.2228, -5.2228, -5.2241, -5.2241, -5.2241, -5.1385, -4.088, -4.092, -5.0776, -4.3301, -4.3641, -4.7346, -5.0724, -5.1136, -5.0839, -3.9522, -4.0569, -4.0773, -4.0498, -4.0575, -4.143, -4.1731, -4.6152, -4.7769, -4.782, -4.9422, -4.9356, -4.9893, -4.7553, -5.0101, -5.1857, -5.1869, -5.0153, -5.2197, -5.2199, -5.2588, -5.2971, -5.3344, -5.2505, -5.349, -5.5054, -5.5394, -5.5751, -5.6291, -5.4174, -5.6151, -5.592, -4.0753, -4.9896, -4.8649, -5.3153, -5.1359, -4.0758, -4.2062, -4.2714, -4.3121, -4.3181, -4.3243, -4.3813, -4.5862, -4.6559, -4.9721, -5.3077, -5.3369, -5.2787, -5.371, -5.3444, -5.4608, -5.4608, -5.4608, -5.5157, -5.5794, -5.3219, -5.6007, -5.6825, -5.6213, -5.7131, -5.6154, -5.6283, -5.7719, -5.779, -5.779, -4.2838, -5.7069, -5.7416, -4.0048, -3.7448, -4.8553, -3.8287, -5.208, -5.4176, -5.181, -5.4161, -5.4731, -5.4281], \"Total\": [100.0, 93.0, 93.0, 89.0, 84.0, 83.0, 83.0, 85.0, 82.0, 76.0, 81.0, 77.0, 74.0, 179.0, 74.0, 67.0, 87.0, 63.0, 60.0, 60.0, 59.0, 93.0, 56.0, 119.0, 60.0, 59.0, 71.0, 52.0, 51.0, 46.0, 93.56718290642095, 100.88461099247745, 85.89819890032614, 89.5466609784552, 81.17791178768633, 74.64000150083655, 60.89696835694539, 59.18622306020886, 52.62701993980851, 51.63181995866501, 45.2631437303076, 47.9278131425111, 42.11884720880887, 37.8163259688067, 36.695045218567714, 33.98158320680865, 33.57926339745049, 33.70006338912143, 32.73253548286976, 32.7325413826067, 32.34506553022589, 29.058370693449994, 28.352176980956575, 28.065105212709142, 27.251422365934513, 27.251428240978377, 27.218739256550755, 27.21876678526333, 27.218785408332312, 29.658230410757838, 87.58475438418846, 93.79459747844464, 32.0762877731394, 79.52254062171642, 82.01181679130003, 51.64262531284789, 33.899181637169505, 56.79974546248637, 165.0129980522205, 93.19285646197005, 83.9908903972214, 82.30156499484272, 84.59768214431601, 83.9500916449794, 77.09754735522338, 74.82809353652395, 48.317453760342005, 41.16772092588916, 41.05161796764386, 34.980234221006306, 35.219206922876154, 33.400822165226465, 42.24389362959072, 32.821746205248566, 27.555102410707928, 27.530808890129055, 32.68621034589375, 26.660453125080124, 26.662956050405658, 25.656161065673064, 24.70000106113311, 23.81475572884565, 25.935000095242213, 23.517087863956135, 20.175471118863605, 19.508743616852875, 18.840451075339214, 17.879806466116793, 22.09495193547785, 18.133233199767258, 18.606321469834374, 179.6448495894216, 50.44126733696238, 119.22474345016396, 43.501838148672384, 165.0129980522205, 76.69850532243781, 67.38550280217875, 63.15709010324327, 60.66102732229646, 60.297395497675346, 59.932877308183336, 56.638687890113545, 46.25205492469367, 43.17456587444027, 31.675736299269406, 22.777199629442073, 22.12659649698474, 23.463167792429047, 21.419502218537865, 22.005344380496723, 19.612928499592286, 19.61295559688795, 19.612953039114707, 18.59857270781009, 17.496167754834385, 22.657866822676393, 17.153808901506594, 15.822577330074543, 16.827563327704006, 15.371924773008663, 16.970351364724394, 16.756181442113604, 14.518424366444405, 14.418744014164155, 14.418730026333094, 71.65581684118067, 15.569260003995797, 15.048945260599911, 119.22474345016396, 165.0129980522205, 46.54348517044215, 179.6448495894216, 33.37340539037116, 24.413593142257227, 45.90901616240729, 36.31753582046687, 31.46327565498663, 56.79974546248637], \"Category\": [\"Default\", \"Default\", \"Default\", \"Default\", \"Default\", \"Default\", \"Default\", \"Default\", \"Default\", \"Default\", \"Default\", \"Default\", \"Default\", \"Default\", \"Default\", \"Default\", \"Default\", \"Default\", \"Default\", \"Default\", \"Default\", \"Default\", \"Default\", \"Default\", \"Default\", \"Default\", \"Default\", \"Default\", \"Default\", \"Default\", \"Topic1\", \"Topic1\", \"Topic1\", \"Topic1\", \"Topic1\", \"Topic1\", \"Topic1\", \"Topic1\", \"Topic1\", \"Topic1\", \"Topic1\", \"Topic1\", \"Topic1\", \"Topic1\", \"Topic1\", \"Topic1\", \"Topic1\", \"Topic1\", \"Topic1\", \"Topic1\", \"Topic1\", \"Topic1\", \"Topic1\", \"Topic1\", \"Topic1\", \"Topic1\", \"Topic1\", \"Topic1\", \"Topic1\", \"Topic1\", \"Topic1\", \"Topic1\", \"Topic1\", \"Topic1\", \"Topic1\", \"Topic1\", \"Topic1\", \"Topic1\", \"Topic1\", \"Topic2\", \"Topic2\", \"Topic2\", \"Topic2\", \"Topic2\", \"Topic2\", \"Topic2\", \"Topic2\", \"Topic2\", \"Topic2\", \"Topic2\", \"Topic2\", \"Topic2\", \"Topic2\", \"Topic2\", \"Topic2\", \"Topic2\", \"Topic2\", \"Topic2\", \"Topic2\", \"Topic2\", \"Topic2\", \"Topic2\", \"Topic2\", \"Topic2\", \"Topic2\", \"Topic2\", \"Topic2\", \"Topic2\", \"Topic2\", \"Topic2\", \"Topic2\", \"Topic2\", \"Topic2\", \"Topic2\", \"Topic2\", \"Topic2\", \"Topic3\", \"Topic3\", \"Topic3\", \"Topic3\", \"Topic3\", \"Topic3\", \"Topic3\", \"Topic3\", \"Topic3\", \"Topic3\", \"Topic3\", \"Topic3\", \"Topic3\", \"Topic3\", \"Topic3\", \"Topic3\", \"Topic3\", \"Topic3\", \"Topic3\", \"Topic3\", \"Topic3\", \"Topic3\", \"Topic3\", \"Topic3\", \"Topic3\", \"Topic3\", \"Topic3\", \"Topic3\", \"Topic3\", \"Topic3\", \"Topic3\", \"Topic3\", \"Topic3\", \"Topic3\", \"Topic3\", \"Topic3\", \"Topic3\", \"Topic3\", \"Topic3\", \"Topic3\", \"Topic3\", \"Topic3\", \"Topic3\"], \"Term\": [\"baltic\", \"end\", \"javier\", \"world\", \"help\", \"farm\", \"good\", \"fernandez\", \"fur\", \"poland\", \"russian\", \"sign\", \"plz\", \"tallinn\", \"hand\", \"usa\", \"latvia\", \"spend\", \"target\", \"member\", \"defens\", \"russia\", \"_org\", \"nato\", \"affair\", \"watch\", \"greec\", \"total\", \"lo\", \"onlin\", \"javier\", \"baltic\", \"fernandez\", \"world\", \"russian\", \"hand\", \"affair\", \"watch\", \"total\", \"lo\", \"state\", \"new\", \"nation\", \"soviet\", \"step\", \"right\", \"joke\", \"abus\", \"neutral\", \"meddl\", \"secur\", \"network\", \"tini\", \"attack\", \"tall\", \"stand\", \"electr\", \"decid\", \"disconnect\", \"cyber\", \"latvia\", \"russia\", \"bring\", \"lithuania\", \"countri\", \"don\", \"say\", \"finland\", \"amp\", \"end\", \"farm\", \"fur\", \"help\", \"good\", \"sign\", \"plz\", \"news\", \"complet\", \"day\", \"yesterday\", \"travel\", \"song\", \"christma\", \"support\", \"construct\", \"project\", \"citizen\", \"happi\", \"sri\", \"armi\", \"presenc\", \"mark\", \"lanka\", \"deal\", \"war\", \"number\", \"gear\", \"deter\", \"itun\", \"militari\", \"citi\", \"tallinn\", \"love\", \"nato\", \"putin\", \"amp\", \"poland\", \"usa\", \"spend\", \"target\", \"member\", \"defens\", \"_org\", \"onlin\", \"shop\", \"just\", \"street\", \"set\", \"town\", \"play\", \"drive\", \"self\", \"minibus\", \"roam\", \"busi\", \"let\", \"live\", \"resid\", \"season\", \"presid\", \"consid\", \"group\", \"know\", \"includ\", \"hamburg\", \"khlexpans\", \"greec\", \"dutch\", \"belgium\", \"nato\", \"amp\", \"ukrain\", \"tallinn\", \"like\", \"start\", \"old\", \"estonian\", \"time\", \"finland\"], \"loglift\": [30.0, 29.0, 28.0, 27.0, 26.0, 25.0, 24.0, 23.0, 22.0, 21.0, 20.0, 19.0, 18.0, 17.0, 16.0, 15.0, 14.0, 13.0, 12.0, 11.0, 10.0, 9.0, 8.0, 7.0, 6.0, 5.0, 4.0, 3.0, 2.0, 1.0, 1.0516, 1.0515, 1.0511, 1.0506, 1.0505, 1.0499, 1.0484, 1.0478, 1.0467, 1.0467, 1.045, 1.0448, 1.0436, 1.0422, 1.042, 1.041, 1.0409, 1.0405, 1.0404, 1.0404, 1.0402, 1.0379, 1.0374, 1.0373, 1.0369, 1.0369, 1.0369, 1.0369, 1.0369, 1.0366, 1.0042, 0.9317, 1.0191, 0.8587, 0.7939, 0.8859, 0.9691, 0.4117, -0.6251, 1.078, 1.0773, 1.0772, 1.0771, 1.0771, 1.0768, 1.0765, 1.0718, 1.0703, 1.068, 1.0678, 1.0676, 1.0669, 1.0661, 1.0637, 1.063, 1.0627, 1.0626, 1.062, 1.0617, 1.0613, 1.061, 1.0602, 1.0588, 1.0581, 1.055, 1.0546, 1.0538, 1.0521, 1.0521, 1.052, 1.0494, 0.2986, 0.6545, -0.0811, 0.4768, -0.677, 1.1492, 1.1483, 1.1478, 1.1475, 1.1474, 1.1474, 1.1469, 1.1445, 1.1437, 1.1372, 1.1314, 1.1312, 1.1307, 1.1296, 1.1292, 1.1279, 1.1279, 1.1279, 1.1261, 1.1234, 1.1225, 1.1219, 1.1209, 1.1206, 1.1193, 1.118, 1.1178, 1.1176, 1.1173, 1.1173, 1.0092, 1.1126, 1.1119, 0.7791, 0.714, 0.8692, 0.5451, 0.8491, 0.9521, 0.5572, 0.5565, 0.6429, 0.0973], \"Freq\": [100.0, 93.0, 93.0, 89.0, 84.0, 83.0, 83.0, 85.0, 82.0, 76.0, 81.0, 77.0, 74.0, 179.0, 74.0, 67.0, 87.0, 63.0, 60.0, 60.0, 59.0, 93.0, 56.0, 119.0, 60.0, 59.0, 71.0, 52.0, 51.0, 46.0, 93.0077062119615, 100.26633839912859, 85.33877997635082, 88.92029116686761, 80.59866936982799, 74.0611900668355, 60.33551543794543, 58.608808261376026, 52.05555182079271, 51.0706108416924, 44.69607779513817, 47.31634816615446, 41.53333818698792, 37.235471639937536, 36.12373504450729, 33.4201316039338, 33.02007732854652, 33.125538908353164, 32.17343124199539, 32.17341187353001, 31.78416955585483, 28.491345948590773, 27.784987363839576, 27.500380822636057, 26.692325624637107, 26.692330075585588, 26.65970390974126, 26.659705170823283, 26.659713573824405, 29.040902649382954, 83.02902950467328, 82.69585604777397, 30.863791580179885, 65.178163028236, 62.995899836143494, 43.49314190966648, 31.027115485003897, 29.772035745074874, 30.671113331146124, 92.63070289155881, 83.4227174985424, 81.73940436047873, 84.01348580800885, 83.36614526317724, 76.53535334077941, 74.26590640542241, 47.73042517746017, 40.60486831580498, 40.397733778232684, 34.41692765179304, 34.64510959637697, 32.8334610548839, 41.490475469176594, 32.15927424664271, 26.980263100075973, 26.94807291581317, 31.993027837375646, 26.077874292870217, 26.071795937166353, 25.077752842794933, 24.136730941005553, 23.252346522082807, 25.28759734078689, 22.91405827035613, 19.59673064569752, 18.94289981573227, 18.277945798785517, 17.317736451121107, 21.399168730680216, 17.560368256720245, 17.97226471241524, 81.90204288979427, 32.82651759893193, 37.18355972194341, 23.701209013449493, 28.35826588642163, 76.12231343593628, 66.81828725012275, 62.597003568453225, 60.10390582318753, 59.73934350483573, 59.374993919034516, 56.08220093953183, 45.691073864639755, 42.614396369530745, 31.063197628459648, 22.206904712379618, 21.56815672195278, 22.860797270423863, 20.845538168751407, 21.408181698281062, 19.05590075792824, 19.055895391086196, 19.05586817768875, 18.036740440789046, 16.923245941203522, 21.894743433106715, 16.566538933779935, 15.265342783570201, 16.229657469612174, 14.806452941491749, 16.325321010448015, 16.116690772082066, 13.961094428404262, 13.86144114897523, 13.861425762352553, 61.828254023985814, 14.897687677729754, 14.389780546944417, 81.72280780122846, 105.98361883465275, 34.91297545177748, 97.45580137569337, 24.536580076112468, 19.895320088398407, 25.206212026152052, 19.92597718227389, 18.821405179626797, 19.689332881718332]}};\n",
       "\n",
       "function LDAvis_load_lib(url, callback){\n",
       "  var s = document.createElement('script');\n",
       "  s.src = url;\n",
       "  s.async = true;\n",
       "  s.onreadystatechange = s.onload = callback;\n",
       "  s.onerror = function(){console.warn(\"failed to load library \" + url);};\n",
       "  document.getElementsByTagName(\"head\")[0].appendChild(s);\n",
       "}\n",
       "\n",
       "if(typeof(LDAvis) !== \"undefined\"){\n",
       "   // already loaded: just create the visualization\n",
       "   !function(LDAvis){\n",
       "       new LDAvis(\"#\" + \"ldavis_el112802306777311176268258587\", ldavis_el112802306777311176268258587_data);\n",
       "   }(LDAvis);\n",
       "}else if(typeof define === \"function\" && define.amd){\n",
       "   // require.js is available: use it to load d3/LDAvis\n",
       "   require.config({paths: {d3: \"https://cdnjs.cloudflare.com/ajax/libs/d3/3.5.5/d3.min\"}});\n",
       "   require([\"d3\"], function(d3){\n",
       "      window.d3 = d3;\n",
       "      LDAvis_load_lib(\"https://cdn.rawgit.com/bmabey/pyLDAvis/files/ldavis.v1.0.0.js\", function(){\n",
       "        new LDAvis(\"#\" + \"ldavis_el112802306777311176268258587\", ldavis_el112802306777311176268258587_data);\n",
       "      });\n",
       "    });\n",
       "}else{\n",
       "    // require.js not available: dynamically load d3 & LDAvis\n",
       "    LDAvis_load_lib(\"https://cdnjs.cloudflare.com/ajax/libs/d3/3.5.5/d3.min.js\", function(){\n",
       "         LDAvis_load_lib(\"https://cdn.rawgit.com/bmabey/pyLDAvis/files/ldavis.v1.0.0.js\", function(){\n",
       "                 new LDAvis(\"#\" + \"ldavis_el112802306777311176268258587\", ldavis_el112802306777311176268258587_data);\n",
       "            })\n",
       "         });\n",
       "}\n",
       "</script>"
      ],
      "text/plain": [
       "<IPython.core.display.HTML object>"
      ]
     },
     "execution_count": 27,
     "metadata": {},
     "output_type": "execute_result"
    }
   ],
   "source": [
    "pyLDAvis.display(ldavis_est) "
   ]
  },
  {
   "cell_type": "code",
   "execution_count": 28,
   "metadata": {
    "collapsed": true
   },
   "outputs": [],
   "source": [
    "ldavis_lat=pyLDAvis.sklearn.prepare(lda_lat, tfslat, tflat)"
   ]
  },
  {
   "cell_type": "code",
   "execution_count": 29,
   "metadata": {
    "collapsed": false
   },
   "outputs": [
    {
     "data": {
      "text/html": [
       "\n",
       "<link rel=\"stylesheet\" type=\"text/css\" href=\"https://cdn.rawgit.com/bmabey/pyLDAvis/files/ldavis.v1.0.0.css\">\n",
       "\n",
       "\n",
       "<div id=\"ldavis_el1128023067823223846828355887\"></div>\n",
       "<script type=\"text/javascript\">\n",
       "\n",
       "var ldavis_el1128023067823223846828355887_data = {\"lambda.step\": 0.01, \"token.table\": {\"Topic\": [2, 3, 3, 3, 2, 1, 2, 1, 1, 2, 3, 2, 3, 1, 3, 1, 3, 1, 2, 1, 3, 1, 1, 3, 2, 1, 2, 3, 2, 2, 3, 3, 1, 3, 1, 3, 2, 1, 1, 2, 3, 1, 3, 2, 2, 3, 2, 3, 2, 3, 2, 3, 1, 3, 1, 1, 2, 3, 1, 2, 3, 1, 1, 2, 3, 2, 1, 2, 2, 1, 2, 2, 3, 1, 2, 3, 2, 1, 1, 1, 1, 1, 2, 1, 3, 1, 2, 2, 3, 1, 3, 3, 1, 2, 3, 1, 2, 1, 2, 3, 2, 2, 3, 3, 2, 1, 2, 3, 1, 3, 2, 3, 1, 2, 2, 3, 2, 2, 3, 3, 2, 3, 1, 2, 2, 2, 2, 3, 1, 2, 1, 3, 3, 2, 3, 1], \"Freq\": [0.9868044325790511, 0.9896564734638188, 0.9875621858756788, 0.9471378937376561, 0.9942881623591758, 0.43695490398649406, 0.5638127793374117, 0.9918636761687372, 0.35835865200775563, 0.6383263488888147, 0.9677841218271686, 0.9862450961997714, 0.9932992104478976, 0.9879630324163715, 0.9859989414533056, 0.9858843629381573, 0.9960299190784678, 0.9977872867410239, 0.9834945675422714, 0.9777546886915808, 0.02444386721728952, 0.9980716302774996, 0.9804431429187388, 0.9627825916472831, 0.9952316798714158, 0.9905857236539106, 0.468991931715838, 0.5252709635217385, 0.9838280406380862, 0.9828887879103168, 0.9859988428848911, 0.9865812415888563, 0.9942624714154499, 0.9723782382028047, 0.9884986193194817, 0.9587822801741701, 0.9793344643979788, 0.9758577814219228, 0.9980710711188207, 0.9949155461082814, 0.9691135542859473, 0.9775562176120901, 0.9860359649819175, 0.9910412519467712, 0.2688174241811111, 0.7331384295848485, 0.3932442714982867, 0.614444174216073, 0.47447110989532554, 0.5109688875795814, 0.39744215160999463, 0.6056261357866585, 0.9915133840813323, 0.9793248250119121, 0.9970233220445424, 0.9884984367326186, 0.7079451529949551, 0.2896139262252089, 0.9786167421347605, 0.038715866273438725, 0.9291807905625294, 0.9863726553725077, 0.21679082596616908, 0.35371134762901274, 0.42217160846043456, 0.9838281378518446, 0.6270033339036325, 0.36844525806708306, 0.9714427843847513, 0.610535099016372, 0.3830808464416452, 0.9838280521281662, 0.9692349649829811, 0.9980711943106247, 0.9838282690510618, 0.9960306099574703, 0.9834945109403468, 0.9884983915094637, 0.9856551854566967, 0.9945625774397623, 0.9825347714863123, 0.9880301053491165, 0.9826392553868321, 0.01857853978866324, 0.9660840690104885, 0.9980714756973785, 0.9959797366341654, 0.9920299720183224, 0.9701894591182377, 0.9905472758163189, 0.9783188108957371, 0.951724928850849, 0.9980711187650312, 0.9877993111926949, 0.9960292878368666, 0.5467505532997646, 0.45001776310057545, 0.9980715685158074, 0.9921843004166019, 0.008480207695868392, 0.983878152914741, 0.9828877319426267, 0.966230761381436, 0.9859971655145683, 0.9794663727853368, 0.03700619133859843, 0.11101857401579528, 0.8511424007877638, 0.9653951980391215, 0.026816533278864487, 0.9685877636143688, 0.9865817514766256, 0.9825342550313101, 0.9882630094890323, 0.9826264567514646, 0.9859992049786559, 0.9793343826439439, 0.20745022470072794, 0.8038696207153208, 0.9782812351775634, 0.0331085102620255, 0.9601467975987394, 0.34389623426241395, 0.6429364379688609, 0.9793330399175266, 0.9927146981268569, 0.9942885369858713, 0.9943083534105486, 0.9906457809042268, 0.9982359206102092, 0.2700020696896466, 0.7380056571517006, 0.9895481024269633, 0.04614231951506782, 0.9689887098164243, 0.9789443923858953], \"Term\": [\"advanc\", \"agai\", \"air\", \"airborn\", \"amjoy\", \"amp\", \"amp\", \"attack\", \"baltic\", \"baltic\", \"best\", \"biz\", \"bowl\", \"brooklyn\", \"calfex\", \"captain\", \"chirp\", \"christma\", \"cnn\", \"coin\", \"coin\", \"collector\", \"come\", \"deal\", \"decid\", \"defens\", \"don\", \"don\", \"dub\", \"dworkinreport\", \"dynam\", \"eddi\", \"europ\", \"everi\", \"exploit\", \"export\", \"extens\", \"fast\", \"featur\", \"final\", \"fli\", \"footbal\", \"ford\", \"franc\", \"free\", \"free\", \"game\", \"game\", \"girl\", \"girl\", \"good\", \"good\", \"happi\", \"harrison\", \"holiday\", \"honeypot\", \"http\", \"http\", \"increas\", \"israel\", \"israel\", \"jani\", \"just\", \"just\", \"just\", \"liberti\", \"lithuania\", \"lithuania\", \"live\", \"market\", \"market\", \"milda\", \"million\", \"monkey\", \"mother\", \"msg\", \"msnbc\", \"mssqld\", \"nba\", \"new\", \"nfl\", \"note\", \"olymp\", \"onlin\", \"onlin\", \"paint\", \"photo\", \"play\", \"poland\", \"popular\", \"present\", \"pressur\", \"princess\", \"qualif\", \"rama\", \"riga\", \"riga\", \"rozent\", \"russia\", \"russia\", \"russian\", \"russianhack\", \"sabr\", \"saturdayswag\", \"sex\", \"shop\", \"shop\", \"shop\", \"silver\", \"silver\", \"speak\", \"stanford\", \"startup\", \"state\", \"statu\", \"strongeurop\", \"talkin\", \"team\", \"team\", \"test\", \"trade\", \"trade\", \"travel\", \"travel\", \"treason\", \"trump\", \"trumpleak\", \"uruguay\", \"use\", \"video\", \"watch\", \"watch\", \"watchcc\", \"win\", \"win\", \"xma\"]}, \"mdsDat\": {\"x\": [-0.2509669703815784, 0.06310824387310689, 0.18785872650847163], \"y\": [0.06730112878443394, -0.23674028441749703, 0.16943915563306308], \"topics\": [1, 2, 3], \"Freq\": [34.59917828508691, 34.542549056346196, 30.858272658566904], \"cluster\": [1, 1, 1]}, \"plot.opts\": {\"ylab\": \"PC2\", \"xlab\": \"PC1\"}, \"R\": 30, \"topic.order\": [3, 2, 1], \"tinfo\": {\"logprob\": [30.0, 29.0, 28.0, 27.0, 26.0, 25.0, 24.0, 23.0, 22.0, 21.0, 20.0, 19.0, 18.0, 17.0, 16.0, 15.0, 14.0, 13.0, 12.0, 11.0, 10.0, 9.0, 8.0, 7.0, 6.0, 5.0, 4.0, 3.0, 2.0, 1.0, -3.8731, -4.0317, -4.0194, -4.2979, -4.3472, -4.3577, -4.3844, -4.3844, -4.3844, -4.3844, -4.3844, -4.3844, -4.5057, -4.6502, -4.6502, -4.6502, -4.6538, -4.663, -4.7485, -4.7485, -4.767, -4.82, -4.8756, -4.9478, -5.0205, -5.0291, -5.0314, -5.0787, -5.0639, -5.0819, -4.2042, -4.3031, -4.008, -3.7148, -4.655, -4.4597, -3.6562, -4.2519, -4.2519, -4.3477, -4.5081, -4.5141, -4.4699, -4.7092, -3.8228, -4.7253, -4.7479, -4.7479, -4.7131, -4.8023, -4.9145, -4.9689, -4.9689, -4.9689, -4.9689, -4.9936, -5.0702, -5.1513, -5.0991, -5.1775, -5.1775, -5.1775, -5.1812, -5.1812, -5.1853, -5.194, -5.0806, -4.2006, -3.9043, -4.5432, -4.8066, -4.819, -4.6691, -4.5328, -4.3238, -4.5022, -4.5423, -4.5741, -4.6169, -4.6169, -4.6312, -4.732, -4.9588, -5.0317, -5.1186, -5.1592, -5.1902, -5.1902, -5.1902, -5.2222, -5.23, -5.3757, -5.3735, -5.43, -5.3763, -4.5148, -5.614, -5.6554, -5.6554, -5.6554, -5.6554, -5.7016, -5.0975, -5.7484, -5.4405, -5.2742, -4.6464, -5.043, -4.766, -4.4372, -5.0782, -5.0121, -4.8627, -5.1197, -5.2536], \"Total\": [138.0, 117.0, 111.0, 96.0, 95.0, 237.0, 76.0, 76.0, 81.0, 73.0, 63.0, 69.0, 69.0, 68.0, 67.0, 67.0, 67.0, 67.0, 67.0, 67.0, 74.0, 61.0, 154.0, 53.0, 59.0, 59.0, 58.0, 51.0, 53.0, 49.0, 111.64054079400022, 95.28362867699883, 96.5248463773155, 73.1618862758142, 69.65846223052452, 68.93946180444298, 67.12945455367799, 67.12945039963876, 67.12946079656805, 67.1294880081978, 67.1294797224134, 67.1294848035507, 59.55711025806506, 51.59339527971243, 51.5934048095972, 51.59340716996173, 51.43652200646093, 50.997347843294676, 46.817681505983046, 46.81770611502409, 45.967881679495044, 43.62580406866752, 41.336325732151344, 38.46297761471819, 35.803567477168414, 35.50112093845583, 35.42402180916632, 33.81640299257099, 34.32312740646651, 33.72106625522633, 81.82011390510948, 74.58085574306149, 154.70412158112774, 237.7683922136343, 83.53328102211596, 141.89107258976173, 138.2438731674195, 76.43656461170683, 76.43659341138351, 69.50637492342501, 59.30151582291061, 58.95038915964836, 61.72445939420439, 48.59286644171024, 117.92164011350877, 47.830370853134376, 46.771991954112025, 46.7719946459265, 48.43390717158369, 44.353498625127564, 39.689548080084165, 37.608197814611515, 37.60818952243347, 37.60819825383583, 37.60819453770477, 36.754707461396315, 34.070221862867285, 31.432348935827527, 33.133204207066385, 30.633048351302275, 30.633050908524147, 30.633092908339346, 30.522273088272666, 30.522305879946792, 30.40116056389598, 30.143734978247483, 33.97009121942272, 141.89107258976173, 237.7683922136343, 89.29601621368822, 62.1517073940805, 66.88063929903224, 106.61164215996573, 154.70412158112774, 63.66542449577373, 53.357537630681584, 51.29193557015423, 49.693927747248644, 47.639235095981334, 47.63925971702854, 46.97113646582019, 42.52896739131246, 34.051737130345614, 31.687012101522168, 29.082370457169468, 27.943635287907473, 27.107619442777928, 27.107600640057516, 27.107636622450563, 26.271742465341983, 26.074741384935233, 22.62494072333564, 22.675983328034533, 21.46621977900699, 22.732342372454074, 53.82554341596896, 17.94881200763018, 17.24139954389849, 17.241397820308997, 17.241393212247065, 17.24142887482654, 16.507865046202646, 30.203714757500613, 15.760856467332008, 21.672079134934883, 25.82920379302107, 54.045010514604016, 38.56346750909028, 55.555129696752786, 106.61164215996573, 40.91996652936061, 52.837878204240035, 87.64208501592688, 54.79785693534836, 40.687178834262326], \"Category\": [\"Default\", \"Default\", \"Default\", \"Default\", \"Default\", \"Default\", \"Default\", \"Default\", \"Default\", \"Default\", \"Default\", \"Default\", \"Default\", \"Default\", \"Default\", \"Default\", \"Default\", \"Default\", \"Default\", \"Default\", \"Default\", \"Default\", \"Default\", \"Default\", \"Default\", \"Default\", \"Default\", \"Default\", \"Default\", \"Default\", \"Topic1\", \"Topic1\", \"Topic1\", \"Topic1\", \"Topic1\", \"Topic1\", \"Topic1\", \"Topic1\", \"Topic1\", \"Topic1\", \"Topic1\", \"Topic1\", \"Topic1\", \"Topic1\", \"Topic1\", \"Topic1\", \"Topic1\", \"Topic1\", \"Topic1\", \"Topic1\", \"Topic1\", \"Topic1\", \"Topic1\", \"Topic1\", \"Topic1\", \"Topic1\", \"Topic1\", \"Topic1\", \"Topic1\", \"Topic1\", \"Topic1\", \"Topic1\", \"Topic1\", \"Topic1\", \"Topic1\", \"Topic1\", \"Topic2\", \"Topic2\", \"Topic2\", \"Topic2\", \"Topic2\", \"Topic2\", \"Topic2\", \"Topic2\", \"Topic2\", \"Topic2\", \"Topic2\", \"Topic2\", \"Topic2\", \"Topic2\", \"Topic2\", \"Topic2\", \"Topic2\", \"Topic2\", \"Topic2\", \"Topic2\", \"Topic2\", \"Topic2\", \"Topic2\", \"Topic2\", \"Topic2\", \"Topic2\", \"Topic2\", \"Topic2\", \"Topic2\", \"Topic2\", \"Topic2\", \"Topic2\", \"Topic2\", \"Topic2\", \"Topic2\", \"Topic2\", \"Topic2\", \"Topic2\", \"Topic3\", \"Topic3\", \"Topic3\", \"Topic3\", \"Topic3\", \"Topic3\", \"Topic3\", \"Topic3\", \"Topic3\", \"Topic3\", \"Topic3\", \"Topic3\", \"Topic3\", \"Topic3\", \"Topic3\", \"Topic3\", \"Topic3\", \"Topic3\", \"Topic3\", \"Topic3\", \"Topic3\", \"Topic3\", \"Topic3\", \"Topic3\", \"Topic3\", \"Topic3\", \"Topic3\", \"Topic3\", \"Topic3\", \"Topic3\", \"Topic3\", \"Topic3\", \"Topic3\", \"Topic3\", \"Topic3\", \"Topic3\", \"Topic3\", \"Topic3\", \"Topic3\", \"Topic3\", \"Topic3\"], \"Term\": [\"video\", \"russia\", \"europ\", \"new\", \"holiday\", \"riga\", \"trumpleak\", \"amjoy\", \"coin\", \"christma\", \"watchcc\", \"popular\", \"trump\", \"jani\", \"rozent\", \"collector\", \"paint\", \"featur\", \"monkey\", \"princess\", \"silver\", \"state\", \"lithuania\", \"bowl\", \"use\", \"final\", \"russian\", \"uruguay\", \"onlin\", \"ford\", \"europ\", \"holiday\", \"new\", \"christma\", \"popular\", \"jani\", \"rozent\", \"collector\", \"paint\", \"featur\", \"monkey\", \"princess\", \"use\", \"exploit\", \"honeypot\", \"mssqld\", \"happi\", \"come\", \"nfl\", \"startup\", \"xma\", \"nba\", \"attack\", \"brooklyn\", \"footbal\", \"captain\", \"note\", \"fast\", \"defens\", \"increas\", \"coin\", \"silver\", \"lithuania\", \"riga\", \"market\", \"amp\", \"video\", \"trumpleak\", \"amjoy\", \"trump\", \"final\", \"russian\", \"state\", \"qualif\", \"russia\", \"olymp\", \"cnn\", \"msnbc\", \"franc\", \"play\", \"statu\", \"milda\", \"mother\", \"dub\", \"liberti\", \"sex\", \"speak\", \"biz\", \"photo\", \"extens\", \"talkin\", \"treason\", \"dworkinreport\", \"russianhack\", \"advanc\", \"decid\", \"live\", \"amp\", \"riga\", \"baltic\", \"http\", \"travel\", \"don\", \"lithuania\", \"watchcc\", \"bowl\", \"uruguay\", \"ford\", \"stanford\", \"eddi\", \"harrison\", \"air\", \"fli\", \"present\", \"deal\", \"sabr\", \"chirp\", \"msg\", \"rama\", \"agai\", \"export\", \"everi\", \"poland\", \"test\", \"best\", \"onlin\", \"airborn\", \"dynam\", \"calfex\", \"strongeurop\", \"saturdayswag\", \"million\", \"trade\", \"pressur\", \"win\", \"israel\", \"shop\", \"team\", \"watch\", \"don\", \"free\", \"good\", \"just\", \"girl\", \"game\"], \"loglift\": [30.0, 29.0, 28.0, 27.0, 26.0, 25.0, 24.0, 23.0, 22.0, 21.0, 20.0, 19.0, 18.0, 17.0, 16.0, 15.0, 14.0, 13.0, 12.0, 11.0, 10.0, 9.0, 8.0, 7.0, 6.0, 5.0, 4.0, 3.0, 2.0, 1.0, 1.0556, 1.0554, 1.0548, 1.0534, 1.0531, 1.053, 1.0529, 1.0529, 1.0529, 1.0529, 1.0529, 1.0529, 1.0513, 1.0503, 1.0503, 1.0503, 1.0498, 1.0492, 1.0492, 1.0492, 1.0489, 1.0483, 1.0466, 1.0465, 1.0454, 1.0452, 1.0451, 1.0443, 1.0442, 1.0439, 1.0352, 1.0289, 0.5944, 0.4578, 0.5637, 0.2291, 1.0588, 1.0555, 1.0555, 1.0548, 1.0532, 1.0532, 1.0514, 1.0513, 1.0511, 1.0509, 1.0508, 1.0508, 1.0507, 1.0494, 1.0483, 1.0478, 1.0478, 1.0478, 1.0478, 1.0461, 1.0453, 1.0448, 1.0444, 1.0443, 1.0443, 1.0443, 1.0443, 1.0443, 1.0442, 1.044, 1.0378, 0.4883, 0.2683, 0.6088, 0.7078, 0.622, 0.3056, 0.0697, 1.1665, 1.1647, 1.1641, 1.1639, 1.1634, 1.1634, 1.1632, 1.1618, 1.1573, 1.1563, 1.1552, 1.1546, 1.154, 1.154, 1.154, 1.1533, 1.153, 1.1492, 1.1491, 1.1475, 1.1439, 1.1434, 1.1424, 1.1413, 1.1413, 1.1413, 1.1413, 1.1385, 1.1385, 1.138, 1.1274, 1.1183, 1.0077, 0.9486, 0.8606, 0.5376, 0.8541, 0.6647, 0.308, 0.5206, 0.6844], \"Freq\": [138.0, 117.0, 111.0, 96.0, 95.0, 237.0, 76.0, 76.0, 81.0, 73.0, 63.0, 69.0, 69.0, 68.0, 67.0, 67.0, 67.0, 67.0, 67.0, 67.0, 74.0, 61.0, 154.0, 53.0, 59.0, 59.0, 58.0, 51.0, 53.0, 49.0, 110.99956615727667, 94.71494641431431, 95.892787267481, 72.58231438855091, 69.08730401797406, 68.36739408230457, 66.56329203860682, 66.5632786469121, 66.56327769253161, 66.5632931305359, 66.56327982921974, 66.56328035040099, 58.96368063734173, 51.02710998358501, 51.027078413759135, 51.02707088309318, 50.847489943186034, 50.38110374905355, 46.25161849152629, 46.25159872278785, 45.40178244209469, 43.05973187678909, 40.732985022587805, 37.895492175769405, 35.23643354840829, 34.93362677106345, 34.85407077014551, 33.24408594429838, 33.7412687177436, 33.13857093914599, 79.71047253499326, 72.20272940986007, 96.99070081870524, 130.03245292163209, 50.78285222541799, 61.73568720538737, 137.66290976407805, 75.8706687413532, 75.8706183837794, 68.93852321881543, 58.726174632047794, 58.37529184442237, 61.011601677566894, 48.02683702785801, 116.52933592192598, 47.25755042466584, 46.205757162424135, 46.205729867446315, 47.84147832390792, 43.755574916140546, 39.111494933647975, 37.04197479768531, 37.04194884844314, 37.041928433058025, 37.04188398566687, 36.14037290605978, 33.472551786666784, 30.866229227275685, 32.52171911659476, 30.066967241924086, 30.066907384743036, 30.066910811404973, 29.95621956725939, 29.956179587072018, 29.835090343789563, 29.577040080242472, 33.126495795562825, 79.86463597509999, 107.41002221216365, 56.70074270770138, 43.57164950649603, 43.0325511699117, 49.99096393317396, 57.29478050450168, 63.080004979142046, 52.77268238568654, 50.699325727366, 49.108507981312755, 47.05426389735957, 47.05425966609018, 46.386147284899565, 41.938896707151656, 33.42847652011601, 31.076956587204016, 28.491697971438473, 27.35754427166133, 26.522981198931163, 26.522957139018526, 26.52297553094079, 25.687053956616623, 25.487425502241642, 22.031727705790658, 22.079155785240108, 20.867130942789146, 22.019166745035392, 52.10951857980361, 17.359729793182, 16.656637379497955, 16.656634886799818, 16.656612486063278, 16.656633486262074, 15.903584623542088, 29.097732294013515, 15.176230813909582, 20.649732594133795, 24.385763993570357, 45.68475051630676, 30.726768590697148, 40.53558275820991, 56.31668580337618, 29.66602759431128, 31.693678222604255, 36.80087056538162, 28.46042219374257, 24.892459369111943]}};\n",
       "\n",
       "function LDAvis_load_lib(url, callback){\n",
       "  var s = document.createElement('script');\n",
       "  s.src = url;\n",
       "  s.async = true;\n",
       "  s.onreadystatechange = s.onload = callback;\n",
       "  s.onerror = function(){console.warn(\"failed to load library \" + url);};\n",
       "  document.getElementsByTagName(\"head\")[0].appendChild(s);\n",
       "}\n",
       "\n",
       "if(typeof(LDAvis) !== \"undefined\"){\n",
       "   // already loaded: just create the visualization\n",
       "   !function(LDAvis){\n",
       "       new LDAvis(\"#\" + \"ldavis_el1128023067823223846828355887\", ldavis_el1128023067823223846828355887_data);\n",
       "   }(LDAvis);\n",
       "}else if(typeof define === \"function\" && define.amd){\n",
       "   // require.js is available: use it to load d3/LDAvis\n",
       "   require.config({paths: {d3: \"https://cdnjs.cloudflare.com/ajax/libs/d3/3.5.5/d3.min\"}});\n",
       "   require([\"d3\"], function(d3){\n",
       "      window.d3 = d3;\n",
       "      LDAvis_load_lib(\"https://cdn.rawgit.com/bmabey/pyLDAvis/files/ldavis.v1.0.0.js\", function(){\n",
       "        new LDAvis(\"#\" + \"ldavis_el1128023067823223846828355887\", ldavis_el1128023067823223846828355887_data);\n",
       "      });\n",
       "    });\n",
       "}else{\n",
       "    // require.js not available: dynamically load d3 & LDAvis\n",
       "    LDAvis_load_lib(\"https://cdnjs.cloudflare.com/ajax/libs/d3/3.5.5/d3.min.js\", function(){\n",
       "         LDAvis_load_lib(\"https://cdn.rawgit.com/bmabey/pyLDAvis/files/ldavis.v1.0.0.js\", function(){\n",
       "                 new LDAvis(\"#\" + \"ldavis_el1128023067823223846828355887\", ldavis_el1128023067823223846828355887_data);\n",
       "            })\n",
       "         });\n",
       "}\n",
       "</script>"
      ],
      "text/plain": [
       "<IPython.core.display.HTML object>"
      ]
     },
     "execution_count": 29,
     "metadata": {},
     "output_type": "execute_result"
    }
   ],
   "source": [
    "pyLDAvis.display(ldavis_lat) "
   ]
  },
  {
   "cell_type": "code",
   "execution_count": 30,
   "metadata": {
    "collapsed": true
   },
   "outputs": [],
   "source": [
    "#töötab, sõna doku jagunemine\n",
    "doc_topic_distrib_est = lda_est.transform(tfsest)\n",
    "doc_topic_distrib_lat = lda_lat.transform(tfslat)"
   ]
  },
  {
   "cell_type": "markdown",
   "metadata": {},
   "source": [
    "Vaatame säutsude lõikes teemade tõenäosusi."
   ]
  },
  {
   "cell_type": "code",
   "execution_count": 31,
   "metadata": {
    "collapsed": false
   },
   "outputs": [
    {
     "data": {
      "image/png": "[encoded data removed]",
      "text/plain": [
       "<matplotlib.figure.Figure at 0x21917121eb8>"
      ]
     },
     "metadata": {},
     "output_type": "display_data"
    }
   ],
   "source": [
    "teema_doku_plot(doc_topic_distrib_est, n_topics_est, [1,2,3,4], teemad_est)"
   ]
  },
  {
   "cell_type": "markdown",
   "metadata": {
    "collapsed": true
   },
   "source": [
    "Vaatame esimesest säutsu."
   ]
  },
  {
   "cell_type": "code",
   "execution_count": 34,
   "metadata": {
    "collapsed": false
   },
   "outputs": [
    {
     "data": {
      "text/plain": [
       "\"RT @JRRCollins: @AviWoolf the NATO aspect is the one that concerns me regarding Turkey. It's not Estonia that scares me, it's agitators lik…\""
      ]
     },
     "execution_count": 34,
     "metadata": {},
     "output_type": "execute_result"
    }
   ],
   "source": [
    "estoniatkst[1]"
   ]
  },
  {
   "cell_type": "markdown",
   "metadata": {},
   "source": [
    "Eks siin jääb igaühel ise otsustada, kas teema sai õigesti määratud (tund, et enam vähem). Siin tuleb arevstada, et nagu iga mudel, pole ka see täiuslik. Vaatame sama Läti mudeli puhul."
   ]
  },
  {
   "cell_type": "code",
   "execution_count": 35,
   "metadata": {
    "collapsed": false
   },
   "outputs": [
    {
     "data": {
      "image/png": "[encoded data removed]",
      "text/plain": [
       "<matplotlib.figure.Figure at 0x2190f16d320>"
      ]
     },
     "metadata": {},
     "output_type": "display_data"
    }
   ],
   "source": [
    "teema_doku_plot(doc_topic_distrib_lat, n_topics_lat, [1,2,3,4], teemad_lat)"
   ]
  },
  {
   "cell_type": "code",
   "execution_count": 36,
   "metadata": {
    "collapsed": false
   },
   "outputs": [
    {
     "data": {
      "text/plain": [
       "'RT @IIHFHockey: France beats Latvia 8-1 and advances to the Final Olympic Qualification where they will play in Japan. Story soon on https:…'"
      ]
     },
     "execution_count": 36,
     "metadata": {},
     "output_type": "execute_result"
    }
   ],
   "source": [
    "latviatkst[1]"
   ]
  },
  {
   "cell_type": "code",
   "execution_count": null,
   "metadata": {
    "collapsed": true
   },
   "outputs": [],
   "source": []
  }
 ],
 "metadata": {
  "anaconda-cloud": {},
  "kernelspec": {
   "display_name": "Python [Root]",
   "language": "python",
   "name": "Python [Root]"
  },
  "language_info": {
   "codemirror_mode": {
    "name": "ipython",
    "version": 3
   },
   "file_extension": ".py",
   "mimetype": "text/x-python",
   "name": "python",
   "nbconvert_exporter": "python",
   "pygments_lexer": "ipython3",
   "version": "3.5.2"
  }
 },
 "nbformat": 4,
 "nbformat_minor": 0
}
