{
 "cells": [
  {
   "cell_type": "markdown",
   "metadata": {},
   "source": [
    "# Säutsud pythonis"
   ]
  },
  {
   "cell_type": "markdown",
   "metadata": {},
   "source": [
    "## Sissejuhatus"
   ]
  },
  {
   "cell_type": "markdown",
   "metadata": {},
   "source": [
    "Käesoleva kirjatüki eesmärk on mudeldada pythonis säutsude teemasid. Selleks tehakse järgnevat:\n",
    " - laetakse twitterist säutsud alla\n",
    " - säutsud puhastatakse\n",
    " - ehitatakse teemadem udelid kasutades _Latent Dirichlet allocation_ algoritmi\n",
    " - tulemused visualiseeritakse\n",
    "\n",
    "Esmalt defineerime hunniku funktsioone, mis teevad elu lihtsamaks."
   ]
  },
  {
   "cell_type": "code",
   "execution_count": 1,
   "metadata": {
    "collapsed": true
   },
   "outputs": [],
   "source": [
    "def teksti_eraldaja(tweedid):\n",
    "    \"\"\"eraldab säutsude listist teksti. \n",
    "    sisend: säutsude metaandmete list, mis on tulnud funktsioonist allalaadija\n",
    "    väljund: säutsude tekstide list\"\"\"\n",
    "    tekst=[]\n",
    "    for i in range(len(tweedid)):\n",
    "        tekst.append(tweedid[i]['text'])  \n",
    "    return tekst   \n",
    "\n",
    "import math as math\n",
    "def allalaadija(märksõna, kogus, keel='en'):\n",
    "    \"\"\"laeb twitterist säutsud alla\n",
    "    sisend: -märksõna: otsisõna, mille kohta otsime twitterist säutsusid\n",
    "    -kogus: mitu säutsu tahame. Kogus on 100 säutsu täpsusega (nt kogus=101, korjab 200 säutsu, kogus=99 korja 100 säutsu\n",
    "    -keel: mis keelseid säutsusid tahame)\n",
    "    väljund: - list tweetide andmetega\"\"\"\n",
    "    loopideArv=math.ceil(kogus/100)\n",
    "    print(\"Tsükkel nr:\", str(1)+ \", veel tsükleid:\",str(loopideArv-1))\n",
    "    tweedid=twitter.search(q=märksõna,lang=keel, count=100)\n",
    "    tulem=tweedid['statuses']\n",
    "    minid=min_id(tweedid)\n",
    "    for i in range(loopideArv-1):\n",
    "        print(\"Tsükkel nr:\", str(i+2)+ \", veel tsükleid:\",str(loopideArv-i-2))\n",
    "        uuedtweedid=twitter.search(q=märksõna,lang=keel, count=100, \n",
    "                                   max_id=minid)\n",
    "        tulem+=uuedtweedid['statuses']\n",
    "        minid=min_id(uuedtweedid)\n",
    "    return tulem\n",
    "\n",
    "def min_id(tweedid):\n",
    "    \"\"\"abifunktsioon funktsioonile allalaadija, mis leiab allalaaditud tweetide id miinimumi, selle saab\n",
    "    anda sisendiks järgmisele loobile, et võtta tweedid, mille id on väiksem kui siin leitud id\n",
    "    sisend: - tweetide sõnastik\n",
    "    väljund: - tweetide sõnastiku id miinimum\"\"\"\n",
    "    ids=[]\n",
    "    for i in range(len(tweedid['statuses'])):\n",
    "        ids.append(tweedid['statuses'][i]['id'])\n",
    "    return min(ids)\n",
    "\n",
    "from nltk.tokenize import RegexpTokenizer\n",
    "import re\n",
    "def tokeniseerija(tekstlist):\n",
    "    \"\"\"funktsioon, mis võtab sisendiks teksti listi ning teeb neist tokenid (iga sõna eraldi listi elemendiks) ning \n",
    "    eemaldab numbrid, kirjavahemärgid, lingid ja twitteri kasutajanimed ning teeb teksti väiketähtedeks\n",
    "    sisend: - tekstilist (iga lause on 1 string)\n",
    "    väljund: - tokenite list\"\"\"\n",
    "    tokenizer = RegexpTokenizer(r'\\w+')\n",
    "    tokens=[]\n",
    "    for i in range(len(tekstlist)):\n",
    "        #eemaldame kasutajanimed ja lingid, numbrid ja kirjavahemärgid\n",
    "        abimuutuja=re.sub(r'(^https?:\\/\\/.*[\\r\\n]*)|(@[A-Za-z0-9]+)|([0-9])|(\\w+:\\/\\/\\S+)', '', tekstlist[i].lower(), \n",
    "                          flags=re.MULTILINE)\n",
    "        tokens.append(tokenizer.tokenize(abimuutuja))\n",
    "    return tokens\n",
    "\n",
    "from stop_words import get_stop_words\n",
    "def puhastaja(tokenslist, myralist):\n",
    "    \"\"\"funktsioon, mis puhastab tokenite listi stoppsõnadest ja kasutaja poolt määratud sõnadest ning sõnadest, mille\n",
    "    pikkus on alla 3\n",
    "    sisend: - tokenslist: tokenite list\n",
    "    - myralist: list sõnadest, mida tahetakse veel eemaldada\n",
    "    väljund: - tokenite list, kus eelnev on eemaldatud\"\"\"\n",
    "    stopsonad = get_stop_words('en')#inglise keel stoppsõnad\n",
    "    stopsonad.extend(myralist)#paneme veel juurde\n",
    "    #eemaldame stoppsõnad ja sõnad alla 2 täheärgi\n",
    "    tokens_stopped=[]\n",
    "    for j in range(len(tokenslist)):\n",
    "        tokens_stopped.append([i for i in tokenslist[j] if not i in stopsonad and len(i)>2])   \n",
    "    return tokens_stopped\n",
    "\n",
    "from nltk.stem.porter import PorterStemmer\n",
    "def stemming(tokens):\n",
    "    \"\"\"funktsioon, mis normaliseerib sõnad lõigates maha käände- ja pöördelõpud.\n",
    "    sisend: - tokens: tokenite list\n",
    "    väljudn: - normaliseeritud sõnade list\"\"\"\n",
    "    p_stemmer = PorterStemmer()\n",
    "    stemmed=[]\n",
    "    for j in range(len(tokens)):\n",
    "        stemmed.append([p_stemmer.stem(i) for i in tokens[j]]) \n",
    "    return stemmed"
   ]
  },
  {
   "cell_type": "markdown",
   "metadata": {},
   "source": [
    "## Andmete korjamine "
   ]
  },
  {
   "cell_type": "markdown",
   "metadata": {},
   "source": [
    "Andmete korjamiseks kasutan eelloodud funktsioone."
   ]
  },
  {
   "cell_type": "code",
   "execution_count": 2,
   "metadata": {
    "collapsed": true
   },
   "outputs": [],
   "source": [
    "from twython import Twython\n",
    "#ühendus twitteriga, keyde ja salasõnade jaoks rega enda app: https://dev.twitter.com/ \n",
    "#ja loe twythoni kohta http://twython.readthedocs.io/en/latest/#\n",
    "twitter = Twython('sinu_api_vaartus','sinu_api_vaartus','sinu_api_vaartus', 'sinu_api_vaartus')"
   ]
  },
  {
   "cell_type": "code",
   "execution_count": null,
   "metadata": {
    "collapsed": true
   },
   "outputs": [],
   "source": [
    "estonia=allalaadija('estonia', 2000)\n",
    "latvia=allalaadija('latvia', 2000)\n",
    "#salvestame, et igal korral ei peaks uue päringu tegema\n",
    "import json\n",
    "json.dump(estonia, open(\"estonia.txt\",'w'))\n",
    "json.dump(latvia, open(\"latvia.txt\",'w'))"
   ]
  },
  {
   "cell_type": "code",
   "execution_count": 3,
   "metadata": {
    "collapsed": true
   },
   "outputs": [],
   "source": [
    "#laeme salvestatud failid üles\n",
    "estonia = json.load(open(\"estonia.txt\"))\n",
    "latvia=json.load(open(\"latvia.txt\"))"
   ]
  },
  {
   "cell_type": "markdown",
   "metadata": {},
   "source": [
    "## Andmete töötlus ja puhastamine "
   ]
  },
  {
   "cell_type": "code",
   "execution_count": 4,
   "metadata": {
    "collapsed": true
   },
   "outputs": [],
   "source": [
    "#eraldame teksti\n",
    "estoniatkst=teksti_eraldaja(estonia)\n",
    "latviatkst=teksti_eraldaja(latvia)"
   ]
  },
  {
   "cell_type": "code",
   "execution_count": 5,
   "metadata": {
    "collapsed": true
   },
   "outputs": [],
   "source": [
    "#tokeniseerime\n",
    "esttoken=tokeniseerija(estoniatkst)\n",
    "lattoken=tokeniseerija(latviatkst)"
   ]
  },
  {
   "cell_type": "code",
   "execution_count": 6,
   "metadata": {
    "collapsed": true
   },
   "outputs": [],
   "source": [
    "#puhastame\n",
    "estpuhas=puhastaja(esttoken,['estonia'])\n",
    "latpuhas=puhastaja(lattoken,['latvia'])"
   ]
  },
  {
   "cell_type": "code",
   "execution_count": 7,
   "metadata": {
    "collapsed": true
   },
   "outputs": [],
   "source": [
    "#stemming\n",
    "eststem=stemming(estpuhas)\n",
    "latstem=stemming(latpuhas)"
   ]
  },
  {
   "cell_type": "markdown",
   "metadata": {},
   "source": [
    "## Mudeli ehitamine"
   ]
  },
  {
   "cell_type": "markdown",
   "metadata": {},
   "source": [
    "Mudeli ehitamiseks katsetame erinevaid python pakette. Esmalt gensim pakett."
   ]
  },
  {
   "cell_type": "code",
   "execution_count": 8,
   "metadata": {
    "collapsed": false
   },
   "outputs": [
    {
     "name": "stderr",
     "output_type": "stream",
     "text": [
      "C:\\Users\\Risto\\Anaconda3\\lib\\site-packages\\gensim\\utils.py:840: UserWarning: detected Windows; aliasing chunkize to chunkize_serial\n",
      "  warnings.warn(\"detected Windows; aliasing chunkize to chunkize_serial\")\n",
      "C:\\Users\\Risto\\Anaconda3\\lib\\site-packages\\gensim\\utils.py:1015: UserWarning: Pattern library is not installed, lemmatization won't be available.\n",
      "  warnings.warn(\"Pattern library is not installed, lemmatization won't be available.\")\n"
     ]
    }
   ],
   "source": [
    "from gensim.models.coherencemodel import CoherenceModel\n",
    "from gensim.models.ldamodel import LdaModel\n",
    "from gensim.corpora.dictionary import Dictionary\n",
    "import warnings\n",
    "warnings.filterwarnings('ignore')#et igasugu hoiatusi siin ei kuvaks"
   ]
  },
  {
   "cell_type": "code",
   "execution_count": 9,
   "metadata": {
    "collapsed": true
   },
   "outputs": [],
   "source": [
    "estdictionary = Dictionary(eststem)\n",
    "estcorpus = [estdictionary.doc2bow(text) for text in eststem]\n",
    "#mudel\n",
    "estmudel = LdaModel(corpus=estcorpus, id2word=estdictionary, \n",
    "                    iterations=500, num_topics=3,  \n",
    "                    random_state=1)"
   ]
  },
  {
   "cell_type": "code",
   "execution_count": 10,
   "metadata": {
    "collapsed": false
   },
   "outputs": [
    {
     "data": {
      "text/plain": [
       "[(0, '0.014*\"farm\" + 0.013*\"end\" + 0.013*\"fur\"'),\n",
       " (1, '0.015*\"javier\" + 0.015*\"fernandez\" + 0.013*\"amp\"'),\n",
       " (2, '0.017*\"nato\" + 0.017*\"amp\" + 0.015*\"poland\"')]"
      ]
     },
     "execution_count": 10,
     "metadata": {},
     "output_type": "execute_result"
    }
   ],
   "source": [
    "#topicud sõnadega\n",
    "estmudel.print_topics(num_topics=3, num_words=3)"
   ]
  },
  {
   "cell_type": "code",
   "execution_count": 11,
   "metadata": {
    "collapsed": false
   },
   "outputs": [
    {
     "name": "stderr",
     "output_type": "stream",
     "text": [
      "C:\\Users\\Risto\\Anaconda3\\lib\\site-packages\\funcy\\decorators.py:56: DeprecationWarning: inspect.getargspec() is deprecated, use inspect.signature() instead\n",
      "  spec = inspect.getargspec(func)\n",
      "C:\\Users\\Risto\\Anaconda3\\lib\\site-packages\\funcy\\decorators.py:56: DeprecationWarning: inspect.getargspec() is deprecated, use inspect.signature() instead\n",
      "  spec = inspect.getargspec(func)\n",
      "C:\\Users\\Risto\\Anaconda3\\lib\\site-packages\\funcy\\decorators.py:56: DeprecationWarning: inspect.getargspec() is deprecated, use inspect.signature() instead\n",
      "  spec = inspect.getargspec(func)\n",
      "C:\\Users\\Risto\\Anaconda3\\lib\\site-packages\\funcy\\decorators.py:56: DeprecationWarning: inspect.getargspec() is deprecated, use inspect.signature() instead\n",
      "  spec = inspect.getargspec(func)\n",
      "C:\\Users\\Risto\\Anaconda3\\lib\\site-packages\\funcy\\decorators.py:56: DeprecationWarning: inspect.getargspec() is deprecated, use inspect.signature() instead\n",
      "  spec = inspect.getargspec(func)\n",
      "C:\\Users\\Risto\\Anaconda3\\lib\\site-packages\\funcy\\decorators.py:56: DeprecationWarning: inspect.getargspec() is deprecated, use inspect.signature() instead\n",
      "  spec = inspect.getargspec(func)\n"
     ]
    }
   ],
   "source": [
    "#interaktiivne visualiseerimine\n",
    "import pyLDAvis.gensim\n",
    "from gensim.models.coherencemodel import CoherenceModel\n",
    "estldavis=pyLDAvis.gensim.prepare(estmudel, estcorpus, estdictionary)"
   ]
  },
  {
   "cell_type": "code",
   "execution_count": 13,
   "metadata": {
    "collapsed": false
   },
   "outputs": [
    {
     "data": {
      "text/html": [
       "\n",
       "<link rel=\"stylesheet\" type=\"text/css\" href=\"https://cdn.rawgit.com/bmabey/pyLDAvis/files/ldavis.v1.0.0.css\">\n",
       "\n",
       "\n",
       "<div id=\"ldavis_el757214410261782887996644299\"></div>\n",
       "<script type=\"text/javascript\">\n",
       "\n",
       "var ldavis_el757214410261782887996644299_data = {\"tinfo\": {\"logprob\": [30.0, 29.0, 28.0, 27.0, 26.0, 25.0, 24.0, 23.0, 22.0, 21.0, 20.0, 19.0, 18.0, 17.0, 16.0, 15.0, 14.0, 13.0, 12.0, 11.0, 10.0, 9.0, 8.0, 7.0, 6.0, 5.0, 4.0, 3.0, 2.0, 1.0, -5.9336, -5.9882, -5.8849, -6.1099, -6.1107, -6.1132, -6.1148, -6.1183, -6.1189, -6.1191, -6.1856, -6.1216, -6.3305, -6.3319, -6.1894, -6.1894, -6.3332, -6.3339, -6.3341, -5.0084, -6.2615, -6.4159, -6.1282, -6.1287, -6.4168, -6.4175, -6.3382, -6.2643, -6.4186, -6.4198, -6.1984, -4.3141, -4.2995, -4.3924, -4.4255, -4.3427, -4.3111, -4.8712, -5.3983, -5.9445, -4.6635, -5.612, -5.6157, -5.6548, -5.4002, -5.0524, -5.3967, -5.1565, -5.741, -5.6168, -5.5038, -5.8801, -5.3341, -4.8989, -5.653, -5.9357, -4.9135, -4.5008, -5.3987, -5.3584, -5.4945, -5.4942, -5.2882, -5.2609, -5.1807, -5.5267, -5.6003, -4.9898, -4.9923, -5.393, -5.4318, -5.5555, -5.5619, -5.5623, -5.7536, -4.1765, -5.7032, -5.8715, -4.9935, -5.9351, -6.0722, -5.3453, -6.0747, -5.3213, -6.2381, -5.3244, -6.3274, -6.3289, -6.3314, -6.428, -6.2456, -6.3346, -6.2486, -4.9536, -6.5426, -6.5431, -4.5509, -4.5406, -4.6695, -5.1587, -4.1704, -4.4633, -4.9689, -5.1338, -5.5604, -5.6019, -4.7193, -4.9127, -5.2168, -4.4809, -4.3934, -5.1219, -4.627, -5.0191, -5.1828, -4.3471, -4.739, -4.7567, -4.4381, -4.986, -4.8376, -5.1517, -5.1916, -5.0927, -4.3019, -4.2623, -4.2538, -4.2628, -5.5601, -4.2367, -5.5658, -6.1783, -5.486, -6.272, -6.3754, -4.2012, -6.2806, -5.4725, -6.6159, -5.5614, -6.6184, -6.6187, -6.6212, -6.6213, -6.6218, -6.6256, -6.6277, -6.7647, -6.7656, -6.7664, -6.767, -5.3174, -5.4239, -5.4245, -5.4273, -5.344, -4.1884, -4.2342, -5.3463, -5.5115, -6.1825, -4.0502, -5.5943, -5.5151, -6.2696, -5.8207, -4.0661, -5.6469, -5.3486, -5.3958, -4.7883, -4.3807, -4.7799, -4.8776, -5.0868, -5.2965, -5.4142, -5.4352, -5.4914], \"Freq\": [78.0, 65.0, 66.0, 61.0, 68.0, 66.0, 72.0, 83.0, 82.0, 79.0, 125.0, 86.0, 88.0, 56.0, 57.0, 63.0, 80.0, 78.0, 88.0, 50.0, 34.0, 34.0, 95.0, 35.0, 37.0, 53.0, 41.0, 39.0, 30.0, 82.0, 15.265798844217809, 14.45563105541051, 16.028718504264354, 12.798634492099252, 12.789259021708236, 12.757135343852626, 12.736184966012324, 12.691394251205331, 12.684389924958706, 12.681635394463349, 11.865592219644101, 12.650025838634166, 10.26479069761416, 10.251247276384495, 11.820754386553237, 11.820531626085675, 10.237188489583852, 10.22987300875292, 10.228586968161864, 38.50657078293665, 10.998193943821898, 9.42498063187229, 12.566373233615735, 12.560980075602746, 9.416078180184407, 9.40975454051293, 10.186573732772976, 10.968053972226837, 9.39962509648325, 9.387787726993677, 11.714603110100196, 77.10764774652746, 78.23517005403714, 71.29721206970841, 68.97676463460763, 74.93399884873573, 77.33387261893805, 44.17196560826848, 26.073917175247452, 15.101520354033804, 54.36481277550288, 21.057115963800257, 20.979383261380978, 20.17583799954623, 26.023826830607526, 36.85117481702115, 26.117538104476413, 33.205935453339265, 18.508895442410484, 20.95656842165533, 23.462806491165626, 16.104802421383667, 27.804395293804426, 42.96323076210131, 20.2114979918308, 15.233961503586961, 42.34296660601929, 63.97450658778453, 26.063472308896607, 27.135920297700206, 23.684127285758276, 23.69118549930452, 29.10816754633883, 29.915440408201224, 32.41204562420865, 22.932829337288894, 21.306282745851004, 33.20382269726796, 33.12182149379173, 22.187225024537895, 21.34169320052322, 18.859968601812774, 18.738762634752437, 18.73141426054431, 15.470656307419254, 74.88502048769854, 16.269824926244247, 13.749783249586653, 33.082464542626525, 12.902039415450139, 11.24906967289781, 23.27188226545633, 11.221365917544889, 23.837119608518616, 9.529517945690186, 23.76123090219458, 8.715071472758495, 8.70216588071525, 8.680681852852983, 7.881622107523132, 9.458355923460806, 8.653307273815617, 9.430354509809387, 34.429157152678876, 7.02766380997832, 7.02428828875278, 51.50282995203258, 52.03487957935623, 45.742956083604554, 28.044663346799098, 75.34636914970976, 56.21466308367015, 33.90733904135474, 28.750534839439567, 18.766167928192328, 18.004320213023373, 43.517211184413995, 35.86556880245001, 26.4628145867531, 55.23696339745594, 60.287416900355396, 29.0957825477523, 47.729232537553564, 32.24746408469126, 27.3771205077623, 63.14436583173172, 42.67133550036527, 41.91949231808298, 57.65231927982319, 33.33083744616823, 38.66269861414679, 28.24185790669737, 27.136159261699756, 29.959470226650403, 60.50555720417401, 62.94771528937176, 63.48733637872239, 62.917230819247024, 17.193386072041566, 64.5838218105358, 17.095037082645057, 9.266122765655718, 18.51636343994144, 8.436758651800485, 7.608202789162799, 66.91505920676362, 8.364939748024387, 18.766757802842513, 5.98176306635851, 17.17130424925536, 5.966883571762461, 5.965423917734161, 5.95022985296723, 5.949463351222365, 5.946637420766123, 5.9243785024169, 5.911534023443665, 5.154905458082292, 5.150241270719194, 5.146063819998703, 5.142945770546166, 21.91552029994795, 19.702193128634697, 19.689900052173584, 19.634437456692176, 21.341753446667873, 67.77580933295938, 64.74107757184191, 21.29215607432775, 18.049203379342327, 9.227405574675972, 77.82383239171514, 16.61536830981375, 17.9850065534723, 8.457044552952992, 13.249337020446957, 76.59765263892757, 15.763345917810078, 21.242786992896328, 20.264689302327007, 37.201271481513594, 55.92276351226046, 37.516316578885544, 34.0240628555107, 27.601174117889112, 22.379801079625935, 19.895120656398166, 19.480519866038392, 18.4164483897012], \"Category\": [\"Default\", \"Default\", \"Default\", \"Default\", \"Default\", \"Default\", \"Default\", \"Default\", \"Default\", \"Default\", \"Default\", \"Default\", \"Default\", \"Default\", \"Default\", \"Default\", \"Default\", \"Default\", \"Default\", \"Default\", \"Default\", \"Default\", \"Default\", \"Default\", \"Default\", \"Default\", \"Default\", \"Default\", \"Default\", \"Default\", \"Topic1\", \"Topic1\", \"Topic1\", \"Topic1\", \"Topic1\", \"Topic1\", \"Topic1\", \"Topic1\", \"Topic1\", \"Topic1\", \"Topic1\", \"Topic1\", \"Topic1\", \"Topic1\", \"Topic1\", \"Topic1\", \"Topic1\", \"Topic1\", \"Topic1\", \"Topic1\", \"Topic1\", \"Topic1\", \"Topic1\", \"Topic1\", \"Topic1\", \"Topic1\", \"Topic1\", \"Topic1\", \"Topic1\", \"Topic1\", \"Topic1\", \"Topic1\", \"Topic1\", \"Topic1\", \"Topic1\", \"Topic1\", \"Topic1\", \"Topic1\", \"Topic1\", \"Topic1\", \"Topic1\", \"Topic1\", \"Topic1\", \"Topic1\", \"Topic1\", \"Topic1\", \"Topic1\", \"Topic1\", \"Topic1\", \"Topic1\", \"Topic1\", \"Topic1\", \"Topic1\", \"Topic1\", \"Topic1\", \"Topic1\", \"Topic1\", \"Topic1\", \"Topic1\", \"Topic1\", \"Topic1\", \"Topic1\", \"Topic1\", \"Topic1\", \"Topic1\", \"Topic1\", \"Topic1\", \"Topic2\", \"Topic2\", \"Topic2\", \"Topic2\", \"Topic2\", \"Topic2\", \"Topic2\", \"Topic2\", \"Topic2\", \"Topic2\", \"Topic2\", \"Topic2\", \"Topic2\", \"Topic2\", \"Topic2\", \"Topic2\", \"Topic2\", \"Topic2\", \"Topic2\", \"Topic2\", \"Topic2\", \"Topic2\", \"Topic2\", \"Topic2\", \"Topic2\", \"Topic2\", \"Topic2\", \"Topic2\", \"Topic2\", \"Topic2\", \"Topic2\", \"Topic2\", \"Topic2\", \"Topic2\", \"Topic2\", \"Topic2\", \"Topic2\", \"Topic2\", \"Topic2\", \"Topic2\", \"Topic2\", \"Topic2\", \"Topic2\", \"Topic2\", \"Topic2\", \"Topic2\", \"Topic2\", \"Topic2\", \"Topic2\", \"Topic2\", \"Topic2\", \"Topic2\", \"Topic2\", \"Topic2\", \"Topic2\", \"Topic2\", \"Topic2\", \"Topic3\", \"Topic3\", \"Topic3\", \"Topic3\", \"Topic3\", \"Topic3\", \"Topic3\", \"Topic3\", \"Topic3\", \"Topic3\", \"Topic3\", \"Topic3\", \"Topic3\", \"Topic3\", \"Topic3\", \"Topic3\", \"Topic3\", \"Topic3\", \"Topic3\", \"Topic3\", \"Topic3\", \"Topic3\", \"Topic3\", \"Topic3\", \"Topic3\", \"Topic3\", \"Topic3\", \"Topic3\", \"Topic3\", \"Topic3\", \"Topic3\", \"Topic3\", \"Topic3\", \"Topic3\", \"Topic3\", \"Topic3\", \"Topic3\", \"Topic3\", \"Topic3\", \"Topic3\", \"Topic3\", \"Topic3\", \"Topic3\", \"Topic3\", \"Topic3\", \"Topic3\", \"Topic3\", \"Topic3\", \"Topic3\", \"Topic3\", \"Topic3\", \"Topic3\", \"Topic3\", \"Topic3\", \"Topic3\"], \"Total\": [78.0, 65.0, 66.0, 61.0, 68.0, 66.0, 72.0, 83.0, 82.0, 79.0, 125.0, 86.0, 88.0, 56.0, 57.0, 63.0, 80.0, 78.0, 88.0, 50.0, 34.0, 34.0, 95.0, 35.0, 37.0, 53.0, 41.0, 39.0, 30.0, 82.0, 16.01091737437606, 15.167614802110531, 16.853073217920606, 13.482166520579574, 13.482344988368698, 13.482580496086891, 13.482491652757322, 13.482661108183002, 13.481355944380914, 13.481664027565934, 12.639915528864451, 13.481854356424018, 10.954997803152589, 10.954164284866888, 12.640386490870428, 12.640392541919141, 10.954047583138909, 10.954364573190512, 10.954030105797107, 41.260229151547804, 11.796932420616347, 10.111821907658035, 13.482417391799892, 13.481657369639535, 10.111378932443813, 10.11198880970612, 10.95399922140343, 11.797278724772442, 10.111802954609852, 10.11119433578621, 12.640385118532437, 86.89054476941114, 88.5690449565011, 80.99296986000213, 78.46931759727043, 88.62280207923148, 95.18924222310491, 52.26210518745275, 30.271646173871375, 16.835956004105043, 70.78248197447388, 24.388136441672607, 24.385730162556538, 23.54505488479313, 31.92372297120946, 48.78436698761032, 32.781369772300344, 45.376896143120355, 21.919012769707482, 26.07023161560413, 30.31022576753223, 18.505482846955545, 40.36267961346081, 82.71419216133393, 26.9075070043507, 17.663653764465764, 89.8747144752262, 177.54958937986817, 43.69255771177458, 51.580882862400266, 40.42956743613189, 41.08237011768944, 75.1286425499213, 94.02455476011205, 172.15406409486795, 54.08812415016413, 49.44153646389799, 34.198632826645316, 34.19654206621778, 23.077789829375316, 22.222934051917274, 19.65806308473202, 19.655777545646295, 19.655754498400075, 16.236734843608332, 78.62868415861581, 17.091327502232524, 14.525179083374294, 35.021602094754954, 13.67020715004961, 11.960016088285183, 24.77133867728221, 11.959938114924435, 25.631135064576974, 10.249297215569054, 25.613052742046335, 9.39438108412711, 9.394453646305834, 9.393703414540482, 8.539324328230913, 10.247933335175198, 9.392817094593571, 10.246063421992407, 37.57493305044216, 7.683963756841523, 7.683653206764665, 56.34360607041681, 57.18592524617942, 50.35125628946149, 30.728304482794726, 83.69629270482774, 63.99022834339148, 39.21296743768879, 33.28575680788776, 21.3412043352099, 20.472114086428242, 53.67086758515718, 47.63821048179063, 33.22011408771744, 84.8551493849011, 102.4235628257211, 39.98369473298482, 82.745037693155, 47.48125884580637, 39.92741588558778, 172.15406409486795, 89.8747144752262, 88.42634149399305, 177.54958937986817, 60.20151684903826, 125.40944784563652, 45.707185373749965, 40.8268023448683, 75.1286425499213, 61.98547016919616, 65.30715526730819, 66.14028038128717, 66.16368721088449, 18.19752315339065, 68.66989236408457, 18.201295447266062, 9.929512835343159, 19.857555210746213, 9.1036238799771, 8.277653179899483, 72.825043357537, 9.1052344530774, 20.69467765476888, 6.625189393510612, 19.053186003108856, 6.625331516853054, 6.625578604827304, 6.6259063907621645, 6.6259178833643215, 6.626016747959657, 6.6265609215875685, 6.626957293771885, 5.799182642036898, 5.7992655583723565, 5.799642562093913, 5.799491788079269, 24.846325975303653, 22.36085258601416, 22.361153427502888, 22.362659175124243, 24.86800596930346, 82.10319014807789, 79.76259201041152, 25.699613348520984, 22.3942903714154, 10.786251907066463, 125.40944784563652, 21.605171804332514, 24.082211435491296, 9.945979456383327, 17.459915143357364, 172.15406409486795, 22.51618500728284, 35.01035469471965, 33.346640078102766, 82.71419216133393, 177.54958937986817, 94.02455476011205, 88.42634149399305, 82.745037693155, 102.4235628257211, 49.44153646389799, 44.3441241262051, 40.15032257518811], \"loglift\": [30.0, 29.0, 28.0, 27.0, 26.0, 25.0, 24.0, 23.0, 22.0, 21.0, 20.0, 19.0, 18.0, 17.0, 16.0, 15.0, 14.0, 13.0, 12.0, 11.0, 10.0, 9.0, 8.0, 7.0, 6.0, 5.0, 4.0, 3.0, 2.0, 1.0, 0.9161, 0.9157, 0.9136, 0.9118, 0.911, 0.9085, 0.9068, 0.9033, 0.9029, 0.9026, 0.9006, 0.9001, 0.8987, 0.8975, 0.8967, 0.8967, 0.8961, 0.8954, 0.8953, 0.8947, 0.8937, 0.8934, 0.8934, 0.8931, 0.8925, 0.8918, 0.8912, 0.8909, 0.8908, 0.8896, 0.8877, 0.8443, 0.8397, 0.8363, 0.8349, 0.796, 0.7561, 0.7956, 0.8145, 0.8551, 0.6999, 0.8169, 0.8133, 0.8094, 0.7595, 0.6833, 0.7365, 0.6515, 0.7947, 0.7454, 0.7077, 0.8248, 0.5911, 0.3087, 0.6776, 0.8158, 0.2112, -0.057, 0.4471, 0.3215, 0.429, 0.4133, 0.0156, -0.1814, -0.7061, 0.1057, 0.122, 1.101, 1.0986, 1.0912, 1.0901, 1.0891, 1.0828, 1.0824, 1.0822, 1.0818, 1.0813, 1.0757, 1.0736, 1.0727, 1.0693, 1.0681, 1.0668, 1.058, 1.0577, 1.0555, 1.0555, 1.054, 1.0516, 1.0504, 1.0504, 1.0485, 1.0476, 1.0431, 1.0413, 1.0408, 1.0407, 1.0362, 1.0346, 1.0392, 1.0255, 1.001, 0.9852, 0.9841, 1.002, 1.0021, 0.9208, 0.8467, 0.9031, 0.7012, 0.6006, 0.8127, 0.5803, 0.7437, 0.7532, 0.1276, 0.3857, 0.3841, 0.0057, 0.5393, -0.0462, 0.6491, 0.7221, 0.2112, 1.1942, 1.1816, 1.1775, 1.1681, 1.1617, 1.1571, 1.1557, 1.1493, 1.1485, 1.1423, 1.1341, 1.1338, 1.1336, 1.1206, 1.1162, 1.1144, 1.1137, 1.1135, 1.1109, 1.1107, 1.1102, 1.1064, 1.1042, 1.1006, 1.0997, 1.0988, 1.0983, 1.0929, 1.0918, 1.0912, 1.0883, 1.0655, 1.0266, 1.0098, 1.0303, 1.0027, 1.0623, 0.7413, 0.9558, 0.9265, 1.0562, 0.9425, 0.4086, 0.8619, 0.7188, 0.7203, 0.4194, 0.0631, 0.2996, 0.2633, 0.1205, -0.3025, 0.3081, 0.3958, 0.439], \"Term\": [\"fernandez\", \"defens\", \"member\", \"_org\", \"spend\", \"target\", \"usa\", \"javier\", \"poland\", \"greec\", \"nato\", \"fur\", \"farm\", \"lo\", \"total\", \"watch\", \"sign\", \"plz\", \"help\", \"hand\", \"neutral\", \"meddl\", \"end\", \"joke\", \"bring\", \"don\", \"nation\", \"soviet\", \"cole\", \"russian\", \"enjoy\", \"wed\", \"health\", \"hug\", \"crimin\", \"marri\", \"albania\", \"pre\", \"luck\", \"liberia\", \"london\", \"soro\", \"robledo\", \"diaz\", \"test\", \"karula\", \"smart\", \"fenero\", \"khaliavin\", \"nation\", \"million\", \"malmo\", \"diet\", \"face\", \"analyz\", \"khlexpans\", \"hurtado\", \"forecast\", \"hamburg\", \"assay\", \"sunset\", \"fur\", \"farm\", \"sign\", \"plz\", \"help\", \"end\", \"love\", \"abus\", \"machin\", \"via\", \"stand\", \"tall\", \"journal\", \"right\", \"onlin\", \"market\", \"shop\", \"town\", \"tini\", \"citizen\", \"georg\", \"putin\", \"russian\", \"happi\", \"special\", \"world\", \"tallinn\", \"ukrain\", \"take\", \"now\", \"day\", \"good\", \"russia\", \"amp\", \"finland\", \"will\", \"neutral\", \"meddl\", \"presenc\", \"mark\", \"android\", \"authent\", \"io\", \"lanka\", \"fernandez\", \"sri\", \"bulgaria\", \"joke\", \"benefit\", \"efsi\", \"step\", \"system\", \"project\", \"school\", \"construct\", \"emh\", \"eeduc\", \"manic\", \"manicsin\", \"lukaku\", \"pisa\", \"hurt\", \"bring\", \"thala\", \"spirit\", \"lo\", \"total\", \"hand\", \"cole\", \"javier\", \"watch\", \"soviet\", \"secur\", \"level\", \"music\", \"don\", \"even\", \"yesterday\", \"countri\", \"baltic\", \"digit\", \"lithuania\", \"state\", \"europ\", \"amp\", \"world\", \"latvia\", \"tallinn\", \"affair\", \"nato\", \"news\", \"complet\", \"good\", \"_org\", \"defens\", \"member\", \"target\", \"condit\", \"spend\", \"mint\", \"wild\", \"chronolog\", \"amb\", \"circus\", \"usa\", \"novel\", \"sinc\", \"andrew\", \"collect\", \"minist\", \"bank\", \"disappear\", \"protocol\", \"redarmi\", \"bookreview\", \"dove\", \"yeter\", \"burak\", \"tuesday\", \"danel\", \"drive\", \"minibus\", \"self\", \"roam\", \"set\", \"poland\", \"greec\", \"street\", \"mix\", \"join\", \"nato\", \"well\", \"use\", \"foreign\", \"work\", \"amp\", \"start\", \"cyber\", \"attack\", \"russian\", \"tallinn\", \"russia\", \"latvia\", \"lithuania\", \"baltic\", \"will\", \"old\", \"top\"]}, \"mdsDat\": {\"cluster\": [1, 1, 1], \"Freq\": [38.144523106874765, 32.285567730515766, 29.569909162609477], \"x\": [0.09970535558981493, -0.1468993278009891, 0.04719397221117419], \"y\": [0.10421896174788146, 0.028196139976619308, -0.13241510172450086], \"topics\": [1, 2, 3]}, \"lambda.step\": 0.01, \"R\": 30, \"topic.order\": [1, 2, 3], \"plot.opts\": {\"xlab\": \"PC1\", \"ylab\": \"PC2\"}, \"token.table\": {\"Freq\": [0.01613281301683104, 0.01613281301683104, 0.9841015940266935, 0.8588895314996646, 0.1321368509999484, 0.3322175427930186, 0.5481589456084807, 0.11627613997755651, 0.9642134654940694, 0.8787709274320463, 0.18588001490552059, 0.36595127934524363, 0.4472737858664089, 0.8900863136601681, 0.9056344873517146, 0.9665245206562022, 0.8901025636651648, 0.2998802870867506, 0.08996408612602518, 0.5997605741735011, 0.9666369064198355, 0.19526756781572827, 0.5858027034471848, 0.21479432459730108, 0.9055812869880502, 0.950973153318516, 0.9054470442509024, 0.053226974411773834, 0.9048585650001553, 0.026613487205886917, 0.9638435381512493, 0.8621781412961056, 0.05035866648170441, 0.05035866648170441, 0.9568146631523837, 0.9664575002279989, 0.758819817984899, 0.0989764979980303, 0.13196866399737373, 0.03254328596489651, 0.9112120070171021, 0.06508657192979302, 0.05248466056211453, 0.05248466056211453, 0.892239229555947, 0.29392456207161993, 0.6613302646611449, 0.04898742701193665, 0.05495253346132851, 0.9341930688425846, 0.03904259324615383, 0.9370222379076918, 0.03904259324615383, 0.2003414067764865, 0.6481633748651034, 0.14141746360693166, 0.9642239544541532, 0.3141927608536639, 0.08568893477827197, 0.5998225434479038, 0.8621445089856654, 0.5841921956120532, 0.0973653659353422, 0.3164374392898621, 0.030624515672345795, 0.015312257836172898, 0.9646722436788926, 0.9128948352376767, 0.9642187763677083, 0.20008155958134466, 0.7252956534823745, 0.07503058484300425, 0.9055364875611882, 0.11179249134514299, 0.8198116031977153, 0.07452832756342866, 0.9053928875683099, 0.08049479838540022, 0.04024739919270011, 0.8854427822394024, 0.9580120716800871, 0.9197312042727503, 0.9580194713632108, 0.8089149383028715, 0.09454849928215381, 0.09454849928215381, 0.9368607462809135, 0.20036358032596055, 0.6762270836001169, 0.12522723770372535, 0.14694086803860318, 0.7556958927699592, 0.10495776288471656, 0.9642731337525148, 0.8806688616582478, 0.09032501145212798, 0.022581252863031996, 0.9128781439750322, 0.025436010043935704, 0.9538503766475889, 0.012718005021967852, 0.42523197765456633, 0.40674363080001996, 0.16639512169091725, 0.9324184209449692, 0.10054313950530033, 0.8043451160424027, 0.886172370127745, 0.09206985663664882, 0.023017464159162206, 0.8646086207165495, 0.10807607758956869, 0.3860045784898902, 0.39931508119643816, 0.212968043304767, 0.03761161622742157, 0.15044646490968627, 0.814918351594134, 0.8900489893245997, 0.039720955292601105, 0.9135819717298255, 0.059581432938901654, 0.7432869941004264, 0.07432869941004264, 0.1858217485251066, 0.9493817414254454, 0.8462833293506983, 0.1354053326961117, 0.022567555449351955, 0.9642367181978074, 0.878386130294897, 0.9129085914540348, 0.9666380398445935, 0.08363572356408838, 0.8960970381866612, 0.011947960509155484, 0.09271061056388494, 0.8343954950749644, 0.028553805085626452, 0.9422755678256729, 0.028553805085626452, 0.8494352677392675, 0.12741529016089012, 0.9493376064235809, 0.9129060175494483, 0.8900326305109473, 0.923831062370574, 0.13570616851557948, 0.4749715898045282, 0.3845008107941419, 0.09371542339343471, 0.8902965222376298, 0.9642726575457543, 0.08459721809491746, 0.5800952097937198, 0.33838887237966986, 0.035496485572834136, 0.9229086248936874, 0.053244728359251196, 0.949373433121199, 0.8419102108914599, 0.09567161487402953, 0.057402968924417715, 0.9642946936223025, 0.8782258535102129, 0.8909502968731096, 0.05939668645820731, 0.890047321065256, 0.9580885836856345, 0.9368422714139205, 0.9449697304118235, 0.7931334224468413, 0.030505131632570816, 0.15252565816285407, 0.9642071118190652, 0.029242722789444963, 0.9650098520516838, 0.029242722789444963, 0.030238759020529533, 0.015119379510264767, 0.9525209091466803, 0.9324457924991054, 0.08944202786126866, 0.04472101393063433, 0.8944202786126866, 0.9056150601275756, 0.054941144321142575, 0.054941144321142575, 0.9339994534594237, 0.17861695698586164, 0.8037763064363773, 0.048846933725468965, 0.8792448070584414, 0.048846933725468965, 0.9452201502990679, 0.024236414110232512, 0.048472828220465024, 0.07176492803857876, 0.31098135483384126, 0.6219627096676825, 0.9649508554122251, 0.02924093501249167, 0.13127038891013953, 0.6125951482473179, 0.24066237966858917, 0.878615486644185, 0.5936249512912475, 0.2226093567342178, 0.19787498376374918, 0.4510180411519511, 0.11275451028798777, 0.4284671390943535, 0.7584396864142323, 0.08199347961234944, 0.16398695922469889, 0.9581789903244604, 0.8793245833247845, 0.10195067632751124, 0.012743834540938906, 0.1339777416707056, 0.036539384092010616, 0.8282260394189074, 0.9642013468772821, 0.9532975281712889, 0.039015049371809954, 0.936361184923439, 0.9055349169153134, 0.69371013689245, 0.12387681015936607, 0.19820289625498572, 0.9055214057295545, 0.8144413489444262, 0.03132466726709331, 0.15662333633546657, 0.08943480220030176, 0.04471740110015088, 0.8943480220030177, 0.9128253770276646, 0.31906558958497583, 0.28715903062647824, 0.4041497468076361, 0.5198624187265053, 0.03626947107394223, 0.4473234765786208, 0.9756766527181626, 0.12017152030180417, 0.8712435221880802, 0.030042880075451042, 0.08944082453010313, 0.044720412265051565, 0.8944082453010314, 0.08042462280525256, 0.04021231140262628, 0.8444585394551519, 0.7272423370676747, 0.06611293973342497, 0.1983388192002749, 0.8766192932883536, 0.09877400487756098, 0.024693501219390245, 0.04832160310405028, 0.04832160310405028, 0.9181104589769554, 0.9129045609946562, 0.964259044513827, 0.051003536092444214, 0.8670601135715517, 0.07650530413866632, 0.8492014279727179, 0.11322685706302905, 0.029124845418368985, 0.029124845418368985, 0.946557476096992, 0.9110249788261164, 0.9361472944632316, 0.8610744019012779, 0.1230106288430397, 0.04441249704053111, 0.26647498224318666, 0.7105999526484977, 0.12636564711741904, 0.6739501179595683, 0.2106094118623651, 0.040369235309721065, 0.9284924121235845, 0.040369235309721065, 0.15564436498536663, 0.03891109124634166, 0.8171329161731747, 0.9493381639461641, 0.07911151366218035, 0.9197372005021867, 0.5234497453645093, 0.3683535245157658, 0.11632216563655762, 0.8611593690249549, 0.12302276700356499, 0.3604626753772531, 0.3266692995606356, 0.31540484095509647, 0.030228061408146295, 0.030228061408146295, 0.9521839343566083, 0.9493380608786804, 0.9109881594336586, 0.8055164338252606, 0.0383579254202505, 0.153431701681002, 0.4234088024614171, 0.12453200072394621, 0.44831520260620633, 0.0349736406535386, 0.9093146569920035, 0.0524604609803079, 0.8668273612330927, 0.09124498539295713, 0.04562249269647856, 0.8621220957097727, 0.5950670173971833, 0.13732315786088845, 0.25175912274496215, 0.05492616022707828, 0.02746308011353914, 0.9200131838035612, 0.24914655433833896, 0.04152442572305649, 0.7474396630150169, 0.7629006287102774, 0.12715010478504624, 0.09889452594392485, 0.0781369301132736, 0.8751336172686645, 0.04688215806796416, 0.9230192210611743, 0.13885564193469668, 0.09257042795646445, 0.7868486376299478, 0.9063888782101528, 0.4247440816353698, 0.1618072691944266, 0.40451817298606646, 0.11454809393852645, 0.11454809393852645, 0.744562610600422, 0.4673172008972248, 0.4784438009185873, 0.05563300010681248, 0.1505112230137904, 0.78265835967171, 0.06020448920551616, 0.8621904686629779], \"Term\": [\"_org\", \"_org\", \"_org\", \"abus\", \"abus\", \"affair\", \"affair\", \"affair\", \"albania\", \"amb\", \"amp\", \"amp\", \"amp\", \"analyz\", \"andrew\", \"android\", \"assay\", \"attack\", \"attack\", \"attack\", \"authent\", \"baltic\", \"baltic\", \"baltic\", \"bank\", \"benefit\", \"bookreview\", \"bring\", \"bring\", \"bring\", \"bulgaria\", \"burak\", \"chronolog\", \"chronolog\", \"chronolog\", \"circus\", \"citizen\", \"citizen\", \"citizen\", \"cole\", \"cole\", \"cole\", \"collect\", \"collect\", \"collect\", \"complet\", \"complet\", \"complet\", \"condit\", \"condit\", \"construct\", \"construct\", \"construct\", \"countri\", \"countri\", \"countri\", \"crimin\", \"cyber\", \"cyber\", \"cyber\", \"danel\", \"day\", \"day\", \"day\", \"defens\", \"defens\", \"defens\", \"diaz\", \"diet\", \"digit\", \"digit\", \"digit\", \"disappear\", \"don\", \"don\", \"don\", \"dove\", \"drive\", \"drive\", \"drive\", \"eeduc\", \"efsi\", \"emh\", \"end\", \"end\", \"end\", \"enjoy\", \"europ\", \"europ\", \"europ\", \"even\", \"even\", \"even\", \"face\", \"farm\", \"farm\", \"farm\", \"fenero\", \"fernandez\", \"fernandez\", \"fernandez\", \"finland\", \"finland\", \"finland\", \"forecast\", \"foreign\", \"foreign\", \"fur\", \"fur\", \"fur\", \"georg\", \"georg\", \"good\", \"good\", \"good\", \"greec\", \"greec\", \"greec\", \"hamburg\", \"hand\", \"hand\", \"hand\", \"happi\", \"happi\", \"happi\", \"health\", \"help\", \"help\", \"help\", \"hug\", \"hurt\", \"hurtado\", \"io\", \"javier\", \"javier\", \"javier\", \"join\", \"join\", \"joke\", \"joke\", \"joke\", \"journal\", \"journal\", \"karula\", \"khaliavin\", \"khlexpans\", \"lanka\", \"latvia\", \"latvia\", \"latvia\", \"level\", \"level\", \"liberia\", \"lithuania\", \"lithuania\", \"lithuania\", \"lo\", \"lo\", \"lo\", \"london\", \"love\", \"love\", \"love\", \"luck\", \"lukaku\", \"machin\", \"machin\", \"malmo\", \"manic\", \"manicsin\", \"mark\", \"market\", \"market\", \"market\", \"marri\", \"meddl\", \"meddl\", \"meddl\", \"member\", \"member\", \"member\", \"million\", \"minibus\", \"minibus\", \"minibus\", \"minist\", \"mint\", \"mint\", \"mint\", \"mix\", \"mix\", \"music\", \"music\", \"music\", \"nation\", \"nation\", \"nation\", \"nato\", \"nato\", \"nato\", \"neutral\", \"neutral\", \"news\", \"news\", \"news\", \"novel\", \"now\", \"now\", \"now\", \"old\", \"old\", \"old\", \"onlin\", \"onlin\", \"onlin\", \"pisa\", \"plz\", \"plz\", \"plz\", \"poland\", \"poland\", \"poland\", \"pre\", \"presenc\", \"project\", \"project\", \"protocol\", \"putin\", \"putin\", \"putin\", \"redarmi\", \"right\", \"right\", \"right\", \"roam\", \"roam\", \"roam\", \"robledo\", \"russia\", \"russia\", \"russia\", \"russian\", \"russian\", \"russian\", \"school\", \"secur\", \"secur\", \"secur\", \"self\", \"self\", \"self\", \"set\", \"set\", \"set\", \"shop\", \"shop\", \"shop\", \"sign\", \"sign\", \"sign\", \"sinc\", \"sinc\", \"sinc\", \"smart\", \"soro\", \"soviet\", \"soviet\", \"soviet\", \"special\", \"special\", \"spend\", \"spend\", \"spend\", \"spirit\", \"sri\", \"stand\", \"stand\", \"start\", \"start\", \"start\", \"state\", \"state\", \"state\", \"step\", \"step\", \"step\", \"street\", \"street\", \"street\", \"sunset\", \"sunset\", \"system\", \"take\", \"take\", \"take\", \"tall\", \"tall\", \"tallinn\", \"tallinn\", \"tallinn\", \"target\", \"target\", \"target\", \"test\", \"thala\", \"tini\", \"tini\", \"tini\", \"top\", \"top\", \"top\", \"total\", \"total\", \"total\", \"town\", \"town\", \"town\", \"tuesday\", \"ukrain\", \"ukrain\", \"ukrain\", \"usa\", \"usa\", \"usa\", \"use\", \"use\", \"use\", \"via\", \"via\", \"via\", \"watch\", \"watch\", \"watch\", \"wed\", \"well\", \"well\", \"well\", \"wild\", \"will\", \"will\", \"will\", \"work\", \"work\", \"work\", \"world\", \"world\", \"world\", \"yesterday\", \"yesterday\", \"yesterday\", \"yeter\"], \"Topic\": [1, 2, 3, 1, 3, 1, 2, 3, 1, 3, 1, 2, 3, 1, 3, 2, 1, 1, 2, 3, 2, 1, 2, 3, 3, 2, 3, 1, 2, 3, 2, 3, 1, 2, 3, 3, 1, 2, 3, 1, 2, 3, 1, 2, 3, 1, 2, 3, 1, 3, 1, 2, 3, 1, 2, 3, 1, 1, 2, 3, 3, 1, 2, 3, 1, 2, 3, 1, 1, 1, 2, 3, 3, 1, 2, 3, 3, 1, 2, 3, 2, 2, 2, 1, 2, 3, 1, 1, 2, 3, 1, 2, 3, 1, 1, 2, 3, 1, 1, 2, 3, 1, 2, 3, 1, 1, 3, 1, 2, 3, 1, 3, 1, 2, 3, 1, 2, 3, 1, 1, 2, 3, 1, 2, 3, 1, 1, 2, 3, 1, 2, 1, 2, 1, 2, 3, 2, 3, 1, 2, 3, 1, 3, 1, 1, 1, 2, 1, 2, 3, 1, 2, 1, 1, 2, 3, 1, 2, 3, 1, 1, 2, 3, 1, 2, 1, 3, 1, 2, 2, 2, 1, 2, 3, 1, 1, 2, 3, 1, 2, 3, 1, 1, 2, 3, 3, 1, 2, 3, 1, 3, 1, 2, 3, 1, 2, 3, 1, 2, 3, 2, 3, 1, 2, 3, 3, 1, 2, 3, 1, 2, 3, 1, 2, 3, 2, 1, 2, 3, 1, 2, 3, 1, 2, 1, 2, 3, 1, 2, 3, 3, 1, 2, 3, 1, 2, 3, 1, 1, 2, 3, 1, 2, 3, 2, 1, 2, 3, 1, 2, 3, 1, 2, 3, 1, 2, 3, 1, 2, 3, 1, 2, 3, 1, 1, 1, 2, 3, 1, 3, 1, 2, 3, 2, 2, 1, 3, 1, 2, 3, 1, 2, 3, 1, 2, 3, 1, 2, 3, 1, 2, 2, 1, 2, 3, 1, 3, 1, 2, 3, 1, 2, 3, 1, 2, 1, 2, 3, 1, 2, 3, 1, 2, 3, 1, 2, 3, 3, 1, 2, 3, 1, 2, 3, 1, 2, 3, 1, 2, 3, 1, 2, 3, 1, 1, 2, 3, 3, 1, 2, 3, 1, 2, 3, 1, 2, 3, 1, 2, 3, 3]}};\n",
       "\n",
       "function LDAvis_load_lib(url, callback){\n",
       "  var s = document.createElement('script');\n",
       "  s.src = url;\n",
       "  s.async = true;\n",
       "  s.onreadystatechange = s.onload = callback;\n",
       "  s.onerror = function(){console.warn(\"failed to load library \" + url);};\n",
       "  document.getElementsByTagName(\"head\")[0].appendChild(s);\n",
       "}\n",
       "\n",
       "if(typeof(LDAvis) !== \"undefined\"){\n",
       "   // already loaded: just create the visualization\n",
       "   !function(LDAvis){\n",
       "       new LDAvis(\"#\" + \"ldavis_el757214410261782887996644299\", ldavis_el757214410261782887996644299_data);\n",
       "   }(LDAvis);\n",
       "}else if(typeof define === \"function\" && define.amd){\n",
       "   // require.js is available: use it to load d3/LDAvis\n",
       "   require.config({paths: {d3: \"https://cdnjs.cloudflare.com/ajax/libs/d3/3.5.5/d3.min\"}});\n",
       "   require([\"d3\"], function(d3){\n",
       "      window.d3 = d3;\n",
       "      LDAvis_load_lib(\"https://cdn.rawgit.com/bmabey/pyLDAvis/files/ldavis.v1.0.0.js\", function(){\n",
       "        new LDAvis(\"#\" + \"ldavis_el757214410261782887996644299\", ldavis_el757214410261782887996644299_data);\n",
       "      });\n",
       "    });\n",
       "}else{\n",
       "    // require.js not available: dynamically load d3 & LDAvis\n",
       "    LDAvis_load_lib(\"https://cdnjs.cloudflare.com/ajax/libs/d3/3.5.5/d3.min.js\", function(){\n",
       "         LDAvis_load_lib(\"https://cdn.rawgit.com/bmabey/pyLDAvis/files/ldavis.v1.0.0.js\", function(){\n",
       "                 new LDAvis(\"#\" + \"ldavis_el757214410261782887996644299\", ldavis_el757214410261782887996644299_data);\n",
       "            })\n",
       "         });\n",
       "}\n",
       "</script>"
      ],
      "text/plain": [
       "<IPython.core.display.HTML object>"
      ]
     },
     "execution_count": 13,
     "metadata": {},
     "output_type": "execute_result"
    }
   ],
   "source": [
    "pyLDAvis.display(estldavis)"
   ]
  },
  {
   "cell_type": "code",
   "execution_count": 14,
   "metadata": {
    "collapsed": false
   },
   "outputs": [
    {
     "data": {
      "text/html": [
       "\n",
       "<link rel=\"stylesheet\" type=\"text/css\" href=\"https://cdn.rawgit.com/bmabey/pyLDAvis/files/ldavis.v1.0.0.css\">\n",
       "\n",
       "\n",
       "<div id=\"ldavis_el757214410316642883845523253\"></div>\n",
       "<script type=\"text/javascript\">\n",
       "\n",
       "var ldavis_el757214410316642883845523253_data = {\"tinfo\": {\"logprob\": [30.0, 29.0, 28.0, 27.0, 26.0, 25.0, 24.0, 23.0, 22.0, 21.0, 20.0, 19.0, 18.0, 17.0, 16.0, 15.0, 14.0, 13.0, 12.0, 11.0, 10.0, 9.0, 8.0, 7.0, 6.0, 5.0, 4.0, 3.0, 2.0, 1.0, -4.4823, -4.4827, -4.7462, -4.9956, -4.7483, -4.7491, -4.7501, -4.9976, -4.7504, -5.1302, -4.7523, -5.3823, -5.4083, -5.4918, -5.4096, -5.4112, -5.1989, -5.1997, -5.3865, -5.497, -5.5266, -5.2929, -5.2051, -5.2104, -6.066, -6.0668, -6.0675, -6.0196, -6.177, -6.072, -3.932, -4.7534, -5.2837, -4.7454, -5.2658, -5.2684, -4.6716, -4.47, -4.7498, -4.521, -4.2902, -4.4088, -4.7503, -4.8162, -4.4607, -4.9146, -4.3462, -4.3867, -4.1385, -4.8459, -5.0545, -5.0849, -4.8486, -5.0661, -4.546, -4.6194, -4.6399, -4.587, -5.23, -4.6254, -5.8146, -6.2681, -5.9581, -6.2693, -6.2706, -6.2708, -6.1854, -6.1859, -6.2768, -6.2801, -6.2813, -6.3772, -6.484, -6.6138, -6.6187, -6.7605, -6.7612, -6.6286, -6.7667, -6.7693, -6.9272, -6.9306, -6.9318, -6.9332, -5.1995, -4.496, -5.1401, -5.8171, -5.4112, -5.2366, -5.7538, -6.2703, -5.8142, -5.8166, -5.5933, -5.046, -5.8778, -4.9079, -5.4167, -5.5374, -5.8788, -3.9485, -5.8828, -4.5356, -5.6406, -5.7225, -5.7527, -5.5068, -5.5433, -5.5947, -5.2105, -5.5372, -5.4168, -5.1703, -4.9253, -5.0584, -5.1109, -5.4032, -5.2303, -5.4412, -5.4284, -5.4115, -5.4788, -5.4944, -4.4468, -5.1309, -5.1326, -5.3368, -5.1373, -5.1698, -5.8781, -5.8188, -5.8801, -4.9399, -5.7636, -5.8818, -5.1291, -6.0174, -5.949, -6.0181, -5.9493, -6.0966, -6.1781, -5.9551, -6.099, -6.0993, -6.0994, -6.1834, -5.962, -5.9625, -6.2735, -6.3719, -6.3723, -6.3731, -6.192, -4.3935, -4.8989, -4.9946, -5.0442, -4.7977, -5.1315, -5.2315, -4.5825, -5.3388, -5.2614, -4.4303, -4.995, -5.3375, -4.8988, -5.0139, -4.9378, -4.9651, -4.8832, -4.9894, -4.9729, -4.6478, -5.372, -4.9292, -4.978, -5.1446], \"Freq\": [145.0, 55.0, 64.0, 50.0, 80.0, 80.0, 49.0, 47.0, 47.0, 46.0, 84.0, 62.0, 62.0, 62.0, 62.0, 62.0, 62.0, 62.0, 58.0, 43.0, 35.0, 64.0, 63.0, 38.0, 48.0, 48.0, 28.0, 28.0, 35.0, 28.0, 79.10943807892602, 79.07937580738177, 60.76489562657466, 47.34866884434399, 60.63254971566886, 60.5886191378654, 60.52242403116425, 47.25721458808559, 60.51015511233614, 41.38657230433125, 60.39193313358182, 32.164041523822114, 31.337574499108054, 28.828674509452046, 31.297945953622285, 31.24667429060915, 38.637391789196045, 38.60709235496099, 32.031118765735656, 28.679086019859888, 27.843400438710812, 35.17129732885635, 38.39992595421169, 38.19568211680944, 16.234598732329015, 16.22177878991885, 16.210294822694834, 17.005520723822695, 14.528949930951397, 16.13817777943384, 137.16516082378533, 60.32427388922811, 35.498642794377844, 60.81051172525349, 36.1398206360804, 36.04362728400318, 65.46999090725706, 80.08934433263077, 60.54296690612108, 76.11207912309922, 95.86328102150563, 85.14394450804862, 60.51093033074548, 56.65171616412519, 80.83666471670432, 51.34558872366001, 90.64194680008796, 87.04477826936008, 111.57434396028354, 54.99513613602945, 44.639326017726155, 43.30559021070011, 54.84900873082369, 44.126165998492176, 49.21588710319694, 45.733531042758266, 44.80652795594001, 47.2408920885381, 24.83353148902481, 45.46048685884611, 13.840411783037736, 8.795052117028247, 11.990853739054497, 8.784242482808907, 8.772626013975016, 8.771283548176534, 9.552508971791035, 9.547869326790632, 8.718575938221603, 8.689575511320676, 8.678976853028287, 7.8857581979972675, 7.08714260767918, 6.224182787897993, 6.193957073275579, 5.374733551551622, 5.371244264948494, 6.132834396776692, 5.34194781361289, 5.32788234480691, 4.549742911636836, 4.533978957218923, 4.5287845468200745, 4.522272796637438, 25.604867434243914, 51.73866499707702, 27.170593416031725, 13.806860745443217, 20.718426903237116, 24.672113537170684, 14.708444196698634, 8.77538739224316, 13.847173793314848, 13.813054957975961, 17.27007779511448, 29.851309502399747, 12.993491271212212, 34.27154220004954, 20.605853466573265, 18.26268812887734, 12.98029568272788, 89.4548314675642, 12.928306097762638, 49.730401334570466, 16.47112669534553, 15.177062234685101, 14.724869288868168, 18.828968927471593, 18.154193778230454, 17.24492418763295, 25.323327784577064, 18.265976716768648, 20.603928457418835, 26.362072260108988, 33.68244241328197, 29.484263382142828, 27.97505384328345, 20.88510016877902, 24.826589765723728, 20.1070326699094, 20.36522245221818, 20.711749173960502, 19.363980796460865, 19.065112419027404, 54.29658693354835, 27.394735473096844, 27.350735900136996, 22.29724173720346, 27.220988085271014, 26.349861213199773, 12.977173208521696, 13.770497988964562, 12.951977500899547, 33.163201750712226, 14.55109537925265, 12.929248861887595, 27.4448287698437, 11.289721618789148, 12.088975754105483, 11.28186921843298, 12.084849239515568, 10.430428700802114, 9.614006352737093, 12.015369736661512, 10.405019308040274, 10.401713675266201, 10.400658035093633, 9.563308570868267, 11.932868244921572, 11.926835329128998, 8.739377258119484, 7.920102128542295, 7.9165041108908785, 7.910803328981884, 9.480950207572603, 57.27006146578139, 34.54907014367419, 31.396414058029713, 29.878808750248474, 38.229388082673324, 27.38031670502986, 24.77443856936331, 47.40659163900985, 22.254415363303657, 24.04316117711126, 55.199957684099545, 31.385423586501574, 22.283297965095446, 34.55401135395118, 30.795433441340823, 33.23207685154983, 32.337589549756025, 35.097077134751906, 31.56048051402942, 32.08608680322225, 44.41159241528989, 21.526070237916574, 33.51757588738567, 31.921888989315672, 27.022213423932126], \"Category\": [\"Default\", \"Default\", \"Default\", \"Default\", \"Default\", \"Default\", \"Default\", \"Default\", \"Default\", \"Default\", \"Default\", \"Default\", \"Default\", \"Default\", \"Default\", \"Default\", \"Default\", \"Default\", \"Default\", \"Default\", \"Default\", \"Default\", \"Default\", \"Default\", \"Default\", \"Default\", \"Default\", \"Default\", \"Default\", \"Default\", \"Topic1\", \"Topic1\", \"Topic1\", \"Topic1\", \"Topic1\", \"Topic1\", \"Topic1\", \"Topic1\", \"Topic1\", \"Topic1\", \"Topic1\", \"Topic1\", \"Topic1\", \"Topic1\", \"Topic1\", \"Topic1\", \"Topic1\", \"Topic1\", \"Topic1\", \"Topic1\", \"Topic1\", \"Topic1\", \"Topic1\", \"Topic1\", \"Topic1\", \"Topic1\", \"Topic1\", \"Topic1\", \"Topic1\", \"Topic1\", \"Topic1\", \"Topic1\", \"Topic1\", \"Topic1\", \"Topic1\", \"Topic1\", \"Topic1\", \"Topic1\", \"Topic1\", \"Topic1\", \"Topic1\", \"Topic1\", \"Topic1\", \"Topic1\", \"Topic1\", \"Topic1\", \"Topic1\", \"Topic1\", \"Topic1\", \"Topic1\", \"Topic1\", \"Topic1\", \"Topic1\", \"Topic1\", \"Topic2\", \"Topic2\", \"Topic2\", \"Topic2\", \"Topic2\", \"Topic2\", \"Topic2\", \"Topic2\", \"Topic2\", \"Topic2\", \"Topic2\", \"Topic2\", \"Topic2\", \"Topic2\", \"Topic2\", \"Topic2\", \"Topic2\", \"Topic2\", \"Topic2\", \"Topic2\", \"Topic2\", \"Topic2\", \"Topic2\", \"Topic2\", \"Topic2\", \"Topic2\", \"Topic2\", \"Topic2\", \"Topic2\", \"Topic2\", \"Topic2\", \"Topic2\", \"Topic2\", \"Topic2\", \"Topic2\", \"Topic2\", \"Topic2\", \"Topic2\", \"Topic2\", \"Topic2\", \"Topic2\", \"Topic2\", \"Topic2\", \"Topic2\", \"Topic2\", \"Topic2\", \"Topic2\", \"Topic2\", \"Topic2\", \"Topic2\", \"Topic2\", \"Topic2\", \"Topic2\", \"Topic2\", \"Topic2\", \"Topic2\", \"Topic2\", \"Topic2\", \"Topic2\", \"Topic2\", \"Topic2\", \"Topic2\", \"Topic2\", \"Topic2\", \"Topic2\", \"Topic2\", \"Topic2\", \"Topic2\", \"Topic2\", \"Topic2\", \"Topic3\", \"Topic3\", \"Topic3\", \"Topic3\", \"Topic3\", \"Topic3\", \"Topic3\", \"Topic3\", \"Topic3\", \"Topic3\", \"Topic3\", \"Topic3\", \"Topic3\", \"Topic3\", \"Topic3\", \"Topic3\", \"Topic3\", \"Topic3\", \"Topic3\", \"Topic3\", \"Topic3\", \"Topic3\", \"Topic3\", \"Topic3\", \"Topic3\", \"Topic3\", \"Topic3\", \"Topic3\", \"Topic3\", \"Topic3\", \"Topic3\", \"Topic3\", \"Topic3\", \"Topic3\", \"Topic3\", \"Topic3\", \"Topic3\", \"Topic3\", \"Topic3\", \"Topic3\", \"Topic3\", \"Topic3\", \"Topic3\", \"Topic3\", \"Topic3\", \"Topic3\", \"Topic3\", \"Topic3\", \"Topic3\", \"Topic3\", \"Topic3\", \"Topic3\", \"Topic3\", \"Topic3\", \"Topic3\", \"Topic3\"], \"Total\": [145.0, 55.0, 64.0, 50.0, 80.0, 80.0, 49.0, 47.0, 47.0, 46.0, 84.0, 62.0, 62.0, 62.0, 62.0, 62.0, 62.0, 62.0, 58.0, 43.0, 35.0, 64.0, 63.0, 38.0, 48.0, 48.0, 28.0, 28.0, 35.0, 28.0, 80.7898091277668, 80.79024466534052, 62.080994215055895, 48.47536603123843, 62.08194753011441, 62.08286547007804, 62.08327295208406, 48.47602735386214, 62.08344657061434, 42.523485367974956, 62.084216935363095, 33.169622782292265, 32.31919458995874, 29.76775010489336, 32.31953667117307, 32.32026432002303, 39.97445508107376, 39.97456424098671, 33.17110515569552, 29.769625872916144, 28.919077510176784, 36.57433228497097, 39.97697992340961, 39.979443259319986, 17.012539780116068, 17.012790380905564, 17.012864137541893, 17.863597342752097, 15.312070652478212, 17.013428005354776, 145.48022009604438, 63.80226083846508, 37.42790612927775, 64.65080500231144, 38.28437827854157, 38.28142661649857, 72.34628235163223, 94.53673352228881, 69.79441708062981, 91.10238453664398, 126.15989229808541, 112.5519338333485, 74.93588508794846, 69.83158538404717, 115.17631901127056, 62.181094444981696, 156.2462782026856, 148.5374080000292, 245.44076784313762, 81.0399763236999, 54.531899607754475, 52.827944995621806, 109.46922042019345, 60.55973321123326, 50.7651587379895, 47.321820884428696, 46.460823209400594, 49.03996525674155, 25.81091265837641, 47.319834358232015, 14.624315056889715, 9.461419989714418, 12.902353312751256, 9.461496253122688, 9.461286674493188, 9.461261602406218, 10.321079100146267, 10.321111196850822, 9.460722497533036, 9.460615727967086, 9.46037912437194, 8.600339432119448, 7.74033525734568, 6.8795803867187395, 6.879407160824336, 6.019128738225404, 6.019072608122843, 6.878867901249197, 6.018825132511719, 6.01858217621837, 5.158748684619316, 5.158654429103572, 5.158595871961298, 5.158501252337362, 29.221717987512175, 62.74102632430285, 32.65466969706678, 16.324857488887627, 24.92339197689937, 30.06099015126823, 18.03586976939702, 10.311673234479814, 17.175197284412263, 17.17510027499714, 22.318554498986877, 42.07944860070358, 16.31457565669002, 54.83458734824335, 30.011503370599772, 25.757593206787988, 16.31439335921484, 245.44076784313762, 16.31434850706209, 109.46922042019345, 24.021951628602974, 21.4683123175481, 20.58716950012022, 30.885500190586967, 29.188828831827237, 27.439317531928868, 65.8321007198374, 32.57822222736924, 42.812170044241064, 84.06542685766246, 156.2462782026856, 115.17631901127056, 148.5374080000292, 59.8714761211403, 112.5519338333485, 57.314150472726986, 84.62730572411813, 126.15989229808541, 65.97169974995285, 53.845332803705936, 55.69001630326687, 28.273576220821344, 28.27304080508433, 23.132173371344233, 28.273126753925684, 27.415268382296205, 13.707953093636494, 14.564370389069527, 13.707834814939206, 35.12050253767539, 15.421317591548616, 13.707610155418008, 29.1340885176377, 11.994306248643651, 12.850983793049242, 11.994166440803685, 12.851128083006971, 11.137232066309563, 10.280685434814389, 12.850820219616113, 11.137204859264333, 11.137547359948403, 11.137411168186176, 10.280628892224437, 12.851149713535062, 12.850520974349969, 9.423731714232948, 8.567061648065827, 8.56708182912303, 8.567101713599781, 10.280474689264327, 64.28022684891037, 38.56439022740743, 35.13871847216361, 33.39410259836404, 43.71342589672347, 30.824781260528347, 28.284018763577834, 58.27096836789313, 25.714542073921898, 29.99873927176974, 84.06542685766246, 41.93991146234899, 28.245096136957212, 52.14746077875424, 45.30705339692135, 52.17053009969127, 51.29394275324519, 65.97169974995285, 60.67040063792943, 79.48954892929208, 245.44076784313762, 42.80702972682772, 148.5374080000292, 156.2462782026856, 84.62730572411813], \"loglift\": [30.0, 29.0, 28.0, 27.0, 26.0, 25.0, 24.0, 23.0, 22.0, 21.0, 20.0, 19.0, 18.0, 17.0, 16.0, 15.0, 14.0, 13.0, 12.0, 11.0, 10.0, 9.0, 8.0, 7.0, 6.0, 5.0, 4.0, 3.0, 2.0, 1.0, 0.8229, 0.8225, 0.8225, 0.8204, 0.8203, 0.8196, 0.8185, 0.8185, 0.8182, 0.8168, 0.8163, 0.8131, 0.8131, 0.8119, 0.8118, 0.8101, 0.8099, 0.8091, 0.8089, 0.8066, 0.806, 0.8048, 0.8037, 0.7983, 0.7971, 0.7963, 0.7956, 0.7947, 0.7914, 0.7911, 0.7851, 0.7879, 0.791, 0.7827, 0.7863, 0.7837, 0.744, 0.6781, 0.7017, 0.6641, 0.5693, 0.5648, 0.6301, 0.6348, 0.4899, 0.6524, 0.2994, 0.3095, 0.0556, 0.4562, 0.6437, 0.6452, 0.1529, 0.5273, 1.2238, 1.2207, 1.2186, 1.2175, 1.2162, 1.2148, 1.1997, 1.1818, 1.1816, 1.1806, 1.1793, 1.1791, 1.1775, 1.177, 1.1731, 1.1698, 1.1686, 1.1681, 1.1667, 1.1547, 1.1499, 1.1416, 1.141, 1.14, 1.1355, 1.1329, 1.1292, 1.1258, 1.1246, 1.1232, 1.1227, 1.062, 1.071, 1.0873, 1.0701, 1.0573, 1.0509, 1.0935, 1.0395, 1.037, 0.9984, 0.9115, 1.0272, 0.7848, 0.8788, 0.911, 1.0262, 0.2455, 1.0222, 0.4658, 0.8775, 0.908, 0.9197, 0.7599, 0.78, 0.7904, 0.2995, 0.6762, 0.5235, 0.0952, -0.2796, -0.1078, -0.4147, 0.2017, -0.2567, 0.2074, -0.1696, -0.552, 0.029, 0.2166, 1.2304, 1.2242, 1.2226, 1.219, 1.2179, 1.2161, 1.201, 1.1997, 1.1991, 1.1984, 1.1977, 1.1973, 1.196, 1.1952, 1.1947, 1.1946, 1.1943, 1.1902, 1.1887, 1.1886, 1.1878, 1.1874, 1.1873, 1.1835, 1.1816, 1.1812, 1.1804, 1.1773, 1.1768, 1.1761, 1.1748, 1.1403, 1.1458, 1.1432, 1.1445, 1.1217, 1.1373, 1.1233, 1.0494, 1.1113, 1.0345, 0.8351, 0.9659, 1.0187, 0.8442, 0.8697, 0.8048, 0.7944, 0.6247, 0.6022, 0.3486, -0.4538, 0.5683, -0.233, -0.3324, 0.1142], \"Term\": [\"video\", \"bowl\", \"nine\", \"uruguay\", \"amjoy\", \"trumpleak\", \"ford\", \"eddi\", \"stanford\", \"harrison\", \"just\", \"watchcc\", \"collector\", \"featur\", \"princess\", \"rozent\", \"paint\", \"monkey\", \"watch\", \"air\", \"fli\", \"popular\", \"jani\", \"brooklyn\", \"cnn\", \"msnbc\", \"chirp\", \"msg\", \"captain\", \"rama\", \"amjoy\", \"trumpleak\", \"collector\", \"cnn\", \"featur\", \"princess\", \"rozent\", \"msnbc\", \"paint\", \"statu\", \"monkey\", \"russianhack\", \"extens\", \"disconnect\", \"treason\", \"talkin\", \"mother\", \"liberti\", \"dworkinreport\", \"decid\", \"electr\", \"expenditur\", \"milda\", \"dub\", \"cia\", \"thelead\", \"giuliani\", \"secret\", \"land\", \"rudi\", \"video\", \"jani\", \"_aslund\", \"popular\", \"fast\", \"increas\", \"trump\", \"market\", \"silver\", \"new\", \"europ\", \"holiday\", \"coin\", \"travel\", \"russia\", \"russian\", \"lithuania\", \"amp\", \"riga\", \"christma\", \"xma\", \"nfl\", \"don\", \"happi\", \"uruguay\", \"eddi\", \"harrison\", \"ford\", \"export\", \"stanford\", \"etsi\", \"norg\", \"internationalmigrantday\", \"eupol\", \"svpol\", \"republ\", \"pro\", \"recommend\", \"independ\", \"kremlin\", \"go\", \"_petkana\", \"rank\", \"friend\", \"christmasmarket\", \"cndpoli\", \"auspol\", \"hostel\", \"betabook\", \"hybrid\", \"brussel\", \"dutch\", \"white\", \"lickstart\", \"deal\", \"watchcc\", \"present\", \"britain\", \"ukrain\", \"trade\", \"million\", \"locat\", \"compani\", \"plan\", \"want\", \"free\", \"tech\", \"good\", \"get\", \"soviet\", \"ukrainian\", \"riga\", \"polic\", \"don\", \"number\", \"poland\", \"itun\", \"top\", \"first\", \"song\", \"state\", \"like\", \"attack\", \"just\", \"lithuania\", \"russia\", \"amp\", \"girl\", \"holiday\", \"use\", \"baltic\", \"europ\", \"http\", \"shop\", \"bowl\", \"chirp\", \"msg\", \"stori\", \"rama\", \"agai\", \"artur\", \"proof\", \"kuruc\", \"fli\", \"review\", \"airborn\", \"sabr\", \"bore\", \"saturdayswag\", \"sing\", \"overmin\", \"paralymp\", \"among\", \"calfex\", \"tie\", \"mid\", \"wane\", \"music\", \"dynam\", \"strongeurop\", \"fine\", \"cosponsor\", \"colour\", \"revers\", \"hall\", \"nine\", \"brooklyn\", \"captain\", \"advanc\", \"air\", \"beat\", \"photo\", \"watch\", \"soon\", \"japan\", \"just\", \"game\", \"back\", \"qualif\", \"play\", \"franc\", \"olymp\", \"http\", \"final\", \"will\", \"riga\", \"via\", \"amp\", \"lithuania\", \"baltic\"]}, \"mdsDat\": {\"cluster\": [1, 1, 1], \"Freq\": [43.00234239244635, 28.512259989446132, 28.485397618107516], \"x\": [0.16265223242027377, -0.028774434704917, -0.13387779771535685], \"y\": [0.04887707251767631, -0.1378977738815869, 0.08902070136391049], \"topics\": [1, 2, 3]}, \"lambda.step\": 0.01, \"R\": 30, \"topic.order\": [1, 3, 2], \"plot.opts\": {\"xlab\": \"PC1\", \"ylab\": \"PC2\"}, \"token.table\": {\"Freq\": [0.9351311259333704, 0.02671803216952487, 0.02671803216952487, 0.9301958443782606, 0.08983622156527028, 0.8983622156527028, 0.036476024456713475, 0.9483766358745503, 0.022876266947426664, 0.11438133473713333, 0.8692981440022133, 0.9483782988139386, 0.9778461027809056, 0.012377798769378551, 0.012377798769378551, 0.9726977897928986, 0.5857110418944628, 0.18850470313844778, 0.22889856809668657, 0.9483545727943044, 0.37372550803815796, 0.49051472930008233, 0.16350490976669413, 0.8306927537728009, 0.17702187932926752, 0.03540437586585351, 0.7788962690487772, 0.43721113041952, 0.23633034076730808, 0.31904596003586594, 0.0973242916030535, 0.03244143053435117, 0.8759186244274816, 0.8307269093085361, 0.917101812474057, 0.017956539903927777, 0.017956539903927777, 0.9696531548120999, 0.12251255494030532, 0.8575878845821372, 0.025930657637866845, 0.07779197291360054, 0.9075730173253396, 0.9692272885685203, 0.9337925358011484, 0.028458636042523452, 0.08537590812757036, 0.8822177173182271, 0.9549552482899757, 0.6786773947256869, 0.18509383492518733, 0.13573547894513738, 0.8721681766661186, 0.9404827384268923, 0.8306850073245203, 0.9695646231884525, 0.02062903453592452, 0.02062903453592452, 0.8140292188236301, 0.013344741292190657, 0.1868263780906692, 0.9825873565859592, 0.01610798945222884, 0.01610798945222884, 0.9338068854209743, 0.1746704826920805, 0.815128919229709, 0.9338090851495329, 0.10266336843309631, 0.8897491930868346, 0.0342211228110321, 0.9741472776244616, 0.03359128543532627, 0.9742086619852687, 0.5024243325099474, 0.4567493931908613, 0.04567493931908613, 0.9504884736267922, 0.025012854569126112, 0.025012854569126112, 0.9692449976473533, 0.964695021459228, 0.030146719420600876, 0.030146719420600876, 0.9337685940551594, 0.021131900280047154, 0.972067412882169, 0.021131900280047154, 0.9682189893556129, 0.034579249619843315, 0.034579249619843315, 0.9573097916407652, 0.9512237556538297, 0.7609391404137786, 0.16645543696551407, 0.07926449379310194, 0.956955269266313, 0.027341579121894655, 0.027341579121894655, 0.968582565478821, 0.9591823185356048, 0.030941365114051766, 0.9403313209915188, 0.052240628943973265, 0.026120314471986632, 0.982572268217108, 0.016107742101919804, 0.016107742101919804, 0.39558004805717195, 0.08241251001191081, 0.5274400640762292, 0.9550356772579833, 0.10277904664433904, 0.6166742798660343, 0.27407745771823744, 0.0284733966698584, 0.0284733966698584, 0.9396220901053272, 0.020391531575616878, 0.9584019840539932, 0.020391531575616878, 0.2875186426386104, 0.07667163803696277, 0.6325410138049428, 0.11882284978221884, 0.712937098693313, 0.16635198969510637, 0.8721462157173424, 0.16690545487403233, 0.07153090923172814, 0.7391527287278574, 0.2998850103862737, 0.6997316909013053, 0.03332055670958596, 0.43426355393999616, 0.35075133202845843, 0.21713177696999808, 0.9404648077270641, 0.9513360808991359, 0.3647333000426182, 0.620046610072451, 0.018236665002130913, 0.8754459567317938, 0.7265553803965308, 0.24768933422609005, 0.016512622281739338, 0.021523510151616645, 0.9685579568227491, 0.021523510151616645, 0.7552069263052945, 0.22211968420743955, 0.026654362104892745, 0.8722365491144851, 0.18189617738337227, 0.28800228085700613, 0.5305305173681691, 0.8307604438395537, 0.9404038245660542, 0.02612232846016817, 0.05224465692033634, 0.951301552534368, 0.9300628892359141, 0.0775052407696595, 0.24286971552698405, 0.7286091465809522, 0.9404055469430517, 0.03134685156476839, 0.03134685156476839, 0.033334734201348526, 0.16667367100674266, 0.8000336208323647, 0.035686489822736846, 0.30928291179705264, 0.6542523134168422, 0.9513122886277441, 0.9483627557163304, 0.9796193043017533, 0.9756203911289302, 0.025015907464844365, 0.025015907464844365, 0.9692737784515331, 0.24556281629385943, 0.5525163366611837, 0.18417211222039456, 0.5824138728088812, 0.2176051832472743, 0.2048048783503758, 0.09697747177017157, 0.8727972459315442, 0.8462319039311686, 0.1163568867905357, 0.031733696397418826, 0.8978637465516759, 0.9505470416425346, 0.025014395832698277, 0.025014395832698277, 0.1663351997079926, 0.831675998539963, 0.9664291983011881, 0.0161071533050198, 0.0161071533050198, 0.9756230552962527, 0.025015975776826994, 0.025015975776826994, 0.9549733325870133, 0.9695513961346804, 0.02062875310924852, 0.02062875310924852, 0.9727031395485265, 0.8342262432157375, 0.032929983284831744, 0.13171993313932698, 0.813963140219891, 0.17036437818555858, 0.018929375353950954, 0.015556883493122757, 0.09334130095873654, 0.8867423591079971, 0.9512314229559589, 0.20814295513135964, 0.6660574564203507, 0.08325718205254384, 0.311927669061621, 0.05848643794905394, 0.623855338123242, 0.9337701657388026, 0.9825485434449581, 0.01610735317122882, 0.01610735317122882, 0.8978891649613981, 0.03535565466699978, 0.10606696400099934, 0.8838913666749946, 0.17467146927621066, 0.8151335232889831, 0.30900265963778856, 0.022071618545556327, 0.6842201749122462, 0.13974084015667193, 0.6987042007833596, 0.18632112020889588, 0.18388720816533816, 0.7968445687164653, 0.943530401482535, 0.01546771149971369, 0.04640313449914107, 0.09187047450887174, 0.8268342705798456, 0.061246983005914496, 0.9825577401771195, 0.016107503937329827, 0.016107503937329827, 0.9688909369814134, 0.9612499288336498, 0.30682222606932136, 0.019176389129332585, 0.6711736195266405, 0.03536927516731595, 0.03536927516731595, 0.9549704295175308, 0.9043535928701419, 0.968887923913774, 0.9512473471520005, 0.933804718029723, 0.9726795334414543, 0.4563219101057398, 0.3626129464233111, 0.1792693218272549, 0.9825512911840178, 0.016107398216131438, 0.016107398216131438, 0.9404336383569607, 0.7032695670025169, 0.2517878696675678, 0.043411701666822025, 0.8201849847645443, 0.1125744096735649, 0.06432823409917994, 0.964738134347531, 0.030148066698360343, 0.03432405305539601, 0.9267494324956922, 0.9337806500456785, 0.9516560227941719, 0.5200079290451127, 0.35286252328061224, 0.11143027050966703, 0.8739954075342432, 0.014327793566135135, 0.11462234852908108, 0.9171125025060874, 0.25510838568979266, 0.6195489366752108, 0.10933216529562544, 0.1166655035650981, 0.8555470261440526, 0.15529401244468238, 0.6988230560010706, 0.15529401244468238, 0.02113278741488313, 0.950975433669741, 0.02113278741488313, 0.5012752082823327, 0.3797539456684339, 0.12152126261389885, 0.9641730833022847, 0.02351641666590938, 0.02351641666590938, 0.9510563338269481, 0.9338142806779869, 0.9512448263789769, 0.9591505716986015, 0.030940341022535532, 0.18388464788355116, 0.7968334741620551, 0.9404688849841895, 0.8978913584122173, 0.19426591646486047, 0.6151754021387248, 0.19426591646486047, 0.1663285199469405, 0.8316425997347026, 0.03326570398938811, 0.8162495479161996, 0.028640335014603495, 0.15752184258031923, 0.959172166216417, 0.03094103761988442, 0.8984566709879256, 0.06911205161445581, 0.027644820645782324, 0.9778408312444615, 0.012377732041069133, 0.012377732041069133, 0.08024589918794885, 0.8425819414734629, 0.08024589918794885, 0.18388670261560866, 0.7968423780009708, 0.019698549652158615, 0.9652289329557722, 0.019698549652158615, 0.4187447567842854, 0.34895396398690454, 0.24426777479083317, 0.2569671399813605, 0.2569671399813605, 0.513934279962721, 0.9417087760078598, 0.04124272011713254, 0.02062136005856627, 0.897874725911604, 0.22402884560588227, 0.7616980750599996, 0.05148361326449103, 0.13728963537197608, 0.8065766078103594, 0.07969267149305846, 0.8288037835278079, 0.09563120579167014, 0.9692559999081689, 0.4151489151027177, 0.1761237821647893, 0.40256864494808986, 0.8252050693939327, 0.16504101387878653, 0.01833789043097628], \"Term\": [\"_aslund\", \"_aslund\", \"_aslund\", \"_petkana\", \"advanc\", \"advanc\", \"agai\", \"agai\", \"air\", \"air\", \"air\", \"airborn\", \"amjoy\", \"amjoy\", \"amjoy\", \"among\", \"amp\", \"amp\", \"amp\", \"artur\", \"attack\", \"attack\", \"attack\", \"auspol\", \"back\", \"back\", \"back\", \"baltic\", \"baltic\", \"baltic\", \"beat\", \"beat\", \"beat\", \"betabook\", \"bore\", \"bowl\", \"bowl\", \"bowl\", \"britain\", \"britain\", \"brooklyn\", \"brooklyn\", \"brooklyn\", \"brussel\", \"calfex\", \"captain\", \"captain\", \"captain\", \"chirp\", \"christma\", \"christma\", \"christma\", \"christmasmarket\", \"cia\", \"cndpoli\", \"cnn\", \"cnn\", \"cnn\", \"coin\", \"coin\", \"coin\", \"collector\", \"collector\", \"collector\", \"colour\", \"compani\", \"compani\", \"cosponsor\", \"deal\", \"deal\", \"deal\", \"decid\", \"decid\", \"disconnect\", \"don\", \"don\", \"don\", \"dub\", \"dub\", \"dub\", \"dutch\", \"dworkinreport\", \"dworkinreport\", \"dworkinreport\", \"dynam\", \"eddi\", \"eddi\", \"eddi\", \"electr\", \"electr\", \"electr\", \"etsi\", \"eupol\", \"europ\", \"europ\", \"europ\", \"expenditur\", \"expenditur\", \"expenditur\", \"export\", \"extens\", \"extens\", \"fast\", \"fast\", \"fast\", \"featur\", \"featur\", \"featur\", \"final\", \"final\", \"final\", \"fine\", \"first\", \"first\", \"first\", \"fli\", \"fli\", \"fli\", \"ford\", \"ford\", \"ford\", \"franc\", \"franc\", \"franc\", \"free\", \"free\", \"free\", \"friend\", \"game\", \"game\", \"game\", \"get\", \"get\", \"get\", \"girl\", \"girl\", \"girl\", \"giuliani\", \"go\", \"good\", \"good\", \"good\", \"hall\", \"happi\", \"happi\", \"happi\", \"harrison\", \"harrison\", \"harrison\", \"holiday\", \"holiday\", \"holiday\", \"hostel\", \"http\", \"http\", \"http\", \"hybrid\", \"increas\", \"increas\", \"increas\", \"independ\", \"internationalmigrantday\", \"internationalmigrantday\", \"itun\", \"itun\", \"jani\", \"jani\", \"jani\", \"japan\", \"japan\", \"japan\", \"just\", \"just\", \"just\", \"kremlin\", \"kuruc\", \"land\", \"liberti\", \"liberti\", \"liberti\", \"lickstart\", \"like\", \"like\", \"like\", \"lithuania\", \"lithuania\", \"lithuania\", \"locat\", \"locat\", \"market\", \"market\", \"market\", \"mid\", \"milda\", \"milda\", \"milda\", \"million\", \"million\", \"monkey\", \"monkey\", \"monkey\", \"mother\", \"mother\", \"mother\", \"msg\", \"msnbc\", \"msnbc\", \"msnbc\", \"music\", \"new\", \"new\", \"new\", \"nfl\", \"nfl\", \"nfl\", \"nine\", \"nine\", \"nine\", \"norg\", \"number\", \"number\", \"number\", \"olymp\", \"olymp\", \"olymp\", \"overmin\", \"paint\", \"paint\", \"paint\", \"paralymp\", \"photo\", \"photo\", \"photo\", \"plan\", \"plan\", \"play\", \"play\", \"play\", \"poland\", \"poland\", \"poland\", \"polic\", \"polic\", \"popular\", \"popular\", \"popular\", \"present\", \"present\", \"present\", \"princess\", \"princess\", \"princess\", \"pro\", \"proof\", \"qualif\", \"qualif\", \"qualif\", \"rama\", \"rama\", \"rama\", \"rank\", \"recommend\", \"republ\", \"revers\", \"review\", \"riga\", \"riga\", \"riga\", \"rozent\", \"rozent\", \"rozent\", \"rudi\", \"russia\", \"russia\", \"russia\", \"russian\", \"russian\", \"russian\", \"russianhack\", \"russianhack\", \"sabr\", \"sabr\", \"saturdayswag\", \"secret\", \"shop\", \"shop\", \"shop\", \"silver\", \"silver\", \"silver\", \"sing\", \"song\", \"song\", \"song\", \"soon\", \"soon\", \"soviet\", \"soviet\", \"soviet\", \"stanford\", \"stanford\", \"stanford\", \"state\", \"state\", \"state\", \"statu\", \"statu\", \"statu\", \"stori\", \"strongeurop\", \"svpol\", \"talkin\", \"talkin\", \"tech\", \"tech\", \"thelead\", \"tie\", \"top\", \"top\", \"top\", \"trade\", \"trade\", \"trade\", \"travel\", \"travel\", \"travel\", \"treason\", \"treason\", \"trump\", \"trump\", \"trump\", \"trumpleak\", \"trumpleak\", \"trumpleak\", \"ukrain\", \"ukrain\", \"ukrain\", \"ukrainian\", \"ukrainian\", \"uruguay\", \"uruguay\", \"uruguay\", \"use\", \"use\", \"use\", \"via\", \"via\", \"via\", \"video\", \"video\", \"video\", \"wane\", \"want\", \"want\", \"watch\", \"watch\", \"watch\", \"watchcc\", \"watchcc\", \"watchcc\", \"white\", \"will\", \"will\", \"will\", \"xma\", \"xma\", \"xma\"], \"Topic\": [1, 2, 3, 2, 1, 3, 1, 3, 1, 2, 3, 3, 1, 2, 3, 3, 1, 2, 3, 3, 1, 2, 3, 2, 1, 2, 3, 1, 2, 3, 1, 2, 3, 2, 3, 1, 2, 3, 1, 2, 1, 2, 3, 2, 3, 1, 2, 3, 3, 1, 2, 3, 2, 1, 2, 1, 2, 3, 1, 2, 3, 1, 2, 3, 3, 1, 2, 3, 1, 2, 3, 1, 2, 1, 1, 2, 3, 1, 2, 3, 2, 1, 2, 3, 3, 1, 2, 3, 1, 2, 3, 2, 2, 1, 2, 3, 1, 2, 3, 2, 1, 2, 1, 2, 3, 1, 2, 3, 1, 2, 3, 3, 1, 2, 3, 1, 2, 3, 1, 2, 3, 1, 2, 3, 1, 2, 3, 2, 1, 2, 3, 1, 2, 3, 1, 2, 3, 1, 2, 1, 2, 3, 3, 1, 2, 3, 1, 2, 3, 1, 2, 3, 2, 1, 2, 3, 2, 1, 2, 3, 2, 2, 3, 1, 2, 1, 2, 3, 1, 2, 3, 1, 2, 3, 2, 3, 1, 1, 2, 3, 2, 1, 2, 3, 1, 2, 3, 1, 2, 1, 2, 3, 3, 1, 2, 3, 1, 2, 1, 2, 3, 1, 2, 3, 3, 1, 2, 3, 3, 1, 2, 3, 1, 2, 3, 1, 2, 3, 2, 1, 2, 3, 1, 2, 3, 3, 1, 2, 3, 3, 1, 2, 3, 1, 2, 1, 2, 3, 1, 2, 3, 1, 2, 1, 2, 3, 1, 2, 3, 1, 2, 3, 2, 3, 1, 2, 3, 1, 2, 3, 2, 2, 2, 3, 3, 1, 2, 3, 1, 2, 3, 1, 1, 2, 3, 1, 2, 3, 1, 2, 2, 3, 3, 1, 1, 2, 3, 1, 2, 3, 3, 1, 2, 3, 2, 3, 1, 2, 3, 1, 2, 3, 1, 2, 3, 1, 2, 3, 3, 3, 2, 1, 2, 1, 2, 1, 3, 1, 2, 3, 1, 2, 3, 1, 2, 3, 1, 2, 1, 2, 3, 1, 2, 3, 1, 2, 3, 1, 2, 1, 2, 3, 1, 2, 3, 1, 2, 3, 1, 2, 3, 3, 1, 2, 1, 2, 3, 1, 2, 3, 2, 1, 2, 3, 1, 2, 3]}};\n",
       "\n",
       "function LDAvis_load_lib(url, callback){\n",
       "  var s = document.createElement('script');\n",
       "  s.src = url;\n",
       "  s.async = true;\n",
       "  s.onreadystatechange = s.onload = callback;\n",
       "  s.onerror = function(){console.warn(\"failed to load library \" + url);};\n",
       "  document.getElementsByTagName(\"head\")[0].appendChild(s);\n",
       "}\n",
       "\n",
       "if(typeof(LDAvis) !== \"undefined\"){\n",
       "   // already loaded: just create the visualization\n",
       "   !function(LDAvis){\n",
       "       new LDAvis(\"#\" + \"ldavis_el757214410316642883845523253\", ldavis_el757214410316642883845523253_data);\n",
       "   }(LDAvis);\n",
       "}else if(typeof define === \"function\" && define.amd){\n",
       "   // require.js is available: use it to load d3/LDAvis\n",
       "   require.config({paths: {d3: \"https://cdnjs.cloudflare.com/ajax/libs/d3/3.5.5/d3.min\"}});\n",
       "   require([\"d3\"], function(d3){\n",
       "      window.d3 = d3;\n",
       "      LDAvis_load_lib(\"https://cdn.rawgit.com/bmabey/pyLDAvis/files/ldavis.v1.0.0.js\", function(){\n",
       "        new LDAvis(\"#\" + \"ldavis_el757214410316642883845523253\", ldavis_el757214410316642883845523253_data);\n",
       "      });\n",
       "    });\n",
       "}else{\n",
       "    // require.js not available: dynamically load d3 & LDAvis\n",
       "    LDAvis_load_lib(\"https://cdnjs.cloudflare.com/ajax/libs/d3/3.5.5/d3.min.js\", function(){\n",
       "         LDAvis_load_lib(\"https://cdn.rawgit.com/bmabey/pyLDAvis/files/ldavis.v1.0.0.js\", function(){\n",
       "                 new LDAvis(\"#\" + \"ldavis_el757214410316642883845523253\", ldavis_el757214410316642883845523253_data);\n",
       "            })\n",
       "         });\n",
       "}\n",
       "</script>"
      ],
      "text/plain": [
       "<IPython.core.display.HTML object>"
      ]
     },
     "execution_count": 14,
     "metadata": {},
     "output_type": "execute_result"
    }
   ],
   "source": [
    "#sama asi Läti tweetide puhul\n",
    "latdictionary = Dictionary(latstem)\n",
    "latcorpus = [latdictionary.doc2bow(text) for text in latstem]\n",
    "#mudel\n",
    "latmudel = LdaModel(corpus=latcorpus, id2word=latdictionary, \n",
    "                    iterations=500, num_topics=3, random_state=1)\n",
    "#topic term\n",
    "latmudel.get_topic_terms(2)\n",
    "#topicud\n",
    "latmudel.show_topics(3)\n",
    "latmudel.print_topics(num_topics=3, num_words=3)\n",
    "latldavis=pyLDAvis.gensim.prepare(latmudel, latcorpus, latdictionary) \n",
    "pyLDAvis.display(latldavis) "
   ]
  },
  {
   "cell_type": "code",
   "execution_count": null,
   "metadata": {
    "collapsed": true
   },
   "outputs": [],
   "source": []
  }
 ],
 "metadata": {
  "kernelspec": {
   "display_name": "Python [Root]",
   "language": "python",
   "name": "Python [Root]"
  },
  "language_info": {
   "codemirror_mode": {
    "name": "ipython",
    "version": 3
   },
   "file_extension": ".py",
   "mimetype": "text/x-python",
   "name": "python",
   "nbconvert_exporter": "python",
   "pygments_lexer": "ipython3",
   "version": "3.5.2"
  }
 },
 "nbformat": 4,
 "nbformat_minor": 0
}
